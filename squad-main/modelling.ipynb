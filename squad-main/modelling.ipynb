{
 "cells": [
  {
   "cell_type": "code",
   "execution_count": 1,
   "metadata": {},
   "outputs": [],
   "source": [
    "import csv\n",
    "import torch\n",
    "import torch.nn as nn\n",
    "import torch.nn.functional as F\n",
    "import torch.utils.data as data\n",
    "import util\n",
    "\n",
    "from args import get_test_args\n",
    "from collections import OrderedDict\n",
    "from json import dumps\n",
    "from models import BiDAF\n",
    "from os.path import join\n",
    "from tensorboardX import SummaryWriter\n",
    "from tqdm import tqdm\n",
    "from ujson import load as json_load\n",
    "from util import collate_fn, SQuAD\n",
    "\n",
    "import spacy\n",
    "import numpy as np\n"
   ]
  },
  {
   "cell_type": "code",
   "execution_count": 2,
   "metadata": {},
   "outputs": [],
   "source": [
    "\n",
    "# model_path = 'save/train/baseline-01/best.pth.tar'\n",
    "model_path = 'save/train/baseline-01/best.pth.tar'\n",
    "word2idx_path = 'data/word2idx.json'\n",
    "\n",
    "# python test.py --split SPLIT --load_path PATH --name NAME\n",
    "# python test.py --split dev --load_path save/train/baseline-01/step_50048.pth.tar --name first"
   ]
  },
  {
   "cell_type": "code",
   "execution_count": 3,
   "metadata": {},
   "outputs": [
    {
     "name": "stdout",
     "output_type": "stream",
     "text": [
      "[04.12.21 21:40:05] Args: {\n",
      "    \"ans_limit\": 30,\n",
      "    \"batch_size\": 64,\n",
      "    \"char_emb_file\": \"./data/char_emb.json\",\n",
      "    \"dev_eval_file\": \"./data/dev_eval.json\",\n",
      "    \"dev_record_file\": \"./data/dev.npz\",\n",
      "    \"hidden_size\": 100,\n",
      "    \"load_path\": \"save/train/baseline-01/best.pth.tar\",\n",
      "    \"max_ans_len\": 15,\n",
      "    \"name\": \"eval\",\n",
      "    \"num_visuals\": 10,\n",
      "    \"num_workers\": 4,\n",
      "    \"para_limit\": 400,\n",
      "    \"ques_limit\": 50,\n",
      "    \"save_dir\": \"./save/test/eval-02\",\n",
      "    \"split\": \"dev\",\n",
      "    \"sub_file\": \"submission.csv\",\n",
      "    \"test_eval_file\": \"./data/test_eval.json\",\n",
      "    \"test_record_file\": \"./data/test.npz\",\n",
      "    \"train_eval_file\": \"./data/train_eval.json\",\n",
      "    \"train_record_file\": \"./data/train.npz\",\n",
      "    \"use_squad_v2\": true,\n",
      "    \"word_emb_file\": \"./data/word_emb.json\"\n",
      "}\n"
     ]
    }
   ],
   "source": [
    "# arguments\n",
    "\n",
    "import argparse\n",
    "from args import add_common_args, add_train_test_args\n",
    "\n",
    "parser = argparse.ArgumentParser('Test a trained model on SQuAD')\n",
    "\n",
    "add_common_args(parser)\n",
    "add_train_test_args(parser)\n",
    "\n",
    "parser.add_argument('--split',\n",
    "                    type=str,\n",
    "                    default='dev',\n",
    "                    choices=('train', 'dev', 'test'),\n",
    "                    help='Split to use for testing.')\n",
    "parser.add_argument('--sub_file',\n",
    "                    type=str,\n",
    "                    default='submission.csv',\n",
    "                    help='Name for submission file.')\n",
    "parser.add_argument('--para_limit',\n",
    "                    type=int,\n",
    "                    default=400,\n",
    "                    help='Max number of words in a paragraph')\n",
    "parser.add_argument('--ques_limit',\n",
    "                    type=int,\n",
    "                    default=50,\n",
    "                    help='Max number of words to keep from a question')\n",
    "parser.add_argument('--ans_limit',\n",
    "                    type=int,\n",
    "                    default=30,\n",
    "                    help='Max number of words in a training example answer')\n",
    "# Require load_path for test.py\n",
    "\n",
    "params = f'--load_path {model_path} --name eval'.split()\n",
    "args = parser.parse_args(params)\n",
    "\n",
    "# Set up logging\n",
    "args.save_dir = util.get_save_dir(args.save_dir, args.name, training=False)\n",
    "log = util.get_logger(args.save_dir, args.name)\n",
    "log.info(f'Args: {dumps(vars(args), indent=4, sort_keys=True)}')\n",
    "device, gpu_ids = util.get_available_devices()\n",
    "args.batch_size *= max(1, len(gpu_ids))\n"
   ]
  },
  {
   "cell_type": "code",
   "execution_count": 4,
   "metadata": {},
   "outputs": [],
   "source": [
    "import json\n",
    "\n",
    "# word to id dictionary\n",
    "word2idx_dict = json.load(open(word2idx_path))"
   ]
  },
  {
   "cell_type": "code",
   "execution_count": 5,
   "metadata": {},
   "outputs": [
    {
     "name": "stdout",
     "output_type": "stream",
     "text": [
      "[04.12.21 21:40:05] Building dataset...\n"
     ]
    }
   ],
   "source": [
    "# Get data loader\n",
    "log.info('Building dataset...')\n",
    "record_file = vars(args)[f'{args.split}_record_file']\n",
    "dataset = SQuAD(record_file, args.use_squad_v2)\n",
    "data_loader = data.DataLoader(dataset,\n",
    "                              batch_size=args.batch_size,\n",
    "                              shuffle=False,\n",
    "                              num_workers=args.num_workers,\n",
    "                              collate_fn=collate_fn)"
   ]
  },
  {
   "cell_type": "code",
   "execution_count": 6,
   "metadata": {},
   "outputs": [
    {
     "name": "stdout",
     "output_type": "stream",
     "text": [
      "[04.12.21 21:40:06] Args: {\n",
      "    \"ans_limit\": 30,\n",
      "    \"batch_size\": 64,\n",
      "    \"char_emb_file\": \"./data/char_emb.json\",\n",
      "    \"dev_eval_file\": \"./data/dev_eval.json\",\n",
      "    \"dev_record_file\": \"./data/dev.npz\",\n",
      "    \"hidden_size\": 100,\n",
      "    \"load_path\": \"save/train/baseline-01/best.pth.tar\",\n",
      "    \"max_ans_len\": 15,\n",
      "    \"name\": \"eval\",\n",
      "    \"num_visuals\": 10,\n",
      "    \"num_workers\": 4,\n",
      "    \"para_limit\": 400,\n",
      "    \"ques_limit\": 50,\n",
      "    \"save_dir\": \"./save/test/eval-02/test/eval-01\",\n",
      "    \"split\": \"dev\",\n",
      "    \"sub_file\": \"submission.csv\",\n",
      "    \"test_eval_file\": \"./data/test_eval.json\",\n",
      "    \"test_record_file\": \"./data/test.npz\",\n",
      "    \"train_eval_file\": \"./data/train_eval.json\",\n",
      "    \"train_record_file\": \"./data/train.npz\",\n",
      "    \"use_squad_v2\": true,\n",
      "    \"word_emb_file\": \"./data/word_emb.json\"\n",
      "}\n",
      "[04.12.21 21:40:06] Args: {\n",
      "    \"ans_limit\": 30,\n",
      "    \"batch_size\": 64,\n",
      "    \"char_emb_file\": \"./data/char_emb.json\",\n",
      "    \"dev_eval_file\": \"./data/dev_eval.json\",\n",
      "    \"dev_record_file\": \"./data/dev.npz\",\n",
      "    \"hidden_size\": 100,\n",
      "    \"load_path\": \"save/train/baseline-01/best.pth.tar\",\n",
      "    \"max_ans_len\": 15,\n",
      "    \"name\": \"eval\",\n",
      "    \"num_visuals\": 10,\n",
      "    \"num_workers\": 4,\n",
      "    \"para_limit\": 400,\n",
      "    \"ques_limit\": 50,\n",
      "    \"save_dir\": \"./save/test/eval-02/test/eval-01\",\n",
      "    \"split\": \"dev\",\n",
      "    \"sub_file\": \"submission.csv\",\n",
      "    \"test_eval_file\": \"./data/test_eval.json\",\n",
      "    \"test_record_file\": \"./data/test.npz\",\n",
      "    \"train_eval_file\": \"./data/train_eval.json\",\n",
      "    \"train_record_file\": \"./data/train.npz\",\n",
      "    \"use_squad_v2\": true,\n",
      "    \"word_emb_file\": \"./data/word_emb.json\"\n",
      "}\n",
      "[04.12.21 21:40:06] Loading embeddings...\n",
      "[04.12.21 21:40:06] Loading embeddings...\n"
     ]
    }
   ],
   "source": [
    "\n",
    "\n",
    "# Set up logging\n",
    "args.save_dir = util.get_save_dir(args.save_dir, args.name, training=False)\n",
    "log = util.get_logger(args.save_dir, args.name)\n",
    "log.info(f'Args: {dumps(vars(args), indent=4, sort_keys=True)}')\n",
    "device, gpu_ids = util.get_available_devices()\n",
    "args.batch_size *= max(1, len(gpu_ids))\n",
    "\n",
    "# Get embeddings\n",
    "log.info('Loading embeddings...')\n",
    "word_vectors = util.torch_from_json(args.word_emb_file)"
   ]
  },
  {
   "cell_type": "code",
   "execution_count": 7,
   "metadata": {},
   "outputs": [
    {
     "name": "stdout",
     "output_type": "stream",
     "text": [
      "[04.12.21 21:40:14] Building model...\n",
      "[04.12.21 21:40:14] Building model...\n",
      "[04.12.21 21:40:14] Loading checkpoint from save/train/baseline-01/best.pth.tar...\n",
      "[04.12.21 21:40:14] Loading checkpoint from save/train/baseline-01/best.pth.tar...\n"
     ]
    },
    {
     "data": {
      "text/plain": [
       "DataParallel(\n",
       "  (module): BiDAF(\n",
       "    (emb): Embedding(\n",
       "      (embed): Embedding(88714, 300)\n",
       "      (proj): Linear(in_features=300, out_features=100, bias=False)\n",
       "      (hwy): HighwayEncoder(\n",
       "        (transforms): ModuleList(\n",
       "          (0): Linear(in_features=100, out_features=100, bias=True)\n",
       "          (1): Linear(in_features=100, out_features=100, bias=True)\n",
       "        )\n",
       "        (gates): ModuleList(\n",
       "          (0): Linear(in_features=100, out_features=100, bias=True)\n",
       "          (1): Linear(in_features=100, out_features=100, bias=True)\n",
       "        )\n",
       "      )\n",
       "    )\n",
       "    (enc): RNNEncoder(\n",
       "      (rnn): LSTM(100, 100, batch_first=True, bidirectional=True)\n",
       "    )\n",
       "    (att): BiDAFAttention()\n",
       "    (mod): RNNEncoder(\n",
       "      (rnn): LSTM(800, 100, num_layers=2, batch_first=True, bidirectional=True)\n",
       "    )\n",
       "    (out): BiDAFOutput(\n",
       "      (att_linear_1): Linear(in_features=800, out_features=1, bias=True)\n",
       "      (mod_linear_1): Linear(in_features=200, out_features=1, bias=True)\n",
       "      (rnn): RNNEncoder(\n",
       "        (rnn): LSTM(200, 100, batch_first=True, bidirectional=True)\n",
       "      )\n",
       "      (att_linear_2): Linear(in_features=800, out_features=1, bias=True)\n",
       "      (mod_linear_2): Linear(in_features=200, out_features=1, bias=True)\n",
       "    )\n",
       "  )\n",
       ")"
      ]
     },
     "execution_count": 7,
     "metadata": {},
     "output_type": "execute_result"
    }
   ],
   "source": [
    "# Get model\n",
    "log.info('Building model...')\n",
    "model = BiDAF(word_vectors=word_vectors,\n",
    "              hidden_size=args.hidden_size)\n",
    "model = nn.DataParallel(model, gpu_ids)\n",
    "log.info(f'Loading checkpoint from {args.load_path}...')\n",
    "model = util.load_model(model, args.load_path, gpu_ids, return_step=False)\n",
    "model = model.to(device)\n",
    "model.eval()"
   ]
  },
  {
   "cell_type": "code",
   "execution_count": 8,
   "metadata": {},
   "outputs": [],
   "source": [
    "# preprocessing functions\n",
    "# Import spacy language model\n",
    "\n",
    "nlp = spacy.blank(\"en\")\n",
    "\n",
    "def word_tokenize(sent):\n",
    "    doc = nlp(sent)\n",
    "    return [token.text for token in doc]\n",
    "\n",
    "def preprocess(context, question, word2idx_dict, is_test=False):\n",
    "    \n",
    "    context_tokens = word_tokenize(context)\n",
    "    ques_tokens = word_tokenize(question)\n",
    "    \n",
    "#     para_limit = args.test_para_limit if is_test else args.para_limit\n",
    "#     ques_limit = args.test_ques_limit if is_test else args.ques_limit\n",
    "\n",
    "    para_limit = args.para_limit\n",
    "    ques_limit = args.ques_limit\n",
    "    ans_limit = args.ans_limit\n",
    "    \n",
    "    example = {'context_tokens': context_tokens, 'ques_tokens': ques_tokens}\n",
    "    examples = [example]\n",
    "    \n",
    "\n",
    "#     print(f\"Converting {data_type} examples to indices...\")\n",
    "    total = 0\n",
    "    total_ = 0\n",
    "    meta = {}\n",
    "    context_idxs = []\n",
    "    context_char_idxs = []\n",
    "    ques_idxs = []\n",
    "    ques_char_idxs = []\n",
    "    y1s = []\n",
    "    y2s = []\n",
    "    ids = []\n",
    "    for n, example in tqdm(enumerate(examples)):\n",
    "        total_ += 1\n",
    "\n",
    "\n",
    "        total += 1\n",
    "\n",
    "        def _get_word(word):\n",
    "            for each in (word, word.lower(), word.capitalize(), word.upper()):\n",
    "                if each in word2idx_dict:\n",
    "                    return word2idx_dict[each]\n",
    "            return 1\n",
    "\n",
    "\n",
    "        context_idx = np.zeros([para_limit], dtype=np.int32)\n",
    "#         context_char_idx = np.zeros([para_limit, char_limit], dtype=np.int32)\n",
    "        ques_idx = np.zeros([ques_limit], dtype=np.int32)\n",
    "#         ques_char_idx = np.zeros([ques_limit, char_limit], dtype=np.int32)\n",
    "\n",
    "        for i, token in enumerate(example[\"context_tokens\"]):\n",
    "            context_idx[i] = _get_word(token)\n",
    "#         context_idxs.append(context_idx)\n",
    "\n",
    "        for i, token in enumerate(example[\"ques_tokens\"]):\n",
    "            ques_idx[i] = _get_word(token)\n",
    "#         ques_idxs.append(ques_idx)\n",
    "\n",
    "        \n",
    "        return context_idx, ques_idx\n",
    "    \n",
    "def merge_1d(arrays, dtype=torch.int64, pad_value=0):\n",
    "        lengths = [(a != pad_value).sum() for a in arrays]\n",
    "        padded = torch.zeros(len(arrays), max(lengths), dtype=dtype)\n",
    "        for i, seq in enumerate(arrays):\n",
    "            end = lengths[i]\n",
    "            padded[i, :end] = seq[:end]\n",
    "        return padded"
   ]
  },
  {
   "cell_type": "code",
   "execution_count": 145,
   "metadata": {},
   "outputs": [
    {
     "name": "stderr",
     "output_type": "stream",
     "text": [
      "0it [00:00, ?it/s]\n"
     ]
    },
    {
     "data": {
      "text/plain": [
       "['Jean', '-', 'Baptiste', 'Biot', 'and', 'Felix', 'Savart']"
      ]
     },
     "execution_count": 145,
     "metadata": {},
     "output_type": "execute_result"
    }
   ],
   "source": [
    "# answer custom questions\n",
    "\n",
    "# context = '''Southern California, often abbreviated SoCal, is a geographic and cultural region that generally comprises California's southernmost 10 counties. The region is traditionally described as \"eight counties\", based on demographics and economic ties: Imperial, Los Angeles, Orange, Riverside, San Bernardino, San Diego, Santa Barbara, and Ventura. The more extensive 10-county definition, including Kern and San Luis Obispo counties, is also used based on historical political divisions. Southern California is a major economic center for the state of California and the United States.'''\n",
    "# question = \"What is Southern California often abbreviated as?\"\n",
    "\n",
    "# context = \"The Normans (Norman: Nourmands; French: Normands; Latin: Normanni) were the people who in the 10th and 11th centuries gave their name to Normandy, a region in France. They were descended from Norse (\\\"Norman\\\" comes from \\\"Norseman\\\") raiders and pirates from Denmark, Iceland and Norway who, under their leader Rollo, agreed to swear fealty to King Charles III of West Francia. Through generations of assimilation and mixing with the native Frankish and Roman-Gaulish populations, their descendants would gradually merge with the Carolingian-based cultures of West Francia. The distinct cultural and ethnic identity of the Normans emerged initially in the first half of the 10th century, and it continued to evolve over the succeeding centuries.\"\n",
    "# question = \"In what country is Normandy located?\"\n",
    "\n",
    "question = 'Who discovered the Biot-Savart law'\n",
    "context = \"In physics, specifically electromagnetism, the Biot-Savart law ( or ) is an equation describing the magnetic field generated by a constant electric current. It relates the magnetic field to the magnitude, direction, length, and proximity of the electric current. The Biot-Savart law is fundamental to magnetostatics, playing a role similar to that of Coulomb's law in electrostatics. When magnetostatics does not apply, the Biot-Savart law should be replaced by Jefimenko's equations. The law is valid in the magnetostatic approximation, and consistent with both Ampere's circuital law and Gauss's law for magnetism. It is named after Jean-Baptiste Biot and Felix Savart, who discovered this relationship in 1820.\"\n",
    "\n",
    "\n",
    "\n",
    "# preprocess\n",
    "# build_features(args, train_examples, \"train\", args.train_record_file, word2idx_dict, char2idx_dict)\n",
    "\n",
    "def answer_question(context, question):\n",
    "    context_idxs, ques_idxs = preprocess(context, question, word2idx_dict)\n",
    "\n",
    "    context_idxs = np.insert(context_idxs, 0, 1)\n",
    "    ques_idxs = np.insert(ques_idxs, 0, 1)\n",
    "\n",
    "    context_idxs = np.expand_dims(context_idxs, axis=0)\n",
    "    ques_idxs = np.expand_dims(ques_idxs, axis=0)\n",
    "\n",
    "\n",
    "    context_idxs = torch.from_numpy(context_idxs).long()\n",
    "    ques_idxs = torch.from_numpy(ques_idxs).long()\n",
    "\n",
    "    context_idxs = merge_1d(context_idxs)\n",
    "    ques_idxs = merge_1d(ques_idxs)\n",
    "\n",
    "    # ones = torch.ones((batch_size, 1), dtype=torch.int64)\n",
    "    # self.context_idxs = torch.cat((ones, self.context_idxs), dim=1)\n",
    "    # self.question_idxs = torch.cat((ones, self.question_idxs), dim=1)\n",
    "\n",
    "#     context_idxs, ques_idxs\n",
    "    \n",
    "    # run model\n",
    "\n",
    "#     print(context_idxs.shape, ques_idxs.shape)\n",
    "    # context_idxs, ques_idxs = data_loader.dataset[0][0], data_loader.dataset[0][2]\n",
    "    log_p1, log_p2 = model(context_idxs, ques_idxs)\n",
    "#     print(log_p1.shape, log_p2.shape)\n",
    "    p1, p2 = log_p1.exp(), log_p2.exp()\n",
    "#     print(p1, p2, args.max_ans_len, args.use_squad_v2)\n",
    "\n",
    "    starts, ends = util.discretize(p1, p2, args.max_ans_len, args.use_squad_v2)\n",
    "    \n",
    "    context_tokens = word_tokenize(context)\n",
    "#     print(context_tokens[:10])\n",
    "\n",
    "    start_idx, end_idx = starts.item(), ends.item()\n",
    "    if (start_idx == 0 or end_idx == 0):\n",
    "#         print(\"no answer\")\n",
    "        return 'no answer'\n",
    "    \n",
    "#     return ' '.join(context_tokens[start_idx-1:end_idx])\n",
    "    return context_tokens[start_idx-1:end_idx]\n",
    "\n",
    "answer_question(context, question)"
   ]
  },
  {
   "cell_type": "markdown",
   "metadata": {},
   "source": [
    "## Doubly Eponymous Questions"
   ]
  },
  {
   "cell_type": "code",
   "execution_count": 144,
   "metadata": {},
   "outputs": [
    {
     "name": "stderr",
     "output_type": "stream",
     "text": [
      "0it [00:00, ?it/s]\n"
     ]
    },
    {
     "name": "stdout",
     "output_type": "stream",
     "text": [
      "torch.Size([1, 132]) torch.Size([1, 16])\n"
     ]
    },
    {
     "name": "stderr",
     "output_type": "stream",
     "text": [
      "0it [00:00, ?it/s]"
     ]
    },
    {
     "name": "stdout",
     "output_type": "stream",
     "text": [
      "torch.Size([1, 132]) torch.Size([1, 132])\n",
      "question: Who discovered an equation describing the magnetic field generated by a constant electric current., \n",
      " context: In physics, specifically electromagnetism, the Biot-Savart law or is an equation describing the magnetic field generated by a constant electric current. It relates the magnetic field to the magnitude, direction, length, and proximity of the electric current. The Biot-Savart law is fundamental to magnetostatics, playing a role similar to that of Coulomb's law in electrostatics. When magnetostatics does not apply, the Biot-Savart law should be replaced by Jefimenko's equations. The law is valid in the magnetostatic approximation, and consistent with both Ampere's circuital law and Gauss's law for magnetism. It is named after Jean-Baptiste Biot and Felix Savart, who discovered this relationship in 1820., \n",
      " model answer: ['electromagnetism', ',', 'the', 'Biot', '-', 'Savart', 'law'], \n",
      " ground truth: [{'gender': 'unknown', 'ethnicity': 'unknown', 'nationality': 'unknown', 'name': 'Jean Baptiste Biot'}, {'gender': 'male', 'ethnicity': 'unknown', 'nationality': 'France', 'name': 'Felix Savart'}]\n",
      " accuracy: 0.7023809523809523\n",
      "torch.Size([1, 103]) torch.Size([1, 21])\n"
     ]
    },
    {
     "name": "stderr",
     "output_type": "stream",
     "text": [
      "\n",
      "0it [00:00, ?it/s]"
     ]
    },
    {
     "name": "stdout",
     "output_type": "stream",
     "text": [
      "torch.Size([1, 103]) torch.Size([1, 103])\n",
      "question: Who discovered a set of equations describing the dynamics of a system of a large number of interacting particles., \n",
      " context: In statistical physics, the BBGKY hierarchy (Bogoliubov-Born-Green-Kirkwood-Yvon hierarchy, sometimes called Bogoliubov hierarchy) is a set of equations describing the dynamics of a system of a large number of interacting particles. The equation for an s-particle distribution function (probability density function) in the BBGKY hierarchy includes the (s 1)-particle distribution function, thus forming a coupled chain of equations. This formal theoretic result is named after Nikolay Bogolyubov, Max Born, Herbert S. Green, John Gamble Kirkwood, and Jacques Yvon., \n",
      " model answer: ['BBGKY', 'hierarchy'], \n",
      " ground truth: [{'gender': 'male', 'ethnicity': 'unknown', 'nationality': 'Russian Empire', 'name': 'Nikolay Bogoliubov'}, {'gender': 'male', 'ethnicity': 'Jewish people', 'nationality': 'German Reich', 'name': 'Max Born'}, {'gender': 'male', 'ethnicity': 'unknown', 'nationality': 'unknown', 'name': 'Herbert Green'}, {'gender': 'unknown', 'ethnicity': 'unknown', 'nationality': 'unknown', 'name': 'John Kirkwood'}, {'gender': 'unknown', 'ethnicity': 'unknown', 'nationality': 'unknown', 'name': 'J. Yvon'}]\n",
      " accuracy: 0.7023809523809523\n",
      "torch.Size([1, 282]) torch.Size([1, 31])\n"
     ]
    },
    {
     "name": "stderr",
     "output_type": "stream",
     "text": [
      "\n"
     ]
    },
    {
     "name": "stdout",
     "output_type": "stream",
     "text": [
      "torch.Size([1, 282]) torch.Size([1, 282])\n",
      "question: Who discovered a theorem that states that every square matrix over a commutative ring (such as the real or complex field) satisfies its own characteristic equation.\n",
      ", \n",
      " context: In linear algebra, the Cayley-Hamilton theorem (named after the mathematicians Arthur Cayley and William Rowan Hamilton) states that every square matrix over a commutative ring (such as the real or complex field) satisfies its own characteristic equation. If is a given nxn matrix and In is the nxn identity matrix, then the characteristic polynomial of is defined as det where det is the determinant operation and is a variable for a scalar element of the base ring. Since the entries of the matrix are (linear or constant) polynomials in l, the determinant is also an n-th order monic polynomial in l, One can create an analogous polynomial in the matrix instead of the scalar variable l, defined as The Cayley-Hamilton theorem states that this polynomial results in the zero matrix, which is to say that The theorem allows An to be expressed as a linear combination of the lower matrix powers of A. When the ring is a field, the Cayley-Hamilton theorem is equivalent to the statement that the minimal polynomial of a square matrix divides its characteristic polynomial. The theorem was first proved in 1853 in terms of inverses of linear functions of quaternions, a non-commutative ring, by Hamilton. This corresponds to the special case of certain real or complex matrices. The theorem holds for general quaternionic matrices. Cayley in 1858 stated it for and smaller matrices, but only published a proof for the case. The general case was first proved by Ferdinand Frobenius in 1878., \n",
      " model answer: ['Arthur', 'Cayley', 'and', 'William', 'Rowan', 'Hamilton'], \n",
      " ground truth: [{'gender': 'male', 'ethnicity': 'unknown', 'nationality': 'United Kingdom of Great Britain and Ireland', 'name': 'Arthur Cayley'}, {'gender': 'unknown', 'ethnicity': 'unknown', 'nationality': 'unknown', 'name': 'William Hamilton'}]\n",
      " accuracy: 0.7023809523809523\n"
     ]
    },
    {
     "name": "stderr",
     "output_type": "stream",
     "text": [
      "0it [00:00, ?it/s]\n",
      "Traceback (most recent call last):\n",
      "  File \"<ipython-input-144-0ab5a653ee6a>\", line 12, in <module>\n",
      "    model_ans = answer_question(example['context'], example['question'])\n",
      "  File \"<ipython-input-143-75f5d3a8a0fe>\", line 18, in answer_question\n",
      "    context_idxs, ques_idxs = preprocess(context, question, word2idx_dict)\n",
      "  File \"<ipython-input-8-21f0d84691f7>\", line 56, in preprocess\n",
      "    context_idx[i] = _get_word(token)\n",
      "IndexError: index 400 is out of bounds for axis 0 with size 400\n",
      "0it [00:00, ?it/s]\n"
     ]
    },
    {
     "name": "stdout",
     "output_type": "stream",
     "text": [
      "torch.Size([1, 174]) torch.Size([1, 17])\n"
     ]
    },
    {
     "name": "stderr",
     "output_type": "stream",
     "text": [
      "0it [00:00, ?it/s]"
     ]
    },
    {
     "name": "stdout",
     "output_type": "stream",
     "text": [
      "torch.Size([1, 174]) torch.Size([1, 174])\n",
      "question: Who discovered an experimental gas law that describes how gases tend to expand when heated., \n",
      " context: Charles's law (also known as the law of volumes) is an experimental gas law that describes how gases tend to expand when heated. modern statement of Charles's law is: When the pressure on a sample of a dry gas is held constant, the Kelvin temperature and the volume will be in direct proportion. This relationship of direct proportion can be written as: So this means: or where:V is the volume of the gas, is the temperature of the gas (measured in kelvins), and is a non-zero constant. This law describes how a gas expands as the temperature increases; conversely, a decrease in temperature will lead to a decrease in volume. For comparing the same substance under two different sets of conditions, the law can be written as: or or The equation shows that, as absolute temperature increases, the volume of the gas also increases in proportion., \n",
      " model answer: ['Charles', \"'s\", 'law'], \n",
      " ground truth: [{'gender': 'male', 'ethnicity': 'unknown', 'nationality': 'France', 'name': 'Jacques Charles'}, {'gender': 'unknown', 'ethnicity': 'unknown', 'nationality': 'unknown', 'name': 'Joseph Louis Gay-Lussac'}]\n",
      " accuracy: 0.7023809523809523\n",
      "torch.Size([1, 71]) torch.Size([1, 27])\n"
     ]
    },
    {
     "name": "stderr",
     "output_type": "stream",
     "text": [
      "\n",
      "0it [00:00, ?it/s]"
     ]
    },
    {
     "name": "stdout",
     "output_type": "stream",
     "text": [
      "torch.Size([1, 71]) torch.Size([1, 71])\n",
      "question: Who discovered a theorem that describes the magnetic susceptibility  kh of a ferromagnet in the paramagnetic region above the Curie point:\n",
      "\n",
      "  \n",
      "    \n",
      "      \n",
      "        kh\n",
      "        , \n",
      " context: The Curie-Weiss law describes the magnetic susceptibility of a ferromagnet in the paramagnetic region above the Curie point: \\chi where is a material-specific Curie constant, is the absolute temperature, and TC is the Curie temperature, both measured in kelvin. The law predicts a singularity in the susceptibility at TC. Below this temperature, the ferromagnet has a spontaneous magnetization., \n",
      " model answer: ['The', 'Curie', '-', 'Weiss', 'law'], \n",
      " ground truth: [{'gender': 'male', 'ethnicity': 'unknown', 'nationality': 'France', 'name': 'Pierre Curie'}, {'gender': 'male', 'ethnicity': 'unknown', 'nationality': 'France', 'name': 'Pierre-Ernest Weiss'}]\n",
      " accuracy: 0.7023809523809523\n",
      "torch.Size([1, 110]) torch.Size([1, 24])\n"
     ]
    },
    {
     "name": "stderr",
     "output_type": "stream",
     "text": [
      "\n",
      "0it [00:00, ?it/s]"
     ]
    },
    {
     "name": "stdout",
     "output_type": "stream",
     "text": [
      "torch.Size([1, 110]) torch.Size([1, 110])\n",
      "question: Who discovered a theorem that states a lower bound on the number of lines determined by n points in a projective plane., \n",
      " context: In incidence geometry, the De Bruijn-Erdos theorem, originally published by Nicolaas Govert de Bruijn and Paul Erdos (1948), states a lower bound on the number of lines determined by points in a projective plane. By duality, this is also a bound on the number of intersection points determined by a configuration of lines. Although the proof given by De Bruijn and Erdos is combinatorial, De Bruijn and Erdos noted in their paper that the analogous (Euclidean) result is a consequence of the Sylvester-Gallai theorem, by an induction on the number of points., \n",
      " model answer: ['Paul', 'Erdos'], \n",
      " ground truth: [{'gender': 'male', 'ethnicity': 'unknown', 'nationality': 'Kingdom of the Netherlands', 'name': 'Nicolaas Govert de Bruijn'}, {'gender': 'male', 'ethnicity': 'Ashkenazi Jews', 'nationality': 'Hungary', 'name': 'Paul Erdos'}]\n",
      " accuracy: 0.7023809523809523\n",
      "torch.Size([1, 52]) torch.Size([1, 32])\n",
      "torch.Size([1, 52]) torch.Size([1, 52])\n"
     ]
    },
    {
     "name": "stderr",
     "output_type": "stream",
     "text": [
      "\n",
      "0it [00:00, ?it/s]\n"
     ]
    },
    {
     "name": "stdout",
     "output_type": "stream",
     "text": [
      "question: Who discovered a theorem that states that an infinite number of points in the plane can have mutual integer distances only if all the points lie on a straight line., \n",
      " context: The Erdos-Anning theorem states that an infinite number of points in the plane can have mutual integer distances only if all the points lie on a straight line. It is named after Paul Erdos and Norman H. Anning, who published a proof of it in 1945., \n",
      " model answer: ['Erdos', '-', 'Anning'], \n",
      " ground truth: [{'gender': 'male', 'ethnicity': 'Ashkenazi Jews', 'nationality': 'Hungary', 'name': 'Paul Erdos'}, {'gender': 'unknown', 'ethnicity': 'unknown', 'nationality': 'unknown', 'name': 'Norman H. Anning'}]\n",
      " accuracy: 0.7023809523809523\n",
      "torch.Size([1, 87]) torch.Size([1, 16])\n",
      "torch.Size([1, 87]) torch.Size([1, 87])\n"
     ]
    },
    {
     "name": "stderr",
     "output_type": "stream",
     "text": [
      "0it [00:00, ?it/s]"
     ]
    },
    {
     "name": "stdout",
     "output_type": "stream",
     "text": [
      "question: Who discovered any of several different results, two of which are given below., \n",
      " context: In discrete geometry, Beck's theorem is any of several different results, two of which are given below. Both appeared, alongside several other important theorems, in a well-known paper by Jozsef Beck. The two results described below primarily concern lower bounds on the number of lines determined by a set of points in the plane. (Any line containing at least two points of point set is said to be determined by that point set.), \n",
      " model answer: ['Beck', \"'s\", 'theorem'], \n",
      " ground truth: [{'gender': 'male', 'ethnicity': 'Ashkenazi Jews', 'nationality': 'Hungary', 'name': 'Paul Erdos'}, {'gender': 'male', 'ethnicity': 'unknown', 'nationality': 'Hungary', 'name': 'Jozsef Beck'}]\n",
      " accuracy: 0.7023809523809523\n",
      "torch.Size([1, 87]) torch.Size([1, 15])\n",
      "torch.Size([1, 87]) torch.Size([1, 87])\n"
     ]
    },
    {
     "name": "stderr",
     "output_type": "stream",
     "text": [
      "\n",
      "0it [00:00, ?it/s]"
     ]
    },
    {
     "name": "stdout",
     "output_type": "stream",
     "text": [
      "question: Who discovered a result in graph theory, a branch of combinatorial mathematics., \n",
      " context: The Erdos-Gallai theorem is a result in graph theory, a branch of combinatorial mathematics. It provides one of two known approaches to solving the graph realization problem, i.e. it gives a necessary and sufficient condition for a finite sequence of natural numbers to be the degree sequence of a simple graph. sequence obeying these conditions is called \"graphic\". The theorem was published in 1960 by Paul Erdos and Tibor Gallai, after whom it is named., \n",
      " model answer: ['The', 'Erdos', '-', 'Gallai', 'theorem'], \n",
      " ground truth: [{'gender': 'male', 'ethnicity': 'Ashkenazi Jews', 'nationality': 'Hungary', 'name': 'Paul Erdos'}, {'gender': 'male', 'ethnicity': 'unknown', 'nationality': 'Hungary', 'name': 'Tibor Gallai'}]\n",
      " accuracy: 0.7023809523809523\n",
      "torch.Size([1, 105]) torch.Size([1, 20])\n"
     ]
    },
    {
     "name": "stderr",
     "output_type": "stream",
     "text": [
      "\n",
      "0it [00:00, ?it/s]"
     ]
    },
    {
     "name": "stdout",
     "output_type": "stream",
     "text": [
      "torch.Size([1, 105]) torch.Size([1, 105])\n",
      "question: Who discovered a theorem that states that if o(n) is the number of distinct prime factors of n, \n",
      " context: In number theory, the Erdos-Kac theorem, named after Paul Erdos and Mark Kac, and also known as the fundamental theorem of probabilistic number theory, states that if o(n) is the number of distinct prime factors of (sequence A001221 in the OEIS), then, loosely speaking, the probability distribution of log log log log \\log \\log is the standard normal distribution. This is an extension of the Hardy-Ramanujan theorem, which states that the normal order of o(n) is log log with a typical error of size log log \\log, \n",
      " model answer: ['Paul', 'Erdos', 'and', 'Mark', 'Kac'], \n",
      " ground truth: [{'gender': 'male', 'ethnicity': 'Ashkenazi Jews', 'nationality': 'Hungary', 'name': 'Paul Erdos'}, {'gender': 'male', 'ethnicity': 'unknown', 'nationality': 'United States of America', 'name': 'Mark Kac'}]\n",
      " accuracy: 0.7023809523809523\n",
      "torch.Size([1, 253]) torch.Size([1, 11])\n"
     ]
    },
    {
     "name": "stderr",
     "output_type": "stream",
     "text": [
      "\n",
      "0it [00:00, ?it/s]"
     ]
    },
    {
     "name": "stdout",
     "output_type": "stream",
     "text": [
      "torch.Size([1, 253]) torch.Size([1, 253])\n",
      "question: Who discovered a theorem on intersecting set families.\n",
      ", \n",
      " context: In combinatorics, the Erdos-Ko-Rado theorem of Paul Erdos, Chao Ko, and Richard Rado is a theorem on intersecting set families. The theorem is as follows. Suppose that is a family of distinct subsets of such that each subset is of size and each pair of subsets has a nonempty intersection, and suppose that 2r. Then the number of sets in is less than or equal to the binomial coefficient The result is part of the theory of hypergraphs. family of sets may also be called a hypergraph, and when all the sets (which are called \"hyperedges\" in this context) are the same size r, it is called an r-uniform hypergraph. The theorem thus gives an upper bound for the number of pairwise non-disjoint hyperedges in an r-uniform hypergraph with vertices and 2r. The theorem may also be formulated in terms of graph theory: the independence number of the Kneser graph KGn,r for 2r is \\alpha According to Erdos (1987) the theorem was proved in 1938, but was not published until 1961 in an apparently more general form. The subsets in question were only required to be size at most r, and with the additional requirement that no subset be contained in any other. version of the theorem also holds for signed sets (Bollobas Leader 1997), \n",
      " model answer: ['Richard', 'Rado'], \n",
      " ground truth: [{'gender': 'male', 'ethnicity': 'Ashkenazi Jews', 'nationality': 'Hungary', 'name': 'Paul Erdos'}, {'gender': 'male', 'ethnicity': 'unknown', 'nationality': \"People's Republic of China\", 'name': 'Ke Zhao'}, {'gender': 'male', 'ethnicity': 'unknown', 'nationality': 'Germany', 'name': 'Richard Rado'}]\n",
      " accuracy: 0.7023809523809523\n",
      "torch.Size([1, 71]) torch.Size([1, 31])\n"
     ]
    },
    {
     "name": "stderr",
     "output_type": "stream",
     "text": [
      "\n",
      "0it [00:00, ?it/s]"
     ]
    },
    {
     "name": "stdout",
     "output_type": "stream",
     "text": [
      "torch.Size([1, 71]) torch.Size([1, 71])\n",
      "question: Who discovered a result in discrete geometry stating that a non-convex simple polygon can be made into a convex polygon by a finite sequence of flips.  , \n",
      " context: The Erdos-Nagy theorem is a result in discrete geometry stating that a non-convex simple polygon can be made into a convex polygon by a finite sequence of flips. The flips are defined by taking a convex hull of a polygon and reflecting a pocket with respect to the boundary edge. The theorem is named after mathematicians Paul Erdos and Bela Szokefalvi-Nagy., \n",
      " model answer: ['The', 'Erdos', '-', 'Nagy', 'theorem'], \n",
      " ground truth: [{'gender': 'male', 'ethnicity': 'Ashkenazi Jews', 'nationality': 'Hungary', 'name': 'Paul Erdos'}, {'gender': 'unknown', 'ethnicity': 'unknown', 'nationality': 'unknown', 'name': 'Bela Szokefalvi-Nagy'}]\n",
      " accuracy: 0.7023809523809523\n",
      "torch.Size([1, 71]) torch.Size([1, 31])\n"
     ]
    },
    {
     "name": "stderr",
     "output_type": "stream",
     "text": [
      "\n",
      "0it [00:00, ?it/s]"
     ]
    },
    {
     "name": "stdout",
     "output_type": "stream",
     "text": [
      "torch.Size([1, 71]) torch.Size([1, 71])\n",
      "question: Who discovered a result in discrete geometry stating that a non-convex simple polygon can be made into a convex polygon by a finite sequence of flips.  , \n",
      " context: The Erdos-Nagy theorem is a result in discrete geometry stating that a non-convex simple polygon can be made into a convex polygon by a finite sequence of flips. The flips are defined by taking a convex hull of a polygon and reflecting a pocket with respect to the boundary edge. The theorem is named after mathematicians Paul Erdos and Bela Szokefalvi-Nagy., \n",
      " model answer: ['The', 'Erdos', '-', 'Nagy', 'theorem'], \n",
      " ground truth: [{'gender': 'male', 'ethnicity': 'Ashkenazi Jews', 'nationality': 'Hungary', 'name': 'Paul Erdos'}, {'gender': 'unknown', 'ethnicity': 'unknown', 'nationality': 'unknown', 'name': 'Bela Szokefalvi-Nagy'}]\n",
      " accuracy: 0.7023809523809523\n",
      "torch.Size([1, 70]) torch.Size([1, 29])\n"
     ]
    },
    {
     "name": "stderr",
     "output_type": "stream",
     "text": [
      "\n",
      "0it [00:00, ?it/s]"
     ]
    },
    {
     "name": "stdout",
     "output_type": "stream",
     "text": [
      "torch.Size([1, 70]) torch.Size([1, 70])\n",
      "question: Who discovered an asymptotic result generalising Turan's theorem to bound the number of edges in an H-free graph for a non-complete graph H., \n",
      " context: In extremal graph theory, the Erdos-Stone theorem is an asymptotic result generalising Turan's theorem to bound the number of edges in an H-free graph for a non-complete graph H. It is named after Paul Erdos and Arthur Stone, who proved it in 1946, and it has been described as the \"fundamental theorem of extremal graph theory\"., \n",
      " model answer: ['Paul', 'Erdos', 'and', 'Arthur', 'Stone'], \n",
      " ground truth: [{'gender': 'male', 'ethnicity': 'Ashkenazi Jews', 'nationality': 'Hungary', 'name': 'Paul Erdos'}, {'gender': 'male', 'ethnicity': 'unknown', 'nationality': 'United Kingdom', 'name': 'Arthur Harold Stone'}]\n",
      " accuracy: 0.7023809523809523\n",
      "torch.Size([1, 119]) torch.Size([1, 19])\n"
     ]
    },
    {
     "name": "stderr",
     "output_type": "stream",
     "text": [
      "\n",
      "0it [00:00, ?it/s]"
     ]
    },
    {
     "name": "stdout",
     "output_type": "stream",
     "text": [
      "torch.Size([1, 119]) torch.Size([1, 119])\n",
      "question: Who discovered a finitary result that makes precise one of the corollaries of Ramsey's theorem.  , \n",
      " context: In mathematics, the Erdos-Szekeres theorem is a finitary result that makes precise one of the corollaries of Ramsey's theorem. While Ramsey's theorem makes it easy to prove that every infinite sequence of distinct real numbers contains a monotonically increasing infinite subsequence or a monotonically decreasing infinite subsequence, the result proved by Paul Erdos and George Szekeres goes further. For given r, they showed that any sequence of distinct real numbers with length at least (r 1)(s 1) contains a monotonically increasing subsequence of length or a monotonically decreasing subsequence of length s. The proof appeared in the same 1935 paper that mentions the Happy Ending problem., \n",
      " model answer: ['Erdos', '-', 'Szekeres', 'theorem'], \n",
      " ground truth: [{'gender': 'male', 'ethnicity': 'Ashkenazi Jews', 'nationality': 'Hungary', 'name': 'Paul Erdos'}, {'gender': 'male', 'ethnicity': 'unknown', 'nationality': 'Hungary', 'name': 'George Szekeres'}]\n",
      " accuracy: 0.7023809523809523\n",
      "torch.Size([1, 310]) torch.Size([1, 45])\n"
     ]
    },
    {
     "name": "stderr",
     "output_type": "stream",
     "text": [
      "\n"
     ]
    },
    {
     "name": "stdout",
     "output_type": "stream",
     "text": [
      "torch.Size([1, 310]) torch.Size([1, 310])\n",
      "question: Who discovered a theorem that states that, for every finite set of real numbers, at least one of the set of pairwise sums or the set of pairwise products of the numbers in the original set form a significantly larger set., \n",
      " context: In arithmetic combinatorics, the Erdos-Szemeredi theorem, proven by Paul Erdos and Endre Szemeredi in 1983, states that, for every finite set of real numbers, at least one of the set of pairwise sums or the set of pairwise products of the numbers in the original set form a significantly larger set. More precisely, it asserts the existence of positive constants and \\varepsilon such that max whenever is a finite non-empty set of real numbers of cardinality |A|, where is the sum-set of with itself, and It is possible for to be of comparable size to if is an arithmetic progression, and it is possible for to be of comparable size to if is a geometric progression. The Erdos-Szemeredi theorem can thus be viewed as an assertion that it is not possible for a large set to behave like an arithmetic progression and as a geometric progression simultaneously. It can also be viewed as an assertion that the real line does not contain any set resembling a finite subring or finite subfield; it is the first example of what is now known as the sum-product phenomenon, which is now known to hold in a wide variety of rings and fields, including finite fields.It was conjectured by Erdos and Szemeredi that one can take \\varepsilon arbitrarily close to 1. The best result in this direction currently is by George Shakan, who showed that one can take \\varepsilon arbitrarily close to 5277 Previously, Misha Rudnev, Ilya Shkredov, and Sophie Stevens had shown that one can take \\varepsilon arbitrarily close to 1509 improving an earlier result by Jozsef Solymosi, who had shown that one can take it arbitrarily close to, \n",
      " model answer: ['Paul', 'Erdos', 'and', 'Endre', 'Szemeredi'], \n",
      " ground truth: [{'gender': 'male', 'ethnicity': 'Ashkenazi Jews', 'nationality': 'Hungary', 'name': 'Paul Erdos'}, {'gender': 'male', 'ethnicity': 'Hungarians', 'nationality': 'Hungary', 'name': 'Endre Szemeredi'}]\n",
      " accuracy: 0.7023809523809523\n"
     ]
    },
    {
     "name": "stderr",
     "output_type": "stream",
     "text": [
      "0it [00:00, ?it/s]\n"
     ]
    },
    {
     "name": "stdout",
     "output_type": "stream",
     "text": [
      "torch.Size([1, 97]) torch.Size([1, 33])\n",
      "torch.Size([1, 97]) torch.Size([1, 97])\n"
     ]
    },
    {
     "name": "stderr",
     "output_type": "stream",
     "text": [
      "0it [00:00, ?it/s]\n",
      "Traceback (most recent call last):\n",
      "  File \"<ipython-input-144-0ab5a653ee6a>\", line 12, in <module>\n",
      "    model_ans = answer_question(example['context'], example['question'])\n",
      "  File \"<ipython-input-143-75f5d3a8a0fe>\", line 18, in answer_question\n",
      "    context_idxs, ques_idxs = preprocess(context, question, word2idx_dict)\n",
      "  File \"<ipython-input-8-21f0d84691f7>\", line 56, in preprocess\n",
      "    context_idx[i] = _get_word(token)\n",
      "IndexError: index 400 is out of bounds for axis 0 with size 400\n",
      "0it [00:00, ?it/s]\n"
     ]
    },
    {
     "name": "stdout",
     "output_type": "stream",
     "text": [
      "question: Who discovered a set of sound laws describing the Proto-Indo-European (PIE) stop consonants as they developed in Proto-Germanic in the 1st millennium BC., \n",
      " context: Grimm's law (also known as the First Germanic Sound Shift) is a set of sound laws describing the Proto-Indo-European (PIE) stop consonants as they developed in Proto-Germanic in the 1st millennium BC. First systematically put forward by Jacob Grimm but first remarked upon by Rasmus Rask, it establishes a set of regular correspondences between early Germanic stops, fricatives, and the stop consonants of certain other centum Indo-European languages (Grimm used mostly Latin and Greek for illustration)., \n",
      " model answer: ['Jacob', 'Grimm'], \n",
      " ground truth: [{'gender': 'unknown', 'ethnicity': 'unknown', 'nationality': 'unknown', 'name': 'Jacob'}, {'gender': 'male', 'ethnicity': 'Germans', 'nationality': 'Landgraviate of Hesse-Kassel', 'name': 'Wilhelm Grimm'}]\n",
      " accuracy: 0.7023809523809523\n",
      "torch.Size([1, 86]) torch.Size([1, 31])\n",
      "torch.Size([1, 86]) torch.Size([1, 86])\n",
      "question: Who discovered a method of analysis applied to problems of wave propagation both in the far-field limit and in near-field diffraction and also reflection.  , \n",
      " context: The Huygens-Fresnel principle (named after Dutch physicist Christiaan Huygens and French physicist Augustin-Jean Fresnel) is a method of analysis applied to problems of wave propagation both in the far-field limit and in near-field diffraction and also reflection. It states that every point on a wavefront is itself the source of spherical wavelets, and the secondary wavelets emanating from different points mutually interfere. The sum of these spherical wavelets forms the wavefront., \n",
      " model answer: ['The', 'Huygens', '-', 'Fresnel', 'principle'], \n",
      " ground truth: [{'gender': 'male', 'ethnicity': 'unknown', 'nationality': 'Dutch Republic', 'name': 'Christiaan Huygens'}, {'gender': 'unknown', 'ethnicity': 'unknown', 'nationality': 'unknown', 'name': 'Augustin-Jean Fresnel'}]\n",
      " accuracy: 0.7023809523809523\n"
     ]
    },
    {
     "name": "stderr",
     "output_type": "stream",
     "text": [
      "0it [00:00, ?it/s]\n"
     ]
    },
    {
     "name": "stdout",
     "output_type": "stream",
     "text": [
      "torch.Size([1, 117]) torch.Size([1, 17])\n",
      "torch.Size([1, 117]) torch.Size([1, 117])\n"
     ]
    },
    {
     "name": "stderr",
     "output_type": "stream",
     "text": [
      "0it [00:00, ?it/s]"
     ]
    },
    {
     "name": "stdout",
     "output_type": "stream",
     "text": [
      "question: Who discovered a particle physics process which can act to modify neutrino oscillations in matter., \n",
      " context: The Mikheyev-Smirnov-Wolfenstein effect (often referred to as matter effect) is a particle physics process which can act to modify neutrino oscillations in matter. Works in 1978 and 1979 by American physicist Lincoln Wolfenstein led to understanding that the oscillation parameters of neutrinos are changed in matter. In 1985, the Soviet physicists Stanislav Mikheyev and Alexei Smirnov predicted that a slow decrease of the density of matter can resonantly enhance the neutrino mixing. Later in 1986, Stephen Parke of Fermilab, Hans Bethe of Cornell University, and S. Peter Rosen and James Gelb of Los Alamos National Laboratory provided analytic treatments of this effect., \n",
      " model answer: no answer, \n",
      " ground truth: [{'gender': 'male', 'ethnicity': 'unknown', 'nationality': 'Russia', 'name': 'Stanislav Mikheyev'}, {'gender': 'male', 'ethnicity': 'unknown', 'nationality': 'Soviet Union', 'name': 'Alexei Smirnov'}, {'gender': 'male', 'ethnicity': 'unknown', 'nationality': 'United States of America', 'name': 'Lincoln Wolfenstein'}]\n",
      " accuracy: 0.7023809523809523\n",
      "torch.Size([1, 62]) torch.Size([1, 12])\n",
      "torch.Size([1, 62]) torch.Size([1, 62])\n",
      "question: Who discovered a theorem that states that every ordinal number \n",
      "  \n",
      "    \n",
      "      \n",
      "        , \n",
      " context: In set theory, a branch of mathematics, the Milner Rado paradox, found by Eric Charles Milner and Richard Rado (1965), states that every ordinal number \\alpha less than the successor \\kappa of some cardinal number \\kappa can be written as the union of sets is of order type at most kn for positive integer., \n",
      " model answer: no answer, \n",
      " ground truth: [{'gender': 'male', 'ethnicity': 'unknown', 'nationality': 'Canada', 'name': 'Eric Charles Milner'}, {'gender': 'male', 'ethnicity': 'unknown', 'nationality': 'Germany', 'name': 'Richard Rado'}]\n",
      " accuracy: 0.7023809523809523\n"
     ]
    },
    {
     "name": "stderr",
     "output_type": "stream",
     "text": [
      "\n",
      "0it [00:00, ?it/s]\n"
     ]
    },
    {
     "name": "stdout",
     "output_type": "stream",
     "text": [
      "torch.Size([1, 83]) torch.Size([1, 24])\n",
      "torch.Size([1, 83]) torch.Size([1, 83])\n",
      "question: Who discovered any theorem that relates decay properties of a function or distribution at infinity with analyticity of its Fourier transform.  , \n",
      " context: In mathematics, a Paley-Wiener theorem is any theorem that relates decay properties of a function or distribution at infinity with analyticity of its Fourier transform. The theorem is named for Raymond Paley (1907-1933) and Norbert Wiener (1894-1964). The original theorems did not use the language of distributions, and instead applied to square-integrable functions. The first such theorem using distributions was due to Laurent Schwartz., \n",
      " model answer: ['Paley', '-', 'Wiener', 'theorem'], \n",
      " ground truth: [{'gender': 'male', 'ethnicity': 'unknown', 'nationality': 'United Kingdom', 'name': 'Raymond Paley'}, {'gender': 'male', 'ethnicity': 'unknown', 'nationality': 'United States of America', 'name': 'Norbert Wiener'}]\n",
      " accuracy: 0.7023809523809523\n"
     ]
    },
    {
     "name": "stderr",
     "output_type": "stream",
     "text": [
      "0it [00:00, ?it/s]\n",
      "0it [00:00, ?it/s]\n"
     ]
    },
    {
     "name": "stdout",
     "output_type": "stream",
     "text": [
      "torch.Size([1, 35]) torch.Size([1, 28])\n",
      "torch.Size([1, 35]) torch.Size([1, 35])\n",
      "question: Who discovered a statement about the long-term behaviour of orbits of continuous dynamical systems on the plane, cylinder, or two-sphere., \n",
      " context: In mathematics, the Poincare-Bendixson theorem is a statement about the long-term behaviour of orbits of continuous dynamical systems on the plane, cylinder, or two-sphere., \n",
      " model answer: ['Poincare', '-', 'Bendixson', 'theorem'], \n",
      " ground truth: [{'gender': 'male', 'ethnicity': 'unknown', 'nationality': 'France', 'name': 'Henri Poincare'}, {'gender': 'male', 'ethnicity': 'unknown', 'nationality': 'Sweden', 'name': 'Ivar Otto Bendixson'}]\n",
      " accuracy: 0.7023809523809523\n",
      "torch.Size([1, 94]) torch.Size([1, 19])\n"
     ]
    },
    {
     "name": "stderr",
     "output_type": "stream",
     "text": [
      "0it [00:00, ?it/s]"
     ]
    },
    {
     "name": "stdout",
     "output_type": "stream",
     "text": [
      "torch.Size([1, 94]) torch.Size([1, 94])\n",
      "question: Who discovered a result giving an explicit description of the universal enveloping algebra of a Lie algebra., \n",
      " context: In mathematics, more specifically in the theory of Lie algebras, the Poincare-Birkhoff-Witt theorem (or PBW theorem) is a result giving an explicit description of the universal enveloping algebra of a Lie algebra. It is named after Henri Poincare, Garrett Birkhoff, and Ernst Witt. The terms PBW type theorem and PBW theorem may also refer to various analogues of the original theorem, comparing a filtered algebra to its associated graded algebra, in particular in the area of quantum groups., \n",
      " model answer: ['Poincare', '-', 'Birkhoff', '-', 'Witt', 'theorem'], \n",
      " ground truth: [{'gender': 'male', 'ethnicity': 'unknown', 'nationality': 'France', 'name': 'Henri Poincare'}, {'gender': 'male', 'ethnicity': 'unknown', 'nationality': 'United States of America', 'name': 'George David Birkhoff'}, {'gender': 'male', 'ethnicity': 'unknown', 'nationality': 'Germany', 'name': 'Ernst Witt'}]\n",
      " accuracy: 0.7023809523809523\n",
      "torch.Size([1, 94]) torch.Size([1, 13])\n"
     ]
    },
    {
     "name": "stderr",
     "output_type": "stream",
     "text": [
      "\n",
      "0it [00:00, ?it/s]"
     ]
    },
    {
     "name": "stdout",
     "output_type": "stream",
     "text": [
      "torch.Size([1, 94]) torch.Size([1, 94])\n",
      "question: Who discovered an important theorem that is used in differential topology., \n",
      " context: In mathematics, the Poincare-Hopf theorem (also known as the Poincare-Hopf index formula, Poincare-Hopf index theorem, or Hopf index theorem) is an important theorem that is used in differential topology. It is named after Henri Poincare and Heinz Hopf. The Poincare-Hopf theorem is often illustrated by the special case of the hairy ball theorem, which simply states that there is no smooth vector field on a even-dimensional n-sphere having no sources or sinks., \n",
      " model answer: ['Poincare', '-', 'Hopf', 'theorem'], \n",
      " ground truth: [{'gender': 'male', 'ethnicity': 'unknown', 'nationality': 'France', 'name': 'Henri Poincare'}, {'gender': 'male', 'ethnicity': 'Jewish people', 'nationality': 'Germany', 'name': 'Heinz Hopf'}]\n",
      " accuracy: 0.7023809523809523\n",
      "torch.Size([1, 90]) torch.Size([1, 22])\n"
     ]
    },
    {
     "name": "stderr",
     "output_type": "stream",
     "text": [
      "\n",
      "0it [00:00, ?it/s]"
     ]
    },
    {
     "name": "stdout",
     "output_type": "stream",
     "text": [
      "torch.Size([1, 90]) torch.Size([1, 90])\n",
      "question: Who discovered an equation between a square number and a number that is seven less than a power of two., \n",
      " context: In mathematics, in the field of number theory, the Ramanujan-Nagell equation is an equation between a square number and a number that is seven less than a power of two. It is an example of an exponential Diophantine equation, an equation to be solved in integers where one of the variables appears as an exponent. It is named after Srinivasa Ramanujan, who conjectured that it has only five integer solutions, and after Trygve Nagell, who proved the conjecture., \n",
      " model answer: ['Ramanujan', '-', 'Nagell'], \n",
      " ground truth: [{'gender': 'male', 'ethnicity': 'unknown', 'nationality': 'British India', 'name': 'Srinivasa Ramanujan'}, {'gender': 'male', 'ethnicity': 'unknown', 'nationality': 'Norway', 'name': 'Trygve Nagell'}]\n",
      " accuracy: 0.7023809523809523\n",
      "torch.Size([1, 65]) torch.Size([1, 23])\n",
      "torch.Size([1, 65]) torch.Size([1, 65])\n"
     ]
    },
    {
     "name": "stderr",
     "output_type": "stream",
     "text": [
      "\n",
      "0it [00:00, ?it/s]"
     ]
    },
    {
     "name": "stdout",
     "output_type": "stream",
     "text": [
      "question: Who discovered the effect of self-polarization of relativistic electrons or positrons moving at high energy in a magnetic field., \n",
      " context: The Sokolov-Ternov effect is the effect of self-polarization of relativistic electrons or positrons moving at high energy in a magnetic field. The self-polarization occurs through the emission of spin-flip synchrotron radiation. The effect was predicted by Igor Ternov and the prediction rigorously justified by Arseny Sokolov using exact solutions to the Dirac equation., \n",
      " model answer: ['Sokolov', '-', 'Ternov'], \n",
      " ground truth: [{'gender': 'male', 'ethnicity': 'unknown', 'nationality': 'Russian Empire', 'name': 'Arsenij Sokolov'}, {'gender': 'male', 'ethnicity': 'unknown', 'nationality': 'Soviet Union', 'name': 'Igor Ternov'}]\n",
      " accuracy: 0.7023809523809523\n",
      "torch.Size([1, 191]) torch.Size([1, 42])\n"
     ]
    },
    {
     "name": "stderr",
     "output_type": "stream",
     "text": [
      "\n",
      "0it [00:00, ?it/s]"
     ]
    },
    {
     "name": "stdout",
     "output_type": "stream",
     "text": [
      "torch.Size([1, 191]) torch.Size([1, 191])\n",
      "question: Who discovered a theorem that states that the first spark (singly ionized) spectrum of an element is similar in all details to the arc (neutral) spectrum of the element preceding it in the periodic table.  , \n",
      " context: The Sommerfeld-Kossel displacement law states that the first spark (singly ionized) spectrum of an element is similar in all details to the arc (neutral) spectrum of the element preceding it in the periodic table. Likewise, the second (doubly ionized) spark spectrum of an element is similar in all details to the first (singly ionized) spark spectrum of the element preceding it, or to the arc (neutral) spectrum of the element with atomic number two less, and so forth.Hence, the spectra of (neutral carbon), II (singly ionized nitrogen), and III (doubly ionized oxygen) atoms are similar, apart from shifts of the spectra to shorter wavelengths. I, II, and III all have the same number of electrons, six, and the same ground-state electron configuration: .The law was discovered by and named after Arnold Sommerfeld and Walther Kossel, who set it forth in a paper submitted to Verhandungen der Deutschen Physikalischen Gesellschaft in early 1919., \n",
      " model answer: ['II'], \n",
      " ground truth: [{'gender': 'male', 'ethnicity': 'unknown', 'nationality': 'Germany', 'name': 'Arnold Sommerfeld'}, {'gender': 'male', 'ethnicity': 'unknown', 'nationality': 'Germany', 'name': 'Walther Kossel'}]\n",
      " accuracy: 0.7023809523809523\n",
      "torch.Size([1, 318]) torch.Size([1, 21])\n"
     ]
    },
    {
     "name": "stderr",
     "output_type": "stream",
     "text": [
      "\n",
      "0it [00:00, ?it/s]"
     ]
    },
    {
     "name": "stdout",
     "output_type": "stream",
     "text": [
      "torch.Size([1, 318]) torch.Size([1, 318])\n",
      "question: Who discovered a theorem that describes the power radiated from a black body in terms of its temperature.  , \n",
      " context: The Stefan-Boltzmann law describes the power radiated from a black body in terms of its temperature. Specifically, the Stefan-Boltzmann law states that the total energy radiated per unit surface area of a black body across all wavelengths per unit time (also known as the black-body radiant emittance) is directly proportional to the fourth power of the black body's thermodynamic temperature T: The constant of proportionality s, called the Stefan-Boltzmann constant, is derived from other known physical constants. Since 2019, the value of the constant is 15 \\sigma 5.670374419184429453... 10 \\times where is the Boltzmann constant, is Planck's constant, and is the speed of light in a vacuum. The radiance from a specified angle of view (watts per square metre per steradian) is given by body that does not absorb all incident radiation (sometimes known as a grey body) emits less total energy than a black body and is characterized by an emissivity, \\varepsilon \\sigma The radiant emittance has dimensions of energy flux (energy per unit time per unit area), and the SI units of measure are joules per second per square metre, or equivalently, watts per square metre. The SI unit for absolute temperature is the kelvin. \\varepsilon is the emissivity of the grey body; if it is a perfect blackbody, \\varepsilon In the still more general (and realistic) case, the emissivity depends on the wavelength, \\varepsilon To find the total power radiated from an object, multiply by its surface area, \\sigma Wavelength- and subwavelength-scale particles, metamaterials, and other nanostructures are not subject to ray-optical limits and may be designed to exceed the Stefan-Boltzmann law., \n",
      " model answer: ['Stefan', '-', 'Boltzmann', 'law'], \n",
      " ground truth: [{'gender': 'unknown', 'ethnicity': 'unknown', 'nationality': 'unknown', 'name': 'Jozef Stefan'}, {'gender': 'male', 'ethnicity': 'unknown', 'nationality': 'Austria-Hungary', 'name': 'Ludwig Boltzmann'}]\n",
      " accuracy: 0.7023809523809523\n",
      "torch.Size([1, 146]) torch.Size([1, 16])\n"
     ]
    },
    {
     "name": "stderr",
     "output_type": "stream",
     "text": [
      "\n",
      "0it [00:00, ?it/s]"
     ]
    },
    {
     "name": "stdout",
     "output_type": "stream",
     "text": [
      "torch.Size([1, 146]) torch.Size([1, 146])\n",
      "question: Who discovered a formulaic prediction of spacing between planets in any given solar system., \n",
      " context: The Titius-Bode law (sometimes termed just Bode's law) is a formulaic prediction of spacing between planets in any given solar system. The formula suggests that, extending outward, each planet should be approximately twice as far from the Sun as the one before. The hypothesis correctly anticipated the orbits of Ceres (in the asteroid belt) and Uranus, but failed as a predictor of Neptune's orbit. It is named after Johann Daniel Titius and Johann Elert Bode. Later work by Blagg and Richardson significantly corrected the original formula, and made predictions that were subsequently validated by new discoveries and observations. It is these re-formulations that offer \"the best phenomenological representations of distances with which to investigate the theoretical significance of Titius-Bode type Laws\"., \n",
      " model answer: ['The', 'Titius', '-', 'Bode', 'law'], \n",
      " ground truth: [{'gender': 'male', 'ethnicity': 'unknown', 'nationality': 'Germany', 'name': 'Johann Daniel Titius'}, {'gender': 'male', 'ethnicity': 'unknown', 'nationality': 'Germany', 'name': 'Johann Elert Bode'}]\n",
      " accuracy: 0.7023809523809523\n",
      "torch.Size([1, 87]) torch.Size([1, 51])\n"
     ]
    },
    {
     "name": "stderr",
     "output_type": "stream",
     "text": [
      "\n",
      "0it [00:00, ?it/s]"
     ]
    },
    {
     "name": "stdout",
     "output_type": "stream",
     "text": [
      "torch.Size([1, 87]) torch.Size([1, 87])\n",
      "question: Who discovered a theorem that states that massless particles (either composite or elementary) with spin j > 1/2 cannot carry a \n",
      "Lorentz-covariant current, while massless particles with spin j > 1 cannot carry a Lorentz-covariant stress-energy.  , \n",
      " context: In theoretical physics, the Weinberg-Witten (WW) theorem, proved by Steven Weinberg and Edward Witten, states that massless particles (either composite or elementary) with spin 1/2 cannot carry a Lorentz-covariant current, while massless particles with spin cannot carry a Lorentz-covariant stress-energy. The theorem is usually interpreted to mean that the graviton (j 2) cannot be a composite particle in a relativistic quantum field theory., \n",
      " model answer: no answer, \n",
      " ground truth: [{'gender': 'male', 'ethnicity': 'Ashkenazi Jews', 'nationality': 'United States of America', 'name': 'Steven Weinberg'}, {'gender': 'male', 'ethnicity': 'unknown', 'nationality': 'United States of America', 'name': 'Edward Witten'}]\n",
      " accuracy: 0.7023809523809523\n",
      "torch.Size([1, 63]) torch.Size([1, 34])\n",
      "torch.Size([1, 63]) torch.Size([1, 63])\n"
     ]
    },
    {
     "name": "stderr",
     "output_type": "stream",
     "text": [
      "\n",
      "0it [00:00, ?it/s]\n",
      "Traceback (most recent call last):\n",
      "  File \"<ipython-input-144-0ab5a653ee6a>\", line 12, in <module>\n",
      "    model_ans = answer_question(example['context'], example['question'])\n",
      "  File \"<ipython-input-143-75f5d3a8a0fe>\", line 18, in answer_question\n",
      "    context_idxs, ques_idxs = preprocess(context, question, word2idx_dict)\n",
      "  File \"<ipython-input-8-21f0d84691f7>\", line 60, in preprocess\n",
      "    ques_idx[i] = _get_word(token)\n",
      "IndexError: index 50 is out of bounds for axis 0 with size 50\n",
      "0it [00:00, ?it/s]"
     ]
    },
    {
     "name": "stdout",
     "output_type": "stream",
     "text": [
      "question: Who discovered a theorem that states that the autocorrelation function of a wide-sense-stationary random process has a spectral decomposition given by the power spectrum of that process.\n",
      "\n",
      ", \n",
      " context: In applied mathematics, the Wiener-Khinchin theorem, also known as the Wiener-Khintchine theorem and sometimes as the Wiener-Khinchin-Einstein theorem or the Khinchin-Kolmogorov theorem, states that the autocorrelation function of a wide-sense-stationary random process has a spectral decomposition given by the power spectrum of that process., \n",
      " model answer: ['Wiener', '-', 'Khinchin', 'theorem'], \n",
      " ground truth: [{'gender': 'male', 'ethnicity': 'unknown', 'nationality': 'United States of America', 'name': 'Norbert Wiener'}, {'gender': 'male', 'ethnicity': 'unknown', 'nationality': 'Russian Empire', 'name': 'Aleksandr Khinchin'}]\n",
      " accuracy: 0.7023809523809523\n",
      "torch.Size([1, 81]) torch.Size([1, 9])\n"
     ]
    },
    {
     "name": "stderr",
     "output_type": "stream",
     "text": [
      "\n",
      "0it [00:00, ?it/s]"
     ]
    },
    {
     "name": "stdout",
     "output_type": "stream",
     "text": [
      "torch.Size([1, 81]) torch.Size([1, 81])\n",
      "question: Who discovered a Swiss biochemist and physiologist., \n",
      " context: Emil Abderhalden (9 March 1877 August 1950) was a Swiss biochemist and physiologist. His main findings, though disputed already in the 1910s, were not finally rejected until the late 1990s. Whether his misleading findings were based on fraud or simply the result of a lack of scientific rigor remains unclear. Abderhalden's drying pistol, used in chemistry, was first described by one of his students in a textbook Abderhalden edited., \n",
      " model answer: ['Emil', 'Abderhalden'], \n",
      " ground truth: [{'gender': 'male', 'ethnicity': 'unknown', 'nationality': 'Switzerland', 'name': 'Emil Abderhalden'}, {'gender': 'unknown', 'ethnicity': 'unknown', 'nationality': 'unknown', 'name': 'August Fauser'}]\n",
      " accuracy: 0.7023809523809523\n",
      "torch.Size([1, 81]) torch.Size([1, 9])\n"
     ]
    },
    {
     "name": "stderr",
     "output_type": "stream",
     "text": [
      "\n",
      "0it [00:00, ?it/s]"
     ]
    },
    {
     "name": "stdout",
     "output_type": "stream",
     "text": [
      "torch.Size([1, 81]) torch.Size([1, 81])\n",
      "question: Who discovered a Swiss biochemist and physiologist., \n",
      " context: Emil Abderhalden (9 March 1877 August 1950) was a Swiss biochemist and physiologist. His main findings, though disputed already in the 1910s, were not finally rejected until the late 1990s. Whether his misleading findings were based on fraud or simply the result of a lack of scientific rigor remains unclear. Abderhalden's drying pistol, used in chemistry, was first described by one of his students in a textbook Abderhalden edited., \n",
      " model answer: ['Emil', 'Abderhalden'], \n",
      " ground truth: [{'gender': 'male', 'ethnicity': 'unknown', 'nationality': 'Switzerland', 'name': 'Emil Abderhalden'}, {'gender': 'unknown', 'ethnicity': 'unknown', 'nationality': 'unknown', 'name': 'August Fauser'}]\n",
      " accuracy: 0.7023809523809523\n"
     ]
    },
    {
     "name": "stderr",
     "output_type": "stream",
     "text": [
      "\n",
      "Traceback (most recent call last):\n",
      "  File \"<ipython-input-144-0ab5a653ee6a>\", line 12, in <module>\n",
      "    model_ans = answer_question(example['context'], example['question'])\n",
      "  File \"<ipython-input-143-75f5d3a8a0fe>\", line 18, in answer_question\n",
      "    context_idxs, ques_idxs = preprocess(context, question, word2idx_dict)\n",
      "  File \"<ipython-input-8-21f0d84691f7>\", line 56, in preprocess\n",
      "    context_idx[i] = _get_word(token)\n",
      "IndexError: index 400 is out of bounds for axis 0 with size 400\n",
      "0it [00:00, ?it/s]\n"
     ]
    },
    {
     "name": "stdout",
     "output_type": "stream",
     "text": [
      "torch.Size([1, 242]) torch.Size([1, 21])\n"
     ]
    },
    {
     "name": "stderr",
     "output_type": "stream",
     "text": [
      "0it [00:00, ?it/s]"
     ]
    },
    {
     "name": "stdout",
     "output_type": "stream",
     "text": [
      "torch.Size([1, 242]) torch.Size([1, 242])\n",
      "question: Who discovered a statistical test of whether a given sample of data is drawn from a given probability distribution., \n",
      " context: The Anderson-Darling test is a statistical test of whether a given sample of data is drawn from a given probability distribution. In its basic form, the test assumes that there are no parameters to be estimated in the distribution being tested, in which case the test and its set of critical values is distribution-free. However, the test is most often used in contexts where a family of distributions is being tested, in which case the parameters of that family need to be estimated and account must be taken of this in adjusting either the test-statistic or its critical values. When applied to testing whether a normal distribution adequately describes a set of data, it is one of the most powerful statistical tools for detecting most departures from normality.K-sample Anderson-Darling tests are available for testing whether several collections of observations can be modelled as coming from a single population, where the distribution function does not have to be specified. In addition to its use as a test of fit for distributions, it can be used in parameter estimation as the basis for a form of minimum distance estimation procedure. The test is named after Theodore Wilbur Anderson (1918-2016) and Donald A. Darling (1915-2014), who invented it in 1952., \n",
      " model answer: ['Anderson', '-', 'Darling'], \n",
      " ground truth: [{'gender': 'male', 'ethnicity': 'unknown', 'nationality': 'United States of America', 'name': 'Theodore Wilbur Anderson'}, {'gender': 'unknown', 'ethnicity': 'unknown', 'nationality': 'unknown', 'name': 'Donald A. Darling'}]\n",
      " accuracy: 0.7023809523809523\n",
      "torch.Size([1, 157]) torch.Size([1, 26])\n"
     ]
    },
    {
     "name": "stderr",
     "output_type": "stream",
     "text": [
      "\n",
      "0it [00:00, ?it/s]"
     ]
    },
    {
     "name": "stdout",
     "output_type": "stream",
     "text": [
      "torch.Size([1, 157]) torch.Size([1, 157])\n",
      "question: Who discovered the chemical reaction of a trivalent phosphorus ester with an alkyl halide to form a pentavalent phosphorus species and another alkyl halide., \n",
      " context: The Michaelis-Arbuzov reaction (also called the Arbuzov reaction) is the chemical reaction of a trivalent phosphorus ester with an alkyl halide to form a pentavalent phosphorus species and another alkyl halide. The picture below shows the most common types of substrates undergoing the Arbuzov reaction; phosphite esters (1) react to form phosphonates (2), phosphonites (3) react to form phosphinates (4) and phosphinites (5) react to form phosphine oxides (6). The reaction was discovered by August Michaelis in 1898, and greatly explored by Aleksandr Arbuzov soon thereafter. This reaction is widely used for the synthesis of various phosphonates, phosphinates, and phosphine oxides. Several reviews have been published. The reaction also occurs for coordinated phosphite ligands, as illustrated by the demethylation of to give which is called the Klaui ligand., \n",
      " model answer: ['August', 'Michaelis'], \n",
      " ground truth: [{'gender': 'male', 'ethnicity': 'unknown', 'nationality': 'Russian Empire', 'name': 'Aleksandr Erminingeldovich Arbuzov'}, {'gender': 'male', 'ethnicity': 'unknown', 'nationality': 'Germany', 'name': 'August Karl Arnold Michaelis'}]\n",
      " accuracy: 0.7023809523809523\n",
      "torch.Size([1, 69]) torch.Size([1, 14])\n"
     ]
    },
    {
     "name": "stderr",
     "output_type": "stream",
     "text": [
      "\n",
      "0it [00:00, ?it/s]\n"
     ]
    },
    {
     "name": "stdout",
     "output_type": "stream",
     "text": [
      "torch.Size([1, 69]) torch.Size([1, 69])\n",
      "question: Who discovered the conversion of a carboxylic acid to its homologue.  , \n",
      " context: In organic chemistry, the Arndt-Eistert reaction is the conversion of a carboxylic acid to its homologue. Named for the German chemists Fritz Arndt (1885-1969) and Bernd Eistert (1902-1978), the method entails treating an acid chlorides with diazomethane. It is a popular method of producing b-amino acids from a-amino acids., \n",
      " model answer: ['Arndt', '-', 'Eistert'], \n",
      " ground truth: [{'gender': 'male', 'ethnicity': 'unknown', 'nationality': 'Germany', 'name': 'Fritz Arndt'}, {'gender': 'male', 'ethnicity': 'unknown', 'nationality': 'Germany', 'name': 'Bernd Eistert'}]\n",
      " accuracy: 0.7023809523809523\n",
      "torch.Size([1, 27]) torch.Size([1, 18])\n",
      "torch.Size([1, 27]) torch.Size([1, 27])\n",
      "question: Who discovered a list of scientific phenomena and concepts named after people (eponymous phenomena)., \n",
      " context: This is a list of scientific phenomena and concepts named after people (eponymous phenomena). For other lists of eponyms, see eponym., \n",
      " model answer: no answer, \n",
      " ground truth: [{'gender': 'male', 'ethnicity': 'unknown', 'nationality': 'Germany', 'name': 'Rudolf Arndt'}, {'gender': 'male', 'ethnicity': 'unknown', 'nationality': 'Germany', 'name': 'Hugo Paul Friedrich Schulz'}]\n",
      " accuracy: 0.7023809523809523\n"
     ]
    },
    {
     "name": "stderr",
     "output_type": "stream",
     "text": [
      "0it [00:00, ?it/s]\n"
     ]
    },
    {
     "name": "stdout",
     "output_type": "stream",
     "text": [
      "torch.Size([1, 309]) torch.Size([1, 13])\n"
     ]
    },
    {
     "name": "stderr",
     "output_type": "stream",
     "text": [
      "0it [00:00, ?it/s]"
     ]
    },
    {
     "name": "stdout",
     "output_type": "stream",
     "text": [
      "torch.Size([1, 309]) torch.Size([1, 309])\n",
      "question: Who discovered a model of interacting spins on a crystalline lattice., \n",
      " context: In statistical mechanics, the Potts model, a generalization of the Ising model, is a model of interacting spins on a crystalline lattice. By studying the Potts model, one may gain insight into the behaviour of ferromagnets and certain other phenomena of solid-state physics. The strength of the Potts model is not so much that it models these physical systems well; it is rather that the one-dimensional case is exactly solvable, and that it has a rich mathematical formulation that has been studied extensively. The model is named after Renfrey Potts, who described the model near the end of his 1951 Ph.D. thesis. The model was related to the \"planar Potts\" or \"clock model\", which was suggested to him by his advisor, Cyril Domb. The four-state planar Potts model is sometimes known as the Ashkin-Teller model, after Julius Ashkin and Edward Teller, who considered an equivalent model in 1943. The Potts model is related to, and generalized by, several other models, including the XY model, the Heisenberg model and the N-vector model. The infinite-range Potts model is known as the Kac model. When the spins are taken to interact in a non-Abelian manner, the model is related to the flux tube model, which is used to discuss confinement in quantum chromodynamics. Generalizations of the Potts model have also been used to model grain growth in metals and coarsening in foams. further generalization of these methods by James Glazier and Francois Graner, known as the cellular Potts model, has been used to simulate static and kinetic phenomena in foam and biological morphogenesis., \n",
      " model answer: ['Potts', 'model'], \n",
      " ground truth: [{'gender': 'male', 'ethnicity': 'unknown', 'nationality': 'United States of America', 'name': 'Julius Ashkin'}, {'gender': 'male', 'ethnicity': 'Jewish people', 'nationality': 'Hungary', 'name': 'Edward Teller'}]\n",
      " accuracy: 0.7023809523809523\n"
     ]
    },
    {
     "name": "stderr",
     "output_type": "stream",
     "text": [
      "\n",
      "Traceback (most recent call last):\n",
      "  File \"<ipython-input-144-0ab5a653ee6a>\", line 12, in <module>\n",
      "    model_ans = answer_question(example['context'], example['question'])\n",
      "  File \"<ipython-input-143-75f5d3a8a0fe>\", line 18, in answer_question\n",
      "    context_idxs, ques_idxs = preprocess(context, question, word2idx_dict)\n",
      "  File \"<ipython-input-8-21f0d84691f7>\", line 60, in preprocess\n",
      "    ques_idx[i] = _get_word(token)\n",
      "IndexError: index 50 is out of bounds for axis 0 with size 50\n",
      "0it [00:00, ?it/s]\n"
     ]
    },
    {
     "name": "stdout",
     "output_type": "stream",
     "text": [
      "torch.Size([1, 76]) torch.Size([1, 16])\n",
      "torch.Size([1, 76]) torch.Size([1, 76])\n",
      "question: Who discovered an organic reaction in which indigo is prepared from 2-nitrobenzaldehyde and acetone  , \n",
      " context: The Baeyer-Drewson indigo synthesis (1882) is an organic reaction in which indigo is prepared from 2-nitrobenzaldehyde and acetone The reaction was developed by von Baeyer in 1880 to produce the first synthetic indigo at laboratory scale. This procedure is not used at industrial scale. The reaction is classified as an aldol condensation. As a practical route to indigo, this method was displaced by routes from aniline., \n",
      " model answer: no answer, \n",
      " ground truth: [{'gender': 'male', 'ethnicity': 'unknown', 'nationality': 'German Empire', 'name': 'Johann Friedrich Wilhelm Adolf von Baeyer'}, {'gender': 'unknown', 'ethnicity': 'unknown', 'nationality': 'unknown', 'name': 'Viggo Drewsen'}]\n",
      " accuracy: 0.7023809523809523\n"
     ]
    },
    {
     "name": "stderr",
     "output_type": "stream",
     "text": [
      "0it [00:00, ?it/s]\n"
     ]
    },
    {
     "name": "stdout",
     "output_type": "stream",
     "text": [
      "torch.Size([1, 52]) torch.Size([1, 29])\n",
      "torch.Size([1, 52]) torch.Size([1, 52])\n",
      "question: Who discovered an organic reaction that forms an ester from a ketone or a lactone from a cyclic ketone, using peroxyacids or peroxides as the oxidant., \n",
      " context: The Baeyer-Villiger oxidation is an organic reaction that forms an ester from a ketone or a lactone from a cyclic ketone, using peroxyacids or peroxides as the oxidant. The reaction is named after Adolf von Baeyer and Victor Villiger who first reported the reaction in 1899., \n",
      " model answer: ['The', 'Baeyer', '-', 'Villiger', 'oxidation'], \n",
      " ground truth: [{'gender': 'male', 'ethnicity': 'unknown', 'nationality': 'German Empire', 'name': 'Johann Friedrich Wilhelm Adolf von Baeyer'}, {'gender': 'male', 'ethnicity': 'unknown', 'nationality': 'Switzerland', 'name': 'Victor Villiger'}]\n",
      " accuracy: 0.7023809523809523\n"
     ]
    },
    {
     "name": "stderr",
     "output_type": "stream",
     "text": [
      "0it [00:00, ?it/s]\n"
     ]
    },
    {
     "name": "stdout",
     "output_type": "stream",
     "text": [
      "torch.Size([1, 224]) torch.Size([1, 31])\n"
     ]
    },
    {
     "name": "stderr",
     "output_type": "stream",
     "text": [
      "0it [00:00, ?it/s]"
     ]
    },
    {
     "name": "stdout",
     "output_type": "stream",
     "text": [
      "torch.Size([1, 224]) torch.Size([1, 224])\n",
      "question: Who discovered observed with reaction rates for certain chemical reactions with certain substrates where the order in reactivity cannot be explained solely by an inductive effect of substituents., \n",
      " context: In organic chemistry, the Baker-Nathan effect is observed with reaction rates for certain chemical reactions with certain substrates where the order in reactivity cannot be explained solely by an inductive effect of substituents.This effect was described in 1935 by John W. Baker and W. S. Nathan. They examined the chemical kinetics for the reaction of pyridine with benzyl bromide and with a range of benzyl bromides with different para alkyl substituents (reaction product a pyridinium salt). The reaction is facilitated by electron-releasing substituents (the inductive effect) and in general the observed order (with decreasing reactivity) is tert-butyl isopropyl ethyl methyl. The observed order in this particular reaction however was methyl ethyl> isopropyl tert-butyl. In 1935 Baker and Nathan explained the observed difference in terms of a conjugation effect and in later years after the advent of hyperconjugation (1939) as its predecessor. fundamental problem with the effect is that differences in the observed order are relatively small and therefore difficult to measure accurately. Other researchers have found similar results or very different results. An alternative explanation for the effect is differential solvation as orders invert on going from the solution phase to the gas phase., \n",
      " model answer: ['Baker', '-', 'Nathan'], \n",
      " ground truth: [{'gender': 'male', 'ethnicity': 'unknown', 'nationality': 'unknown', 'name': 'John William Baker'}, {'gender': 'unknown', 'ethnicity': 'unknown', 'nationality': 'unknown', 'name': 'Wilfred S. Nathan'}]\n",
      " accuracy: 0.7023809523809523\n",
      "torch.Size([1, 104]) torch.Size([1, 16])\n"
     ]
    },
    {
     "name": "stderr",
     "output_type": "stream",
     "text": [
      "\n",
      "0it [00:00, ?it/s]"
     ]
    },
    {
     "name": "stdout",
     "output_type": "stream",
     "text": [
      "torch.Size([1, 104]) torch.Size([1, 104])\n",
      "question: Who discovered a chemical reaction whereby treatment of tosylhydrazones with strong base gives alkenes., \n",
      " context: The Bamford-Stevens reaction is a chemical reaction whereby treatment of tosylhydrazones with strong base gives alkenes. It is named for the British chemist William Randall Bamford and the Scottish chemist Thomas Stevens Stevens (1900-2000). The usage of aprotic solvents gives predominantly Z-alkenes, while protic solvent gives a mixture of E- and Z-alkenes. As an alkene-generating transformation, the Bamford-Stevens reaction has broad utility in synthetic methodology and complex molecule synthesis. The treatment of tosylhydrazones with alkyl lithium reagents is called the Shapiro reaction., \n",
      " model answer: ['Bamford', '-', 'Stevens'], \n",
      " ground truth: [{'gender': 'unknown', 'ethnicity': 'unknown', 'nationality': 'unknown', 'name': 'William Randall Bamford'}, {'gender': 'male', 'ethnicity': 'unknown', 'nationality': 'unknown', 'name': 'Thomas Stevens Stevens'}]\n",
      " accuracy: 0.7023809523809523\n",
      "torch.Size([1, 72]) torch.Size([1, 27])\n"
     ]
    },
    {
     "name": "stderr",
     "output_type": "stream",
     "text": [
      "\n",
      "0it [00:00, ?it/s]"
     ]
    },
    {
     "name": "stdout",
     "output_type": "stream",
     "text": [
      "torch.Size([1, 72]) torch.Size([1, 72])\n",
      "question: Who discovered an organic reaction in which a hydroxy functional group in an organic compound is replaced by a hydrogen to give an alkyl group., \n",
      " context: The Barton-McCombie deoxygenation is an organic reaction in which a hydroxy functional group in an organic compound is replaced by a hydrogen to give an alkyl group. It is named after British chemists Sir Derek Harold Richard Barton (1918-1998) and Stuart W. McCombie. This deoxygenation reaction is a radical substitution. In the related Barton decarboxylation the reactant is a carboxylic acid., \n",
      " model answer: ['The', 'Barton', '-', 'McCombie', 'deoxygenation'], \n",
      " ground truth: [{'gender': 'male', 'ethnicity': 'unknown', 'nationality': 'United Kingdom', 'name': 'Derek Harold Richard Barton'}, {'gender': 'unknown', 'ethnicity': 'unknown', 'nationality': 'unknown', 'name': 'Stuart W. McCombie'}]\n",
      " accuracy: 0.7023809523809523\n",
      "torch.Size([1, 252]) torch.Size([1, 28])\n"
     ]
    },
    {
     "name": "stderr",
     "output_type": "stream",
     "text": [
      "\n",
      "0it [00:00, ?it/s]"
     ]
    },
    {
     "name": "stdout",
     "output_type": "stream",
     "text": [
      "torch.Size([1, 252]) torch.Size([1, 252])\n",
      "question: Who discovered a carbon-carbon bond forming reaction between the a-position of an activated alkene and a carbon electrophile such as an aldehyde., \n",
      " context: The Baylis-Hillman reaction is a carbon-carbon bond forming reaction between the a-position of an activated alkene and a carbon electrophile such as an aldehyde. Employing a nucleophilic catalyst, such as a tertiary amine and phosphine, this reaction provides a densely functionalized product (e.g. functionalized allyl alcohol in the case of aldehyde as the electrophile). It is named for Anthony B. Baylis and Melville E. D. Hillman, two of the chemists who developed this reaction while working at Celanese. This reaction is also known as the Morita-Baylis-Hillman reaction or MBH reaction, as Morita had published earlier work on it. DABCO is one of the most frequently used tertiary amine catalysts for this reaction. In addition, nucleophilic amines such as DMAP and DBU as well as phosphines have been found to successfully catalyze this reaction. MBH reaction has several advantages as a useful synthetic method: 1) It is an atom-economic coupling of easily prepared starting materials. 2) Reaction of a pro-chiral electrophile generates a chiral center, therefore an asymmetric synthesis is possible. 3) Reaction products usually contain multiple functionalities in a proximity so that a variety of further transformations are possible. 4) It can employ a nucleophilic organo-catalytic system without the use of heavy metal under mild conditions. Several reviews have been written., \n",
      " model answer: ['Baylis', '-', 'Hillman'], \n",
      " ground truth: [{'gender': 'unknown', 'ethnicity': 'unknown', 'nationality': 'unknown', 'name': 'Anthony B. Baylis'}, {'gender': 'unknown', 'ethnicity': 'unknown', 'nationality': 'unknown', 'name': 'Melville E. D. Hillman'}]\n",
      " accuracy: 0.7023809523809523\n",
      "torch.Size([1, 101]) torch.Size([1, 18])\n"
     ]
    },
    {
     "name": "stderr",
     "output_type": "stream",
     "text": [
      "\n",
      "0it [00:00, ?it/s]"
     ]
    },
    {
     "name": "stdout",
     "output_type": "stream",
     "text": [
      "torch.Size([1, 101]) torch.Size([1, 101])\n",
      "question: Who discovered the first microscopic theory of superconductivity since  Heike Kamerlingh Onnes's 1911 discovery., \n",
      " context: BCS theory or Bardeen-Cooper-Schrieffer theory (named after John Bardeen, Leon Cooper, and John Robert Schrieffer) is the first microscopic theory of superconductivity since Heike Kamerlingh Onnes's 1911 discovery. The theory describes superconductivity as a microscopic effect caused by a condensation of Cooper pairs. The theory is also used in nuclear physics to describe the pairing interaction between nucleons in an atomic nucleus. It was proposed by Bardeen, Cooper, and Schrieffer in 1957; they received the Nobel Prize in Physics for this theory in 1972., \n",
      " model answer: ['Bardeen', '-', 'Cooper', '-', 'Schrieffer', 'theory'], \n",
      " ground truth: [{'gender': 'male', 'ethnicity': 'unknown', 'nationality': 'United States of America', 'name': 'John Bardeen'}, {'gender': 'male', 'ethnicity': 'unknown', 'nationality': 'United States of America', 'name': 'Leon Cooper'}, {'gender': 'male', 'ethnicity': 'unknown', 'nationality': 'United States of America', 'name': 'Robert Schrieffer'}]\n",
      " accuracy: 0.7023809523809523\n",
      "torch.Size([1, 88]) torch.Size([1, 5])\n"
     ]
    },
    {
     "name": "stderr",
     "output_type": "stream",
     "text": [
      "\n",
      "0it [00:00, ?it/s]"
     ]
    },
    {
     "name": "stdout",
     "output_type": "stream",
     "text": [
      "torch.Size([1, 88]) torch.Size([1, 88])\n",
      "question: Who discovered travelling., \n",
      " context: The Beer-Lambert law, also known as Beer's law, the Lambert-Beer law, or the Beer-Lambert-Bouguer law relates the attenuation of light to the properties of the material through which the light is travelling. The law is commonly applied to chemical analysis measurements and used in understanding attenuation in physical optics, for photons, neutrons, or rarefied gases. In mathematical physics, this law arises as a solution of the BGK equation., \n",
      " model answer: no answer, \n",
      " ground truth: [{'gender': 'male', 'ethnicity': 'unknown', 'nationality': 'Germany', 'name': 'August Beer'}]\n",
      " accuracy: 0.7023809523809523\n",
      "torch.Size([1, 203]) torch.Size([1, 31])\n"
     ]
    },
    {
     "name": "stderr",
     "output_type": "stream",
     "text": [
      "\n",
      "0it [00:00, ?it/s]"
     ]
    },
    {
     "name": "stdout",
     "output_type": "stream",
     "text": [
      "torch.Size([1, 203]) torch.Size([1, 203])\n",
      "question: Who discovered one of a class of reactions that serve as a classical example of non-equilibrium thermodynamics, resulting in the establishment of a nonlinear chemical oscillator., \n",
      " context: Belousov-Zhabotinsky reaction, or BZ reaction, is one of a class of reactions that serve as a classical example of non-equilibrium thermodynamics, resulting in the establishment of a nonlinear chemical oscillator. The only common element in these oscillators is the inclusion of bromine and an acid. The reactions are important to theoretical chemistry in that they show that chemical reactions do not have to be dominated by equilibrium thermodynamic behavior. These reactions are far from equilibrium and remain so for a significant length of time and evolve chaotically. In this sense, they provide an interesting chemical model of nonequilibrium biological phenomena; as such, mathematical models and simulations of the BZ reactions themselves are of theoretical interest, showing phenomenon as noise-induced order. An essential aspect of the BZ reaction is its so called \"excitability\"; under the influence of stimuli, patterns develop in what would otherwise be a perfectly quiescent medium. Some clock reactions such as Briggs-Rauscher and BZ using the tris(bipyridine)ruthenium(II) chloride as catalyst can be excited into self-organising activity through the influence of light., \n",
      " model answer: ['Belousov', '-', 'Zhabotinsky', 'reaction'], \n",
      " ground truth: [{'gender': 'male', 'ethnicity': 'unknown', 'nationality': 'Soviet Union', 'name': 'Boris Pavlovich Belousov'}, {'gender': 'unknown', 'ethnicity': 'unknown', 'nationality': 'unknown', 'name': 'Anatol Markovich Zhabotinskii'}]\n",
      " accuracy: 0.7023809523809523\n",
      "torch.Size([1, 203]) torch.Size([1, 31])\n"
     ]
    },
    {
     "name": "stderr",
     "output_type": "stream",
     "text": [
      "\n",
      "0it [00:00, ?it/s]"
     ]
    },
    {
     "name": "stdout",
     "output_type": "stream",
     "text": [
      "torch.Size([1, 203]) torch.Size([1, 203])\n",
      "question: Who discovered one of a class of reactions that serve as a classical example of non-equilibrium thermodynamics, resulting in the establishment of a nonlinear chemical oscillator., \n",
      " context: Belousov-Zhabotinsky reaction, or BZ reaction, is one of a class of reactions that serve as a classical example of non-equilibrium thermodynamics, resulting in the establishment of a nonlinear chemical oscillator. The only common element in these oscillators is the inclusion of bromine and an acid. The reactions are important to theoretical chemistry in that they show that chemical reactions do not have to be dominated by equilibrium thermodynamic behavior. These reactions are far from equilibrium and remain so for a significant length of time and evolve chaotically. In this sense, they provide an interesting chemical model of nonequilibrium biological phenomena; as such, mathematical models and simulations of the BZ reactions themselves are of theoretical interest, showing phenomenon as noise-induced order. An essential aspect of the BZ reaction is its so called \"excitability\"; under the influence of stimuli, patterns develop in what would otherwise be a perfectly quiescent medium. Some clock reactions such as Briggs-Rauscher and BZ using the tris(bipyridine)ruthenium(II) chloride as catalyst can be excited into self-organising activity through the influence of light., \n",
      " model answer: ['Belousov', '-', 'Zhabotinsky', 'reaction'], \n",
      " ground truth: [{'gender': 'male', 'ethnicity': 'unknown', 'nationality': 'Soviet Union', 'name': 'Boris Pavlovich Belousov'}, {'gender': 'unknown', 'ethnicity': 'unknown', 'nationality': 'unknown', 'name': 'Anatol Markovich Zhabotinskii'}]\n",
      " accuracy: 0.7023809523809523\n",
      "torch.Size([1, 172]) torch.Size([1, 20])\n"
     ]
    },
    {
     "name": "stderr",
     "output_type": "stream",
     "text": [
      "\n",
      "0it [00:00, ?it/s]"
     ]
    },
    {
     "name": "stdout",
     "output_type": "stream",
     "text": [
      "torch.Size([1, 172]) torch.Size([1, 172])\n",
      "question: Who discovered a phase transition of the two-dimensional (2-D) XY model in statistical physics., \n",
      " context: The Berezinskii-Kosterlitz-Thouless transition (BKT transition) is a phase transition of the two-dimensional (2-D) XY model in statistical physics. It is a transition from bound vortex-antivortex pairs at low temperatures to unpaired vortices and anti-vortices at some critical temperature. The transition is named for condensed matter physicists Vadim Berezinskii, John M. Kosterlitz and David J. Thouless. BKT transitions can be found in several 2-D systems in condensed matter physics that are approximated by the XY model, including Josephson junction arrays and thin disordered superconducting granular films. More recently, the term has been applied by the 2-D superconductor insulator transition community to the pinning of Cooper pairs in the insulating regime, due to similarities with the original vortex BKT transition. Work on the transition led to the 2016 Nobel Prize in Physics being awarded to Thouless, Kosterlitz. The coinventor of the transition Vadim Berezinskii deceased in 1980., \n",
      " model answer: no answer, \n",
      " ground truth: [{'gender': 'unknown', 'ethnicity': 'unknown', 'nationality': 'unknown', 'name': 'Veniamin L. Berezinsky'}, {'gender': 'unknown', 'ethnicity': 'unknown', 'nationality': 'unknown', 'name': 'John M. Kosterlitz'}, {'gender': 'unknown', 'ethnicity': 'unknown', 'nationality': 'unknown', 'name': 'David J. Thouless'}]\n",
      " accuracy: 0.7023809523809523\n",
      "torch.Size([1, 158]) torch.Size([1, 10])\n"
     ]
    },
    {
     "name": "stderr",
     "output_type": "stream",
     "text": [
      "\n",
      "0it [00:00, ?it/s]"
     ]
    },
    {
     "name": "stdout",
     "output_type": "stream",
     "text": [
      "torch.Size([1, 158]) torch.Size([1, 158])\n",
      "question: Who discovered the benzyl ester of chloroformic acid., \n",
      " context: Benzyl chloroformate, also known as benzyl chlorocarbonate or Z-chloride, is the benzyl ester of chloroformic acid. It can be also described as the chloride of the benzyloxycarbonyl (Cbz or Z) group. In its pure form it is a water-sensitive oily colorless liquid, although impure samples usually appear yellow. It possesses a characteristic pungent odor and degrades in contact with water. The compound was first prepared by Leonidas Zervas in the early 1930s who used it for the introduction of the benzyloxycarbonyl protecting group, which became the basis of the Begmann-Zervas carboxybenzyl method of peptide synthesis he developed with Max Bergmann. This was the first successful method of controlled peptide chemical synthesis and for twenty years it was the dominant procedure used worldwide until the 1950s. To this day, benzyl chloroformate is often used for amine group protection., \n",
      " model answer: ['Benzyl', 'chloroformate'], \n",
      " ground truth: [{'gender': 'male', 'ethnicity': 'unknown', 'nationality': 'United States of America', 'name': 'Max Bergmann'}, {'gender': 'male', 'ethnicity': 'Greeks', 'nationality': 'Kingdom of Greece', 'name': 'Leonidas Zervas'}]\n",
      " accuracy: 0.7023809523809523\n",
      "torch.Size([1, 296]) torch.Size([1, 13])\n"
     ]
    },
    {
     "name": "stderr",
     "output_type": "stream",
     "text": [
      "\n",
      "0it [00:00, ?it/s]"
     ]
    },
    {
     "name": "stdout",
     "output_type": "stream",
     "text": [
      "torch.Size([1, 296]) torch.Size([1, 296])\n",
      "question: Who discovered a change in hue perception as light intensity changes., \n",
      " context: The Bezold-Brucke shift or luminance-on-hue effect is a change in hue perception as light intensity changes. As intensity increases, spectral colors shift more towards blue (if below 500 nm) or yellow (if above 500 nm). At lower intensities, the red/green axis dominates. This means that the Reds become Yellower with increasing brightness. Light may change in the perceived hue as its brightness changes, despite the fact that it retains a constant spectral composition. It was discovered by Wilhelm von Bezold and M.E. Brucke. The shift in the hue of the colors that occur as the intensity of the corresponding energy change is materially increased, except in some cases like the change for certain invariable hues (approximating the psychologically primary hues). Both Bezold Brucke worked on the Bezold-Brucke effect and gave important contributions in the field of optical illusions.This effect is a problem for simple HSV-style color models, which treat hue and intensity as independent parameters. In contrast, color appearance models try to factor in this effect. The shift in the hue is also accompanied by the changes in the perceived saturation. As the brightness of the color stimuli increases, their color strength also increases to a maximum point and then decreases again; in such a way that it is still wavelength specific. This can, to an extent, be considered as an inverse of the Helmholtz-Kohlrausch effect. In the case of the Helmholtz Kohlrausch effect, the partially desaturated stimulus is seen to be brighter than fully saturated or achromatic stimulus., \n",
      " model answer: no answer, \n",
      " ground truth: [{'gender': 'male', 'ethnicity': 'unknown', 'nationality': 'Germany', 'name': 'Johann Friedrich Wilhelm von Bezold'}, {'gender': 'male', 'ethnicity': 'unknown', 'nationality': 'Germany', 'name': 'Ernst Wilhelm von Brucke'}]\n",
      " accuracy: 0.7023809523809523\n"
     ]
    },
    {
     "name": "stderr",
     "output_type": "stream",
     "text": [
      "0it [00:00, ?it/s]\n"
     ]
    },
    {
     "name": "stdout",
     "output_type": "stream",
     "text": [
      "torch.Size([1, 293]) torch.Size([1, 20])\n"
     ]
    },
    {
     "name": "stderr",
     "output_type": "stream",
     "text": [
      "0it [00:00, ?it/s]"
     ]
    },
    {
     "name": "stdout",
     "output_type": "stream",
     "text": [
      "torch.Size([1, 293]) torch.Size([1, 293])\n",
      "question: Who discovered an electrical phenomenon that produces an ionic wind that transfers its momentum to surrounding neutral particles., \n",
      " context: The Biefeld-Brown effect is an electrical phenomenon that produces an ionic wind that transfers its momentum to surrounding neutral particles. It describes a force observed on an asymmetric capacitor when high voltage is applied to the capacitor's electrodes. Once suitably charged up to high DC potentials, a thrust at the negative terminal, pushing it away from the positive terminal, is generated. The effect was named by inventor Thomas Townsend Brown who claimed that he did a series of experiments with professor of astronomy Paul Alfred Biefeld, a former teacher of Brown whom Brown claimed was his mentor and co-experimenter at Denison University in Ohio.The use of an asymmetric capacitor, with the negative electrode being larger than the positive electrode, allowed for more thrust to be produced in the direction from the low-flux to the high-flux region compared to a conventional capacitor. These asymmetric capacitors became known as Asymmetrical Capacitor Thrusters (ACT). The Biefeld-Brown effect can be observed in ionocrafts and lifters, which utilize the effect to produce thrust in the air without requiring any combustion or moving parts.In his 1960 patent titled \"Electrokinetic Apparatus,\" Brown refers to electrokinesis to describe the Biefeld-Brown effect, linking the phenomenon to the field of electrohydrodynamics (EHD). Brown also believed the Biefeld-Brown effect could produce an anti-gravity force, referred to as \"electrogravitics\" based on it being an electricity/gravity phenomenon. However, there is little evidence that supports Brown's claim on the effect's anti-gravity properties., \n",
      " model answer: ['The', 'Biefeld', '-', 'Brown'], \n",
      " ground truth: [{'gender': 'male', 'ethnicity': 'unknown', 'nationality': 'United States of America', 'name': 'Paul Alfred Biefeld'}, {'gender': 'male', 'ethnicity': 'unknown', 'nationality': 'United States of America', 'name': 'Thomas Townsend Brown'}]\n",
      " accuracy: 0.7023809523809523\n",
      "torch.Size([1, 132]) torch.Size([1, 16])\n"
     ]
    },
    {
     "name": "stderr",
     "output_type": "stream",
     "text": [
      "\n",
      "0it [00:00, ?it/s]"
     ]
    },
    {
     "name": "stdout",
     "output_type": "stream",
     "text": [
      "torch.Size([1, 132]) torch.Size([1, 132])\n",
      "question: Who discovered an equation describing the magnetic field generated by a constant electric current., \n",
      " context: In physics, specifically electromagnetism, the Biot-Savart law or is an equation describing the magnetic field generated by a constant electric current. It relates the magnetic field to the magnitude, direction, length, and proximity of the electric current. The Biot-Savart law is fundamental to magnetostatics, playing a role similar to that of Coulomb's law in electrostatics. When magnetostatics does not apply, the Biot-Savart law should be replaced by Jefimenko's equations. The law is valid in the magnetostatic approximation, and consistent with both Ampere's circuital law and Gauss's law for magnetism. It is named after Jean-Baptiste Biot and Felix Savart, who discovered this relationship in 1820., \n",
      " model answer: ['electromagnetism', ',', 'the', 'Biot', '-', 'Savart', 'law'], \n",
      " ground truth: [{'gender': 'unknown', 'ethnicity': 'unknown', 'nationality': 'unknown', 'name': 'Jean-Baptiste Biot'}, {'gender': 'male', 'ethnicity': 'unknown', 'nationality': 'France', 'name': 'Felix Savart'}]\n",
      " accuracy: 0.7023809523809523\n",
      "torch.Size([1, 72]) torch.Size([1, 23])\n"
     ]
    },
    {
     "name": "stderr",
     "output_type": "stream",
     "text": [
      "\n",
      "0it [00:00, ?it/s]"
     ]
    },
    {
     "name": "stdout",
     "output_type": "stream",
     "text": [
      "torch.Size([1, 72]) torch.Size([1, 72])\n",
      "question: Who discovered an intramolecular electrophilic aromatic substitution reaction that allows for the cyclization of b-arylethylamides or b-arylethylcarbamates., \n",
      " context: The Bischler-Napieralski reaction is an intramolecular electrophilic aromatic substitution reaction that allows for the cyclization of b-arylethylamides or b-arylethylcarbamates. It was first discovered in 1893 by August Bischler and Bernard Napieralski, in affiliation with Basle Chemical Works and the University of Zurich. The reaction is most notably used in the synthesis of dihydroisoquinolines, which can be subsequently oxidized to isoquinolines., \n",
      " model answer: ['August', 'Bischler', 'and', 'Bernard', 'Napieralski'], \n",
      " ground truth: [{'gender': 'male', 'ethnicity': 'unknown', 'nationality': 'Switzerland', 'name': 'August Bischler'}, {'gender': 'unknown', 'ethnicity': 'unknown', 'nationality': 'unknown', 'name': 'Bernard Napieralski'}]\n",
      " accuracy: 0.7023809523809523\n",
      "torch.Size([1, 141]) torch.Size([1, 26])\n"
     ]
    },
    {
     "name": "stderr",
     "output_type": "stream",
     "text": [
      "\n",
      "0it [00:00, ?it/s]"
     ]
    },
    {
     "name": "stdout",
     "output_type": "stream",
     "text": [
      "torch.Size([1, 141]) torch.Size([1, 141])\n",
      "question: Who discovered a mechanism for the extraction of energy from a rotating black hole, introduced by Roger Blandford and Roman Znajek in 1977., \n",
      " context: The Blandford-Znajek process is a mechanism for the extraction of energy from a rotating black hole, introduced by Roger Blandford and Roman Znajek in 1977. This mechanism correctly describes how astrophysical jets are formed around spinning supermassive black holes. This is one of the mechanisms that power quasars, or rapidly accreting supermassive black holes. Generally speaking, it was demonstrated that the power output of the accretion disk is significantly larger than the power output extracted directly from the hole, through its ergosphere. Hence, the presence (or not) of a poloidal magnetic field around the black hole is not determinant in its overall power output. It was also suggested that the mechanism plays a crucial role as a central engine for a gamma-ray burst., \n",
      " model answer: ['The', 'Blandford', '-', 'Znajek'], \n",
      " ground truth: [{'gender': 'male', 'ethnicity': 'unknown', 'nationality': 'United Kingdom', 'name': 'Roger D. Blandford'}, {'gender': 'unknown', 'ethnicity': 'unknown', 'nationality': 'unknown', 'name': 'Roman L. Znajek'}]\n",
      " accuracy: 0.7023809523809523\n",
      "torch.Size([1, 165]) torch.Size([1, 25])\n"
     ]
    },
    {
     "name": "stderr",
     "output_type": "stream",
     "text": [
      "\n",
      "0it [00:00, ?it/s]"
     ]
    },
    {
     "name": "stdout",
     "output_type": "stream",
     "text": [
      "torch.Size([1, 165]) torch.Size([1, 165])\n",
      "question: Who discovered the largest mass that an isothermal gas sphere embedded in a pressurized medium can have while still remaining in hydrostatic equilibrium., \n",
      " context: In astrophysics, the Bonnor-Ebert mass is the largest mass that an isothermal gas sphere embedded in a pressurized medium can have while still remaining in hydrostatic equilibrium. Clouds of gas with masses greater than the Bonnor-Ebert mass must inevitably undergo gravitational collapse to form much smaller and denser objects. As the gravitational collapse of an interstellar gas cloud is the first stage in the formation of a protostar, the Bonnor-Ebert mass is an important quantity in the study of star formation.For a gas cloud embedded in a medium with a gas pressure the Bonnor-Ebert mass is given by 225 32 \\over \\over \\over where is the gravitational constant and is the isothermal sound speed \\gamma with \\mu as the molecular mass. a is a dimensionless constant which varies based on the density distribution of the cloud. For a uniform mass density and for a centrally peaked density 1.67, \n",
      " model answer: ['Bonnor', '-', 'Ebert', 'mass'], \n",
      " ground truth: [{'gender': 'unknown', 'ethnicity': 'unknown', 'nationality': 'unknown', 'name': 'William Bowen Bonnor'}, {'gender': 'unknown', 'ethnicity': 'unknown', 'nationality': 'unknown', 'name': 'Rolf Ebert'}]\n",
      " accuracy: 0.7023809523809523\n",
      "torch.Size([1, 140]) torch.Size([1, 10])\n"
     ]
    },
    {
     "name": "stderr",
     "output_type": "stream",
     "text": [
      "\n",
      "0it [00:00, ?it/s]"
     ]
    },
    {
     "name": "stdout",
     "output_type": "stream",
     "text": [
      "torch.Size([1, 140]) torch.Size([1, 140])\n",
      "question: Who discovered a theorem about sequences of events., \n",
      " context: In probability theory, the Borel-Cantelli lemma is a theorem about sequences of events. In general, it is a result in measure theory. It is named after Emile Borel and Francesco Paolo Cantelli, who gave statement to the lemma in the first decades of the 20th century. related result, sometimes called the second Borel-Cantelli lemma, is a partial converse of the first Borel-Cantelli lemma. The lemma states that, under certain conditions, an event will have probability of either zero or one. Accordingly, it is the best-known of a class of similar theorems, known as zero-one laws. Other examples include Kolmogorov's zero-one law and the Hewitt-Savage zero-one law., \n",
      " model answer: ['the', 'Borel', '-', 'Cantelli', 'lemma'], \n",
      " ground truth: [{'gender': 'male', 'ethnicity': 'unknown', 'nationality': 'France', 'name': 'Felix Edouard Justin Emile Borel'}, {'gender': 'male', 'ethnicity': 'unknown', 'nationality': 'Italy', 'name': 'Francesco Paolo Cantelli'}]\n",
      " accuracy: 0.7023809523809523\n",
      "torch.Size([1, 140]) torch.Size([1, 10])\n"
     ]
    },
    {
     "name": "stderr",
     "output_type": "stream",
     "text": [
      "\n",
      "0it [00:00, ?it/s]"
     ]
    },
    {
     "name": "stdout",
     "output_type": "stream",
     "text": [
      "torch.Size([1, 140]) torch.Size([1, 140])\n",
      "question: Who discovered a theorem about sequences of events., \n",
      " context: In probability theory, the Borel-Cantelli lemma is a theorem about sequences of events. In general, it is a result in measure theory. It is named after Emile Borel and Francesco Paolo Cantelli, who gave statement to the lemma in the first decades of the 20th century. related result, sometimes called the second Borel-Cantelli lemma, is a partial converse of the first Borel-Cantelli lemma. The lemma states that, under certain conditions, an event will have probability of either zero or one. Accordingly, it is the best-known of a class of similar theorems, known as zero-one laws. Other examples include Kolmogorov's zero-one law and the Hewitt-Savage zero-one law., \n",
      " model answer: ['the', 'Borel', '-', 'Cantelli', 'lemma'], \n",
      " ground truth: [{'gender': 'male', 'ethnicity': 'unknown', 'nationality': 'France', 'name': 'Felix Edouard Justin Emile Borel'}, {'gender': 'male', 'ethnicity': 'unknown', 'nationality': 'Italy', 'name': 'Francesco Paolo Cantelli'}]\n",
      " accuracy: 0.7023809523809523\n"
     ]
    },
    {
     "name": "stderr",
     "output_type": "stream",
     "text": [
      "\n",
      "Traceback (most recent call last):\n",
      "  File \"<ipython-input-144-0ab5a653ee6a>\", line 12, in <module>\n",
      "    model_ans = answer_question(example['context'], example['question'])\n",
      "  File \"<ipython-input-143-75f5d3a8a0fe>\", line 18, in answer_question\n",
      "    context_idxs, ques_idxs = preprocess(context, question, word2idx_dict)\n",
      "  File \"<ipython-input-8-21f0d84691f7>\", line 56, in preprocess\n",
      "    context_idx[i] = _get_word(token)\n",
      "IndexError: index 400 is out of bounds for axis 0 with size 400\n",
      "0it [00:00, ?it/s]\n"
     ]
    },
    {
     "name": "stdout",
     "output_type": "stream",
     "text": [
      "torch.Size([1, 239]) torch.Size([1, 12])\n"
     ]
    },
    {
     "name": "stderr",
     "output_type": "stream",
     "text": [
      "0it [00:00, ?it/s]"
     ]
    },
    {
     "name": "stdout",
     "output_type": "stream",
     "text": [
      "torch.Size([1, 239]) torch.Size([1, 239])\n",
      "question: Who discovered the best known mathematical approximation in molecular dynamics., \n",
      " context: In quantum chemistry and molecular physics, the Born-Oppenheimer (BO) approximation is the best known mathematical approximation in molecular dynamics. Specifically, it is the assumption that the wave functions of atomic nuclei and electrons in a molecule can be treated separately, based on the fact that the nuclei are much heavier than the electrons. The approach is named after Max Born and J. Robert Oppenheimer who proposed it in 1927, in the early period of quantum mechanics. The approximation is widely used in quantum chemistry to speed up the computation of molecular wavefunctions and other properties for large molecules. There are cases where the assumption of separable motion no longer holds, which make the approximation lose validity (it is said to \"break down\"), but is then often used as a starting point for more refined methods. In molecular spectroscopy, using the BO approximation means considering molecular energy as a sum of independent terms, e.g.: total electronic vibrational rotational nuclear spin These terms are of different orders of magnitude and the nuclear spin energy is so small that it is often omitted. The electronic energies electronic consist of kinetic energies, interelectronic repulsions, internuclear repulsions, and electron-nuclear attractions, which are the terms typically included when computing the electronic structure of molecules., \n",
      " model answer: ['Born', '-', 'Oppenheimer'], \n",
      " ground truth: [{'gender': 'male', 'ethnicity': 'Jewish people', 'nationality': 'German Reich', 'name': 'Max Born'}, {'gender': 'unknown', 'ethnicity': 'unknown', 'nationality': 'unknown', 'name': 'Robert Oppenheimer'}]\n",
      " accuracy: 0.7023809523809523\n",
      "torch.Size([1, 167]) torch.Size([1, 26])\n"
     ]
    },
    {
     "name": "stderr",
     "output_type": "stream",
     "text": [
      "\n",
      "0it [00:00, ?it/s]"
     ]
    },
    {
     "name": "stdout",
     "output_type": "stream",
     "text": [
      "torch.Size([1, 167]) torch.Size([1, 167])\n",
      "question: Who discovered a name reaction in organic chemistry whereby silver salts of carboxylic acids react with a halogen to produce an organic halide.  , \n",
      " context: The Hunsdiecker reaction (also called the Borodin reaction or the Hunsdiecker-Borodin reaction) is a name reaction in organic chemistry whereby silver salts of carboxylic acids react with a halogen to produce an organic halide. It is an example of both a decarboxylation and a halogenation reaction as the product has one fewer carbon atoms than the starting material (lost as carbon dioxide) and a halogen atom is introduced its place. The reaction was first demonstrated by Alexander Borodin in his 1861 reports of the preparation of methyl bromide (CH3Br) from silver acetate (CH3CO2Ag). Shortly after, the approach was applied to the degradation of fatty acids in the laboratory of Adolf Lieben. However, it is named for Clare Hunsdiecker and her husband Heinz Hunsdiecker, whose work in the 1930s developed it into a general method. Several reviews have been published, and a catalytic approach has been developed., \n",
      " model answer: ['Hunsdiecker'], \n",
      " ground truth: [{'gender': 'unknown', 'ethnicity': 'unknown', 'nationality': 'unknown', 'name': 'Alexander Borodin'}, {'gender': 'male', 'ethnicity': 'unknown', 'nationality': 'Germany', 'name': 'Hienz Hunsdiecker'}, {'gender': 'female', 'ethnicity': 'unknown', 'nationality': 'unknown', 'name': 'Clare Hunsdiecker'}]\n",
      " accuracy: 0.7023809523809523\n",
      "torch.Size([1, 156]) torch.Size([1, 45])\n"
     ]
    },
    {
     "name": "stderr",
     "output_type": "stream",
     "text": [
      "\n",
      "0it [00:00, ?it/s]"
     ]
    },
    {
     "name": "stdout",
     "output_type": "stream",
     "text": [
      "torch.Size([1, 156]) torch.Size([1, 156])\n",
      "question: Who discovered a state of matter (also called the fifth state of matter) which is typically formed when a gas of bosons at low densities is cooled to temperatures very close to absolute zero (-273.15 degC, -459.67 degF)., \n",
      " context: In condensed matter physics, a Bose-Einstein condensate (BEC) is a state of matter (also called the fifth state of matter) which is typically formed when a gas of bosons at low densities is cooled to temperatures very close to absolute zero (-273.15 degC, -459.67 degF). Under such conditions, a large fraction of bosons occupy the lowest quantum state, at which point microscopic quantum mechanical phenomena, particularly wavefunction interference, become apparent macroscopically. BEC is formed by cooling a gas of extremely low density (about one-hundred-thousandth (1/100,000) the density of normal air) to ultra-low temperatures. This state was first predicted, generally, in 1924-1925 by Albert Einstein following and crediting a pioneering paper by Satyendra Nath Bose on the new field now known as quantum statistics., \n",
      " model answer: no answer, \n",
      " ground truth: [{'gender': 'male', 'ethnicity': 'unknown', 'nationality': 'British India', 'name': 'Satyendra Nath Bose'}, {'gender': 'male', 'ethnicity': 'Jewish people', 'nationality': 'German Empire', 'name': 'Albert Einstein'}]\n",
      " accuracy: 0.7023809523809523\n",
      "torch.Size([1, 122]) torch.Size([1, 19])\n"
     ]
    },
    {
     "name": "stderr",
     "output_type": "stream",
     "text": [
      "\n",
      "0it [00:00, ?it/s]"
     ]
    },
    {
     "name": "stdout",
     "output_type": "stream",
     "text": [
      "torch.Size([1, 122]) torch.Size([1, 122])\n",
      "question: Who discovered a theorem that gives the angles for coherent scattering of waves from a crystal lattice., \n",
      " context: In physics, Bragg's law, Wulff-Bragg's condition or Laue-Bragg interference, a special case of Laue diffraction, gives the angles for coherent scattering of waves from a crystal lattice. It encompasses the superposition of wave fronts scattered by lattice planes, leading to a strict relation between wavelength and scattering angle, or else to the wavevector transfer with respect to the crystal lattice. Such law had initially been formulated for X-rays upon crystals but is moreover relevant for all kind of quantum beams, such as neutron and electron waves on atomic spacing, as well as for visual light on artificial periodic micros-scale lattices., \n",
      " model answer: ['Wulff', '-', 'Bragg'], \n",
      " ground truth: [{'gender': 'male', 'ethnicity': 'English people', 'nationality': 'United Kingdom', 'name': 'William Henry Bragg'}, {'gender': 'unknown', 'ethnicity': 'unknown', 'nationality': 'unknown', 'name': 'his son William Lawrence Bragg'}]\n",
      " accuracy: 0.7023809523809523\n",
      "torch.Size([1, 168]) torch.Size([1, 10])\n"
     ]
    },
    {
     "name": "stderr",
     "output_type": "stream",
     "text": [
      "\n",
      "0it [00:00, ?it/s]"
     ]
    },
    {
     "name": "stdout",
     "output_type": "stream",
     "text": [
      "torch.Size([1, 168]) torch.Size([1, 168])\n",
      "question: Who discovered a theoretical framework to explain gravitation., \n",
      " context: In theoretical physics, the Brans-Dicke theory of gravitation (sometimes called the Jordan-Brans-Dicke theory) is a theoretical framework to explain gravitation. It is a competitor of Einstein's theory of general relativity. It is an example of a scalar-tensor theory, a gravitational theory in which the gravitational interaction is mediated by a scalar field as well as the tensor field of general relativity. The gravitational constant is not presumed to be constant but instead 1/G is replaced by a scalar field \\phi which can vary from place to place and with time. The theory was developed in 1961 by Robert H. Dicke and Carl H. Brans building upon, among others, the earlier 1959 work of Pascual Jordan. At present, both Brans-Dicke theory and general relativity are generally held to be in agreement with observation. Brans-Dicke theory represents a minority viewpoint in physics., \n",
      " model answer: ['Brans', '-', 'Dicke', 'theory', 'of', 'gravitation'], \n",
      " ground truth: [{'gender': 'unknown', 'ethnicity': 'unknown', 'nationality': 'unknown', 'name': 'Carl H. Brans'}, {'gender': 'unknown', 'ethnicity': 'unknown', 'nationality': 'unknown', 'name': 'Robert H. Dicke'}]\n",
      " accuracy: 0.7023809523809523\n",
      "torch.Size([1, 168]) torch.Size([1, 10])\n"
     ]
    },
    {
     "name": "stderr",
     "output_type": "stream",
     "text": [
      "\n"
     ]
    },
    {
     "name": "stdout",
     "output_type": "stream",
     "text": [
      "torch.Size([1, 168]) torch.Size([1, 168])\n",
      "question: Who discovered a theoretical framework to explain gravitation., \n",
      " context: In theoretical physics, the Brans-Dicke theory of gravitation (sometimes called the Jordan-Brans-Dicke theory) is a theoretical framework to explain gravitation. It is a competitor of Einstein's theory of general relativity. It is an example of a scalar-tensor theory, a gravitational theory in which the gravitational interaction is mediated by a scalar field as well as the tensor field of general relativity. The gravitational constant is not presumed to be constant but instead 1/G is replaced by a scalar field \\phi which can vary from place to place and with time. The theory was developed in 1961 by Robert H. Dicke and Carl H. Brans building upon, among others, the earlier 1959 work of Pascual Jordan. At present, both Brans-Dicke theory and general relativity are generally held to be in agreement with observation. Brans-Dicke theory represents a minority viewpoint in physics., \n",
      " model answer: ['Brans', '-', 'Dicke', 'theory', 'of', 'gravitation'], \n",
      " ground truth: [{'gender': 'unknown', 'ethnicity': 'unknown', 'nationality': 'unknown', 'name': 'Carl H. Brans'}, {'gender': 'unknown', 'ethnicity': 'unknown', 'nationality': 'unknown', 'name': 'Robert H. Dicke'}]\n",
      " accuracy: 0.7023809523809523\n"
     ]
    },
    {
     "name": "stderr",
     "output_type": "stream",
     "text": [
      "0it [00:00, ?it/s]\n",
      "Traceback (most recent call last):\n",
      "  File \"<ipython-input-144-0ab5a653ee6a>\", line 12, in <module>\n",
      "    model_ans = answer_question(example['context'], example['question'])\n",
      "  File \"<ipython-input-143-75f5d3a8a0fe>\", line 18, in answer_question\n",
      "    context_idxs, ques_idxs = preprocess(context, question, word2idx_dict)\n",
      "  File \"<ipython-input-8-21f0d84691f7>\", line 56, in preprocess\n",
      "    context_idx[i] = _get_word(token)\n",
      "IndexError: index 400 is out of bounds for axis 0 with size 400\n",
      "0it [00:00, ?it/s]\n",
      "Traceback (most recent call last):\n",
      "  File \"<ipython-input-144-0ab5a653ee6a>\", line 12, in <module>\n",
      "    model_ans = answer_question(example['context'], example['question'])\n",
      "  File \"<ipython-input-143-75f5d3a8a0fe>\", line 18, in answer_question\n",
      "    context_idxs, ques_idxs = preprocess(context, question, word2idx_dict)\n",
      "  File \"<ipython-input-8-21f0d84691f7>\", line 56, in preprocess\n",
      "    context_idx[i] = _get_word(token)\n",
      "IndexError: index 400 is out of bounds for axis 0 with size 400\n",
      "0it [00:00, ?it/s]\n"
     ]
    },
    {
     "name": "stdout",
     "output_type": "stream",
     "text": [
      "torch.Size([1, 88]) torch.Size([1, 29])\n",
      "torch.Size([1, 88]) torch.Size([1, 88])\n"
     ]
    },
    {
     "name": "stderr",
     "output_type": "stream",
     "text": [
      "0it [00:00, ?it/s]\n"
     ]
    },
    {
     "name": "stdout",
     "output_type": "stream",
     "text": [
      "question: Who discovered a coupling reaction between a terminal alkyne and a haloalkyne catalyzed by a copper(I) salt such as copper(I) bromide and an amine base., \n",
      " context: The Cadiot-Chodkiewicz coupling in organic chemistry is a coupling reaction between a terminal alkyne and a haloalkyne catalyzed by a copper(I) salt such as copper(I) bromide and an amine base. The reaction product is a 1,3-diyne or di-alkyne. The reaction mechanism involves deprotonation by base of the terminal alkyne proton followed by formation of a copper(I) acetylide. cycle of oxidative addition and reductive elimination on the copper centre then creates a new carbon-carbon bond., \n",
      " model answer: no answer, \n",
      " ground truth: [{'gender': 'unknown', 'ethnicity': 'unknown', 'nationality': 'unknown', 'name': 'Paul Cadiot'}, {'gender': 'unknown', 'ethnicity': 'unknown', 'nationality': 'unknown', 'name': 'Wladyslav Chodkiewicz'}]\n",
      " accuracy: 0.7023809523809523\n",
      "torch.Size([1, 77]) torch.Size([1, 20])\n",
      "torch.Size([1, 77]) torch.Size([1, 77])\n",
      "question: Who discovered a point-mass gravitational lens (e.g. Black hole) perturbed by constant external shear., \n",
      " context: Chang-Refsdal lens is a point-mass gravitational lens (e.g. Black hole) perturbed by constant external shear.The name derives from Kyongae Chang and Sjur Refsdal who in 1979 published a paper in NATURE 282, 561. \"Flux Variations of QSO Q0957+561 A,B and image splitting by stars Near the Light Path.\" The paper illustrated that stars could affect quasar image brightness., \n",
      " model answer: ['Chang', '-', 'Refsdal'], \n",
      " ground truth: [{'gender': 'female', 'ethnicity': 'unknown', 'nationality': 'South Korea', 'name': 'Kyongae Chang'}, {'gender': 'male', 'ethnicity': 'unknown', 'nationality': 'Norway', 'name': 'Sjur Refsdal'}]\n",
      " accuracy: 0.7023809523809523\n"
     ]
    },
    {
     "name": "stderr",
     "output_type": "stream",
     "text": [
      "0it [00:00, ?it/s]\n"
     ]
    },
    {
     "name": "stdout",
     "output_type": "stream",
     "text": [
      "torch.Size([1, 358]) torch.Size([1, 48])\n",
      "torch.Size([1, 358]) torch.Size([1, 358])\n",
      "question: Who discovered a condensation reaction in organic chemistry in which an enol or an enolate ion reacts with a carbonyl compound to form a b-hydroxyaldehyde or b-hydroxyketone (an aldol reaction), followed by dehydration to give a conjugated enone.\n",
      "\n",
      ", \n",
      " context: An aldol condensation is a condensation reaction in organic chemistry in which an enol or an enolate ion reacts with a carbonyl compound to form a b-hydroxyaldehyde or b-hydroxyketone (an aldol reaction), followed by dehydration to give a conjugated enone. Aldol condensations are important in organic synthesis, because they provide a good way to form carbon-carbon bonds. For example, the Robinson annulation reaction sequence features an aldol condensation; the Wieland-Miescher ketone product is an important starting material for many organic syntheses. Aldol condensations are also commonly discussed in university level organic chemistry classes as a good bond-forming reaction that demonstrates important reaction mechanisms. In its usual form, it involves the nucleophilic addition of a ketone enolate to an aldehyde to form a b-hydroxy ketone, or \"aldol\" (aldehyde alcohol), a structural unit found in many naturally occurring molecules and pharmaceuticals. The name aldol condensation is also commonly used, especially in biochemistry, to refer to just the first (addition) stage of the process--the aldol reaction itself--as catalyzed by aldolases. However, the aldol reaction is not formally a condensation reaction because it does not involve the loss of a small molecule. The reaction between an aldehyde or ketone having an a-hydrogen with an aromatic carbonyl compound lacking an a-hydrogen is called the Claisen-Schmidt condensation. This reaction is named after two of its pioneering investigators Rainer Ludwig Claisen and J. G. Schmidt, who independently published on this topic in 1880 and 1881. An example is the synthesis of dibenzylideneacetone ((1E, 4E)-1,5-diphenylpenta-1,4-dien-3-one). Quantitative yields in Claisen-Schmidt reactions have been reported in the absence of solvent using sodium hydroxide as the base and plus benzaldehydes. Because the enolizeable nucleophilic carbonyl compound and the electrophilic carbonyl compound are two different chemicals, the Claisen-Schmidt reaction is an example of a crossed aldol process., \n",
      " model answer: ['aldol'], \n",
      " ground truth: [{'gender': 'male', 'ethnicity': 'unknown', 'nationality': 'Germany', 'name': 'Rainer Ludwig Claisen'}, {'gender': 'unknown', 'ethnicity': 'unknown', 'nationality': 'unknown', 'name': 'J. Gustav Schmidt'}]\n",
      " accuracy: 0.7023809523809523\n"
     ]
    },
    {
     "name": "stderr",
     "output_type": "stream",
     "text": [
      "0it [00:00, ?it/s]\n"
     ]
    },
    {
     "name": "stdout",
     "output_type": "stream",
     "text": [
      "torch.Size([1, 358]) torch.Size([1, 48])\n"
     ]
    },
    {
     "name": "stderr",
     "output_type": "stream",
     "text": [
      "\r",
      "0it [00:00, ?it/s]"
     ]
    },
    {
     "name": "stdout",
     "output_type": "stream",
     "text": [
      "torch.Size([1, 358]) torch.Size([1, 358])\n",
      "question: Who discovered a condensation reaction in organic chemistry in which an enol or an enolate ion reacts with a carbonyl compound to form a b-hydroxyaldehyde or b-hydroxyketone (an aldol reaction), followed by dehydration to give a conjugated enone.\n",
      "\n",
      ", \n",
      " context: An aldol condensation is a condensation reaction in organic chemistry in which an enol or an enolate ion reacts with a carbonyl compound to form a b-hydroxyaldehyde or b-hydroxyketone (an aldol reaction), followed by dehydration to give a conjugated enone. Aldol condensations are important in organic synthesis, because they provide a good way to form carbon-carbon bonds. For example, the Robinson annulation reaction sequence features an aldol condensation; the Wieland-Miescher ketone product is an important starting material for many organic syntheses. Aldol condensations are also commonly discussed in university level organic chemistry classes as a good bond-forming reaction that demonstrates important reaction mechanisms. In its usual form, it involves the nucleophilic addition of a ketone enolate to an aldehyde to form a b-hydroxy ketone, or \"aldol\" (aldehyde alcohol), a structural unit found in many naturally occurring molecules and pharmaceuticals. The name aldol condensation is also commonly used, especially in biochemistry, to refer to just the first (addition) stage of the process--the aldol reaction itself--as catalyzed by aldolases. However, the aldol reaction is not formally a condensation reaction because it does not involve the loss of a small molecule. The reaction between an aldehyde or ketone having an a-hydrogen with an aromatic carbonyl compound lacking an a-hydrogen is called the Claisen-Schmidt condensation. This reaction is named after two of its pioneering investigators Rainer Ludwig Claisen and J. G. Schmidt, who independently published on this topic in 1880 and 1881. An example is the synthesis of dibenzylideneacetone ((1E, 4E)-1,5-diphenylpenta-1,4-dien-3-one). Quantitative yields in Claisen-Schmidt reactions have been reported in the absence of solvent using sodium hydroxide as the base and plus benzaldehydes. Because the enolizeable nucleophilic carbonyl compound and the electrophilic carbonyl compound are two different chemicals, the Claisen-Schmidt reaction is an example of a crossed aldol process., \n",
      " model answer: ['aldol'], \n",
      " ground truth: [{'gender': 'male', 'ethnicity': 'unknown', 'nationality': 'Germany', 'name': 'Rainer Ludwig Claisen'}, {'gender': 'unknown', 'ethnicity': 'unknown', 'nationality': 'unknown', 'name': 'J. Gustav Schmidt'}]\n",
      " accuracy: 0.7023809523809523\n"
     ]
    },
    {
     "name": "stderr",
     "output_type": "stream",
     "text": [
      "0it [00:00, ?it/s]\n"
     ]
    },
    {
     "name": "stdout",
     "output_type": "stream",
     "text": [
      "torch.Size([1, 200]) torch.Size([1, 22])\n"
     ]
    },
    {
     "name": "stderr",
     "output_type": "stream",
     "text": [
      "0it [00:00, ?it/s]"
     ]
    },
    {
     "name": "stdout",
     "output_type": "stream",
     "text": [
      "torch.Size([1, 200]) torch.Size([1, 200])\n",
      "question: Who discovered a readability test designed by Meri Coleman and T. L. Liau to gauge the understandability of a text., \n",
      " context: The Coleman-Liau index is a readability test designed by Meri Coleman and T. L. Liau to gauge the understandability of a text. Like the Flesch-Kincaid Grade Level, Gunning fog index, SMOG index, and Automated Readability Index, its output approximates the U.S. grade level thought necessary to comprehend the text. Like the ARI but unlike most of the other indices, Coleman-Liau relies on characters instead of syllables per word. Although opinion varies on its accuracy as compared to the syllable/word and complex word indices, characters are more readily and accurately counted by computer programs than are syllables. The Coleman-Liau index was designed to be easily calculated mechanically from samples of hard-copy text. Unlike syllable-based readability indices, it does not require that the character content of words be analyzed, only their length in characters. Therefore, it could be used in conjunction with theoretically simple mechanical scanners that would only need to recognize character, word, and sentence boundaries, removing the need for full optical character recognition or manual keypunching., \n",
      " model answer: ['The', 'Coleman', '-', 'Liau', 'index'], \n",
      " ground truth: [{'gender': 'unknown', 'ethnicity': 'unknown', 'nationality': 'unknown', 'name': 'Meri Coleman'}, {'gender': 'unknown', 'ethnicity': 'unknown', 'nationality': 'unknown', 'name': 'T. L. Liau'}]\n",
      " accuracy: 0.7023809523809523\n",
      "torch.Size([1, 76]) torch.Size([1, 12])\n"
     ]
    },
    {
     "name": "stderr",
     "output_type": "stream",
     "text": [
      "\n",
      "0it [00:00, ?it/s]"
     ]
    },
    {
     "name": "stdout",
     "output_type": "stream",
     "text": [
      "torch.Size([1, 76]) torch.Size([1, 76])\n",
      "question: Who discovered a no-go theorem in theoretical physics., \n",
      " context: The Coleman-Mandula theorem (named after Sidney Coleman and Jeffrey Mandula) is a no-go theorem in theoretical physics. It states that \"space-time and internal symmetries cannot be combined in any but a trivial way\". Since \"realistic\" theories contain a mass gap, the only conserved quantities, apart from the generators of the Poincare group, must be Lorentz scalars., \n",
      " model answer: no answer, \n",
      " ground truth: [{'gender': 'male', 'ethnicity': 'unknown', 'nationality': 'United States of America', 'name': 'Sidney Coleman'}, {'gender': 'male', 'ethnicity': 'unknown', 'nationality': 'United States of America', 'name': 'Jeffrey Mandula'}]\n",
      " accuracy: 0.7023809523809523\n",
      "torch.Size([1, 269]) torch.Size([1, 25])\n"
     ]
    },
    {
     "name": "stderr",
     "output_type": "stream",
     "text": [
      "\n",
      "0it [00:00, ?it/s]"
     ]
    },
    {
     "name": "stdout",
     "output_type": "stream",
     "text": [
      "torch.Size([1, 269]) torch.Size([1, 269])\n",
      "question: Who discovered an apparent anisotropy in the intensity of radiation or particles due to the relative motion between the observer and the source., \n",
      " context: The Compton-Getting effect is an apparent anisotropy in the intensity of radiation or particles due to the relative motion between the observer and the source. This effect was first identified in the intensity of cosmic rays by Arthur Compton and Ivan A. Getting in 1935. Gleeson and Axford provide a full derivation of the equations relevant to this effect.The original application of the Compton-Getting effect predicted that the intensity of cosmic rays should be higher coming from the direction in which Earth is moving. For the case of cosmic rays the Compton-Getting effect only applies to those that are unaffected by the Solar wind such as extremely high energy rays. It has been calculated that the speed of the Earth within the galaxy (200 kilometres per second (120 mi/s)) would result in a difference between the strongest and weakest cosmic ray intensities of about 0.1%. This small difference is within the capabilities of modern instruments to detect, and was observed in 1986. Forman (1970) derives the Compton-Getting effect anisotropy from the Lorentz invariance of the phase space distribution function. Ipavich (1974) furthers this general derivation to derive count rates with respect to the flow vector.This Compton-Getting effect is apparent in plasma data in Earth's magnetotail. The Compton-Getting effect has also been utilized for analyzing energetic neutral atom (ENA) data returned by the Cassini-Huygens spacecraft at Saturn., \n",
      " model answer: ['The', 'Compton', '-', 'Getting', 'effect'], \n",
      " ground truth: [{'gender': 'male', 'ethnicity': 'unknown', 'nationality': 'United States of America', 'name': 'Arthur Compton'}, {'gender': 'male', 'ethnicity': 'unknown', 'nationality': 'United States of America', 'name': 'Ivan A. Getting'}]\n",
      " accuracy: 0.7023809523809523\n",
      "torch.Size([1, 128]) torch.Size([1, 18])\n"
     ]
    },
    {
     "name": "stderr",
     "output_type": "stream",
     "text": [
      "\n",
      "0it [00:00, ?it/s]"
     ]
    },
    {
     "name": "stdout",
     "output_type": "stream",
     "text": [
      "torch.Size([1, 128]) torch.Size([1, 128])\n",
      "question: Who discovered a series of chemical reactions designed to transform an aldehyde into an alkyne.[1][2][3]  , \n",
      " context: The Corey-Fuchs reaction, also known as the Ramirez-Corey-Fuchs reaction, is a series of chemical reactions designed to transform an aldehyde into an alkyne.[1][2][3] The formation of the 1,1-dibromoolefins via phosphine-dibromomethylenes was originally discovered by Desai, McKelvie and Ramirez.[4] The second step of the reaction to convert dibromoolefins to alkynes is known as Fritsch-Buttenberg-Wiechell rearrangement. The overall combined transformation of an aldehyde to an alkyne by this method is named after its developers, American chemists Elias James Corey and Philip L. Fuchs. By suitable choice of base, it is often possible to stop the reaction at the 1-bromoalkyne, a useful functional group for further transformation., \n",
      " model answer: ['Corey', '-', 'Fuchs', 'reaction'], \n",
      " ground truth: [{'gender': 'male', 'ethnicity': 'unknown', 'nationality': 'United States of America', 'name': 'Elias James Corey'}, {'gender': 'unknown', 'ethnicity': 'unknown', 'nationality': 'unknown', 'name': 'Philip L. Fuchs'}]\n",
      " accuracy: 0.7023809523809523\n",
      "torch.Size([1, 85]) torch.Size([1, 18])\n"
     ]
    },
    {
     "name": "stderr",
     "output_type": "stream",
     "text": [
      "\n",
      "0it [00:00, ?it/s]"
     ]
    },
    {
     "name": "stdout",
     "output_type": "stream",
     "text": [
      "torch.Size([1, 85]) torch.Size([1, 85])\n",
      "question: Who discovered an oxidation reaction used to synthesise aldehydes and ketones from primary and secondary alcohols., \n",
      " context: The Corey-Kim oxidation is an oxidation reaction used to synthesise aldehydes and ketones from primary and secondary alcohols. It is named for American chemist and Nobel Laureate Elias James Corey and Korean-American chemist Choung Un Kim. Although the Corey-Kim oxidation possesses the distinctive advantage over Swern oxidation of allowing an operation above -25 degC, it is not so commonly used due to issues with selectivity in substrates susceptible to chlorination by N-chlorosuccinimide., \n",
      " model answer: ['Corey', '-', 'Kim', 'oxidation'], \n",
      " ground truth: [{'gender': 'male', 'ethnicity': 'unknown', 'nationality': 'United States of America', 'name': 'Elias James Corey'}, {'gender': 'unknown', 'ethnicity': 'unknown', 'nationality': 'unknown', 'name': 'Choung Un Kim'}]\n",
      " accuracy: 0.7023809523809523\n",
      "torch.Size([1, 72]) torch.Size([1, 14])\n"
     ]
    },
    {
     "name": "stderr",
     "output_type": "stream",
     "text": [
      "\n",
      "0it [00:00, ?it/s]"
     ]
    },
    {
     "name": "stdout",
     "output_type": "stream",
     "text": [
      "torch.Size([1, 72]) torch.Size([1, 72])\n",
      "question: Who discovered a series of chemical reactions for converting 1,2-diols into olefins., \n",
      " context: The Corey-Winter olefin synthesis is a series of chemical reactions for converting 1,2-diols into olefins. It is named for the American chemist and Nobelist Elias James Corey and the American-Estonian chemist Roland Arthur Edwin Winter. Often, thiocarbonyldiimidazole is used instead of thiophosgene as shown above, since thiophosgene has a similar toxicity profile as phosgene, whereas thiocarbonyldiimidazole is a much safer alternative., \n",
      " model answer: ['Corey', '-', 'Winter', 'olefin', 'synthesis'], \n",
      " ground truth: [{'gender': 'male', 'ethnicity': 'unknown', 'nationality': 'United States of America', 'name': 'Elias James Corey'}, {'gender': 'unknown', 'ethnicity': 'unknown', 'nationality': 'unknown', 'name': 'Roland Arthur Edwin Winter'}]\n",
      " accuracy: 0.7023809523809523\n",
      "torch.Size([1, 72]) torch.Size([1, 14])\n",
      "torch.Size([1, 72]) torch.Size([1, 72])\n",
      "question: Who discovered a series of chemical reactions for converting 1,2-diols into olefins., \n",
      " context: The Corey-Winter olefin synthesis is a series of chemical reactions for converting 1,2-diols into olefins. It is named for the American chemist and Nobelist Elias James Corey and the American-Estonian chemist Roland Arthur Edwin Winter. Often, thiocarbonyldiimidazole is used instead of thiophosgene as shown above, since thiophosgene has a similar toxicity profile as phosgene, whereas thiocarbonyldiimidazole is a much safer alternative., \n",
      " model answer: ['Corey', '-', 'Winter', 'olefin', 'synthesis'], \n",
      " ground truth: [{'gender': 'male', 'ethnicity': 'unknown', 'nationality': 'United States of America', 'name': 'Elias James Corey'}, {'gender': 'unknown', 'ethnicity': 'unknown', 'nationality': 'unknown', 'name': 'Roland Arthur Edwin Winter'}]\n",
      " accuracy: 0.7023809523809523\n"
     ]
    },
    {
     "name": "stderr",
     "output_type": "stream",
     "text": [
      "\n",
      "0it [00:00, ?it/s]\n"
     ]
    },
    {
     "name": "stdout",
     "output_type": "stream",
     "text": [
      "torch.Size([1, 214]) torch.Size([1, 28])\n"
     ]
    },
    {
     "name": "stderr",
     "output_type": "stream",
     "text": [
      "0it [00:00, ?it/s]"
     ]
    },
    {
     "name": "stdout",
     "output_type": "stream",
     "text": [
      "torch.Size([1, 214]) torch.Size([1, 214])\n",
      "question: Who discovered a graph with numerically labeled edges (called branches) representing the spatial relations between a collection of mirrors (or reflecting hyperplanes)., \n",
      " context: In geometry, a Coxeter-Dynkin diagram (or Coxeter diagram, Coxeter graph) is a graph with numerically labeled edges (called branches) representing the spatial relations between a collection of mirrors (or reflecting hyperplanes). It describes a kaleidoscopic construction: each graph \"node\" represents a mirror (domain facet) and the label attached to a branch encodes the dihedral angle order between two mirrors (on a domain ridge), that is, the amount by which the angle between the reflective planes can be multiplied by to get 180 degrees. An unlabeled branch implicitly represents order-3 (60 degrees). Each diagram represents a Coxeter group, and Coxeter groups are classified by their associated diagrams. Dynkin diagrams are closely related objects, which differ from Coxeter diagrams in two respects: firstly, branches labeled \"4\" or greater are directed, while Coxeter diagrams are undirected; secondly, Dynkin diagrams must satisfy an additional (crystallographic) restriction, namely that the only allowed branch labels are 2, 3, 4, and 6. Dynkin diagrams correspond to and are used to classify root systems and therefore semisimple Lie algebras., \n",
      " model answer: no answer, \n",
      " ground truth: [{'gender': 'male', 'ethnicity': 'unknown', 'nationality': 'United Kingdom', 'name': 'Harold Scott MacDonald Coxeter'}, {'gender': 'male', 'ethnicity': 'unknown', 'nationality': 'Soviet Union', 'name': 'Eugene Borisovich Dynkin'}]\n",
      " accuracy: 0.7023809523809523\n",
      "torch.Size([1, 172]) torch.Size([1, 18])\n"
     ]
    },
    {
     "name": "stderr",
     "output_type": "stream",
     "text": [
      "\n",
      "0it [00:00, ?it/s]"
     ]
    },
    {
     "name": "stdout",
     "output_type": "stream",
     "text": [
      "torch.Size([1, 172]) torch.Size([1, 172])\n",
      "question: Who discovered a principle in chemical kinetics proposed by David Yarrow Curtin and Louis Plack Hammett., \n",
      " context: The Curtin-Hammett principle is a principle in chemical kinetics proposed by David Yarrow Curtin and Louis Plack Hammett. It states that, for a reaction that has a pair of reactive intermediates or reactants that interconvert rapidly (as is usually the case for conformational isomers), each going irreversibly to a different product, the product ratio will depend both on the difference in energy between the two conformers and the energy barriers from each of the rapidly equilibrating isomers to their respective products. Stated another way, the product distribution reflects the difference in energy between the two rate-limiting transition states. As a result, the product distribution will not necessarily reflect the equilibrium distribution of the two intermediates. The Curtin-Hammett principle has been invoked to explain selectivity in a variety of stereo- and regioselective reactions. The relationship between the (apparent) rate constants and equilibrium constant is known as the Winstein-Holness equation., \n",
      " model answer: ['The', 'Curtin', '-', 'Hammett'], \n",
      " ground truth: [{'gender': 'unknown', 'ethnicity': 'unknown', 'nationality': 'unknown', 'name': 'David Yarrow Curtin'}, {'gender': 'male', 'ethnicity': 'unknown', 'nationality': 'United States of America', 'name': 'Louis Plack Hammett'}]\n",
      " accuracy: 0.7023809523809523\n",
      "torch.Size([1, 134]) torch.Size([1, 28])\n"
     ]
    },
    {
     "name": "stderr",
     "output_type": "stream",
     "text": [
      "\n",
      "0it [00:00, ?it/s]"
     ]
    },
    {
     "name": "stdout",
     "output_type": "stream",
     "text": [
      "torch.Size([1, 134]) torch.Size([1, 134])\n",
      "question: Who discovered a chemical reaction that transforms an amino-acid into a keto-amide using an acid anhydride and a base, typically pyridine., \n",
      " context: The Dakin-West reaction is a chemical reaction that transforms an amino-acid into a keto-amide using an acid anhydride and a base, typically pyridine. It is named for Henry Drysdale Dakin (1880-1952) and Randolph West (1890-1949). In 2016 Schreiner and coworkers reported the first asymmetric variant of this reaction. With pyridine as a base and solvent, refluxing conditions are required. However, with the addition of 4-dimethylaminopyridine (DMAP) as a catalyst, the reaction can take place at room temperature.With some acids, this reaction can take place even in the absence of an a-amino group. This reaction should not be confused with the Dakin reaction., \n",
      " model answer: ['The', 'Dakin', '-', 'West'], \n",
      " ground truth: [{'gender': 'male', 'ethnicity': 'unknown', 'nationality': 'United Kingdom', 'name': 'Henry Drysdale Dakin'}, {'gender': 'unknown', 'ethnicity': 'unknown', 'nationality': 'unknown', 'name': 'Randolph West'}]\n",
      " accuracy: 0.7023809523809523\n",
      "torch.Size([1, 209]) torch.Size([1, 15])\n"
     ]
    },
    {
     "name": "stderr",
     "output_type": "stream",
     "text": [
      "\n",
      "0it [00:00, ?it/s]"
     ]
    },
    {
     "name": "stdout",
     "output_type": "stream",
     "text": [
      "torch.Size([1, 209]) torch.Size([1, 209])\n",
      "question: Who discovered a string metric for measuring the edit distance between two sequences., \n",
      " context: In information theory and computer science, the Damerau-Levenshtein distance (named after Frederick J. Damerau and Vladimir I. Levenshtein) is a string metric for measuring the edit distance between two sequences. Informally, the Damerau-Levenshtein distance between two words is the minimum number of operations (consisting of insertions, deletions or substitutions of a single character, or transposition of two adjacent characters) required to change one word into the other. The Damerau-Levenshtein distance differs from the classical Levenshtein distance by including transpositions among its allowable operations in addition to the three classical single-character edit operations (insertions, deletions and substitutions).In his seminal paper, Damerau stated that in an investigation of spelling errors for an information-retrieval system, more than 80% were a result of a single error of one of the four types. Damerau's paper considered only misspellings that could be corrected with at most one edit operation. While the original motivation was to measure distance between human misspellings to improve applications such as spell checkers, Damerau-Levenshtein distance has also seen uses in biology to measure the variation between protein sequences., \n",
      " model answer: ['Damerau', '-', 'Levenshtein', 'distance'], \n",
      " ground truth: [{'gender': 'unknown', 'ethnicity': 'unknown', 'nationality': 'unknown', 'name': 'Frederick J. Damerau'}, {'gender': 'male', 'ethnicity': 'unknown', 'nationality': 'Soviet Union', 'name': 'Vladimir Levenshtein'}]\n",
      " accuracy: 0.7023809523809523\n",
      "torch.Size([1, 79]) torch.Size([1, 10])\n"
     ]
    },
    {
     "name": "stderr",
     "output_type": "stream",
     "text": [
      "\n",
      "0it [00:00, ?it/s]"
     ]
    },
    {
     "name": "stdout",
     "output_type": "stream",
     "text": [
      "torch.Size([1, 79]) torch.Size([1, 79])\n",
      "question: Who discovered a metric for evaluating clustering algorithms., \n",
      " context: The Davies-Bouldin index (DBI), introduced by David L. Davies and Donald W. Bouldin in 1979, is a metric for evaluating clustering algorithms. This is an internal evaluation scheme, where the validation of how well the clustering has been done is made using quantities and features inherent to the dataset. This has a drawback that a good value reported by this method does not imply the best information retrieval., \n",
      " model answer: ['David', 'L.', 'Davies', 'and', 'Donald', 'W.', 'Bouldin'], \n",
      " ground truth: [{'gender': 'unknown', 'ethnicity': 'unknown', 'nationality': 'unknown', 'name': 'David L. Davies'}, {'gender': 'unknown', 'ethnicity': 'unknown', 'nationality': 'unknown', 'name': 'Donald W. Bouldin'}]\n",
      " accuracy: 0.7023809523809523\n",
      "torch.Size([1, 124]) torch.Size([1, 29])\n"
     ]
    },
    {
     "name": "stderr",
     "output_type": "stream",
     "text": [
      "\n",
      "0it [00:00, ?it/s]"
     ]
    },
    {
     "name": "stdout",
     "output_type": "stream",
     "text": [
      "torch.Size([1, 124]) torch.Size([1, 124])\n",
      "question: Who discovered a quantum mechanical effect in which the magnetic susceptibility of a pure metal crystal oscillates as the intensity of the magnetic field B is increased., \n",
      " context: The De Haas-Van Alphen effect, often abbreviated to dHvA, is a quantum mechanical effect in which the magnetic susceptibility of a pure metal crystal oscillates as the intensity of the magnetic field is increased. It can be used to determine the Fermi surface of a material. Other quantities also oscillate, such as the electrical resistivity (Shubnikov-De Haas effect), specific heat, and sound attenuation and speed. It is named after Wander Johannes de Haas and his student Pieter M. van Alphen. The dHvA effect comes from the orbital motion of itinerant electrons in the material. An equivalent phenomenon at low magnetic fields is known as Landau diamagnetism., \n",
      " model answer: ['De', 'Haas', '-', 'Van', 'Alphen'], \n",
      " ground truth: [{'gender': 'male', 'ethnicity': 'unknown', 'nationality': 'Kingdom of the Netherlands', 'name': 'Wander Johannes de Haas'}, {'gender': 'unknown', 'ethnicity': 'unknown', 'nationality': 'unknown', 'name': 'Pieter M. van Alphen'}]\n",
      " accuracy: 0.7023809523809523\n",
      "torch.Size([1, 50]) torch.Size([1, 10])\n",
      "torch.Size([1, 50]) torch.Size([1, 50])\n"
     ]
    },
    {
     "name": "stderr",
     "output_type": "stream",
     "text": [
      "\n",
      "0it [00:00, ?it/s]\n"
     ]
    },
    {
     "name": "stdout",
     "output_type": "stream",
     "text": [
      "question: Who discovered known as Debye-Falkenhagen effect., \n",
      " context: The increase in the conductivity of an electrolyte solution when the applied voltage has a very high frequency is known as Debye-Falkenhagen effect. Impedance measurements on water-p-dioxane and the methanol-toluene systems have confirmed Falkenhagen's predictions made in 1929., \n",
      " model answer: no answer, \n",
      " ground truth: [{'gender': 'male', 'ethnicity': 'unknown', 'nationality': 'Kingdom of the Netherlands', 'name': 'Peter Joseph William Debye'}, {'gender': 'male', 'ethnicity': 'unknown', 'nationality': 'Germany', 'name': 'Hans Falkenhagen'}]\n",
      " accuracy: 0.7023809523809523\n",
      "torch.Size([1, 201]) torch.Size([1, 26])\n"
     ]
    },
    {
     "name": "stderr",
     "output_type": "stream",
     "text": [
      "0it [00:00, ?it/s]"
     ]
    },
    {
     "name": "stdout",
     "output_type": "stream",
     "text": [
      "torch.Size([1, 201]) torch.Size([1, 201])\n",
      "question: Who discovered an organic reaction for the oxidation of primary alcohols to aldehydes and secondary alcohols to ketones using Dess-Martin periodinane.\n",
      ", \n",
      " context: The Dess-Martin oxidation is an organic reaction for the oxidation of primary alcohols to aldehydes and secondary alcohols to ketones using Dess-Martin periodinane. It is named after the American chemists Daniel Benjamin Dess and James Cullen Martin who developed the periodinane reagent in 1983. The reaction uses a hypervalent iodine reagent similar to IBX to selectively and mildly oxidize alcohols to aldehydes or ketones. The reaction is commonly conducted in chlorinated solvents such as dichloromethane or chloroform. The reaction can be done at room temperature and is quickly complete. Many other functional groups will not be affected by this reaction. The Dess-Martin oxidation may be preferable to other oxidation reactions as it is very mild, avoids the use of toxic chromium reagents, does not require large excess or co-oxidants, and for its ease of work up. The reaction produces two equivalents of acetic acid. It can be buffered with pyridine or sodium bicarbonate in order to protect acid-labile compounds. The acceleration of the Dess-Martin oxidation reaction using water has been shown by Meyer and Schreiber., \n",
      " model answer: ['Dess', '-', 'Martin', 'oxidation'], \n",
      " ground truth: [{'gender': 'unknown', 'ethnicity': 'unknown', 'nationality': 'unknown', 'name': 'Daniel Benjamin Dess'}, {'gender': 'male', 'ethnicity': 'unknown', 'nationality': 'United States of America', 'name': 'James Cullen Martin'}]\n",
      " accuracy: 0.7023809523809523\n",
      "torch.Size([1, 313]) torch.Size([1, 27])\n"
     ]
    },
    {
     "name": "stderr",
     "output_type": "stream",
     "text": [
      "\n",
      "0it [00:00, ?it/s]"
     ]
    },
    {
     "name": "stdout",
     "output_type": "stream",
     "text": [
      "torch.Size([1, 313]) torch.Size([1, 313])\n",
      "question: Who discovered a chemical reaction between a conjugated diene and a substituted alkene, commonly termed the dienophile, to form a substituted cyclohexene derivative., \n",
      " context: In organic chemistry, the Diels-Alder reaction is a chemical reaction between a conjugated diene and a substituted alkene, commonly termed the dienophile, to form a substituted cyclohexene derivative. It is the prototypical example of a pericyclic reaction with a concerted mechanism. More specifically, it is classified as a thermally-allowed [4+2] cycloaddition with Woodward-Hoffmann symbol [p4s p2s]. It was first described by Otto Diels and Kurt Alder in 1928. For the discovery of this reaction, they were awarded the Nobel Prize in Chemistry in 1950. Through the simultaneous construction of two new carbon-carbon bonds, the Diels-Alder reaction provides a reliable way to form six-membered rings with good control over the regio- and stereochemical outcomes. Consequently, it has served as a powerful and widely applied tool for the introduction of chemical complexity in the synthesis of natural products and new materials. The underlying concept has also been applied to p-systems involving heteroatoms, such as carbonyls and imines, which furnish the corresponding heterocycles; this variant is known as the hetero-Diels-Alder reaction. The reaction has also been generalized to other ring sizes, although none of these generalizations have matched the formation of six-membered rings in terms of scope or versatility. Because of the negative values of DHdeg and DSdeg for a typical Diels-Alder reaction, the microscopic reverse of a Diels-Alder reaction becomes favorable at high temperatures, although this is of synthetic importance for only a limited range of Diels-Alder adducts, generally with some special structural features; this reverse reaction is known as the retro-Diels-Alder reaction., \n",
      " model answer: ['Diels', '-', 'Alder'], \n",
      " ground truth: [{'gender': 'male', 'ethnicity': 'unknown', 'nationality': 'Germany', 'name': 'Otto Paul Hermann Diels'}, {'gender': 'male', 'ethnicity': 'unknown', 'nationality': 'Germany', 'name': 'Kurt Alder'}]\n",
      " accuracy: 0.7023809523809523\n",
      "torch.Size([1, 147]) torch.Size([1, 22])\n"
     ]
    },
    {
     "name": "stderr",
     "output_type": "stream",
     "text": [
      "\n",
      "0it [00:00, ?it/s]"
     ]
    },
    {
     "name": "stdout",
     "output_type": "stream",
     "text": [
      "torch.Size([1, 147]) torch.Size([1, 147])\n",
      "question: Who discovered the organic reaction of an aniline with a,b-unsaturated carbonyl compounds to form quinolines.\n",
      "\n",
      ", \n",
      " context: The Doebner-Miller reaction is the organic reaction of an aniline with a,b-unsaturated carbonyl compounds to form quinolines. This reaction is also known as the Skraup-Doebner-Von Miller quinoline synthesis, and is named after the Czech chemist Zdenko Hans Skraup (1850-1910), and the Germans Oscar Dobner (Doebner) (1850-1907) and Wilhelm von Miller (1848-1899). When the a,b-unsaturated carbonyl compound is prepared in situ from two carbonyl compounds (via an Aldol condensation), the reaction is known as the Beyer method for quinolines. The reaction is catalyzed by Lewis acids such as tin tetrachloride and scandium(III) triflate and Bronsted acids such as p-toluenesulfonic acid, perchloric acid, amberlite and iodine., \n",
      " model answer: ['Doebner', '-', 'Miller'], \n",
      " ground truth: [{'gender': 'unknown', 'ethnicity': 'unknown', 'nationality': 'unknown', 'name': 'Oscar Dobner'}]\n",
      " accuracy: 0.7023809523809523\n",
      "torch.Size([1, 116]) torch.Size([1, 38])\n"
     ]
    },
    {
     "name": "stderr",
     "output_type": "stream",
     "text": [
      "\n",
      "0it [00:00, ?it/s]"
     ]
    },
    {
     "name": "stdout",
     "output_type": "stream",
     "text": [
      "torch.Size([1, 116]) torch.Size([1, 116])\n",
      "question: Who discovered a theorem that states that the equilibrium speed of car traffic on a road network is determined by the average door-to-door speed of equivalent journeys taken by public transport.\n",
      ", \n",
      " context: The Downs-Thomson paradox (named after Anthony Downs and John Michael Thomson), also known as the Pigou-Knight-Downs paradox (after Arthur Cecil Pigou and Frank Knight), states that the equilibrium speed of car traffic on a road network is determined by the average door-to-door speed of equivalent journeys taken by public transport. It is a paradox in that improvements in the road network will not reduce traffic congestion. Improvements in the road network can make congestion worse if the improvements make public transport more inconvenient or if it shifts investment, causing disinvestment in the public transport system., \n",
      " model answer: ['Downs', '-', 'Thomson', 'paradox'], \n",
      " ground truth: [{'gender': 'male', 'ethnicity': 'unknown', 'nationality': 'United States of America', 'name': 'Anthony Downs'}, {'gender': 'unknown', 'ethnicity': 'unknown', 'nationality': 'unknown', 'name': 'John Michael Thomson'}]\n",
      " accuracy: 0.7023809523809523\n",
      "torch.Size([1, 268]) torch.Size([1, 21])\n"
     ]
    },
    {
     "name": "stderr",
     "output_type": "stream",
     "text": [
      "\n",
      "0it [00:00, ?it/s]"
     ]
    },
    {
     "name": "stdout",
     "output_type": "stream",
     "text": [
      "torch.Size([1, 268]) torch.Size([1, 268])\n",
      "question: Who discovered a theorem that states the classical expression for the molar specific heat capacity of certain chemical elements., \n",
      " context: The Dulong-Petit law, a thermodynamic law proposed in 1819 by French physicists Pierre Louis Dulong and Alexis Therese Petit, states the classical expression for the molar specific heat capacity of certain chemical elements. Experimentally the two scientists had found that the heat capacity per weight (the mass-specific heat capacity) for a number of elements was close to a constant value, after it had been multiplied by a number representing the presumed relative atomic weight of the element. These atomic weights had shortly before been suggested by John Dalton and modified by Jacob Berzelius. In modern terms, Dulong and Petit found that the heat capacity of a mole of many solid elements is about 3R, where is the modern constant called the universal gas constant. Dulong and Petit were unaware of the relationship with R, since this constant had not yet been defined from the later kinetic theory of gases. The value of 3R is about 25 joules per kelvin, and Dulong and Petit essentially found that this was the heat capacity of certain solid elements per mole of atoms they contained. The modern theory of the heat capacity of solids states that it is due to lattice vibrations in the solid and was first derived in crude form from this assumption by Albert Einstein in 1907. The Einstein solid model thus gave for the first time a reason why the Dulong-Petit law should be stated in terms of the classical heat capacities for gases., \n",
      " model answer: ['Pierre', 'Louis', 'Dulong', 'and', 'Alexis', 'Therese', 'Petit'], \n",
      " ground truth: [{'gender': 'male', 'ethnicity': 'unknown', 'nationality': 'France', 'name': 'Pierre Louis Dulong'}, {'gender': 'male', 'ethnicity': 'unknown', 'nationality': 'France', 'name': 'Alexis Therese Petit'}]\n",
      " accuracy: 0.7023809523809523\n",
      "torch.Size([1, 156]) torch.Size([1, 21])\n"
     ]
    },
    {
     "name": "stderr",
     "output_type": "stream",
     "text": [
      "\n",
      "0it [00:00, ?it/s]"
     ]
    },
    {
     "name": "stdout",
     "output_type": "stream",
     "text": [
      "torch.Size([1, 156]) torch.Size([1, 156])\n",
      "question: Who discovered a hypothetical cognitive bias stating that people with low ability at a task overestimate their ability.\n",
      ", \n",
      " context: The Dunning-Kruger effect is a hypothetical cognitive bias stating that people with low ability at a task overestimate their ability. As described by social psychologists David Dunning and Justin Kruger, the bias results from an internal illusion in people of low ability and from an external misperception in people of high ability; that is, \"the miscalibration of the incompetent stems from an error about the self, whereas the miscalibration of the highly competent stems from an error about others\". It is related to the cognitive bias of illusory superiority and comes from people's inability to recognize their lack of ability. Without the self-awareness of metacognition, people cannot objectively evaluate their level of competence. The effect, or Dunning and Kruger's original explanation for the effect, has been challenged by mathematical analyses and comparisons across cultures., \n",
      " model answer: ['The', 'Dunning', '-', 'Kruger'], \n",
      " ground truth: [{'gender': 'male', 'ethnicity': 'unknown', 'nationality': 'United States of America', 'name': 'David Dunning'}, {'gender': 'male', 'ethnicity': 'unknown', 'nationality': 'unknown', 'name': 'Justin Kruger'}]\n",
      " accuracy: 0.7023809523809523\n",
      "torch.Size([1, 297]) torch.Size([1, 16])\n"
     ]
    },
    {
     "name": "stderr",
     "output_type": "stream",
     "text": [
      "\n",
      "0it [00:00, ?it/s]"
     ]
    },
    {
     "name": "stdout",
     "output_type": "stream",
     "text": [
      "torch.Size([1, 297]) torch.Size([1, 297])\n",
      "question: Who discovered a hypothetical megastructure intended for power generation using the solar wind.  , \n",
      " context: Dyson-Harrop satellite is a hypothetical megastructure intended for power generation using the solar wind. It is inspired by the Dyson sphere, but much harder to detect from another star system.The concept for the so-called Dyson-Harrop satellite begins with a long metal wire loop pointed at the sun. This wire is charged to generate a cylindrical magnetic field that snags the electrons that make up half the solar wind. These electrons get funnelled into a metal spherical receiver to produce a current, which generates the wire's magnetic field making the system self-sustaining. Any current not needed for the magnetic field powers an infrared laser trained on satellite dishes back on Earth, designed to collect the energy. Earth's air does not absorb infra-red light, so the system would be highly efficient. Back on the satellite, the current has been drained of its electrical energy by the laser the electrons fall onto a ring-shaped sail, where incoming sunlight can excite them enough to keep the satellite in orbit around the sun.A relatively small Dyson-Harrop satellite using a 1-centimetre-wide copper wire 300 metres long, a receiver metres wide and a sail 10 metres in diameter, sitting at roughly the same distance from the sun as the Earth, could generate 1.7 megawatts of power enough for about 1000 family homes in the US. Larger sizes could produce far greater amounts of power, even exceeding the current usage of Earth. Satellites could be placed anywhere in the solar system, and networks of satellites could combine to generate terawatts of power., \n",
      " model answer: ['Dyson', '-', 'Harrop', 'satellite'], \n",
      " ground truth: [{'gender': 'unknown', 'ethnicity': 'unknown', 'nationality': 'unknown', 'name': 'Brooks L. Harrop'}, {'gender': 'male', 'ethnicity': 'English people', 'nationality': 'United Kingdom', 'name': 'Freeman Dyson'}]\n",
      " accuracy: 0.7023809523809523\n",
      "torch.Size([1, 301]) torch.Size([1, 22])\n"
     ]
    },
    {
     "name": "stderr",
     "output_type": "stream",
     "text": [
      "\n"
     ]
    },
    {
     "name": "stdout",
     "output_type": "stream",
     "text": [
      "torch.Size([1, 301]) torch.Size([1, 301])\n",
      "question: Who discovered a graphical representation of a market with just two commodities, X and Y, and two consumers., \n",
      " context: In economics, an Edgeworth box, sometimes referred to as an Edgeworth-Bowley box, is a graphical representation of a market with just two commodities, and Y, and two consumers. The dimensions of the box are the total quantities Ox and Oy of the two goods. Let the consumers be Octavio and Abby. The top right-hand corner of the box represents the allocation in which Octavio holds all the goods, while the bottom left corresponds to complete ownership by Abby. Points within the box represent ways of allocating the goods between the two consumers. Market behaviour will be determined by the consumers' indifference curves. The blue curves in the diagram represent indifference curves for Octavio, and are shown as convex from his viewpoint (i.e. seen from the bottom left). The orange curves apply to Abby, and are convex as seen from the top right. Moving up and to the right increases Octavio's allocation and puts him onto a more desirable indifference curve while placing Abby onto a less desirable one. Convex indifference curves are considered to be the usual case. They correspond to diminishing returns for each good relative to the other. Exchange within the market starts from an initial allocation known as an endowment. The main use of the Edgeworth box is to introduce topics in general equilibrium theory in a form in which properties can be visualised graphically. It can also show the difficulty of moving to an efficient outcome in the presence of bilateral monopoly. In the latter case, it serves as a precursor to the bargaining problem of game theory that allows a unique numerical solution., \n",
      " model answer: ['Edgeworth', 'box'], \n",
      " ground truth: [{'gender': 'male', 'ethnicity': 'unknown', 'nationality': 'United Kingdom of Great Britain and Ireland', 'name': 'Francis Ysidro Edgeworth'}, {'gender': 'male', 'ethnicity': 'unknown', 'nationality': 'United Kingdom', 'name': 'Arthur Lyon Bowley'}]\n",
      " accuracy: 0.7023809523809523\n"
     ]
    },
    {
     "name": "stderr",
     "output_type": "stream",
     "text": [
      "0it [00:00, ?it/s]\n"
     ]
    },
    {
     "name": "stdout",
     "output_type": "stream",
     "text": [
      "torch.Size([1, 387]) torch.Size([1, 41])\n"
     ]
    },
    {
     "name": "stderr",
     "output_type": "stream",
     "text": [
      "0it [00:00, ?it/s]"
     ]
    },
    {
     "name": "stdout",
     "output_type": "stream",
     "text": [
      "torch.Size([1, 387]) torch.Size([1, 387])\n",
      "question: Who discovered a stereoelectronic effect that describes the tendency of heteroatomic substituents adjacent to a heteroatom within a cyclohexane ring to prefer the axial orientation instead of the less hindered equatorial orientation that would be expected from steric considerations., \n",
      " context: In organic chemistry, the anomeric effect or Edward-Lemieux effect is a stereoelectronic effect that describes the tendency of heteroatomic substituents adjacent to a heteroatom within a cyclohexane ring to prefer the axial orientation instead of the less hindered equatorial orientation that would be expected from steric considerations. This effect was originally observed in pyranose rings by J. T. Edward in 1955 when studying carbohydrate chemistry. The term anomeric effect was introduced in 1958. The name comes from the term used to designate the lowest-numbered ring carbon of a pyranose, the anomeric carbon. Isomers that differ only in the configuration at the anomeric carbon are called anomers. The anomers of D-glucopyranose are diastereomers, with the beta anomer having an OH group pointing up equatorially, and the alpha anomer having that OH group pointing down axially. The anomeric effect can also be generalized to any cyclohexyl or linear system with the general formula C-Y-C-X, where is a heteroatom with one or more lone pairs, and is an electronegative atom or group. The magnitude of the anomeric effect is estimated at about 1-2 kcal/mol in the case of sugars, but is different for every molecule. In the above case, the methoxy group on the cyclohexane ring (top) prefers the equatorial position. However, in the tetrahydropyran ring (bottom), the methoxy group prefers the axial position. This is because in the cyclohexane ring, Y= carbon, which is not a heteroatom, so the anomeric effect is not observed and sterics dominates the observed substituent position. In the tetrahydropyran ring, Y= oxygen, which is a heteroatom, so the anomeric effect contributes and stabilizes the observed substituent position. In both cases, X= OMe. The anomeric effect is most often observed when Y= oxygen, but can also be seen with other lone pair bearing heteroatoms in the ring, such as nitrogen, sulfur, and phosphorus. The exact method by which the anomeric effect causes stabilization is a point of controversy, and several hypotheses have been proposed to explain it., \n",
      " model answer: ['J.', 'T.', 'Edward'], \n",
      " ground truth: [{'gender': 'unknown', 'ethnicity': 'unknown', 'nationality': 'unknown', 'name': 'John Thomas Edward'}, {'gender': 'male', 'ethnicity': 'unknown', 'nationality': 'Canada', 'name': 'Raymond U. Lemieux'}]\n",
      " accuracy: 0.7023809523809523\n",
      "torch.Size([1, 82]) torch.Size([1, 22])\n"
     ]
    },
    {
     "name": "stderr",
     "output_type": "stream",
     "text": [
      "\n",
      "0it [00:00, ?it/s]"
     ]
    },
    {
     "name": "stdout",
     "output_type": "stream",
     "text": [
      "torch.Size([1, 82]) torch.Size([1, 82])\n",
      "question: Who discovered created when light from a galaxy or star passes by a massive object en route to the Earth., \n",
      " context: An Einstein ring, also known as an Einstein-Chwolson ring or Chwolson ring (named for Orest Khvolson), is created when light from a galaxy or star passes by a massive object en route to the Earth. Due to gravitational lensing, the light is diverted, making it seem to come from different places. If source, lens, and observer are all in perfect alignment, the light appears as a ring., \n",
      " model answer: ['Einstein', 'ring'], \n",
      " ground truth: [{'gender': 'male', 'ethnicity': 'Jewish people', 'nationality': 'German Empire', 'name': 'Albert Einstein'}, {'gender': 'male', 'ethnicity': 'unknown', 'nationality': 'Russian Empire', 'name': 'Orest Khvolson'}]\n",
      " accuracy: 0.7023809523809523\n",
      "torch.Size([1, 179]) torch.Size([1, 24])\n"
     ]
    },
    {
     "name": "stderr",
     "output_type": "stream",
     "text": [
      "\n",
      "0it [00:00, ?it/s]"
     ]
    },
    {
     "name": "stdout",
     "output_type": "stream",
     "text": [
      "torch.Size([1, 179]) torch.Size([1, 179])\n",
      "question: Who discovered a physical phenomenon in which a change in the magnetic moment of a free body causes this body to rotate., \n",
      " context: The Einstein-de Haas effect is a physical phenomenon in which a change in the magnetic moment of a free body causes this body to rotate. The effect is a consequence of the conservation of angular momentum. It is strong enough to be observable in ferromagnetic materials. The experimental observation and accurate measurement of the effect demonstrated that the phenomenon of magnetization is caused by the alignment (polarization) of the angular momenta of the electrons in the material along the axis of magnetization. These measurements also allow the separation of the two contributions to the magnetization: that which is associated with the spin and with the orbital motion of the electrons. The effect also demonstrated the close relation between the notions of angular momentum in classical and in quantum physics. The effect was predicted by O. W. Richardson in 1908. It is named after Albert Einstein and Wander Johannes de Haas, who published two papers in 1915 claiming the first experimental observation of the effect., \n",
      " model answer: ['Einstein', '-', 'de', 'Haas'], \n",
      " ground truth: [{'gender': 'male', 'ethnicity': 'Jewish people', 'nationality': 'German Empire', 'name': 'Albert Einstein'}, {'gender': 'male', 'ethnicity': 'unknown', 'nationality': 'Kingdom of the Netherlands', 'name': 'Wander Johannes de Haas'}]\n",
      " accuracy: 0.7023809523809523\n",
      "torch.Size([1, 361]) torch.Size([1, 15])\n"
     ]
    },
    {
     "name": "stderr",
     "output_type": "stream",
     "text": [
      "\n",
      "0it [00:00, ?it/s]"
     ]
    },
    {
     "name": "stdout",
     "output_type": "stream",
     "text": [
      "torch.Size([1, 361]) torch.Size([1, 361])\n",
      "question: Who discovered a conjecture about the distribution of prime numbers in arithmetic progressions., \n",
      " context: In number theory, the Elliott-Halberstam conjecture is a conjecture about the distribution of prime numbers in arithmetic progressions. It has many applications in sieve theory. It is named for Peter D. T. A. Elliott and Heini Halberstam, who stated the conjecture in 1968.Stating the conjecture requires some notation. Let \\pi the prime counting function, denote the number of primes less than or equal to If is a positive integer and a is coprime to we let \\pi denote the number of primes less than or equal to which are equal to a modulo Dirichlet's theorem on primes in arithmetic progressions then tells us that \\pi where \\varphi is Euler's totient function. If we then define the error function max gcd where the max is taken over all a coprime to then the Elliott-Halberstam conjecture is the assertion that for every \\theta and there exists a constant such that log \\sum for all This conjecture was proven for all \\theta by Enrico Bombieri and A. I. Vinogradov (the Bombieri-Vinogradov theorem, sometimes known simply as \"Bombieri's theorem\"); this result is already quite useful, being an averaged form of the generalized Riemann hypothesis. It is known that the conjecture fails at the endpoint \\theta .The Elliott-Halberstam conjecture has several consequences. One striking one is the result announced by Dan Goldston, Janos Pintz, and Cem Yildirim, which shows (assuming this conjecture) that there are infinitely many pairs of primes which differ by at most 16. In November 2013, James Maynard showed that subject to the Elliott-Halberstam conjecture, one can show the existence of infinitely many pairs of consecutive primes that differ by at most 12. In August 2014, Polymath group showed that subject to the generalized Elliott-Halberstam conjecture, one can show the existence of infinitely many pairs of consecutive primes that differ by at most 6. Without assuming any form of the conjecture, the lowest proven bound is 246., \n",
      " model answer: ['Elliott', '-', 'Halberstam'], \n",
      " ground truth: [{'gender': 'unknown', 'ethnicity': 'unknown', 'nationality': 'unknown', 'name': 'Peter D. T. A. Elliott'}, {'gender': 'male', 'ethnicity': 'unknown', 'nationality': 'United Kingdom', 'name': 'Heini Halberstam'}]\n",
      " accuracy: 0.7023809523809523\n",
      "torch.Size([1, 87]) torch.Size([1, 23])\n"
     ]
    },
    {
     "name": "stderr",
     "output_type": "stream",
     "text": [
      "\n",
      "0it [00:00, ?it/s]"
     ]
    },
    {
     "name": "stdout",
     "output_type": "stream",
     "text": [
      "torch.Size([1, 87]) torch.Size([1, 87])\n",
      "question: Who discovered a chemical reaction whereby a primary (or secondary) amine is methylated using excess formic acid and formaldehyde., \n",
      " context: The Eschweiler-Clarke reaction (also called the Eschweiler-Clarke methylation) is a chemical reaction whereby a primary (or secondary) amine is methylated using excess formic acid and formaldehyde. Reductive amination reactions such as this one will not produce quaternary ammonium salts, but instead will stop at the tertiary amine stage. It is named for the German chemist Wilhelm Eschweiler (1860-1936) and the British chemist Hans Thacher Clarke (1887-1972)., \n",
      " model answer: ['Eschweiler', '-', 'Clarke', 'reaction'], \n",
      " ground truth: [{'gender': 'unknown', 'ethnicity': 'unknown', 'nationality': 'unknown', 'name': 'Wilhelm Eschweiler'}, {'gender': 'male', 'ethnicity': 'unknown', 'nationality': 'United States of America', 'name': 'Hans Thacher Clarke'}]\n",
      " accuracy: 0.7023809523809523\n",
      "torch.Size([1, 242]) torch.Size([1, 19])\n"
     ]
    },
    {
     "name": "stderr",
     "output_type": "stream",
     "text": [
      "\n",
      "0it [00:00, ?it/s]"
     ]
    },
    {
     "name": "stdout",
     "output_type": "stream",
     "text": [
      "torch.Size([1, 242]) torch.Size([1, 242])\n",
      "question: Who discovered a device that uses an electric field to heat ions to nuclear fusion conditions.  , \n",
      " context: fusor is a device that uses an electric field to heat ions to nuclear fusion conditions. The machine induces a voltage between two metal cages, inside a vacuum. Positive ions fall down this voltage drop, building up speed. If they collide in the center, they can fuse. This is one kind of an inertial electrostatic confinement device branch of fusion research. Farnsworth-Hirsch fusor is the most common type of fusor. This design came from work by Philo T. Farnsworth in 1964 and Robert L. Hirsch in 1967. variant type of fusor had been proposed previously by William Elmore, James L. Tuck, and Ken Watson at the Los Alamos National Laboratory though they never built the machine. Fusors have been built by various institutions. These include academic institutions such as the University of Wisconsin-Madison, the Massachusetts Institute of Technology and government entities, such as the Atomic Energy Organization of Iran and the Turkish Atomic Energy Authority. Fusors have also been developed commercially, as sources for neutrons by DaimlerChrysler Aerospace and as a method for generating medical isotopes. Fusors have also become very popular for hobbyists and amateurs. growing number of amateurs have performed nuclear fusion using simple fusor machines. However, fusors are not considered a viable concept for large-scale energy production by scientists., \n",
      " model answer: ['fusor'], \n",
      " ground truth: [{'gender': 'male', 'ethnicity': 'unknown', 'nationality': 'United States of America', 'name': 'Philo T. Farnsworth'}, {'gender': 'unknown', 'ethnicity': 'unknown', 'nationality': 'unknown', 'name': 'Robert L. Hirsch'}]\n",
      " accuracy: 0.7023809523809523\n",
      "torch.Size([1, 283]) torch.Size([1, 21])\n"
     ]
    },
    {
     "name": "stderr",
     "output_type": "stream",
     "text": [
      "\n",
      "0it [00:00, ?it/s]"
     ]
    },
    {
     "name": "stdout",
     "output_type": "stream",
     "text": [
      "torch.Size([1, 283]) torch.Size([1, 283])\n",
      "question: Who discovered a theorem that states in systems consisting of many identical particles that obey the Pauli exclusion principle., \n",
      " context: In quantum statistics, a branch of physics, Fermi-Dirac statistics describe a distribution of particles over energy states in systems consisting of many identical particles that obey the Pauli exclusion principle. It is named after Enrico Fermi and Paul Dirac, each of whom discovered the method independently (although Fermi defined the statistics earlier than Dirac).Fermi-Dirac (F-D) statistics apply to identical particles with half-integer spin in a system with thermodynamic equilibrium. Additionally, the particles in this system are assumed to have negligible mutual interaction. That allows the multi-particle system to be described in terms of single-particle energy states. The result is the F-D distribution of particles over these states which includes the condition that no two particles can occupy the same state; this has a considerable effect on the properties of the system. Since F-D statistics apply to particles with half-integer spin, these particles have come to be called fermions. It is most commonly applied to electrons, a type of fermion with spin 1/2. Fermi-Dirac statistics are a part of the more general field of statistical mechanics and use the principles of quantum mechanics. The counterpart to F-D statistics is the Bose-Einstein statistics, that apply to bosons (full integer spin, such as photons, or no spin, like the Higgs boson), particles that do not follow the Pauli exclusion principle, meaning that more than one boson can take up the same quantum configuration simultaneously., \n",
      " model answer: ['Fermi', '-', 'Dirac'], \n",
      " ground truth: [{'gender': 'male', 'ethnicity': 'unknown', 'nationality': 'Italy', 'name': 'Enrico Fermi'}, {'gender': 'male', 'ethnicity': 'unknown', 'nationality': 'United Kingdom', 'name': 'Paul Dirac'}]\n",
      " accuracy: 0.7023809523809523\n",
      "torch.Size([1, 63]) torch.Size([1, 12])\n"
     ]
    },
    {
     "name": "stderr",
     "output_type": "stream",
     "text": [
      "\n",
      "0it [00:00, ?it/s]"
     ]
    },
    {
     "name": "stdout",
     "output_type": "stream",
     "text": [
      "torch.Size([1, 63]) torch.Size([1, 63])\n",
      "question: Who discovered organometallic compounds of the formula (C6R6)xMLy.  , \n",
      " context: Metal arene complexes are organometallic compounds of the formula (C6R6)xMLy. Common classes of are of the type (C6R6)ML3 and (C6R6)2M. These compounds are reagents in inorganic and organic synthesis. The principles that describe arene complexes extend to related organic ligands such as many heterocycles (e.g. thiophene) and polycyclic aromatic compounds (e.g. naphthalene)., \n",
      " model answer: ['Metal', 'arene', 'complexes'], \n",
      " ground truth: [{'gender': 'male', 'ethnicity': 'unknown', 'nationality': 'Germany', 'name': 'Ernst Otto Fischer'}, {'gender': 'male', 'ethnicity': 'unknown', 'nationality': 'West Germany', 'name': 'Walter Hafner'}]\n",
      " accuracy: 0.7023809523809523\n",
      "torch.Size([1, 200]) torch.Size([1, 21])\n"
     ]
    },
    {
     "name": "stderr",
     "output_type": "stream",
     "text": [
      "\n",
      "0it [00:00, ?it/s]"
     ]
    },
    {
     "name": "stdout",
     "output_type": "stream",
     "text": [
      "torch.Size([1, 200]) torch.Size([1, 200])\n",
      "question: Who discovered a collection of chemical reactions that converts a mixture of carbon monoxide and hydrogen into liquid hydrocarbons., \n",
      " context: The Fischer-Tropsch process is a collection of chemical reactions that converts a mixture of carbon monoxide and hydrogen into liquid hydrocarbons. These reactions occur in the presence of metal catalysts, typically at temperatures of 150-300 degC (302-572 degF) and pressures of one to several tens of atmospheres. The process was first developed by Franz Fischer and Hans Tropsch at the Kaiser-Wilhelm-Institut fur Kohlenforschung in Mulheim an der Ruhr, Germany, in 1925.As a premier example of C1 chemistry, the Fischer-Tropsch process is an important reaction in both coal liquefaction and gas to liquids technology for producing liquid hydrocarbons. In the usual implementation, carbon monoxide and hydrogen, the feedstocks for FT, are produced from coal, natural gas, or biomass in a process known as gasification. The Fischer-Tropsch process then converts these gases into a synthetic lubrication oil and synthetic fuel. The Fischer-Tropsch process has received intermittent attention as a source of low-sulfur diesel fuel and to address the supply or cost of petroleum-derived hydrocarbons., \n",
      " model answer: ['The', 'Fischer', '-', 'Tropsch'], \n",
      " ground truth: [{'gender': 'male', 'ethnicity': 'unknown', 'nationality': 'Germany', 'name': 'Franz Joseph Emil Fischer'}, {'gender': 'male', 'ethnicity': 'unknown', 'nationality': 'Germany', 'name': 'Hans Tropsch'}]\n",
      " accuracy: 0.7023809523809523\n",
      "torch.Size([1, 128]) torch.Size([1, 23])\n"
     ]
    },
    {
     "name": "stderr",
     "output_type": "stream",
     "text": [
      "\n",
      "0it [00:00, ?it/s]"
     ]
    },
    {
     "name": "stdout",
     "output_type": "stream",
     "text": [
      "torch.Size([1, 128]) torch.Size([1, 128])\n",
      "question: Who discovered a rearrangement reaction in which an aromatic N-nitroso or nitrosamine converts to a carbon nitroso compound:\n",
      "\n",
      ", \n",
      " context: The Fischer-Hepp rearrangement is a rearrangement reaction in which an aromatic N-nitroso or nitrosamine converts to a carbon nitroso compound: This organic reaction was first described by the German chemist Otto Philipp Fischer (1852-1932 and Eduard Hepp (June 11, 1851 June 18, 1917) in 1886, and is of importance because para-NO secondary anilines cannot be prepared in a direct reaction. The rearrangement reaction takes place by reacting the nitrosamine precursor with hydrochloric acid. The chemical yield is generally good under these conditions, but often much poorer if a different acid is used. The exact reaction mechanism is unknown but there is evidence suggesting an intramolecular reaction., \n",
      " model answer: no answer, \n",
      " ground truth: [{'gender': 'unknown', 'ethnicity': 'unknown', 'nationality': 'unknown', 'name': 'Otto Philipp Fischer'}, {'gender': 'unknown', 'ethnicity': 'unknown', 'nationality': 'unknown', 'name': 'Eduard Hepp'}]\n",
      " accuracy: 0.7023809523809523\n",
      "torch.Size([1, 124]) torch.Size([1, 18])\n"
     ]
    },
    {
     "name": "stderr",
     "output_type": "stream",
     "text": [
      "\n",
      "0it [00:00, ?it/s]"
     ]
    },
    {
     "name": "stdout",
     "output_type": "stream",
     "text": [
      "torch.Size([1, 124]) torch.Size([1, 124])\n",
      "question: Who discovered readability tests designed to indicate how difficult a passage in English is to understand., \n",
      " context: The Flesch-Kincaid readability tests are readability tests designed to indicate how difficult a passage in English is to understand. There are two tests, the Flesch Reading-Ease, and the Flesch-Kincaid Grade Level. Although they use the same core measures (word length and sentence length), they have different weighting factors. The results of the two tests correlate approximately inversely: a text with a comparatively high score on the Reading Ease test should have a lower score on the Grade-Level test. Rudolf Flesch devised the Reading Ease evaluation; somewhat later, he and J. Peter Kincaid developed the Grade Level evaluation for the United States Navy., \n",
      " model answer: ['Flesch', '-', 'Kincaid'], \n",
      " ground truth: [{'gender': 'male', 'ethnicity': 'unknown', 'nationality': 'United States of America', 'name': 'Rudolf F. Flesch'}, {'gender': 'male', 'ethnicity': 'unknown', 'nationality': 'United States of America', 'name': 'J. Peter Kincaid'}]\n",
      " accuracy: 0.7023809523809523\n",
      "torch.Size([1, 211]) torch.Size([1, 30])\n"
     ]
    },
    {
     "name": "stderr",
     "output_type": "stream",
     "text": [
      "\n",
      "0it [00:00, ?it/s]"
     ]
    },
    {
     "name": "stdout",
     "output_type": "stream",
     "text": [
      "torch.Size([1, 211]) torch.Size([1, 211])\n",
      "question: Who discovered a measure of sound pressure level, over the frequency spectrum, for which a listener perceives a constant loudness when presented with pure steady tones., \n",
      " context: An equal-loudness contour is a measure of sound pressure level, over the frequency spectrum, for which a listener perceives a constant loudness when presented with pure steady tones. The unit of measurement for loudness levels is the phon and is arrived at by reference to equal-loudness contours. By definition, two sine waves of differing frequencies are said to have equal-loudness level measured in phons if they are perceived as equally loud by the average young person without significant hearing impairment. Equal-loudness contours are often referred to as Fletcher-Munson curves, after the earliest researchers, but those studies have been superseded and incorporated into newer standards. The definitive curves are those defined in ISO 226 from the International Organization for Standardization, which are based on a review of modern determinations made in various countries. The Fletcher-Munson curves are one of many sets of equal-loudness contours for the human ear, determined experimentally by Harvey Fletcher and Wilden A. Munson, and reported in a 1933 paper entitled \"Loudness, its definition, measurement and calculation\" in the Journal of the Acoustical Society of America., \n",
      " model answer: ['the', 'phon'], \n",
      " ground truth: [{'gender': 'male', 'ethnicity': 'unknown', 'nationality': 'United States of America', 'name': 'Harvey Fletcher'}, {'gender': 'unknown', 'ethnicity': 'unknown', 'nationality': 'unknown', 'name': 'Wilden A. Munson'}]\n",
      " accuracy: 0.7023809523809523\n",
      "torch.Size([1, 56]) torch.Size([1, 16])\n"
     ]
    },
    {
     "name": "stderr",
     "output_type": "stream",
     "text": [
      "\n",
      "0it [00:00, ?it/s]\n"
     ]
    },
    {
     "name": "stdout",
     "output_type": "stream",
     "text": [
      "torch.Size([1, 56]) torch.Size([1, 56])\n",
      "question: Who discovered a mathematical algorithm for eliminating variables from a system of linear inequalities., \n",
      " context: Fourier-Motzkin elimination, also known as the FME method, is a mathematical algorithm for eliminating variables from a system of linear inequalities. It can output real solutions. The algorithm is named after Joseph Fourier and Theodore Motzkin who independently discovered the method in 1827 and in 1936, respectively., \n",
      " model answer: ['Fourier', '-', 'Motzkin', 'elimination'], \n",
      " ground truth: [{'gender': 'male', 'ethnicity': 'French', 'nationality': 'France', 'name': 'Joseph Fourier'}, {'gender': 'male', 'ethnicity': 'unknown', 'nationality': 'United States of America', 'name': 'Theodore Motzkin'}]\n",
      " accuracy: 0.7023809523809523\n",
      "torch.Size([1, 85]) torch.Size([1, 19])\n"
     ]
    },
    {
     "name": "stderr",
     "output_type": "stream",
     "text": [
      "0it [00:00, ?it/s]"
     ]
    },
    {
     "name": "stdout",
     "output_type": "stream",
     "text": [
      "torch.Size([1, 85]) torch.Size([1, 85])\n",
      "question: Who discovered a rule in spectroscopy and quantum chemistry that explains the intensity of  vibronic transitions., \n",
      " context: The Franck-Condon principle is a rule in spectroscopy and quantum chemistry that explains the intensity of vibronic transitions. Vibronic transitions are the simultaneous changes in electronic and vibrational energy levels of a molecule due to the absorption or emission of a photon of the appropriate energy. The principle states that during an electronic transition, a change from one vibrational energy level to another will be more likely to happen if the two vibrational wave functions overlap more significantly., \n",
      " model answer: ['Franck', '-', 'Condon', 'principle'], \n",
      " ground truth: [{'gender': 'male', 'ethnicity': 'unknown', 'nationality': 'German Empire', 'name': 'James Franck'}, {'gender': 'male', 'ethnicity': 'unknown', 'nationality': 'United States of America', 'name': 'Edward Uhler Condon'}]\n",
      " accuracy: 0.7023809523809523\n",
      "torch.Size([1, 338]) torch.Size([1, 19])\n"
     ]
    },
    {
     "name": "stderr",
     "output_type": "stream",
     "text": [
      "\n",
      "0it [00:00, ?it/s]"
     ]
    },
    {
     "name": "stdout",
     "output_type": "stream",
     "text": [
      "torch.Size([1, 338]) torch.Size([1, 338])\n",
      "question: Who discovered a change in optical absorption by a semiconductor when an electric field is applied.  , \n",
      " context: The Franz-Keldysh effect is a change in optical absorption by a semiconductor when an electric field is applied. The effect is named after the German physicist Walter Franz and Russian physicist Leonid Keldysh (nephew of Mstislav Keldysh). Karl W. Boer observed first the shift of the optical absorption edge with electric fields during the discovery of high-field domains and named this the Franz-effect. few months later, when the English translation of the Keldysh paper became available, he corrected this to the Franz-Keldysh effect.As originally conceived, the Franz-Keldysh effect is the result of wavefunctions \"leaking\" into the band gap. When an electric field is applied, the electron and hole wavefunctions become Airy functions rather than plane waves. The Airy function includes a \"tail\" which extends into the classically forbidden band gap. According to Fermi's golden rule, the more overlap there is between the wavefunctions of a free electron and a hole, the stronger the optical absorption will be. The Airy tails slightly overlap even if the electron and hole are at slightly different potentials (slightly different physical locations along the field). The absorption spectrum now includes a tail at energies below the band gap and some oscillations above it. This explanation does, however, omit the effects of excitons, which may dominate optical properties near the band gap. The Franz-Keldysh effect occurs in uniform, bulk semiconductors, unlike the quantum-confined Stark effect, which requires a quantum well. Both are used for electro-absorption modulators. The Franz-Keldysh effect usually requires hundreds of volts, limiting its usefulness with conventional electronics although this is not the case for commercially available Franz-Keldysh-effect electro-absorption modulators that use a waveguide geometry to guide the optical carrier., \n",
      " model answer: ['The', 'Franz', '-', 'Keldysh'], \n",
      " ground truth: [{'gender': 'male', 'ethnicity': 'unknown', 'nationality': 'Germany', 'name': 'Walter Franz'}, {'gender': 'male', 'ethnicity': 'unknown', 'nationality': 'Soviet Union', 'name': 'Leonid V. Keldysh'}]\n",
      " accuracy: 0.7023809523809523\n",
      "torch.Size([1, 51]) torch.Size([1, 24])\n"
     ]
    },
    {
     "name": "stderr",
     "output_type": "stream",
     "text": [
      "\n",
      "0it [00:00, ?it/s]\n"
     ]
    },
    {
     "name": "stdout",
     "output_type": "stream",
     "text": [
      "torch.Size([1, 51]) torch.Size([1, 51])\n",
      "question: Who discovered a set of reactions developed by Charles Friedel and James Crafts in 1877 to attach substituents to an aromatic ring., \n",
      " context: The Friedel-Crafts reactions are a set of reactions developed by Charles Friedel and James Crafts in 1877 to attach substituents to an aromatic ring. Friedel-Crafts reactions are of two main types: alkylation reactions and acylation reactions. Both proceed by electrophilic aromatic substitution., \n",
      " model answer: ['Friedel', '-', 'Crafts'], \n",
      " ground truth: [{'gender': 'male', 'ethnicity': 'unknown', 'nationality': 'France', 'name': 'Charles Friedel'}, {'gender': 'male', 'ethnicity': 'unknown', 'nationality': 'United States of America', 'name': 'James Mason Crafts'}]\n",
      " accuracy: 0.7023809523809523\n",
      "torch.Size([1, 189]) torch.Size([1, 42])\n"
     ]
    },
    {
     "name": "stderr",
     "output_type": "stream",
     "text": [
      "0it [00:00, ?it/s]"
     ]
    },
    {
     "name": "stdout",
     "output_type": "stream",
     "text": [
      "torch.Size([1, 189]) torch.Size([1, 189])\n",
      "question: Who discovered an exact solution of Einstein's field equations of general relativity; it describes a homogeneous, isotropic, expanding (or otherwise, contracting) universe that is path-connected, but not necessarily simply connected., \n",
      " context: The Friedmann-Lemaitre-Robertson-Walker (FLRW; metric is an exact solution of Einstein's field equations of general relativity; it describes a homogeneous, isotropic, expanding (or otherwise, contracting) universe that is path-connected, but not necessarily simply connected. The general form of the metric follows from the geometric properties of homogeneity and isotropy; Einstein's field equations are only needed to derive the scale factor of the universe as a function of time. Depending on geographical or historical preferences, the set of the four scientists Alexander Friedmann, Georges Lemaitre, Howard P. Robertson and Arthur Geoffrey Walker are customarily grouped as Friedmann or Friedmann-Robertson-Walker (FRW) or Robertson-Walker (RW) or Friedmann-Lemaitre (FL). This model is sometimes called the Standard Model of modern cosmology, although such a description is also associated with the further developed Lambda-CDM model. The FLRW model was developed independently by the named authors in the 1920s and 1930s., \n",
      " model answer: ['Friedmann', '-', 'Lemaitre', '-', 'Robertson', '-', 'Walker'], \n",
      " ground truth: [{'gender': 'unknown', 'ethnicity': 'unknown', 'nationality': 'unknown', 'name': 'Alexander Friedmann'}, {'gender': 'male', 'ethnicity': 'unknown', 'nationality': 'Belgium', 'name': 'Georges Lemaitre'}, {'gender': 'unknown', 'ethnicity': 'unknown', 'nationality': 'unknown', 'name': 'Howard P. Robertson'}, {'gender': 'male', 'ethnicity': 'unknown', 'nationality': 'United Kingdom', 'name': 'Arthur Geoffrey Walker'}]\n",
      " accuracy: 0.7023809523809523\n",
      "torch.Size([1, 65]) torch.Size([1, 29])\n"
     ]
    },
    {
     "name": "stderr",
     "output_type": "stream",
     "text": [
      "\n",
      "0it [00:00, ?it/s]"
     ]
    },
    {
     "name": "stdout",
     "output_type": "stream",
     "text": [
      "torch.Size([1, 65]) torch.Size([1, 65])\n",
      "question: Who discovered a chemical reaction whereby a 1,1-diaryl-2-bromo-alkene rearranges to a 1,2-diaryl-alkyne by reaction with a strong base such as an alkoxide.\n",
      "\n",
      ", \n",
      " context: The Fritsch-Buttenberg-Wiechell rearrangement, named for Paul Ernst Moritz Fritsch (1859-1913), Wilhelm Paul Buttenberg, and Heinrich G. Wiechell, is a chemical reaction whereby a 1,1-diaryl-2-bromo-alkene rearranges to a 1,2-diaryl-alkyne by reaction with a strong base such as an alkoxide. This rearrangement is also possible with alkyl substituents., \n",
      " model answer: ['Wilhelm', 'Paul', 'Buttenberg', ',', 'and', 'Heinrich', 'G.', 'Wiechell'], \n",
      " ground truth: [{'gender': 'unknown', 'ethnicity': 'unknown', 'nationality': 'unknown', 'name': 'Paul Ernst Moritz Fritsch'}, {'gender': 'unknown', 'ethnicity': 'unknown', 'nationality': 'unknown', 'name': 'Wilhelm Paul Buttenberg'}, {'gender': 'unknown', 'ethnicity': 'unknown', 'nationality': 'unknown', 'name': 'Heinrich G. Wiechell'}]\n",
      " accuracy: 0.7023809523809523\n",
      "torch.Size([1, 152]) torch.Size([1, 39])\n"
     ]
    },
    {
     "name": "stderr",
     "output_type": "stream",
     "text": [
      "\n",
      "0it [00:00, ?it/s]"
     ]
    },
    {
     "name": "stdout",
     "output_type": "stream",
     "text": [
      "torch.Size([1, 152]) torch.Size([1, 152])\n",
      "question: Who discovered a chemical reaction in which aromatic compounds are formylated by a mixture of hydrogen cyanide (HCN) and hydrogen chloride (HCl) in the presence of a Lewis acid catalyst such as AlCl3., \n",
      " context: The Gattermann reaction, (also known as the Gattermann formylation and the Gattermann salicylaldehyde synthesis) is a chemical reaction in which aromatic compounds are formylated by a mixture of hydrogen cyanide (HCN) and hydrogen chloride (HCl) in the presence of a Lewis acid catalyst such as AlCl3. It is named for the German chemist Ludwig Gattermann and is similar to the Friedel-Crafts reaction. The reaction can be simplified by replacing the HCN/AlCl3 combination with zinc cyanide. Although it is also highly toxic, Zn(CN)2 is a solid, making it safer to work with than gaseous HCN. The Zn(CN)2 reacts with the HCl to form the key HCN reactant and Zn(Cl)2 that serves as the Lewis-acid catalyst in-situ. An example of the Zn(CN)2 method is the synthesis of mesitaldehyde from mesitylene., \n",
      " model answer: ['Gattermann'], \n",
      " ground truth: [{'gender': 'male', 'ethnicity': 'unknown', 'nationality': 'Germany', 'name': 'Ludwig Gattermann'}, {'gender': 'male', 'ethnicity': 'unknown', 'nationality': 'Germany', 'name': 'Julius Arnold Koch'}]\n",
      " accuracy: 0.7023809523809523\n",
      "torch.Size([1, 233]) torch.Size([1, 30])\n"
     ]
    },
    {
     "name": "stderr",
     "output_type": "stream",
     "text": [
      "\n",
      "0it [00:00, ?it/s]"
     ]
    },
    {
     "name": "stdout",
     "output_type": "stream",
     "text": [
      "torch.Size([1, 233]) torch.Size([1, 233])\n",
      "question: Who discovered a modification of the Einstein-Hilbert action to include the Gauss-Bonnet term (named after Carl Friedrich Gauss and Pierre Ossian Bonnet) \n",
      "  \n",
      "    \n",
      "      \n",
      "        , \n",
      " context: In general relativity, Gauss-Bonnet gravity, also referred to as Einstein-Gauss-Bonnet gravity, is a modification of the Einstein-Hilbert action to include the Gauss-Bonnet term (named after Carl Friedrich Gauss and Pierre Ossian Bonnet) \\nu \\nu \\nu \\rho \\sigma \\nu \\rho \\sigma \\int This term is only nontrivial in 4+1D or greater, and as such, only applies to extra dimensional models. In 3+1D, it reduces to a topological surface term. This follows from the generalized Gauss-Bonnet theorem on a 4D manifold .In lower dimensions, it identically vanishes. Despite being quadratic in the Riemann tensor (and Ricci tensor), terms containing more than partial derivatives of the metric cancel out, making the Euler-Lagrange equations second order quasilinear partial differential equations in the metric. Consequently, there are no additional dynamical degrees of freedom, as in say f(R) gravity. Gauss-Bonnet gravity has also been shown to be connected to classical electrodynamics by means of complete gauge invariance with respect to Noether's theorem.More generally, we may consider \\int term for some function f. Nonlinearities in render this coupling nontrivial even in 3+1D. Therefore, fourth order terms reappear with the nonlinearities., \n",
      " model answer: no answer, \n",
      " ground truth: [{'gender': 'male', 'ethnicity': 'Germans', 'nationality': 'Confederation of the Rhine', 'name': 'Carl Friedrich Gauss'}, {'gender': 'male', 'ethnicity': 'unknown', 'nationality': 'France', 'name': 'Pierre Ossian Bonnet'}]\n",
      " accuracy: 0.7023809523809523\n"
     ]
    },
    {
     "name": "stderr",
     "output_type": "stream",
     "text": [
      "\n",
      "Traceback (most recent call last):\n",
      "  File \"<ipython-input-144-0ab5a653ee6a>\", line 12, in <module>\n",
      "    model_ans = answer_question(example['context'], example['question'])\n",
      "  File \"<ipython-input-143-75f5d3a8a0fe>\", line 18, in answer_question\n",
      "    context_idxs, ques_idxs = preprocess(context, question, word2idx_dict)\n",
      "  File \"<ipython-input-8-21f0d84691f7>\", line 60, in preprocess\n",
      "    ques_idx[i] = _get_word(token)\n",
      "IndexError: index 50 is out of bounds for axis 0 with size 50\n",
      "0it [00:00, ?it/s]\n"
     ]
    },
    {
     "name": "stdout",
     "output_type": "stream",
     "text": [
      "torch.Size([1, 95]) torch.Size([1, 34])\n",
      "torch.Size([1, 95]) torch.Size([1, 95])\n",
      "question: Who discovered a landmark series of experiments by which scientists learned  that every atom has a nucleus where all of its positive charge and most of its mass is concentrated.  , \n",
      " context: The Geiger-Marsden experiments (also called the Rutherford gold foil experiment) were a landmark series of experiments by which scientists learned that every atom has a nucleus where all of its positive charge and most of its mass is concentrated. They deduced this after measuring how an alpha particle beam is scattered when it strikes a thin metal foil. The experiments were performed between 1908 and 1913 by Hans Geiger and Ernest Marsden under the direction of Ernest Rutherford at the Physical Laboratories of the University of Manchester., \n",
      " model answer: ['Geiger', '-', 'Marsden'], \n",
      " ground truth: [{'gender': 'unknown', 'ethnicity': 'unknown', 'nationality': 'unknown', 'name': 'Johannes Wilhelm'}]\n",
      " accuracy: 0.7023809523809523\n"
     ]
    },
    {
     "name": "stderr",
     "output_type": "stream",
     "text": [
      "0it [00:00, ?it/s]\n"
     ]
    },
    {
     "name": "stdout",
     "output_type": "stream",
     "text": [
      "torch.Size([1, 95]) torch.Size([1, 34])\n",
      "torch.Size([1, 95]) torch.Size([1, 95])\n",
      "question: Who discovered a landmark series of experiments by which scientists learned  that every atom has a nucleus where all of its positive charge and most of its mass is concentrated.  , \n",
      " context: The Geiger-Marsden experiments (also called the Rutherford gold foil experiment) were a landmark series of experiments by which scientists learned that every atom has a nucleus where all of its positive charge and most of its mass is concentrated. They deduced this after measuring how an alpha particle beam is scattered when it strikes a thin metal foil. The experiments were performed between 1908 and 1913 by Hans Geiger and Ernest Marsden under the direction of Ernest Rutherford at the Physical Laboratories of the University of Manchester., \n",
      " model answer: ['Geiger', '-', 'Marsden'], \n",
      " ground truth: [{'gender': 'unknown', 'ethnicity': 'unknown', 'nationality': 'unknown', 'name': 'Johannes Wilhelm'}]\n",
      " accuracy: 0.7023809523809523\n"
     ]
    },
    {
     "name": "stderr",
     "output_type": "stream",
     "text": [
      "0it [00:00, ?it/s]\n"
     ]
    },
    {
     "name": "stdout",
     "output_type": "stream",
     "text": [
      "torch.Size([1, 95]) torch.Size([1, 34])\n"
     ]
    },
    {
     "name": "stderr",
     "output_type": "stream",
     "text": [
      "0it [00:00, ?it/s]"
     ]
    },
    {
     "name": "stdout",
     "output_type": "stream",
     "text": [
      "torch.Size([1, 95]) torch.Size([1, 95])\n",
      "question: Who discovered a landmark series of experiments by which scientists learned  that every atom has a nucleus where all of its positive charge and most of its mass is concentrated.  , \n",
      " context: The Geiger-Marsden experiments (also called the Rutherford gold foil experiment) were a landmark series of experiments by which scientists learned that every atom has a nucleus where all of its positive charge and most of its mass is concentrated. They deduced this after measuring how an alpha particle beam is scattered when it strikes a thin metal foil. The experiments were performed between 1908 and 1913 by Hans Geiger and Ernest Marsden under the direction of Ernest Rutherford at the Physical Laboratories of the University of Manchester., \n",
      " model answer: ['Geiger', '-', 'Marsden'], \n",
      " ground truth: [{'gender': 'unknown', 'ethnicity': 'unknown', 'nationality': 'unknown', 'name': 'Johannes Wilhelm'}]\n",
      " accuracy: 0.7023809523809523\n",
      "torch.Size([1, 274]) torch.Size([1, 32])\n"
     ]
    },
    {
     "name": "stderr",
     "output_type": "stream",
     "text": [
      "\n",
      "0it [00:00, ?it/s]"
     ]
    },
    {
     "name": "stdout",
     "output_type": "stream",
     "text": [
      "torch.Size([1, 274]) torch.Size([1, 274])\n",
      "question: Who discovered a name for the behaviour of charged particles near a semi-permeable membrane that sometimes fail to distribute evenly across the two sides of the membrane.  , \n",
      " context: The Gibbs-Donnan effect (also known as the Donnan's effect, Donnan law, Donnan equilibrium, or Gibbs-Donnan equilibrium) is a name for the behaviour of charged particles near a semi-permeable membrane that sometimes fail to distribute evenly across the two sides of the membrane. The usual cause is the presence of a different charged substance that is unable to pass through the membrane and thus creates an uneven electrical charge. For example, the large anionic proteins in blood plasma are not permeable to capillary walls. Because small cations are attracted, but are not bound to the proteins, small anions will cross capillary walls away from the anionic proteins more readily than small cations. Thus, some ionic species can pass through the barrier while others cannot. The solutions may be gels or colloids as well as solutions of electrolytes, and as such the phase boundary between gels, or a gel and a liquid, can also act as a selective barrier. The electric potential arising between two such solutions is called the Donnan potential. The effect is named after the American physicist Josiah Willard Gibbs who proposed it in 1878 and the British chemist Frederick G. Donnan who studied it experimentally in 1911.The Donnan equilibrium is prominent in the triphasic model for articular cartilage proposed by Mow and Lai, as well as in electrochemical fuel cells and dialysis. The Donnan effect is tactic pressure attributable to cations (Na+ and K+) attached to dissolved plasma proteins., \n",
      " model answer: ['The', 'Gibbs', '-', 'Donnan', 'effect'], \n",
      " ground truth: [{'gender': 'male', 'ethnicity': 'unknown', 'nationality': 'United States of America', 'name': 'Josiah Willard Gibbs'}, {'gender': 'unknown', 'ethnicity': 'unknown', 'nationality': 'unknown', 'name': 'Frederick G. Donnan'}]\n",
      " accuracy: 0.7023809523809523\n",
      "torch.Size([1, 56]) torch.Size([1, 21])\n"
     ]
    },
    {
     "name": "stderr",
     "output_type": "stream",
     "text": [
      "\n",
      "0it [00:00, ?it/s]"
     ]
    },
    {
     "name": "stdout",
     "output_type": "stream",
     "text": [
      "torch.Size([1, 56]) torch.Size([1, 56])\n",
      "question: Who discovered the mass transfer along an interface between two fluids due to a gradient of the surface tension., \n",
      " context: The Marangoni effect (also called the Gibbs-Marangoni effect) is the mass transfer along an interface between two fluids due to a gradient of the surface tension. In the case of temperature dependence, this phenomenon may be called thermo-capillary convection (or Benard-Marangoni convection)., \n",
      " model answer: ['The', 'Marangoni', 'effect'], \n",
      " ground truth: [{'gender': 'male', 'ethnicity': 'unknown', 'nationality': 'United States of America', 'name': 'Josiah Willard Gibbs'}, {'gender': 'male', 'ethnicity': 'unknown', 'nationality': 'Kingdom of Italy', 'name': 'Carlo Marangoni'}]\n",
      " accuracy: 0.7023809523809523\n",
      "torch.Size([1, 97]) torch.Size([1, 23])\n"
     ]
    },
    {
     "name": "stderr",
     "output_type": "stream",
     "text": [
      "\n",
      "0it [00:00, ?it/s]"
     ]
    },
    {
     "name": "stdout",
     "output_type": "stream",
     "text": [
      "torch.Size([1, 97]) torch.Size([1, 97])\n",
      "question: Who discovered a thermodynamic equation used for calculating changes in the Gibbs energy of a system as a function of temperature., \n",
      " context: The Gibbs-Helmholtz equation is a thermodynamic equation used for calculating changes in the Gibbs energy of a system as a function of temperature. It is named after Josiah Willard Gibbs and Hermann von Helmholtz. The equation is: where is the enthalpy, the absolute temperature and the Gibbs free energy of the system, all at constant pressure p. The equation states that the change in the G/T ratio at constant pressure as a result of an infinitesimally small change in temperature is a factor H/T2., \n",
      " model answer: ['Gibbs', '-', 'Helmholtz', 'equation'], \n",
      " ground truth: [{'gender': 'male', 'ethnicity': 'unknown', 'nationality': 'United States of America', 'name': 'Josiah Willard Gibbs'}, {'gender': 'male', 'ethnicity': 'unknown', 'nationality': 'German Confederation', 'name': 'Hermann von Helmholtz'}]\n",
      " accuracy: 0.7023809523809523\n",
      "torch.Size([1, 97]) torch.Size([1, 23])\n"
     ]
    },
    {
     "name": "stderr",
     "output_type": "stream",
     "text": [
      "\n",
      "0it [00:00, ?it/s]"
     ]
    },
    {
     "name": "stdout",
     "output_type": "stream",
     "text": [
      "torch.Size([1, 97]) torch.Size([1, 97])\n",
      "question: Who discovered a thermodynamic equation used for calculating changes in the Gibbs energy of a system as a function of temperature., \n",
      " context: The Gibbs-Helmholtz equation is a thermodynamic equation used for calculating changes in the Gibbs energy of a system as a function of temperature. It is named after Josiah Willard Gibbs and Hermann von Helmholtz. The equation is: where is the enthalpy, the absolute temperature and the Gibbs free energy of the system, all at constant pressure p. The equation states that the change in the G/T ratio at constant pressure as a result of an infinitesimally small change in temperature is a factor H/T2., \n",
      " model answer: ['Gibbs', '-', 'Helmholtz', 'equation'], \n",
      " ground truth: [{'gender': 'male', 'ethnicity': 'unknown', 'nationality': 'United States of America', 'name': 'Josiah Willard Gibbs'}, {'gender': 'male', 'ethnicity': 'unknown', 'nationality': 'German Confederation', 'name': 'Hermann von Helmholtz'}]\n",
      " accuracy: 0.7023809523809523\n",
      "torch.Size([1, 145]) torch.Size([1, 15])\n"
     ]
    },
    {
     "name": "stderr",
     "output_type": "stream",
     "text": [
      "\n",
      "0it [00:00, ?it/s]"
     ]
    },
    {
     "name": "stdout",
     "output_type": "stream",
     "text": [
      "torch.Size([1, 145]) torch.Size([1, 145])\n",
      "question: Who discovered an aryl-aryl coupling reaction via a diazonium salt.\n",
      ", \n",
      " context: The Gomberg-Bachmann reaction, named for the Russian-American chemist Moses Gomberg and the American chemist Werner Emmanuel Bachmann, is an aryl-aryl coupling reaction via a diazonium salt. The arene compound (here benzene) is coupled with base with the diazonium salt to the biaryl through an intermediate aryl radical. For example, p-bromobiphenyl may be prepared from 4-bromoaniline and benzene: BrC6H4NH2 C6H6 BrC6H4-C6H5The reaction offers a wide scope for both diazonium component and arene component but yields are generally low following the original procedure (less than 40%), given the many side-reactions of diazonium salts. Several improvements have been suggested. One possibility is to employ diazonium tetrafluoroborates in arene solvent together with a phase-transfer catalyst, another is to use 1-aryl-3,3-dialkyltriazenes., \n",
      " model answer: ['Werner', 'Emmanuel', 'Bachmann'], \n",
      " ground truth: [{'gender': 'male', 'ethnicity': 'unknown', 'nationality': 'United States of America', 'name': 'Moses Gomberg'}, {'gender': 'male', 'ethnicity': 'unknown', 'nationality': 'United States of America', 'name': 'Werner Emmanuel Bachmann'}]\n",
      " accuracy: 0.7023809523809523\n",
      "torch.Size([1, 343]) torch.Size([1, 21])\n"
     ]
    },
    {
     "name": "stderr",
     "output_type": "stream",
     "text": [
      "\n",
      "0it [00:00, ?it/s]"
     ]
    },
    {
     "name": "stdout",
     "output_type": "stream",
     "text": [
      "torch.Size([1, 343]) torch.Size([1, 343])\n",
      "question: Who discovered an optical phenomenon in which linearly polarized light undergoes a small lateral shift when totally internally reflected., \n",
      " context: The Goos-Hanchen effect (named after Hermann Fritz Gustav Goos (1883 1968) and Hilda Hanchen (1919 2013) is an optical phenomenon in which linearly polarized light undergoes a small lateral shift when totally internally reflected. The shift is perpendicular to the direction of propagation in the plane containing the incident and reflected beams. This effect is the linear polarization analog of the Imbert-Fedorov effect. This effect occurs because the reflections of a finite sized beam will interfere along a line transverse to the average propagation direction. As shown in the figure, the superposition of two plane waves with slightly different angles of incidence but with the same frequency or wavelength is given by \\mathbf \\mathbf \\mathbf where cos sin \\mathbf \\theta \\theta and cos sin \\mathbf \\theta \\theta with .It can be shown that the two waves generate an interference pattern transverse to the average propagation direction, cos sin \\mathbf and on the interface along the plane. Both waves are reflected from the surface and undergo different phase shifts, which leads to a lateral shift of the finite beam. Therefore, the Goos-Hanchen effect is a coherence phenomenon. This effect continues to be a topic of scientific research, for example in the context of nanophotonics applications. negative Goos-Hanchen shift was shown by Wild and Giles. Sensitive detection of biological molecules is achieved based on measuring the Goos-Hanchen shift, where the signal of lateral change is in a linear relation with the concentration of target molecules. The work by Merano et al. studied the Goos-Hanchen effect experimentally for the case of an optical beam reflecting from a metal surface (gold) at 826 nm. They report a substantial, negative lateral shift of the reflected beam in the plane of incidence for a p-polarization and a smaller, positive shift for the s-polarization case., \n",
      " model answer: ['Hermann', 'Fritz', 'Gustav', 'Goos'], \n",
      " ground truth: [{'gender': 'male', 'ethnicity': 'unknown', 'nationality': 'Germany', 'name': 'Fritz Goos'}, {'gender': 'female', 'ethnicity': 'unknown', 'nationality': 'Germany', 'name': 'Hilda Hanchen'}]\n",
      " accuracy: 0.7023809523809523\n",
      "torch.Size([1, 27]) torch.Size([1, 18])\n"
     ]
    },
    {
     "name": "stderr",
     "output_type": "stream",
     "text": [
      "\n",
      "0it [00:00, ?it/s]\n"
     ]
    },
    {
     "name": "stdout",
     "output_type": "stream",
     "text": [
      "torch.Size([1, 27]) torch.Size([1, 27])\n",
      "question: Who discovered a list of scientific phenomena and concepts named after people (eponymous phenomena)., \n",
      " context: This is a list of scientific phenomena and concepts named after people (eponymous phenomena). For other lists of eponyms, see eponym., \n",
      " model answer: no answer, \n",
      " ground truth: [{'gender': 'male', 'ethnicity': 'unknown', 'nationality': 'United States of America', 'name': 'Kenneth Greisen'}, {'gender': 'male', 'ethnicity': 'unknown', 'nationality': 'Soviet Union', 'name': 'Georgiy Zatsepin'}, {'gender': 'male', 'ethnicity': 'unknown', 'nationality': 'Soviet Union', 'name': 'Vadim Kuzmin'}]\n",
      " accuracy: 0.7023809523809523\n",
      "torch.Size([1, 153]) torch.Size([1, 23])\n"
     ]
    },
    {
     "name": "stderr",
     "output_type": "stream",
     "text": [
      "0it [00:00, ?it/s]"
     ]
    },
    {
     "name": "stdout",
     "output_type": "stream",
     "text": [
      "torch.Size([1, 153]) torch.Size([1, 153])\n",
      "question: Who discovered rational numbers that, in certain situations, count pseudoholomorphic curves meeting prescribed conditions in a given symplectic manifold., \n",
      " context: In mathematics, specifically in symplectic topology and algebraic geometry, Gromov-Witten (GW) invariants are rational numbers that, in certain situations, count pseudoholomorphic curves meeting prescribed conditions in a given symplectic manifold. The GW invariants may be packaged as a homology or cohomology class in an appropriate space, or as the deformed cup product of quantum cohomology. These invariants have been used to distinguish symplectic manifolds that were previously indistinguishable. They also play a crucial role in closed type IIA string theory. They are named after Mikhail Gromov and Edward Witten. The rigorous mathematical definition of Gromov-Witten invariants is lengthy and difficult, so it is treated separately in the stable map article. This article attempts a more intuitive explanation of what the invariants mean, how they are computed, and why they are important., \n",
      " model answer: ['Gromov', '-', 'Witten', '(', 'GW', ')', 'invariants'], \n",
      " ground truth: [{'gender': 'unknown', 'ethnicity': 'unknown', 'nationality': 'unknown', 'name': 'Mikhail Gromov'}, {'gender': 'male', 'ethnicity': 'unknown', 'nationality': 'United States of America', 'name': 'Edward Witten'}]\n",
      " accuracy: 0.7023809523809523\n",
      "torch.Size([1, 38]) torch.Size([1, 18])\n",
      "torch.Size([1, 38]) torch.Size([1, 38])\n",
      "question: Who discovered processes in photoelectrochemistry; they usually involve transforming light into other forms of energy., \n",
      " context: Photoelectrochemical processes are processes in photoelectrochemistry; they usually involve transforming light into other forms of energy. These processes apply to photochemistry, optically pumped lasers, sensitized solar cells, luminescence, and photochromism., \n",
      " model answer: ['Photoelectrochemical'], \n",
      " ground truth: [{'gender': 'unknown', 'ethnicity': 'unknown', 'nationality': 'unknown', 'name': 'Christian Johann Dietrich Theodor von Grotthuss'}, {'gender': 'male', 'ethnicity': 'English people', 'nationality': 'United States of America', 'name': 'John William Draper'}]\n",
      " accuracy: 0.7023809523809523\n"
     ]
    },
    {
     "name": "stderr",
     "output_type": "stream",
     "text": [
      "\n",
      "0it [00:00, ?it/s]\n",
      "0it [00:00, ?it/s]\n"
     ]
    },
    {
     "name": "stdout",
     "output_type": "stream",
     "text": [
      "torch.Size([1, 38]) torch.Size([1, 18])\n",
      "torch.Size([1, 38]) torch.Size([1, 38])\n",
      "question: Who discovered processes in photoelectrochemistry; they usually involve transforming light into other forms of energy., \n",
      " context: Photoelectrochemical processes are processes in photoelectrochemistry; they usually involve transforming light into other forms of energy. These processes apply to photochemistry, optically pumped lasers, sensitized solar cells, luminescence, and photochromism., \n",
      " model answer: ['Photoelectrochemical'], \n",
      " ground truth: [{'gender': 'unknown', 'ethnicity': 'unknown', 'nationality': 'unknown', 'name': 'Christian Johann Dietrich Theodor von Grotthuss'}, {'gender': 'male', 'ethnicity': 'English people', 'nationality': 'United States of America', 'name': 'John William Draper'}]\n",
      " accuracy: 0.7023809523809523\n",
      "torch.Size([1, 154]) torch.Size([1, 13])\n"
     ]
    },
    {
     "name": "stderr",
     "output_type": "stream",
     "text": [
      "0it [00:00, ?it/s]"
     ]
    },
    {
     "name": "stdout",
     "output_type": "stream",
     "text": [
      "torch.Size([1, 154]) torch.Size([1, 154])\n",
      "question: Who discovered an example of a generalized class of Fourier transforms., \n",
      " context: The Hadamard transform (also known as the Walsh-Hadamard transform, Hadamard-Rademacher-Walsh transform, Walsh transform, or Walsh-Fourier transform) is an example of a generalized class of Fourier transforms. It performs an orthogonal, symmetric, involutive, linear operation on 2m real numbers (or complex, or hypercomplex numbers, although the Hadamard matrices themselves are purely real). The Hadamard transform can be regarded as being built out of size-2 discrete Fourier transforms (DFTs), and is in fact equivalent to a multidimensional DFT of size 2. It decomposes an arbitrary input vector into a superposition of Walsh functions. The transform is named for the French mathematician Jacques Hadamard (French: [adamaR]), the German-American mathematician Hans Rademacher, and the American mathematician Joseph L. Walsh., \n",
      " model answer: ['Hadamard'], \n",
      " ground truth: [{'gender': 'male', 'ethnicity': 'unknown', 'nationality': 'France', 'name': 'Jacques Hadamard'}, {'gender': 'male', 'ethnicity': 'unknown', 'nationality': 'Germany', 'name': 'Hans Rademacher'}, {'gender': 'male', 'ethnicity': 'unknown', 'nationality': 'United States of America', 'name': 'Joseph L. Walsh'}]\n",
      " accuracy: 0.7023809523809523\n",
      "torch.Size([1, 182]) torch.Size([1, 18])\n"
     ]
    },
    {
     "name": "stderr",
     "output_type": "stream",
     "text": [
      "\n",
      "0it [00:00, ?it/s]"
     ]
    },
    {
     "name": "stdout",
     "output_type": "stream",
     "text": [
      "torch.Size([1, 182]) torch.Size([1, 182])\n",
      "question: Who discovered an English mathematician, known for his achievements in number theory and mathematical analysis., \n",
      " context: Godfrey Harold Hardy (7 February 1877 December 1947) was an English mathematician, known for his achievements in number theory and mathematical analysis. In biology, he is known for the Hardy-Weinberg principle, a basic principle of population genetics. G. H. Hardy is usually known by those outside the field of mathematics for his 1940 essay Mathematician's Apology, often considered one of the best insights into the mind of a working mathematician written for the layperson. Starting in 1914, Hardy was the mentor of the Indian mathematician Srinivasa Ramanujan, a relationship that has become celebrated. Hardy almost immediately recognised Ramanujan's extraordinary albeit untutored brilliance, and Hardy and Ramanujan became close collaborators. In an interview by Paul Erdos, when Hardy was asked what his greatest contribution to mathematics was, Hardy unhesitatingly replied that it was the discovery of Ramanujan. In a lecture on Ramanujan, Hardy said that \"my association with him is the one romantic incident in my life\"., \n",
      " model answer: ['Godfrey', 'Harold', 'Hardy'], \n",
      " ground truth: [{'gender': 'male', 'ethnicity': 'unknown', 'nationality': 'United Kingdom', 'name': 'Godfrey Harold Hardy'}, {'gender': 'unknown', 'ethnicity': 'unknown', 'nationality': 'unknown', 'name': 'John E. Littlewood'}]\n",
      " accuracy: 0.7023809523809523\n",
      "torch.Size([1, 251]) torch.Size([1, 31])\n"
     ]
    },
    {
     "name": "stderr",
     "output_type": "stream",
     "text": [
      "\n",
      "0it [00:00, ?it/s]"
     ]
    },
    {
     "name": "stdout",
     "output_type": "stream",
     "text": [
      "torch.Size([1, 251]) torch.Size([1, 251])\n",
      "question: Who discovered a theorem that states that allele and genotype frequencies in a population will remain constant from generation to generation in the absence of other evolutionary influences.  , \n",
      " context: In population genetics, the Hardy-Weinberg principle, also known as the Hardy-Weinberg equilibrium, model, theorem, or law, states that allele and genotype frequencies in a population will remain constant from generation to generation in the absence of other evolutionary influences. These influences include genetic drift, mate choice, assortative mating, natural selection, sexual selection, mutation, gene flow, meiotic drive, genetic hitchhiking, population bottleneck, founder effect and inbreeding. In the simplest case of a single locus with two alleles denoted and a with frequencies f(A) and f(a) q, respectively, the expected genotype frequencies under random mating are f(AA) p2 for the AA homozygotes, f(aa) q2 for the aa homozygotes, and f(Aa) 2pq for the heterozygotes. In the absence of selection, mutation, genetic drift, or other forces, allele frequencies and are constant between generations, so equilibrium is reached. The principle is named after G. H. Hardy and Wilhelm Weinberg, who first demonstrated it mathematically. Hardy's paper was focused on debunking the view that a dominant allele would automatically tend to increase in frequency (a view possibly based on a misinterpreted question at a lecture). Today, tests for Hardy-Weinberg genotype frequencies are used primarily to test for population stratification and other forms of non-random mating., \n",
      " model answer: ['Hardy', '-', 'Weinberg', 'principle'], \n",
      " ground truth: [{'gender': 'male', 'ethnicity': 'unknown', 'nationality': 'German Empire', 'name': 'Wilhelm Weinberg'}, {'gender': 'male', 'ethnicity': 'unknown', 'nationality': 'United Kingdom', 'name': 'Godfrey Harold Hardy'}]\n",
      " accuracy: 0.7023809523809523\n",
      "torch.Size([1, 137]) torch.Size([1, 29])\n"
     ]
    },
    {
     "name": "stderr",
     "output_type": "stream",
     "text": [
      "\n",
      "0it [00:00, ?it/s]\n",
      "Traceback (most recent call last):\n",
      "  File \"<ipython-input-144-0ab5a653ee6a>\", line 12, in <module>\n",
      "    model_ans = answer_question(example['context'], example['question'])\n",
      "  File \"<ipython-input-143-75f5d3a8a0fe>\", line 18, in answer_question\n",
      "    context_idxs, ques_idxs = preprocess(context, question, word2idx_dict)\n",
      "  File \"<ipython-input-8-21f0d84691f7>\", line 60, in preprocess\n",
      "    ques_idx[i] = _get_word(token)\n",
      "IndexError: index 50 is out of bounds for axis 0 with size 50\n",
      "0it [00:00, ?it/s]"
     ]
    },
    {
     "name": "stdout",
     "output_type": "stream",
     "text": [
      "torch.Size([1, 137]) torch.Size([1, 137])\n",
      "question: Who discovered a way of visualizing the relationship between the output price ratios, the input price ratios, and the endowment ratio of the two goods., \n",
      " context: In two-sector macroeconomic models, a Harrod-Johnson diagram is a way of visualizing the relationship between the output price ratios, the input price ratios, and the endowment ratio of the two goods. Often the goods are a consumption and investment good, and this diagram shows what will happen to the price ratio if the endowment changes. The diagram juxtaposes a graph which has input price ratios as its horizontal axis, endowment ratios as its positive vertical axis, and output price ratios as its negative vertical axis. This may seem unintuitive, but doing this makes it easier to see the relationship between the output price ratios and the endowment. The diagram is named after economists Roy F. Harrod and Harry G. Johnson., \n",
      " model answer: ['Harrod', '-', 'Johnson', 'diagram'], \n",
      " ground truth: [{'gender': 'male', 'ethnicity': 'unknown', 'nationality': 'United Kingdom', 'name': 'Roy F. Harrod'}, {'gender': 'male', 'ethnicity': 'unknown', 'nationality': 'Canada', 'name': 'Harry G. Johnson'}]\n",
      " accuracy: 0.7023809523809523\n",
      "torch.Size([1, 54]) torch.Size([1, 9])\n"
     ]
    },
    {
     "name": "stderr",
     "output_type": "stream",
     "text": [
      "\n",
      "0it [00:00, ?it/s]\n"
     ]
    },
    {
     "name": "stdout",
     "output_type": "stream",
     "text": [
      "torch.Size([1, 54]) torch.Size([1, 54])\n",
      "question: Who discovered a theorem that states:\n",
      ", \n",
      " context: In real analysis the Heine-Borel theorem, named after Eduard Heine and Emile Borel, states: For a subset of Euclidean space Rn, the following two statements are equivalent: is closed and bounded is compact, that is, every open cover of has a finite subcover., \n",
      " model answer: no answer, \n",
      " ground truth: [{'gender': 'male', 'ethnicity': 'unknown', 'nationality': 'Kingdom of Prussia', 'name': 'Heinrich Eduard Heine'}, {'gender': 'male', 'ethnicity': 'unknown', 'nationality': 'France', 'name': 'Felix Edouard Justin Emile Borel'}]\n",
      " accuracy: 0.7023809523809523\n",
      "torch.Size([1, 54]) torch.Size([1, 9])\n",
      "torch.Size([1, 54]) torch.Size([1, 54])\n",
      "question: Who discovered a theorem that states:\n",
      ", \n",
      " context: In real analysis the Heine-Borel theorem, named after Eduard Heine and Emile Borel, states: For a subset of Euclidean space Rn, the following two statements are equivalent: is closed and bounded is compact, that is, every open cover of has a finite subcover., \n",
      " model answer: no answer, \n",
      " ground truth: [{'gender': 'male', 'ethnicity': 'unknown', 'nationality': 'Kingdom of Prussia', 'name': 'Heinrich Eduard Heine'}, {'gender': 'male', 'ethnicity': 'unknown', 'nationality': 'France', 'name': 'Felix Edouard Justin Emile Borel'}]\n",
      " accuracy: 0.7023809523809523\n"
     ]
    },
    {
     "name": "stderr",
     "output_type": "stream",
     "text": [
      "0it [00:00, ?it/s]\n"
     ]
    },
    {
     "name": "stdout",
     "output_type": "stream",
     "text": [
      "torch.Size([1, 54]) torch.Size([1, 9])\n",
      "torch.Size([1, 54]) torch.Size([1, 54])\n",
      "question: Who discovered a theorem that states:\n",
      ", \n",
      " context: In real analysis the Heine-Borel theorem, named after Eduard Heine and Emile Borel, states: For a subset of Euclidean space Rn, the following two statements are equivalent: is closed and bounded is compact, that is, every open cover of has a finite subcover., \n",
      " model answer: no answer, \n",
      " ground truth: [{'gender': 'male', 'ethnicity': 'unknown', 'nationality': 'Kingdom of Prussia', 'name': 'Heinrich Eduard Heine'}, {'gender': 'male', 'ethnicity': 'unknown', 'nationality': 'France', 'name': 'Felix Edouard Justin Emile Borel'}]\n",
      " accuracy: 0.7023809523809523\n"
     ]
    },
    {
     "name": "stderr",
     "output_type": "stream",
     "text": [
      "0it [00:00, ?it/s]\n"
     ]
    },
    {
     "name": "stdout",
     "output_type": "stream",
     "text": [
      "torch.Size([1, 328]) torch.Size([1, 12])\n"
     ]
    },
    {
     "name": "stderr",
     "output_type": "stream",
     "text": [
      "0it [00:00, ?it/s]"
     ]
    },
    {
     "name": "stdout",
     "output_type": "stream",
     "text": [
      "torch.Size([1, 328]) torch.Size([1, 328])\n",
      "question: Who discovered bright patches of nebulosity associated with newborn stars., \n",
      " context: Herbig-Haro (HH) objects are bright patches of nebulosity associated with newborn stars. They are formed when narrow jets of partially ionised gas ejected by stars collide with nearby clouds of gas and dust at several hundred kilometres per second. Herbig-Haro objects are commonly found in star-forming regions, and several are often seen around a single star, aligned with its rotational axis. Most of them lie within about one parsec (3.26 light-years) of the source, although some have been observed several parsecs away. HH objects are transient phenomena that last around a few tens of thousands of years. They can change visibly over timescales of a few years as they move rapidly away from their parent star into the gas clouds of interstellar space (the interstellar medium or ISM). Hubble Space Telescope observations have revealed the complex evolution of HH objects over the period of a few years, as parts of the nebula fade while others brighten as they collide with the clumpy material of the interstellar medium. First observed in the late 19th century by Sherburne Wesley Burnham, Herbig-Haro objects were recognised as a distinct type of emission nebula in the 1940s. The first astronomers to study them in detail were George Herbig and Guillermo Haro, after whom they have been named. Herbig and Haro were working independently on studies of star formation when they first analysed the objects, and recognised that they were a by-product of the star formation process. Although HH objects are a visible wavelength phenomena, many remain invisible at these wavelengths due to dust and gas, and can only be detected at infrared wavelengths. Such objects, when observed in near infrared, are called molecular hydrogen emission-line objects (MHOs)., \n",
      " model answer: ['Herbig', '-', 'Haro'], \n",
      " ground truth: [{'gender': 'male', 'ethnicity': 'unknown', 'nationality': 'United States of America', 'name': 'George Herbig'}, {'gender': 'male', 'ethnicity': 'unknown', 'nationality': 'Mexico', 'name': 'Guillermo Haro'}]\n",
      " accuracy: 0.7023809523809523\n",
      "torch.Size([1, 71]) torch.Size([1, 27])\n"
     ]
    },
    {
     "name": "stderr",
     "output_type": "stream",
     "text": [
      "\n",
      "0it [00:00, ?it/s]"
     ]
    },
    {
     "name": "stdout",
     "output_type": "stream",
     "text": [
      "torch.Size([1, 71]) torch.Size([1, 71])\n",
      "question: Who discovered a scatter plot of stars showing the relationship between the stars' absolute magnitudes or luminosities versus their stellar classifications or effective temperatures., \n",
      " context: The Hertzsprung-Russell diagram, abbreviated as H-R diagram, HR diagram or HRD, is a scatter plot of stars showing the relationship between the stars' absolute magnitudes or luminosities versus their stellar classifications or effective temperatures. The diagram was created independently around 1910 by Ejnar Hertzsprung and Henry Norris Russell, and represented a major step towards an understanding of stellar evolution., \n",
      " model answer: ['The', 'Hertzsprung', '-', 'Russell', 'diagram'], \n",
      " ground truth: [{'gender': 'male', 'ethnicity': 'unknown', 'nationality': 'Kingdom of the Netherlands', 'name': 'Ejnar Hertzsprung'}, {'gender': 'male', 'ethnicity': 'unknown', 'nationality': 'United States of America', 'name': 'Henry Norris Russell'}]\n",
      " accuracy: 0.7023809523809523\n",
      "torch.Size([1, 195]) torch.Size([1, 38])\n"
     ]
    },
    {
     "name": "stderr",
     "output_type": "stream",
     "text": [
      "\n",
      "0it [00:00, ?it/s]"
     ]
    },
    {
     "name": "stdout",
     "output_type": "stream",
     "text": [
      "torch.Size([1, 195]) torch.Size([1, 195])\n",
      "question: Who discovered a theorem that describes the time it takes for a person to make a decision as a result of the possible choices: increasing the number of choices will increase the decision time logarithmically., \n",
      " context: Hick's law, or the Hick-Hyman law, named after British and American psychologists William Edmund Hick and Ray Hyman, describes the time it takes for a person to make a decision as a result of the possible choices: increasing the number of choices will increase the decision time logarithmically. The Hick-Hyman law assesses cognitive information capacity in choice reaction experiments. The amount of time taken to process a certain amount of bits in the Hick-Hyman law is known as the rate of gain of information. Hick's law is sometimes cited to justify menu design decisions. For example, to find a given word (e.g. the name of a command) in a randomly ordered word list (e.g. a menu), scanning of each word in the list is required, consuming linear time, so Hick's law does not apply. However, if the list is alphabetical and the user knows the name of the command, he or she may be able to use a subdividing strategy that works in logarithmic time., \n",
      " model answer: ['Ray', 'Hyman'], \n",
      " ground truth: [{'gender': 'male', 'ethnicity': 'unknown', 'nationality': 'United Kingdom', 'name': 'William Edmund Hick'}, {'gender': 'male', 'ethnicity': 'unknown', 'nationality': 'United States of America', 'name': 'Ray Hyman'}]\n",
      " accuracy: 0.7023809523809523\n",
      "torch.Size([1, 113]) torch.Size([1, 16])\n"
     ]
    },
    {
     "name": "stderr",
     "output_type": "stream",
     "text": [
      "\n",
      "0it [00:00, ?it/s]"
     ]
    },
    {
     "name": "stdout",
     "output_type": "stream",
     "text": [
      "torch.Size([1, 113]) torch.Size([1, 113])\n",
      "question: Who discovered the sum of at most s natural numbers raised to the power k., \n",
      " context: In number theory, Waring's problem asks whether each natural number has an associated positive integer such that every natural number is the sum of at most natural numbers raised to the power k. For example, every natural number is the sum of at most squares, cubes, or 19 fourth powers. Waring's problem was proposed in 1770 by Edward Waring, after whom it is named. Its affirmative answer, known as the Hilbert-Waring theorem, was provided by Hilbert in 1909. Waring's problem has its own Mathematics Subject Classification, 11P05, \"Waring's problem and variants.\", \n",
      " model answer: ['Waring'], \n",
      " ground truth: [{'gender': 'male', 'ethnicity': 'Germans', 'nationality': 'Prussia', 'name': 'David Hilbert'}, {'gender': 'male', 'ethnicity': 'unknown', 'nationality': 'Great Britain', 'name': 'Edward Waring'}]\n",
      " accuracy: 0.7023809523809523\n",
      "torch.Size([1, 242]) torch.Size([1, 19])\n"
     ]
    },
    {
     "name": "stderr",
     "output_type": "stream",
     "text": [
      "\n",
      "0it [00:00, ?it/s]"
     ]
    },
    {
     "name": "stdout",
     "output_type": "stream",
     "text": [
      "torch.Size([1, 242]) torch.Size([1, 242])\n",
      "question: Who discovered a device that uses an electric field to heat ions to nuclear fusion conditions.  , \n",
      " context: fusor is a device that uses an electric field to heat ions to nuclear fusion conditions. The machine induces a voltage between two metal cages, inside a vacuum. Positive ions fall down this voltage drop, building up speed. If they collide in the center, they can fuse. This is one kind of an inertial electrostatic confinement device branch of fusion research. Farnsworth-Hirsch fusor is the most common type of fusor. This design came from work by Philo T. Farnsworth in 1964 and Robert L. Hirsch in 1967. variant type of fusor had been proposed previously by William Elmore, James L. Tuck, and Ken Watson at the Los Alamos National Laboratory though they never built the machine. Fusors have been built by various institutions. These include academic institutions such as the University of Wisconsin-Madison, the Massachusetts Institute of Technology and government entities, such as the Atomic Energy Organization of Iran and the Turkish Atomic Energy Authority. Fusors have also been developed commercially, as sources for neutrons by DaimlerChrysler Aerospace and as a method for generating medical isotopes. Fusors have also become very popular for hobbyists and amateurs. growing number of amateurs have performed nuclear fusion using simple fusor machines. However, fusors are not considered a viable concept for large-scale energy production by scientists., \n",
      " model answer: ['fusor'], \n",
      " ground truth: [{'gender': 'unknown', 'ethnicity': 'unknown', 'nationality': 'unknown', 'name': 'Robert L. Hirsch'}, {'gender': 'unknown', 'ethnicity': 'unknown', 'nationality': 'unknown', 'name': 'Gene A. Meeks'}]\n",
      " accuracy: 0.7023809523809523\n",
      "torch.Size([1, 210]) torch.Size([1, 15])\n"
     ]
    },
    {
     "name": "stderr",
     "output_type": "stream",
     "text": [
      "\n",
      "0it [00:00, ?it/s]"
     ]
    },
    {
     "name": "stdout",
     "output_type": "stream",
     "text": [
      "torch.Size([1, 210]) torch.Size([1, 210])\n",
      "question: Who discovered a theory of quantum gravity proposed by Petr Horava in 2009., \n",
      " context: Horava-Lifshitz gravity (or Horava gravity) is a theory of quantum gravity proposed by Petr Horava in 2009. It solves the problem of different concepts of time in quantum field theory and general relativity by treating the quantum concept as the more fundamental so that space and time are not equivalent (anisotropic) at high energy level. The relativistic concept of time with its Lorentz invariance emerges at large distances. The theory relies on the theory of foliations to produce its causal structure. It is related to topologically massive gravity and the Cotton tensor. It is a possible UV completion of general relativity. Also, the speed of light goes to infinity at high energies. The novelty of this approach, compared to previous approaches to quantum gravity such as Loop quantum gravity, is that it uses concepts from condensed matter physics such as quantum critical phenomena. Horava's initial formulation was found to have side-effects such as predicting very different results for a spherical Sun compared to a slightly non-spherical Sun, so others have modified the theory. Inconsistencies remain. However progress has been made on the theory., \n",
      " model answer: no answer, \n",
      " ground truth: [{'gender': 'male', 'ethnicity': 'unknown', 'nationality': 'Czech Republic', 'name': 'Petr Horava'}, {'gender': 'male', 'ethnicity': 'unknown', 'nationality': 'Russian Empire', 'name': 'Evgeny Lifshitz'}]\n",
      " accuracy: 0.7023809523809523\n",
      "torch.Size([1, 76]) torch.Size([1, 25])\n"
     ]
    },
    {
     "name": "stderr",
     "output_type": "stream",
     "text": [
      "\n",
      "0it [00:00, ?it/s]"
     ]
    },
    {
     "name": "stdout",
     "output_type": "stream",
     "text": [
      "torch.Size([1, 76]) torch.Size([1, 76])\n",
      "question: Who discovered a type of domain wall that behaves as a boundary of the eleven-dimensional spacetime in M-theory.\n",
      ", \n",
      " context: In theoretical physics, a Horava-Witten domain wall is a type of domain wall that behaves as a boundary of the eleven-dimensional spacetime in M-theory. Petr Horava and Edward Witten argued that the cancellation of anomalies guarantees that a supersymmetric gauge theory with the E8 gauge group propagates on this domain wall. This fact is important for various relations between M-theory and superstring theory., \n",
      " model answer: ['Horava', '-', 'Witten'], \n",
      " ground truth: [{'gender': 'male', 'ethnicity': 'unknown', 'nationality': 'Czech Republic', 'name': 'Petr Horava'}, {'gender': 'male', 'ethnicity': 'unknown', 'nationality': 'United States of America', 'name': 'Edward Witten'}]\n",
      " accuracy: 0.7023809523809523\n",
      "torch.Size([1, 76]) torch.Size([1, 25])\n"
     ]
    },
    {
     "name": "stderr",
     "output_type": "stream",
     "text": [
      "\n",
      "0it [00:00, ?it/s]"
     ]
    },
    {
     "name": "stdout",
     "output_type": "stream",
     "text": [
      "torch.Size([1, 76]) torch.Size([1, 76])\n",
      "question: Who discovered a type of domain wall that behaves as a boundary of the eleven-dimensional spacetime in M-theory.\n",
      ", \n",
      " context: In theoretical physics, a Horava-Witten domain wall is a type of domain wall that behaves as a boundary of the eleven-dimensional spacetime in M-theory. Petr Horava and Edward Witten argued that the cancellation of anomalies guarantees that a supersymmetric gauge theory with the E8 gauge group propagates on this domain wall. This fact is important for various relations between M-theory and superstring theory., \n",
      " model answer: ['Horava', '-', 'Witten'], \n",
      " ground truth: [{'gender': 'male', 'ethnicity': 'unknown', 'nationality': 'Czech Republic', 'name': 'Petr Horava'}, {'gender': 'male', 'ethnicity': 'unknown', 'nationality': 'United States of America', 'name': 'Edward Witten'}]\n",
      " accuracy: 0.7023809523809523\n",
      "torch.Size([1, 167]) torch.Size([1, 26])\n"
     ]
    },
    {
     "name": "stderr",
     "output_type": "stream",
     "text": [
      "\n",
      "0it [00:00, ?it/s]"
     ]
    },
    {
     "name": "stdout",
     "output_type": "stream",
     "text": [
      "torch.Size([1, 167]) torch.Size([1, 167])\n",
      "question: Who discovered a name reaction in organic chemistry whereby silver salts of carboxylic acids react with a halogen to produce an organic halide.  , \n",
      " context: The Hunsdiecker reaction (also called the Borodin reaction or the Hunsdiecker-Borodin reaction) is a name reaction in organic chemistry whereby silver salts of carboxylic acids react with a halogen to produce an organic halide. It is an example of both a decarboxylation and a halogenation reaction as the product has one fewer carbon atoms than the starting material (lost as carbon dioxide) and a halogen atom is introduced its place. The reaction was first demonstrated by Alexander Borodin in his 1861 reports of the preparation of methyl bromide (CH3Br) from silver acetate (CH3CO2Ag). Shortly after, the approach was applied to the degradation of fatty acids in the laboratory of Adolf Lieben. However, it is named for Clare Hunsdiecker and her husband Heinz Hunsdiecker, whose work in the 1930s developed it into a general method. Several reviews have been published, and a catalytic approach has been developed., \n",
      " model answer: ['Hunsdiecker'], \n",
      " ground truth: [{'gender': 'male', 'ethnicity': 'unknown', 'nationality': 'Germany', 'name': 'Heinz Hunsdiecker'}, {'gender': 'female', 'ethnicity': 'unknown', 'nationality': 'unknown', 'name': 'Clare Hunsdiecker'}]\n",
      " accuracy: 0.7023809523809523\n",
      "torch.Size([1, 86]) torch.Size([1, 31])\n"
     ]
    },
    {
     "name": "stderr",
     "output_type": "stream",
     "text": [
      "\n",
      "0it [00:00, ?it/s]"
     ]
    },
    {
     "name": "stdout",
     "output_type": "stream",
     "text": [
      "torch.Size([1, 86]) torch.Size([1, 86])\n",
      "question: Who discovered a method of analysis applied to problems of wave propagation both in the far-field limit and in near-field diffraction and also reflection.  , \n",
      " context: The Huygens-Fresnel principle (named after Dutch physicist Christiaan Huygens and French physicist Augustin-Jean Fresnel) is a method of analysis applied to problems of wave propagation both in the far-field limit and in near-field diffraction and also reflection. It states that every point on a wavefront is itself the source of spherical wavelets, and the secondary wavelets emanating from different points mutually interfere. The sum of these spherical wavelets forms the wavefront., \n",
      " model answer: ['The', 'Huygens', '-', 'Fresnel', 'principle'], \n",
      " ground truth: [{'gender': 'male', 'ethnicity': 'unknown', 'nationality': 'Dutch Republic', 'name': 'Christiaan Huygens'}, {'gender': 'unknown', 'ethnicity': 'unknown', 'nationality': 'unknown', 'name': 'Augustin-Jean Fresnel'}]\n",
      " accuracy: 0.7023809523809523\n",
      "torch.Size([1, 79]) torch.Size([1, 30])\n"
     ]
    },
    {
     "name": "stderr",
     "output_type": "stream",
     "text": [
      "\n",
      "0it [00:00, ?it/s]\n",
      "Traceback (most recent call last):\n",
      "  File \"<ipython-input-144-0ab5a653ee6a>\", line 12, in <module>\n",
      "    model_ans = answer_question(example['context'], example['question'])\n",
      "  File \"<ipython-input-143-75f5d3a8a0fe>\", line 18, in answer_question\n",
      "    context_idxs, ques_idxs = preprocess(context, question, word2idx_dict)\n",
      "  File \"<ipython-input-8-21f0d84691f7>\", line 60, in preprocess\n",
      "    ques_idx[i] = _get_word(token)\n",
      "IndexError: index 50 is out of bounds for axis 0 with size 50\n",
      "0it [00:00, ?it/s]"
     ]
    },
    {
     "name": "stdout",
     "output_type": "stream",
     "text": [
      "torch.Size([1, 79]) torch.Size([1, 79])\n",
      "question: Who discovered an optical phenomenon in which a beam of circularly or elliptically polarized light undergoes a small sideways  shift, when refracted or totally internally reflected., \n",
      " context: The Imbert-Fiodarau effect (named after Fiodar Ivanavic Fiodarau (1911 1994) and Christian Imbert (1937 1998) is an optical phenomenon in which a beam of circularly or elliptically polarized light undergoes a small sideways shift, when refracted or totally internally reflected. The sideways shift is perpendicular to the plane containing the incident and reflected beams. This effect is the circular polarization analog of the Goos-Hanchen effect., \n",
      " model answer: ['Fiodar', 'Ivanavic', 'Fiodarau'], \n",
      " ground truth: [{'gender': 'unknown', 'ethnicity': 'unknown', 'nationality': 'unknown', 'name': 'Christian Imbert'}, {'gender': 'unknown', 'ethnicity': 'unknown', 'nationality': 'unknown', 'name': 'Fedor Ivanovic Fedorov'}]\n",
      " accuracy: 0.7023809523809523\n",
      "torch.Size([1, 162]) torch.Size([1, 14])\n"
     ]
    },
    {
     "name": "stderr",
     "output_type": "stream",
     "text": [
      "\n",
      "0it [00:00, ?it/s]"
     ]
    },
    {
     "name": "stdout",
     "output_type": "stream",
     "text": [
      "torch.Size([1, 162]) torch.Size([1, 162])\n",
      "question: Who discovered a string metric measuring an edit distance between two sequences., \n",
      " context: In computer science and statistics, the Jaro-Winkler distance is a string metric measuring an edit distance between two sequences. It is a variant proposed in 1990 by William E. Winkler of the Jaro distance metric (1989, Matthew A. Jaro). The Jaro-Winkler distance uses a prefix scale which gives more favourable ratings to strings that match from the beginning for a set prefix length \\ell The lower the Jaro-Winkler distance for two strings is, the more similar the strings are. The score is normalized such that means an exact match and means there is no similarity. The Jaro-Winkler similarity is the inversion, (1 Jaro-Winkler distance). Although often referred to as a distance metric, the Jaro-Winkler distance is not a metric in the mathematical sense of that term because it does not obey the triangle inequality., \n",
      " model answer: ['Jaro', '-', 'Winkler', 'distance'], \n",
      " ground truth: [{'gender': 'unknown', 'ethnicity': 'unknown', 'nationality': 'unknown', 'name': 'Matthew A. Jaro'}, {'gender': 'unknown', 'ethnicity': 'unknown', 'nationality': 'unknown', 'name': 'William E. Winkler'}]\n",
      " accuracy: 0.7023809523809523\n",
      "torch.Size([1, 386]) torch.Size([1, 24])\n"
     ]
    },
    {
     "name": "stderr",
     "output_type": "stream",
     "text": [
      "\n",
      "0it [00:00, ?it/s]"
     ]
    },
    {
     "name": "stdout",
     "output_type": "stream",
     "text": [
      "torch.Size([1, 386]) torch.Size([1, 386])\n",
      "question: Who discovered a goodness-of-fit test of whether sample data have the skewness and kurtosis matching a normal distribution., \n",
      " context: In statistics, the Jarque-Bera test is a goodness-of-fit test of whether sample data have the skewness and kurtosis matching a normal distribution. The test is named after Carlos Jarque and Anil K. Bera. The test statistic is always nonnegative. If it is far from zero, it signals the data do not have a normal distribution. The test statistic JB is defined as where is the number of observations (or degrees of freedom in general); is the sample skewness, is the sample kurtosis where and are the estimates of third and fourth central moments, respectively, is the sample mean, and is the estimate of the second central moment, the variance. If the data comes from a normal distribution, the JB statistic asymptotically has a chi-squared distribution with two degrees of freedom, so the statistic can be used to test the hypothesis that the data are from a normal distribution. The null hypothesis is a joint hypothesis of the skewness being zero and the excess kurtosis being zero. Samples from a normal distribution have an expected skewness of and an expected excess kurtosis of (which is the same as a kurtosis of 3). As the definition of JB shows, any deviation from this increases the JB statistic. For small samples the chi-squared approximation is overly sensitive, often rejecting the null hypothesis when it is true. Furthermore, the distribution of p-values departs from a uniform distribution and becomes a right-skewed unimodal distribution, especially for small p-values. This leads to a large Type error rate. The table below shows some p-values approximated by a chi-squared distribution that differ from their true alpha levels for small samples. (These values have been approximated using Monte Carlo simulation in Matlab) In MATLAB's implementation, the chi-squared approximation for the JB statistic's distribution is only used for large sample sizes (> 2000). For smaller samples, it uses a table derived from Monte Carlo simulations in order to interpolate p-values., \n",
      " model answer: ['Carlos', 'Jarque', 'and', 'Anil', 'K.', 'Bera'], \n",
      " ground truth: [{'gender': 'unknown', 'ethnicity': 'unknown', 'nationality': 'unknown', 'name': 'Carlos M. Jarque'}, {'gender': 'unknown', 'ethnicity': 'unknown', 'nationality': 'unknown', 'name': 'Anil K. Bera'}]\n",
      " accuracy: 0.7023809523809523\n",
      "torch.Size([1, 196]) torch.Size([1, 36])\n"
     ]
    },
    {
     "name": "stderr",
     "output_type": "stream",
     "text": [
      "\n",
      "0it [00:00, ?it/s]"
     ]
    },
    {
     "name": "stdout",
     "output_type": "stream",
     "text": [
      "torch.Size([1, 196]) torch.Size([1, 196])\n",
      "question: Who discovered the electronic noise generated by the thermal agitation of the charge carriers (usually the electrons) inside an electrical conductor at equilibrium, which happens regardless of any applied voltage.  , \n",
      " context: Johnson-Nyquist noise (thermal noise, Johnson noise, or Nyquist noise) is the electronic noise generated by the thermal agitation of the charge carriers (usually the electrons) inside an electrical conductor at equilibrium, which happens regardless of any applied voltage. Thermal noise is present in all electrical circuits, and in sensitive electronic equipment such as radio receivers can drown out weak signals, and can be the limiting factor on sensitivity of an electrical measuring instrument. Thermal noise increases with temperature. Some sensitive electronic equipment such as radio telescope receivers are cooled to cryogenic temperatures to reduce thermal noise in their circuits. The generic, statistical physical derivation of this noise is called the fluctuation-dissipation theorem, where generalized impedance or generalized susceptibility is used to characterize the medium. Thermal noise in an ideal resistor is approximately white, meaning that the power spectral density is nearly constant throughout the frequency spectrum (however see the section below on extremely high frequencies). When limited to a finite bandwidth, thermal noise has a nearly Gaussian amplitude distribution., \n",
      " model answer: ['Johnson', '-', 'Nyquist', 'noise'], \n",
      " ground truth: [{'gender': 'male', 'ethnicity': 'unknown', 'nationality': 'unknown', 'name': 'John B. Johnson'}, {'gender': 'male', 'ethnicity': 'Swedish American', 'nationality': 'United States of America', 'name': 'Harry Nyquist'}]\n",
      " accuracy: 0.7023809523809523\n",
      "torch.Size([1, 94]) torch.Size([1, 20])\n"
     ]
    },
    {
     "name": "stderr",
     "output_type": "stream",
     "text": [
      "\n",
      "0it [00:00, ?it/s]"
     ]
    },
    {
     "name": "stdout",
     "output_type": "stream",
     "text": [
      "torch.Size([1, 94]) torch.Size([1, 94])\n",
      "question: Who discovered the process by which the passage of an electric current through a conductor produces heat.\n",
      ", \n",
      " context: Joule heating, also known as resistive, resistance, or Ohmic heating, is the process by which the passage of an electric current through a conductor produces heat. Joule's first law, also known as the Joule-Lenz law, states that the power of heating generated by an electrical conductor is proportional to the product of its resistance and the square of the current: Joule heating affects the whole electric conductor, unlike the Peltier effect which transfers heat from one electrical junction to another., \n",
      " model answer: ['Joule', 'heating'], \n",
      " ground truth: [{'gender': 'male', 'ethnicity': 'unknown', 'nationality': 'United Kingdom of Great Britain and Ireland', 'name': 'James Prescott Joule'}, {'gender': 'male', 'ethnicity': 'unknown', 'nationality': 'Russian Empire', 'name': 'Heinrich Friedrich Emil Lenz'}]\n",
      " accuracy: 0.7023809523809523\n",
      "torch.Size([1, 238]) torch.Size([1, 48])\n"
     ]
    },
    {
     "name": "stderr",
     "output_type": "stream",
     "text": [
      "\n",
      "0it [00:00, ?it/s]"
     ]
    },
    {
     "name": "stdout",
     "output_type": "stream",
     "text": [
      "torch.Size([1, 238]) torch.Size([1, 238])\n",
      "question: Who discovered a theorem that describes the temperature change of a real gas or liquid (as differentiated from an ideal gas) when it is forced through a valve or porous plug while keeping it insulated so that no heat is exchanged with the environment., \n",
      " context: In thermodynamics, the Joule-Thomson effect (also known as the Joule-Kelvin effect or Kelvin-Joule effect) describes the temperature change of a real gas or liquid (as differentiated from an ideal gas) when it is forced through a valve or porous plug while keeping it insulated so that no heat is exchanged with the environment. This procedure is called a throttling process or Joule-Thomson process. At room temperature, all gases except hydrogen, helium, and neon cool upon expansion by the Joule-Thomson process when being throttled through an orifice; these three gases experience the same effect but only at lower temperatures. Most liquids such as hydraulic oils will be warmed by the Joule-Thomson throttling process. The gas-cooling throttling process is commonly exploited in refrigeration processes such as air conditioners, heat pumps, and liquefiers. In hydraulics, the warming effect from Joule-Thomson throttling can be used to find internally leaking valves as these will produce heat which can be detected by thermocouple or thermal-imaging camera. Throttling is a fundamentally irreversible process. The throttling due to the flow resistance in supply lines, heat exchangers, regenerators, and other components of (thermal) machines is a source of losses that limits the performance., \n",
      " model answer: ['Joule', '-', 'Thomson', 'effect'], \n",
      " ground truth: [{'gender': 'unknown', 'ethnicity': 'unknown', 'nationality': 'unknown', 'name': 'James Prescott Joule and William Thomson'}, {'gender': 'unknown', 'ethnicity': 'unknown', 'nationality': 'unknown', 'name': '1st Baron Kelvin'}]\n",
      " accuracy: 0.7023809523809523\n",
      "torch.Size([1, 199]) torch.Size([1, 34])\n"
     ]
    },
    {
     "name": "stderr",
     "output_type": "stream",
     "text": [
      "\n",
      "0it [00:00, ?it/s]"
     ]
    },
    {
     "name": "stdout",
     "output_type": "stream",
     "text": [
      "torch.Size([1, 199]) torch.Size([1, 199])\n",
      "question: Who discovered first derivative tests (sometimes called first-order necessary conditions) for a solution in nonlinear programming to be optimal, provided that some regularity conditions are satisfied.\n",
      ", \n",
      " context: In mathematical optimization, the Karush-Kuhn-Tucker (KKT) conditions, also known as the Kuhn-Tucker conditions, are first derivative tests (sometimes called first-order necessary conditions) for a solution in nonlinear programming to be optimal, provided that some regularity conditions are satisfied. Allowing inequality constraints, the KKT approach to nonlinear programming generalizes the method of Lagrange multipliers, which allows only equality constraints. Similar to the Lagrange approach, the constrained maximization (minimization) problem is rewritten as a Lagrange function whose optimal point is a saddle point, i.e. a global maximum (minimum) over the domain of the choice variables and a global minimum (maximum) over the multipliers, which is why the Karush-Kuhn-Tucker theorem is sometimes referred to as the saddle-point theorem.The KKT conditions were originally named after Harold W. Kuhn and Albert W. Tucker, who first published the conditions in 1951. Later scholars discovered that the necessary conditions for this problem had been stated by William Karush in his master's thesis in 1939., \n",
      " model answer: ['Karush', '-', 'Kuhn', '-', 'Tucker'], \n",
      " ground truth: [{'gender': 'male', 'ethnicity': 'unknown', 'nationality': 'United States of America', 'name': 'William Karush'}, {'gender': 'unknown', 'ethnicity': 'unknown', 'nationality': 'unknown', 'name': 'Harold W. Kuhn'}, {'gender': 'unknown', 'ethnicity': 'unknown', 'nationality': 'unknown', 'name': 'Albert W. Tucker'}]\n",
      " accuracy: 0.7023809523809523\n",
      "torch.Size([1, 361]) torch.Size([1, 19])\n"
     ]
    },
    {
     "name": "stderr",
     "output_type": "stream",
     "text": [
      "\n",
      "0it [00:00, ?it/s]"
     ]
    },
    {
     "name": "stdout",
     "output_type": "stream",
     "text": [
      "torch.Size([1, 361]) torch.Size([1, 361])\n",
      "question: Who discovered an astronomical process that occurs when the surface of a star or a planet cools., \n",
      " context: The Kelvin-Helmholtz mechanism is an astronomical process that occurs when the surface of a star or a planet cools. The cooling causes the internal pressure to drop, and the star or planet shrinks as a result. This compression, in turn, heats the core of the star/planet. This mechanism is evident on Jupiter and Saturn and on brown dwarfs whose central temperatures are not high enough to undergo hydrogen fusion. It is estimated that Jupiter radiates more energy through this mechanism than it receives from the Sun, but Saturn might not. The latter process causes Jupiter to shrink at a rate of two centimetres each year. Nevertheless in the second edition of his book in 2009, Patrick Irwin gives a shrinking of only mm/year, a value corresponding to an internal flux of 7.485 W/m2 (a figure given by Liming Li et al.), instead of 150 W/m2, corresponding to cm/year, a clearly too high value. The mechanism was originally proposed by Kelvin and Helmholtz in the late nineteenth century to explain the source of energy of the Sun. By the mid-nineteenth century, conservation of energy had been accepted, and one consequence of this law of physics is that the Sun must have some energy source to continue to shine. Because nuclear reactions were unknown, the main candidate for the source of solar energy was gravitational contraction. However, it soon was recognized by Sir Arthur Eddington and others that the total amount of energy available through this mechanism only allowed the Sun to shine for millions of years rather than the billions of years that the geological and biological evidence suggested for the age of the Earth. (Kelvin himself had argued that the Earth was millions, not billions, of years old.) The true source of the Sun's energy remained uncertain until the 1930s, when it was shown by Hans Bethe to be nuclear fusion., \n",
      " model answer: ['The', 'Kelvin', '-', 'Helmholtz', 'mechanism'], \n",
      " ground truth: [{'gender': 'unknown', 'ethnicity': 'unknown', 'nationality': 'unknown', 'name': 'William Thomson'}, {'gender': 'unknown', 'ethnicity': 'unknown', 'nationality': 'unknown', 'name': '1st Baron Kelvin'}, {'gender': 'male', 'ethnicity': 'unknown', 'nationality': 'German Confederation', 'name': 'Hermann von Helmholtz'}]\n",
      " accuracy: 0.7023809523809523\n",
      "torch.Size([1, 238]) torch.Size([1, 48])\n"
     ]
    },
    {
     "name": "stderr",
     "output_type": "stream",
     "text": [
      "\n",
      "0it [00:00, ?it/s]"
     ]
    },
    {
     "name": "stdout",
     "output_type": "stream",
     "text": [
      "torch.Size([1, 238]) torch.Size([1, 238])\n",
      "question: Who discovered a theorem that describes the temperature change of a real gas or liquid (as differentiated from an ideal gas) when it is forced through a valve or porous plug while keeping it insulated so that no heat is exchanged with the environment., \n",
      " context: In thermodynamics, the Joule-Thomson effect (also known as the Joule-Kelvin effect or Kelvin-Joule effect) describes the temperature change of a real gas or liquid (as differentiated from an ideal gas) when it is forced through a valve or porous plug while keeping it insulated so that no heat is exchanged with the environment. This procedure is called a throttling process or Joule-Thomson process. At room temperature, all gases except hydrogen, helium, and neon cool upon expansion by the Joule-Thomson process when being throttled through an orifice; these three gases experience the same effect but only at lower temperatures. Most liquids such as hydraulic oils will be warmed by the Joule-Thomson throttling process. The gas-cooling throttling process is commonly exploited in refrigeration processes such as air conditioners, heat pumps, and liquefiers. In hydraulics, the warming effect from Joule-Thomson throttling can be used to find internally leaking valves as these will produce heat which can be detected by thermocouple or thermal-imaging camera. Throttling is a fundamentally irreversible process. The throttling due to the flow resistance in supply lines, heat exchangers, regenerators, and other components of (thermal) machines is a source of losses that limits the performance., \n",
      " model answer: ['Joule', '-', 'Thomson', 'effect'], \n",
      " ground truth: [{'gender': 'unknown', 'ethnicity': 'unknown', 'nationality': 'unknown', 'name': 'William Thomson'}, {'gender': 'unknown', 'ethnicity': 'unknown', 'nationality': 'unknown', 'name': '1st Baron Kelvin'}, {'gender': 'male', 'ethnicity': 'unknown', 'nationality': 'United Kingdom of Great Britain and Ireland', 'name': 'James Prescott Joule'}]\n",
      " accuracy: 0.7023809523809523\n",
      "torch.Size([1, 43]) torch.Size([1, 15])\n"
     ]
    },
    {
     "name": "stderr",
     "output_type": "stream",
     "text": [
      "\n",
      "0it [00:00, ?it/s]\n"
     ]
    },
    {
     "name": "stdout",
     "output_type": "stream",
     "text": [
      "torch.Size([1, 43]) torch.Size([1, 43])\n",
      "question: Who discovered a viscoelastic material having the properties both of elasticity and viscosity., \n",
      " context: Kelvin-Voigt material, also called a Voigt material, is a viscoelastic material having the properties both of elasticity and viscosity. It is named after the British physicist and engineer Lord Kelvin and after German physicist Woldemar Voigt., \n",
      " model answer: ['Kelvin', '-', 'Voigt', 'material'], \n",
      " ground truth: [{'gender': 'unknown', 'ethnicity': 'unknown', 'nationality': 'unknown', 'name': 'Woldemar Voigt and William Thomson'}, {'gender': 'unknown', 'ethnicity': 'unknown', 'nationality': 'unknown', 'name': '1st Baron Kelvin'}]\n",
      " accuracy: 0.7023809523809523\n",
      "torch.Size([1, 206]) torch.Size([1, 36])\n"
     ]
    },
    {
     "name": "stderr",
     "output_type": "stream",
     "text": [
      "0it [00:00, ?it/s]"
     ]
    },
    {
     "name": "stdout",
     "output_type": "stream",
     "text": [
      "torch.Size([1, 206]) torch.Size([1, 206])\n",
      "question: Who discovered a layer of ionised gas occurring roughly between 90km and 150 km (56 and 93 mi) above the ground -- one of several layers in the Earth's ionosphere., \n",
      " context: The Heaviside layer, sometimes called the Kennelly-Heaviside layer, named after Arthur E. Kennelly and Oliver Heaviside, is a layer of ionised gas occurring roughly between 90km and 150 km (56 and 93 mi) above the ground one of several layers in the Earth's ionosphere. It is also known as the region. It reflects medium-frequency radio waves. Because of this reflective layer, radio waves radiated into the sky can return to Earth beyond the horizon. This \"skywave\" or \"skip\" propagation technique has been used since the 1920s for radio communication at long distances, up to transcontinental distances. Propagation is affected by the time of day. During the daytime the solar wind presses this layer closer to the Earth, thereby limiting how far it can reflect radio waves. Conversely, on the night (lee) side of the Earth, the solar wind drags the ionosphere further away, thereby greatly increasing the range which radio waves can travel by reflection. The extent of the effect is further influenced by the season, and the amount of sunspot activity., \n",
      " model answer: no answer, \n",
      " ground truth: [{'gender': 'male', 'ethnicity': 'unknown', 'nationality': 'United States of America', 'name': 'Arthur Edwin Kennelly'}, {'gender': 'male', 'ethnicity': 'unknown', 'nationality': 'United Kingdom of Great Britain and Ireland', 'name': 'Oliver Heaviside'}]\n",
      " accuracy: 0.7023809523809523\n"
     ]
    },
    {
     "name": "stderr",
     "output_type": "stream",
     "text": [
      "\n"
     ]
    },
    {
     "name": "stdout",
     "output_type": "stream",
     "text": [
      "torch.Size([1, 213]) torch.Size([1, 23])\n"
     ]
    },
    {
     "name": "stderr",
     "output_type": "stream",
     "text": [
      "0it [00:00, ?it/s]"
     ]
    },
    {
     "name": "stdout",
     "output_type": "stream",
     "text": [
      "torch.Size([1, 213]) torch.Size([1, 213])\n",
      "question: Who discovered an empirical relation between the gas density and star formation rate (SFR) in a given region.  , \n",
      " context: In astronomy, the Kennicutt-Schmidt law (or simply Schmidt law) is an empirical relation between the gas density and star formation rate (SFR) in a given region. The relation was first examined by Maarten Schmidt in a 1959 paper where he proposed that the SFR surface density scales as some positive power of the local gas surface density. i.e. \\Sigma .In general, the SFR surface density is in units of solar masses per year per square parsec yr pc and the gas surface density in grams per square parsec pc Using an analysis of gaseous helium and young stars in the solar neighborhood, the local density of white dwarfs and their luminosity function, and the local helium density, Schmidt suggested a value of (and very likely between and 3). All of the data used were gathered from the Milky Way, and specifically the solar-neighborhood. In 1998, Robert Kennicutt found that the \\alpha intensities of every galaxy in a sample of could be fit with the Schmidt law. More recently, he examined the connection between gas density and SFR for nearly 100 nearby galaxies to estimate a value of 1.4 0.15, \n",
      " model answer: no answer, \n",
      " ground truth: [{'gender': 'male', 'ethnicity': 'unknown', 'nationality': 'Kingdom of the Netherlands', 'name': 'Maarten Schmidt'}, {'gender': 'unknown', 'ethnicity': 'unknown', 'nationality': 'unknown', 'name': 'Robert Kennicutt'}]\n",
      " accuracy: 0.7023809523809523\n",
      "torch.Size([1, 400]) torch.Size([1, 14])\n"
     ]
    },
    {
     "name": "stderr",
     "output_type": "stream",
     "text": [
      "\n"
     ]
    },
    {
     "name": "stdout",
     "output_type": "stream",
     "text": [
      "torch.Size([1, 400]) torch.Size([1, 400])\n",
      "question: Who discovered a relativistic wave equation, related to the Schrodinger equation., \n",
      " context: The Klein-Gordon equation (Klein-Fock-Gordon equation or sometimes Klein-Gordon-Fock equation) is a relativistic wave equation, related to the Schrodinger equation. It is second-order in space and time and manifestly Lorentz-covariant. It is a quantized version of the relativistic energy-momentum relation. Its solutions include a quantum scalar or pseudoscalar field, a field whose quanta are spinless particles. Its theoretical relevance is similar to that of the Dirac equation. Electromagnetic interactions can be incorporated, forming the topic of scalar electrodynamics, but because common spinless particles like the pions are unstable and also experience the strong interaction (with unknown interaction term in the Hamiltonian,) the practical utility is limited. The equation can be put into the form of a Schrodinger equation. In this form it is expressed as two coupled differential equations, each of first order in time. The solutions have two components, reflecting the charge degree of freedom in relativity. It admits a conserved quantity, but this is not positive definite. The wave function cannot therefore be interpreted as a probability amplitude. The conserved quantity is instead interpreted as electric charge, and the norm squared of the wave function is interpreted as a charge density. The equation describes all spinless particles with positive, negative, and zero charge. Any solution of the free Dirac equation is, for each of its four components, a solution of the free Klein-Gordon equation. The Klein-Gordon equation does not form the basis of a consistent quantum relativistic one-particle theory. There is no known such theory for particles of any spin. For full reconciliation of quantum mechanics with special relativity, quantum field theory is needed, in which the Klein-Gordon equation reemerges as the equation obeyed by the components of all free quantum fields. In quantum field theory, the solutions of the free (noninteracting) versions of the original equations still play a role. They are needed to build the Hilbert space (Fock space) and to express quantum fields by using complete sets (spanning sets of Hilbert space) of wave functions., \n",
      " model answer: ['Klein', '-', 'Gordon', 'equation'], \n",
      " ground truth: [{'gender': 'male', 'ethnicity': 'unknown', 'nationality': 'Sweden', 'name': 'Oskar Klein'}, {'gender': 'unknown', 'ethnicity': 'unknown', 'nationality': 'unknown', 'name': 'Walter Gordon'}]\n",
      " accuracy: 0.7023809523809523\n"
     ]
    },
    {
     "name": "stderr",
     "output_type": "stream",
     "text": [
      "0it [00:00, ?it/s]\n",
      "Traceback (most recent call last):\n",
      "  File \"<ipython-input-144-0ab5a653ee6a>\", line 12, in <module>\n",
      "    model_ans = answer_question(example['context'], example['question'])\n",
      "  File \"<ipython-input-143-75f5d3a8a0fe>\", line 18, in answer_question\n",
      "    context_idxs, ques_idxs = preprocess(context, question, word2idx_dict)\n",
      "  File \"<ipython-input-8-21f0d84691f7>\", line 56, in preprocess\n",
      "    context_idx[i] = _get_word(token)\n",
      "IndexError: index 400 is out of bounds for axis 0 with size 400\n",
      "0it [00:00, ?it/s]\n"
     ]
    },
    {
     "name": "stdout",
     "output_type": "stream",
     "text": [
      "torch.Size([1, 165]) torch.Size([1, 18])\n"
     ]
    },
    {
     "name": "stderr",
     "output_type": "stream",
     "text": [
      "0it [00:00, ?it/s]"
     ]
    },
    {
     "name": "stdout",
     "output_type": "stream",
     "text": [
      "torch.Size([1, 165]) torch.Size([1, 165])\n",
      "question: Who discovered the substitution reaction of a glycosyl halide with an alcohol to give a glycoside., \n",
      " context: The Koenigs-Knorr reaction in organic chemistry is the substitution reaction of a glycosyl halide with an alcohol to give a glycoside. It is one of the oldest glycosylation reactions. It is named after Wilhelm Koenigs (1851-1906), a student of von Bayer and fellow student with Hermann Emil Fischer, and Edward Knorr, a student of Koenigs. In its original form, Koenigs and Knorr treated acetobromoglucose with alcohols in the presence of silver carbonate. Shortly afterwards Fischer and Armstrong reported very similar findings.In the above example, the stereochemical outcome is determined by the presence of the neighboring group at C2 that lends anchimeric assistance, resulting in the formation of a 1,2-trans stereochemical arrangement. Esters (e.g. acetyl, benzoyl, pivalyl) generally provide good anchimeric assistance, whereas ethers (e.g. benzyl, methyl etc.) do not, leading to mixtures of stereoisomers., \n",
      " model answer: ['Koenigs', '-', 'Knorr'], \n",
      " ground truth: [{'gender': 'unknown', 'ethnicity': 'unknown', 'nationality': 'unknown', 'name': 'Wilhelm Koenigs'}, {'gender': 'unknown', 'ethnicity': 'unknown', 'nationality': 'unknown', 'name': 'Edward Knorr'}]\n",
      " accuracy: 0.7023809523809523\n",
      "torch.Size([1, 165]) torch.Size([1, 18])\n"
     ]
    },
    {
     "name": "stderr",
     "output_type": "stream",
     "text": [
      "\n",
      "0it [00:00, ?it/s]"
     ]
    },
    {
     "name": "stdout",
     "output_type": "stream",
     "text": [
      "torch.Size([1, 165]) torch.Size([1, 165])\n",
      "question: Who discovered the substitution reaction of a glycosyl halide with an alcohol to give a glycoside., \n",
      " context: The Koenigs-Knorr reaction in organic chemistry is the substitution reaction of a glycosyl halide with an alcohol to give a glycoside. It is one of the oldest glycosylation reactions. It is named after Wilhelm Koenigs (1851-1906), a student of von Bayer and fellow student with Hermann Emil Fischer, and Edward Knorr, a student of Koenigs. In its original form, Koenigs and Knorr treated acetobromoglucose with alcohols in the presence of silver carbonate. Shortly afterwards Fischer and Armstrong reported very similar findings.In the above example, the stereochemical outcome is determined by the presence of the neighboring group at C2 that lends anchimeric assistance, resulting in the formation of a 1,2-trans stereochemical arrangement. Esters (e.g. acetyl, benzoyl, pivalyl) generally provide good anchimeric assistance, whereas ethers (e.g. benzyl, methyl etc.) do not, leading to mixtures of stereoisomers., \n",
      " model answer: ['Koenigs', '-', 'Knorr'], \n",
      " ground truth: [{'gender': 'unknown', 'ethnicity': 'unknown', 'nationality': 'unknown', 'name': 'Wilhelm Koenigs'}, {'gender': 'unknown', 'ethnicity': 'unknown', 'nationality': 'unknown', 'name': 'Edward Knorr'}]\n",
      " accuracy: 0.7023809523809523\n",
      "torch.Size([1, 132]) torch.Size([1, 41])\n"
     ]
    },
    {
     "name": "stderr",
     "output_type": "stream",
     "text": [
      "\n",
      "0it [00:00, ?it/s]"
     ]
    },
    {
     "name": "stdout",
     "output_type": "stream",
     "text": [
      "torch.Size([1, 132]) torch.Size([1, 132])\n",
      "question: Who discovered a carboxylation chemical reaction that proceeds by heating sodium phenoxide (the sodium salt of phenol) with carbon dioxide under pressure (100 atm, 125 degC), then treating the product with sulfuric acid., \n",
      " context: The Kolbe-Schmitt reaction or Kolbe process (named after Hermann Kolbe and Rudolf Schmitt) is a carboxylation chemical reaction that proceeds by heating sodium phenoxide (the sodium salt of phenol) with carbon dioxide under pressure (100 atm, 125 degC), then treating the product with sulfuric acid. The final product is an aromatic hydroxy acid which is also known as salicylic acid (the precursor to aspirin). By using potassium hydroxide, 4-hydroxybenzoic acid is accessible, an important precursor for the versatile paraben class of biocides used e.g. in personal care products. The methodology is also used in the industrial synthesis of 3-hydroxy-2-naphthoic acid. The regiochemistry of the carboxylation in this case is sensitive to temperature., \n",
      " model answer: no answer, \n",
      " ground truth: [{'gender': 'male', 'ethnicity': 'unknown', 'nationality': 'Germany', 'name': 'Adolph Wilhelm Hermann Kolbe'}, {'gender': 'male', 'ethnicity': 'unknown', 'nationality': 'Kingdom of Saxony', 'name': 'Rudolf Schmitt'}]\n",
      " accuracy: 0.7023809523809523\n",
      "torch.Size([1, 73]) torch.Size([1, 31])\n"
     ]
    },
    {
     "name": "stderr",
     "output_type": "stream",
     "text": [
      "\n",
      "0it [00:00, ?it/s]"
     ]
    },
    {
     "name": "stdout",
     "output_type": "stream",
     "text": [
      "torch.Size([1, 73]) torch.Size([1, 73])\n",
      "question: Who discovered a rearrangement reaction in organic chemistry in which a primary or secondary organic peroxide is converted to the corresponding ketone and alcohol under acid or base catalysis., \n",
      " context: The Kornblum-DeLaMare rearrangement is a rearrangement reaction in organic chemistry in which a primary or secondary organic peroxide is converted to the corresponding ketone and alcohol under acid or base catalysis. The reaction is relevant as a tool in organic synthesis and is a key step in the biosynthesis of prostaglandins. The base can be a hydroxide such as potassium hydroxide or an amine such as triethylamine., \n",
      " model answer: ['The', 'Kornblum', '-', 'DeLaMare', 'rearrangement'], \n",
      " ground truth: [{'gender': 'male', 'ethnicity': 'unknown', 'nationality': 'United States of America', 'name': 'Nathan Kornblum'}, {'gender': 'unknown', 'ethnicity': 'unknown', 'nationality': 'unknown', 'name': 'Harold E. DeLaMare'}]\n",
      " accuracy: 0.7023809523809523\n",
      "torch.Size([1, 67]) torch.Size([1, 21])\n"
     ]
    },
    {
     "name": "stderr",
     "output_type": "stream",
     "text": [
      "\n",
      "0it [00:00, ?it/s]"
     ]
    },
    {
     "name": "stdout",
     "output_type": "stream",
     "text": [
      "torch.Size([1, 67]) torch.Size([1, 67])\n",
      "question: Who discovered a reduction of the bremsstrahlung and pair production cross sections at high energies or high matter densities., \n",
      " context: In high-energy physics, the Landau-Pomeranchuk-Migdal effect, also known as the Landau-Pomeranchuk effect and the Pomeranchuk effect, or simply LPM effect, is a reduction of the bremsstrahlung and pair production cross sections at high energies or high matter densities. It is named in honor to Lev Landau, Isaak Pomeranchuk and Arkady Migdal., \n",
      " model answer: ['Landau', '-', 'Pomeranchuk', '-', 'Migdal', 'effect'], \n",
      " ground truth: [{'gender': 'male', 'ethnicity': 'unknown', 'nationality': 'Russian Empire', 'name': 'Lev Davidovich Landau'}, {'gender': 'male', 'ethnicity': 'unknown', 'nationality': 'Russian Empire', 'name': 'Isaak Pomeranchuk'}, {'gender': 'male', 'ethnicity': 'unknown', 'nationality': 'Russian Empire', 'name': 'Arkady Migdal'}]\n",
      " accuracy: 0.7023809523809523\n",
      "torch.Size([1, 208]) torch.Size([1, 46])\n"
     ]
    },
    {
     "name": "stderr",
     "output_type": "stream",
     "text": [
      "\n",
      "0it [00:00, ?it/s]"
     ]
    },
    {
     "name": "stdout",
     "output_type": "stream",
     "text": [
      "torch.Size([1, 208]) torch.Size([1, 208])\n",
      "question: Who discovered an analytic solution to the equations of motion governing the transition dynamics of a two-state quantum system, with a time-dependent Hamiltonian varying such that the energy separation of the two states is a linear function of time., \n",
      " context: The Landau-Zener formula is an analytic solution to the equations of motion governing the transition dynamics of a two-state quantum system, with a time-dependent Hamiltonian varying such that the energy separation of the two states is a linear function of time. The formula, giving the probability of a diabatic (not adiabatic) transition between the two energy states, was published separately by Lev Landau, Clarence Zener, Ernst Stueckelberg, and Ettore Majorana, in 1932. If the system starts, in the infinite past, in the lower energy eigenstate, we wish to calculate the probability of finding the system in the upper energy eigenstate in the infinite future (a so-called Landau-Zener transition). For infinitely slow variation of the energy difference (that is, a Landau-Zener velocity of zero), the adiabatic theorem tells us that no such transition will take place, as the system will always be in an instantaneous eigenstate of the Hamiltonian at that moment in time. At non-zero velocities, transitions occur with probability as described by the Landau-Zener formula., \n",
      " model answer: ['Landau', '-', 'Zener', 'formula'], \n",
      " ground truth: [{'gender': 'male', 'ethnicity': 'unknown', 'nationality': 'Russian Empire', 'name': 'Lev Davidovich Landau'}, {'gender': 'male', 'ethnicity': 'unknown', 'nationality': 'United States of America', 'name': 'Clarence Zener'}]\n",
      " accuracy: 0.7023809523809523\n",
      "torch.Size([1, 199]) torch.Size([1, 37])\n"
     ]
    },
    {
     "name": "stderr",
     "output_type": "stream",
     "text": [
      "\n",
      "0it [00:00, ?it/s]"
     ]
    },
    {
     "name": "stdout",
     "output_type": "stream",
     "text": [
      "torch.Size([1, 199]) torch.Size([1, 199])\n",
      "question: Who discovered a nanostructured system formed when Langmuir films--or Langmuir monolayers (LM)--are transferred from the liquid-gas interface to solid supports during the vertical passage of the support through the monolayers., \n",
      " context: Langmuir-Blodgett (LB) film is a nanostructured system formed when Langmuir films--or Langmuir monolayers (LM)--are transferred from the liquid-gas interface to solid supports during the vertical passage of the support through the monolayers. LB films can contain one or more monolayers of an organic material, deposited from the surface of a liquid onto a solid by immersing (or emersing) the solid substrate into (or from) the liquid. monolayer is adsorbed homogeneously with each immersion or emersion step, thus films with very accurate thickness can be formed. This thickness is accurate because the thickness of each monolayer is known and can therefore be added to find the total thickness of a Langmuir-Blodgett film. The monolayers are assembled vertically and are usually composed either of amphiphilic molecules (see Chemical polarity) with a hydrophilic head and a hydrophobic tail (example: fatty acids) or nowadays commonly of nanoparticles.Langmuir-Blodgett films are named after Irving Langmuir and Katharine B. Blodgett, who invented this technique while working in Research and Development for General Electric Co., \n",
      " model answer: no answer, \n",
      " ground truth: [{'gender': 'male', 'ethnicity': 'unknown', 'nationality': 'United States of America', 'name': 'Irving Langmuir'}, {'gender': 'unknown', 'ethnicity': 'unknown', 'nationality': 'unknown', 'name': 'Katharine B. Blodgett'}]\n",
      " accuracy: 0.7023809523809523\n"
     ]
    },
    {
     "name": "stderr",
     "output_type": "stream",
     "text": [
      "\n",
      "Traceback (most recent call last):\n",
      "  File \"<ipython-input-144-0ab5a653ee6a>\", line 12, in <module>\n",
      "    model_ans = answer_question(example['context'], example['question'])\n",
      "  File \"<ipython-input-143-75f5d3a8a0fe>\", line 18, in answer_question\n",
      "    context_idxs, ques_idxs = preprocess(context, question, word2idx_dict)\n",
      "  File \"<ipython-input-8-21f0d84691f7>\", line 56, in preprocess\n",
      "    context_idx[i] = _get_word(token)\n",
      "IndexError: index 400 is out of bounds for axis 0 with size 400\n",
      "0it [00:00, ?it/s]\n"
     ]
    },
    {
     "name": "stdout",
     "output_type": "stream",
     "text": [
      "torch.Size([1, 175]) torch.Size([1, 22])\n"
     ]
    },
    {
     "name": "stderr",
     "output_type": "stream",
     "text": [
      "0it [00:00, ?it/s]"
     ]
    },
    {
     "name": "stdout",
     "output_type": "stream",
     "text": [
      "torch.Size([1, 175]) torch.Size([1, 175])\n",
      "question: Who discovered a relativistic correction to the precession of a gyroscope near a large rotating mass such as the Earth., \n",
      " context: In general relativity, Lense-Thirring precession or the Lense-Thirring effect (named after Josef Lense and Hans Thirring) is a relativistic correction to the precession of a gyroscope near a large rotating mass such as the Earth. It is a gravitomagnetic frame-dragging effect. It is a prediction of general relativity consisting of secular precessions of the longitude of the ascending node and the argument of pericenter of a test particle freely orbiting a central spinning mass endowed with angular momentum The difference between de Sitter precession and the Lense-Thirring effect is that the de Sitter effect is due simply to the presence of a central mass, whereas the Lense-Thirring effect is due to the rotation of the central mass. The total precession is calculated by combining the de Sitter precession with the Lense-Thirring precession. According to a recent historical analysis by Pfister, the effect should be renamed the Einstein-Thirring-Lense effect., \n",
      " model answer: ['Josef', 'Lense', 'and', 'Hans', 'Thirring'], \n",
      " ground truth: [{'gender': 'male', 'ethnicity': 'unknown', 'nationality': 'Austria', 'name': 'Josef Lense'}, {'gender': 'male', 'ethnicity': 'unknown', 'nationality': 'Austria', 'name': 'Hans Thirring'}]\n",
      " accuracy: 0.7023809523809523\n",
      "torch.Size([1, 370]) torch.Size([1, 29])\n"
     ]
    },
    {
     "name": "stderr",
     "output_type": "stream",
     "text": [
      "\n"
     ]
    },
    {
     "name": "stdout",
     "output_type": "stream",
     "text": [
      "torch.Size([1, 370]) torch.Size([1, 370])\n",
      "question: Who discovered a formula for estimating the mass of a spherical stellar system using the apparent (angular) positions and proper motions of its component stars., \n",
      " context: The Leonard-Merritt mass estimator is a formula for estimating the mass of a spherical stellar system using the apparent (angular) positions and proper motions of its component stars. The distance to the stellar system must also be known. Like the virial theorem, the Leonard-Merritt estimator yields correct results regardless of the degree of velocity anisotropy. Its statistical properties are superior to those of the virial theorem. However, it requires that two components of the velocity be known for every star, rather than just one for the virial theorem.The estimator has the general form 16 \\langle \\over The angle brackets denote averages over the ensemble of observed stars. is the mass contained within a distance from the center of the stellar system; is the projected distance of a star from the apparent center; and are the components of a star's velocity parallel to, and perpendicular to, the apparent radius vector; and is the gravitational constant. Like all estimators based on moments of the Jeans equations, the Leonard-Merritt estimator requires an assumption about the relative distribution of mass and light. As a result, it is most useful when applied to stellar systems that have one of two properties: All or almost all of the mass resides in a central object, or, the mass is distributed in the same way as the observed stars.Case (1) applies to the nucleus of a galaxy containing a supermassive black hole. Case (2) applies to a stellar system composed entirely of luminous stars (i.e. no dark matter or black holes). In a cluster with constant mass-to-light ratio and total mass the Leonard-Merritt estimator becomes: 32 \\over On the other hand, if all the mass is located in a central point of mass then: 16 \\over In its second form, the Leonard-Merritt estimator has been successfully used to measure the mass of the supermassive black hole at the center of the Milky Way galaxy, \n",
      " model answer: ['Leonard', '-', 'Merritt', 'mass', 'estimator'], \n",
      " ground truth: [{'gender': 'male', 'ethnicity': 'unknown', 'nationality': 'Australia', 'name': 'Peter Leonard'}, {'gender': 'male', 'ethnicity': 'unknown', 'nationality': 'United States of America', 'name': 'David Merritt'}]\n",
      " accuracy: 0.7023809523809523\n"
     ]
    },
    {
     "name": "stderr",
     "output_type": "stream",
     "text": [
      "0it [00:00, ?it/s]\n",
      "Traceback (most recent call last):\n",
      "  File \"<ipython-input-144-0ab5a653ee6a>\", line 12, in <module>\n",
      "    model_ans = answer_question(example['context'], example['question'])\n",
      "  File \"<ipython-input-143-75f5d3a8a0fe>\", line 18, in answer_question\n",
      "    context_idxs, ques_idxs = preprocess(context, question, word2idx_dict)\n",
      "  File \"<ipython-input-8-21f0d84691f7>\", line 56, in preprocess\n",
      "    context_idx[i] = _get_word(token)\n",
      "IndexError: index 400 is out of bounds for axis 0 with size 400\n",
      "0it [00:00, ?it/s]\n"
     ]
    },
    {
     "name": "stdout",
     "output_type": "stream",
     "text": [
      "torch.Size([1, 108]) torch.Size([1, 31])\n",
      "torch.Size([1, 108]) torch.Size([1, 108])\n"
     ]
    },
    {
     "name": "stderr",
     "output_type": "stream",
     "text": [
      "0it [00:00, ?it/s]"
     ]
    },
    {
     "name": "stdout",
     "output_type": "stream",
     "text": [
      "question: Who discovered discovered in 1962 by William A. Little and Roland D. Parks in experiments with empty and thin-walled superconducting cylinders subjected to a parallel magnetic field., \n",
      " context: The Little-Parks effect was discovered in 1962 by William A. Little and Roland D. Parks in experiments with empty and thin-walled superconducting cylinders subjected to a parallel magnetic field. It was one of the first experiments that indicate the importance of Cooper-pairing principle in BCS theory.The essence of Little-Parks (LP) effect is slight suppression of the superconductivity by persistent current. Results schematically shown in the Fig., where we see periodical oscillations of critical temperature (Tc), below which an object becomes superconductive, superimposed on the parabolic background., \n",
      " model answer: ['The', 'Little', '-', 'Parks', 'effect'], \n",
      " ground truth: [{'gender': 'male', 'ethnicity': 'unknown', 'nationality': 'unknown', 'name': 'William A. Little'}, {'gender': 'unknown', 'ethnicity': 'unknown', 'nationality': 'unknown', 'name': 'Roland D. Parks'}]\n",
      " accuracy: 0.7023809523809523\n",
      "torch.Size([1, 304]) torch.Size([1, 24])\n"
     ]
    },
    {
     "name": "stderr",
     "output_type": "stream",
     "text": [
      "\n",
      "0it [00:00, ?it/s]"
     ]
    },
    {
     "name": "stdout",
     "output_type": "stream",
     "text": [
      "torch.Size([1, 304]) torch.Size([1, 304])\n",
      "question: Who discovered the problem of determining the number of subsums of a set of vectors that fall in a given convex set., \n",
      " context: In mathematical field of combinatorial geometry, the Littlewood-Offord problem is the problem of determining the number of subsums of a set of vectors that fall in a given convex set. More formally, if is a vector space of dimension d, the problem is to determine, given a finite subset of vectors and a convex subset A, the number of subsets of whose summation is in A. The first upper bound for this problem was proven (for and 2) in 1938 by John Edensor Littlewood and A. Cyril Offord. This Littlewood-Offord lemma states that if is a set of real or complex numbers of absolute value at least one and is any disc of radius one, then not more than log of the 2n possible subsums of fall into the disc. In 1945 Paul Erdos improved the upper bound for to \\choose \\lfloor using Sperner's theorem. This bound is sharp; equality is attained when all vectors in are equal. In 1966, Kleitman showed that the same bound held for complex numbers. In 1970, he extended this to the setting when is a normed space.Suppose ..., By subtracting from each possible subsum (that is, by changing the origin and then scaling by a factor of 2), the Littlewood-Offord problem is equivalent to the problem of determining the number of sums of the form \\sum that fall in the target set A, where \\epsilon takes the value or -1. This makes the problem into a probabilistic one, in which the question is of the distribution of these random vectors, and what can be said knowing nothing more about the vi., \n",
      " model answer: ['Littlewood', '-', 'Offord'], \n",
      " ground truth: [{'gender': 'unknown', 'ethnicity': 'unknown', 'nationality': 'unknown', 'name': 'John E. Littlewood'}, {'gender': 'male', 'ethnicity': 'unknown', 'nationality': 'United Kingdom', 'name': 'A. Cyril Offord'}]\n",
      " accuracy: 0.7023809523809523\n",
      "torch.Size([1, 304]) torch.Size([1, 24])\n"
     ]
    },
    {
     "name": "stderr",
     "output_type": "stream",
     "text": [
      "\n",
      "0it [00:00, ?it/s]"
     ]
    },
    {
     "name": "stdout",
     "output_type": "stream",
     "text": [
      "torch.Size([1, 304]) torch.Size([1, 304])\n",
      "question: Who discovered the problem of determining the number of subsums of a set of vectors that fall in a given convex set., \n",
      " context: In mathematical field of combinatorial geometry, the Littlewood-Offord problem is the problem of determining the number of subsums of a set of vectors that fall in a given convex set. More formally, if is a vector space of dimension d, the problem is to determine, given a finite subset of vectors and a convex subset A, the number of subsets of whose summation is in A. The first upper bound for this problem was proven (for and 2) in 1938 by John Edensor Littlewood and A. Cyril Offord. This Littlewood-Offord lemma states that if is a set of real or complex numbers of absolute value at least one and is any disc of radius one, then not more than log of the 2n possible subsums of fall into the disc. In 1945 Paul Erdos improved the upper bound for to \\choose \\lfloor using Sperner's theorem. This bound is sharp; equality is attained when all vectors in are equal. In 1966, Kleitman showed that the same bound held for complex numbers. In 1970, he extended this to the setting when is a normed space.Suppose ..., By subtracting from each possible subsum (that is, by changing the origin and then scaling by a factor of 2), the Littlewood-Offord problem is equivalent to the problem of determining the number of sums of the form \\sum that fall in the target set A, where \\epsilon takes the value or -1. This makes the problem into a probabilistic one, in which the question is of the distribution of these random vectors, and what can be said knowing nothing more about the vi., \n",
      " model answer: ['Littlewood', '-', 'Offord'], \n",
      " ground truth: [{'gender': 'unknown', 'ethnicity': 'unknown', 'nationality': 'unknown', 'name': 'John E. Littlewood'}, {'gender': 'male', 'ethnicity': 'unknown', 'nationality': 'United Kingdom', 'name': 'A. Cyril Offord'}]\n",
      " accuracy: 0.7023809523809523\n",
      "torch.Size([1, 164]) torch.Size([1, 38])\n"
     ]
    },
    {
     "name": "stderr",
     "output_type": "stream",
     "text": [
      "\n",
      "0it [00:00, ?it/s]"
     ]
    },
    {
     "name": "stdout",
     "output_type": "stream",
     "text": [
      "torch.Size([1, 164]) torch.Size([1, 164])\n",
      "question: Who discovered a pair of first-order nonlinear differential equations, frequently used to describe the dynamics of biological systems in which two species interact, one as a predator and the other as prey., \n",
      " context: The Lotka-Volterra equations, also known as the predator-prey equations, are a pair of first-order nonlinear differential equations, frequently used to describe the dynamics of biological systems in which two species interact, one as a predator and the other as prey. The populations change through time according to the pair of equations: where is the number of prey (for example, rabbits); is the number of some predator (for example, foxes); and represent the instantaneous growth rates of the two populations; represents time; a, b, g, are positive real parameters describing the interaction of the two species.The Lotka-Volterra system of equations is an example of a Kolmogorov model, which is a more general framework that can model the dynamics of ecological systems with predator-prey interactions, competition, disease, and mutualism., \n",
      " model answer: ['Lotka', '-', 'Volterra', 'equations'], \n",
      " ground truth: [{'gender': 'unknown', 'ethnicity': 'unknown', 'nationality': 'unknown', 'name': 'Alfred J. Lotka'}, {'gender': 'male', 'ethnicity': 'unknown', 'nationality': 'Kingdom of Italy', 'name': 'Vito Volterra'}]\n",
      " accuracy: 0.7023809523809523\n",
      "torch.Size([1, 127]) torch.Size([1, 26])\n"
     ]
    },
    {
     "name": "stderr",
     "output_type": "stream",
     "text": [
      "\n",
      "0it [00:00, ?it/s]"
     ]
    },
    {
     "name": "stdout",
     "output_type": "stream",
     "text": [
      "torch.Size([1, 127]) torch.Size([1, 127])\n",
      "question: Who discovered a device used to determine the relative phase shift variations between two collimated beams derived by splitting light from a single source., \n",
      " context: In physics, the Mach-Zehnder interferometer is a device used to determine the relative phase shift variations between two collimated beams derived by splitting light from a single source. The interferometer has been used, among other things, to measure phase shifts between the two beams caused by a sample or a change in length of one of the paths. The apparatus is named after the physicists Ludwig Mach (the son of Ernst Mach) and Ludwig Zehnder; Zehnder's proposal in an 1891 article was refined by Mach in an 1892 article. Demonstrations of Mach-Zehnder interferometry with particles other than photons (particles of light) had been demonstrated as well in multiple experiments., \n",
      " model answer: ['Mach', '-', 'Zehnder', 'interferometer'], \n",
      " ground truth: [{'gender': 'male', 'ethnicity': 'unknown', 'nationality': 'unknown', 'name': 'Ludwig Mach'}, {'gender': 'male', 'ethnicity': 'unknown', 'nationality': 'Switzerland', 'name': 'Ludwig Zehnder'}]\n",
      " accuracy: 0.7023809523809523\n",
      "torch.Size([1, 198]) torch.Size([1, 11])\n"
     ]
    },
    {
     "name": "stderr",
     "output_type": "stream",
     "text": [
      "\n"
     ]
    },
    {
     "name": "stdout",
     "output_type": "stream",
     "text": [
      "torch.Size([1, 198]) torch.Size([1, 198])\n",
      "question: Who discovered the thermal analog of the Hall effect., \n",
      " context: The thermal Hall effect is the thermal analog of the Hall effect. Here, a thermal gradient is produced across a solid instead of an electric field. When a magnetic field is applied, an orthogonal temperature gradient develops. For conductors, a significant portion of the thermal current is carried by the electrons. In particular, the Righi-Leduc effect describes the heat flow resulting from a perpendicular temperature gradient and vice versa, and the Maggi-Righi-Leduc effect describes changes in thermal conductivity when placing a conductor in a magnetic field. thermal Hall effect has also been measured in a paramagnetic insulator and called the \"phonon Hall effect\". In this case, there are no charged currents in the solid, so the magnetic field cannot exert a Lorentz force. An analogous thermal Hall effect for neutral particles exists in polyatomic gases (known as the Senftleben-Beenakker effect). Measurements of the thermal Hall conductivity are used to distinguish between the electronic and lattice contributions to thermal conductivity. These measurements are especially useful when studying superconductors., \n",
      " model answer: no answer, \n",
      " ground truth: [{'gender': 'unknown', 'ethnicity': 'unknown', 'nationality': 'unknown', 'name': 'Gian Antonio Maggi'}, {'gender': 'male', 'ethnicity': 'unknown', 'nationality': 'Kingdom of Italy', 'name': 'Augusto Righi'}, {'gender': 'unknown', 'ethnicity': 'unknown', 'nationality': 'unknown', 'name': 'Sylvestre Anatole Leduc'}]\n",
      " accuracy: 0.7023809523809523\n"
     ]
    },
    {
     "name": "stderr",
     "output_type": "stream",
     "text": [
      "0it [00:00, ?it/s]\n",
      "Traceback (most recent call last):\n",
      "  File \"<ipython-input-144-0ab5a653ee6a>\", line 12, in <module>\n",
      "    model_ans = answer_question(example['context'], example['question'])\n",
      "  File \"<ipython-input-143-75f5d3a8a0fe>\", line 18, in answer_question\n",
      "    context_idxs, ques_idxs = preprocess(context, question, word2idx_dict)\n",
      "  File \"<ipython-input-8-21f0d84691f7>\", line 56, in preprocess\n",
      "    context_idx[i] = _get_word(token)\n",
      "IndexError: index 400 is out of bounds for axis 0 with size 400\n",
      "0it [00:00, ?it/s]\n"
     ]
    },
    {
     "name": "stdout",
     "output_type": "stream",
     "text": [
      "torch.Size([1, 208]) torch.Size([1, 18])\n"
     ]
    },
    {
     "name": "stderr",
     "output_type": "stream",
     "text": [
      "0it [00:00, ?it/s]"
     ]
    },
    {
     "name": "stdout",
     "output_type": "stream",
     "text": [
      "torch.Size([1, 208]) torch.Size([1, 208])\n",
      "question: Who discovered a mathematical function conceived as a model of biological neurons, a neural network., \n",
      " context: An artificial neuron is a mathematical function conceived as a model of biological neurons, a neural network. Artificial neurons are elementary units in an artificial neural network. The artificial neuron receives one or more inputs (representing excitatory postsynaptic potentials and inhibitory postsynaptic potentials at neural dendrites) and sums them to produce an output (or activation, representing a neuron's action potential which is transmitted along its axon). Usually each input is separately weighted, and the sum is passed through a non-linear function known as an activation function or transfer function. The transfer functions usually have a sigmoid shape, but they may also take the form of other non-linear functions, piecewise linear functions, or step functions. They are also often monotonically increasing, continuous, differentiable and bounded. The thresholding function has inspired building logic gates referred to as threshold logic; applicable to building logic circuits resembling brain processing. For example, new devices such as memristors have been extensively used to develop such logic in recent times.The artificial neuron transfer function should not be confused with a linear system's transfer function., \n",
      " model answer: ['artificial', 'neuron'], \n",
      " ground truth: [{'gender': 'male', 'ethnicity': 'unknown', 'nationality': 'United States of America', 'name': 'Warren McCulloch'}, {'gender': 'male', 'ethnicity': 'unknown', 'nationality': 'United States of America', 'name': 'Walter Pitts'}]\n",
      " accuracy: 0.7023809523809523\n",
      "torch.Size([1, 117]) torch.Size([1, 17])\n"
     ]
    },
    {
     "name": "stderr",
     "output_type": "stream",
     "text": [
      "\n",
      "0it [00:00, ?it/s]"
     ]
    },
    {
     "name": "stdout",
     "output_type": "stream",
     "text": [
      "torch.Size([1, 117]) torch.Size([1, 117])\n",
      "question: Who discovered a particle physics process which can act to modify neutrino oscillations in matter., \n",
      " context: The Mikheyev-Smirnov-Wolfenstein effect (often referred to as matter effect) is a particle physics process which can act to modify neutrino oscillations in matter. Works in 1978 and 1979 by American physicist Lincoln Wolfenstein led to understanding that the oscillation parameters of neutrinos are changed in matter. In 1985, the Soviet physicists Stanislav Mikheyev and Alexei Smirnov predicted that a slow decrease of the density of matter can resonantly enhance the neutrino mixing. Later in 1986, Stephen Parke of Fermilab, Hans Bethe of Cornell University, and S. Peter Rosen and James Gelb of Los Alamos National Laboratory provided analytic treatments of this effect., \n",
      " model answer: no answer, \n",
      " ground truth: [{'gender': 'male', 'ethnicity': 'unknown', 'nationality': 'Russia', 'name': 'Stanislav Mikheyev'}, {'gender': 'male', 'ethnicity': 'unknown', 'nationality': 'Soviet Union', 'name': 'Alexei Smirnov'}, {'gender': 'male', 'ethnicity': 'unknown', 'nationality': 'United States of America', 'name': 'Lincoln Wolfenstein'}]\n",
      " accuracy: 0.7023809523809523\n",
      "torch.Size([1, 24]) torch.Size([1, 15])\n",
      "torch.Size([1, 24]) torch.Size([1, 24])\n",
      "question: Who discovered a characteristic of the detonation of a broad sheet of explosive., \n",
      " context: The Misznay-Schardin effect, or platter effect, is a characteristic of the detonation of a broad sheet of explosive., \n",
      " model answer: ['The', 'Misznay', '-', 'Schardin'], \n",
      " ground truth: [{'gender': 'unknown', 'ethnicity': 'unknown', 'nationality': 'unknown', 'name': 'Col. Misznay'}, {'gender': 'male', 'ethnicity': 'unknown', 'nationality': 'Germany', 'name': 'Hubert Schardin'}]\n",
      " accuracy: 0.7023809523809523\n"
     ]
    },
    {
     "name": "stderr",
     "output_type": "stream",
     "text": [
      "\n",
      "0it [00:00, ?it/s]\n"
     ]
    },
    {
     "name": "stdout",
     "output_type": "stream",
     "text": [
      "torch.Size([1, 324]) torch.Size([1, 34])\n"
     ]
    },
    {
     "name": "stderr",
     "output_type": "stream",
     "text": [
      "0it [00:00, ?it/s]"
     ]
    },
    {
     "name": "stdout",
     "output_type": "stream",
     "text": [
      "torch.Size([1, 324]) torch.Size([1, 324])\n",
      "question: Who discovered a mathematical model (see yield surface) describing the response of brittle materials such as concrete, or rubble piles, to shear stress as well as normal stress., \n",
      " context: Mohr-Coulomb theory is a mathematical model (see yield surface) describing the response of brittle materials such as concrete, or rubble piles, to shear stress as well as normal stress. Most of the classical engineering materials somehow follow this rule in at least a portion of their shear failure envelope. Generally the theory applies to materials for which the compressive strength far exceeds the tensile strength.In geotechnical engineering it is used to define shear strength of soils and rocks at different effective stresses. In structural engineering it is used to determine failure load as well as the angle of fracture of a displacement fracture in concrete and similar materials. Coulomb's friction hypothesis is used to determine the combination of shear and normal stress that will cause a fracture of the material. Mohr's circle is used to determine which principal stresses will produce this combination of shear and normal stress, and the angle of the plane in which this will occur. According to the principle of normality the stress introduced at failure will be perpendicular to the line describing the fracture condition. It can be shown that a material failing according to Coulomb's friction hypothesis will show the displacement introduced at failure forming an angle to the line of fracture equal to the angle of friction. This makes the strength of the material determinable by comparing the external mechanical work introduced by the displacement and the external load with the internal mechanical work introduced by the strain and stress at the line of failure. By conservation of energy the sum of these must be zero and this will make it possible to calculate the failure load of the construction. common improvement of this model is to combine Coulomb's friction hypothesis with Rankine's principal stress hypothesis to describe a separation fracture., \n",
      " model answer: ['Mohr', '-', 'Coulomb', 'theory'], \n",
      " ground truth: [{'gender': 'male', 'ethnicity': 'unknown', 'nationality': 'Germany', 'name': 'Christian Otto Mohr'}, {'gender': 'male', 'ethnicity': 'unknown', 'nationality': 'France', 'name': 'Charles-Augustin de Coulomb'}]\n",
      " accuracy: 0.7023809523809523\n",
      "torch.Size([1, 229]) torch.Size([1, 17])\n"
     ]
    },
    {
     "name": "stderr",
     "output_type": "stream",
     "text": [
      "\n",
      "0it [00:00, ?it/s]"
     ]
    },
    {
     "name": "stdout",
     "output_type": "stream",
     "text": [
      "torch.Size([1, 229]) torch.Size([1, 229])\n",
      "question: Who discovered  bosons that appear necessarily in models exhibiting spontaneous breakdown of continuous symmetries., \n",
      " context: In particle and condensed matter physics, Goldstone bosons or Nambu-Goldstone bosons (NGBs) are bosons that appear necessarily in models exhibiting spontaneous breakdown of continuous symmetries. They were discovered by Yoichiro Nambu in particle physics within the context of the BCS superconductivity mechanism, and subsequently elucidated by Jeffrey Goldstone, and systematically generalized in the context of quantum field theory. In condensed matter physics such bosons are quasiparticles and are known as Anderson-Bogoliubov modes.These spinless bosons correspond to the spontaneously broken internal symmetry generators, and are characterized by the quantum numbers of these. They transform nonlinearly (shift) under the action of these generators, and can thus be excited out of the asymmetric vacuum by these generators. Thus, they can be thought of as the excitations of the field in the broken symmetry directions in group space--and are massless if the spontaneously broken symmetry is not also broken explicitly. If, instead, the symmetry is not exact, i.e. if it is explicitly broken as well as spontaneously broken, then the Nambu-Goldstone bosons are not massless, though they typically remain relatively light; they are then called pseudo-Goldstone bosons or pseudo-Nambu-Goldstone bosons (abbreviated PNGBs)., \n",
      " model answer: ['Yoichiro', 'Nambu'], \n",
      " ground truth: [{'gender': 'male', 'ethnicity': 'unknown', 'nationality': 'United States of America', 'name': 'Yoichiro Nambu'}, {'gender': 'male', 'ethnicity': 'unknown', 'nationality': 'United Kingdom', 'name': 'Jeffrey Goldstone'}]\n",
      " accuracy: 0.7023809523809523\n",
      "torch.Size([1, 59]) torch.Size([1, 11])\n"
     ]
    },
    {
     "name": "stderr",
     "output_type": "stream",
     "text": [
      "\n",
      "0it [00:00, ?it/s]"
     ]
    },
    {
     "name": "stdout",
     "output_type": "stream",
     "text": [
      "torch.Size([1, 59]) torch.Size([1, 59])\n",
      "question: Who discovered a graphical design representation for structured programming., \n",
      " context: Nassi-Shneiderman diagram (NSD) in computer programming is a graphical design representation for structured programming. This type of diagram was developed in 1972 by Isaac Nassi and Ben Shneiderman who were both graduate students at Stony Brook University. These diagrams are also called structograms, as they show a program's structures., \n",
      " model answer: ['Nassi', '-', 'Shneiderman', 'diagram'], \n",
      " ground truth: [{'gender': 'male', 'ethnicity': 'unknown', 'nationality': 'United States of America', 'name': 'Isaac Nassi'}, {'gender': 'male', 'ethnicity': 'unknown', 'nationality': 'United States of America', 'name': 'Ben Shneiderman'}]\n",
      " accuracy: 0.7023809523809523\n",
      "torch.Size([1, 162]) torch.Size([1, 16])\n"
     ]
    },
    {
     "name": "stderr",
     "output_type": "stream",
     "text": [
      "\n",
      "0it [00:00, ?it/s]"
     ]
    },
    {
     "name": "stdout",
     "output_type": "stream",
     "text": [
      "torch.Size([1, 162]) torch.Size([1, 162])\n",
      "question: Who discovered an algorithm used in  bioinformatics to align protein or nucleotide sequences., \n",
      " context: The Needleman-Wunsch algorithm is an algorithm used in bioinformatics to align protein or nucleotide sequences. It was one of the first applications of dynamic programming to compare biological sequences. The algorithm was developed by Saul B. Needleman and Christian D. Wunsch and published in 1970. The algorithm essentially divides a large problem (e.g. the full sequence) into a series of smaller problems, and it uses the solutions to the smaller problems to find an optimal solution to the larger problem. It is also sometimes referred to as the optimal matching algorithm and the global alignment technique. The Needleman-Wunsch algorithm is still widely used for optimal global alignment, particularly when the quality of the global alignment is of the utmost importance. The algorithm assigns a score to every possible alignment, and the purpose of the algorithm is to find all possible alignments having the highest score., \n",
      " model answer: no answer, \n",
      " ground truth: [{'gender': 'unknown', 'ethnicity': 'unknown', 'nationality': 'unknown', 'name': 'Saul B. Needleman'}, {'gender': 'unknown', 'ethnicity': 'unknown', 'nationality': 'unknown', 'name': 'Christian D. Wunsch'}]\n",
      " accuracy: 0.7023809523809523\n",
      "torch.Size([1, 162]) torch.Size([1, 16])\n"
     ]
    },
    {
     "name": "stderr",
     "output_type": "stream",
     "text": [
      "\n",
      "0it [00:00, ?it/s]"
     ]
    },
    {
     "name": "stdout",
     "output_type": "stream",
     "text": [
      "torch.Size([1, 162]) torch.Size([1, 162])\n",
      "question: Who discovered an algorithm used in  bioinformatics to align protein or nucleotide sequences., \n",
      " context: The Needleman-Wunsch algorithm is an algorithm used in bioinformatics to align protein or nucleotide sequences. It was one of the first applications of dynamic programming to compare biological sequences. The algorithm was developed by Saul B. Needleman and Christian D. Wunsch and published in 1970. The algorithm essentially divides a large problem (e.g. the full sequence) into a series of smaller problems, and it uses the solutions to the smaller problems to find an optimal solution to the larger problem. It is also sometimes referred to as the optimal matching algorithm and the global alignment technique. The Needleman-Wunsch algorithm is still widely used for optimal global alignment, particularly when the quality of the global alignment is of the utmost importance. The algorithm assigns a score to every possible alignment, and the purpose of the algorithm is to find all possible alignments having the highest score., \n",
      " model answer: no answer, \n",
      " ground truth: [{'gender': 'unknown', 'ethnicity': 'unknown', 'nationality': 'unknown', 'name': 'Saul B. Needleman'}, {'gender': 'unknown', 'ethnicity': 'unknown', 'nationality': 'unknown', 'name': 'Christian D. Wunsch'}]\n",
      " accuracy: 0.7023809523809523\n",
      "torch.Size([1, 388]) torch.Size([1, 28])\n"
     ]
    },
    {
     "name": "stderr",
     "output_type": "stream",
     "text": [
      "\n",
      "0it [00:00, ?it/s]"
     ]
    },
    {
     "name": "stdout",
     "output_type": "stream",
     "text": [
      "torch.Size([1, 388]) torch.Size([1, 388])\n",
      "question: Who discovered a theorem in the field of signal processing which serves as a fundamental bridge between continuous-time signals and discrete-time signals., \n",
      " context: The Nyquist-Shannon sampling theorem is a theorem in the field of signal processing which serves as a fundamental bridge between continuous-time signals and discrete-time signals. It establishes a sufficient condition for a sample rate that permits a discrete sequence of samples to capture all the information from a continuous-time signal of finite bandwidth. Strictly speaking, the theorem only applies to a class of mathematical functions having a Fourier transform that is zero outside of a finite region of frequencies. Intuitively we expect that when one reduces a continuous function to a discrete sequence and interpolates back to a continuous function, the fidelity of the result depends on the density (or sample rate) of the original samples. The sampling theorem introduces the concept of a sample rate that is sufficient for perfect fidelity for the class of functions that are band-limited to a given bandwidth, such that no actual information is lost in the sampling process. It expresses the sufficient sample rate in terms of the bandwidth for the class of functions. The theorem also leads to a formula for perfectly reconstructing the original continuous-time function from the samples. Perfect reconstruction may still be possible when the sample-rate criterion is not satisfied, provided other constraints on the signal are known (see Sampling of non-baseband signals below and compressed sensing). In some cases (when the sample-rate criterion is not satisfied), utilizing additional constraints allows for approximate reconstructions. The fidelity of these reconstructions can be verified and quantified utilizing Bochner's theorem.The name Nyquist-Shannon sampling theorem honours Harry Nyquist and Claude Shannon, but the theorem was also previously discovered by E. T. Whittaker (published in 1915) and Shannon cited Whittaker's paper in his work. It was also discovered in 1933 by Vladimir Kotelnikov. The theorem is thus also known by the names Whittaker-Shannon sampling theorem, Nyquist-Shannon-Kotelnikov, Whittaker-Shannon-Kotelnikov, and Whittaker-Nyquist-Kotelnikov-Shannon, and may also be referred to as the cardinal theorem of interpolation., \n",
      " model answer: ['Nyquist', '-', 'Shannon'], \n",
      " ground truth: [{'gender': 'male', 'ethnicity': 'Swedish American', 'nationality': 'United States of America', 'name': 'Harry Nyquist'}, {'gender': 'male', 'ethnicity': 'unknown', 'nationality': 'England', 'name': 'Claude Shannon'}, {'gender': 'male', 'ethnicity': 'unknown', 'nationality': 'United Kingdom', 'name': 'Edmund Taylor Whittaker'}, {'gender': 'male', 'ethnicity': 'unknown', 'nationality': 'Soviet Union', 'name': 'Vladimir Kotelnikov'}]\n",
      " accuracy: 0.7023809523809523\n",
      "torch.Size([1, 114]) torch.Size([1, 13])\n"
     ]
    },
    {
     "name": "stderr",
     "output_type": "stream",
     "text": [
      "\n",
      "0it [00:00, ?it/s]"
     ]
    },
    {
     "name": "stdout",
     "output_type": "stream",
     "text": [
      "torch.Size([1, 114]) torch.Size([1, 114])\n",
      "question: Who discovered a theorem that describes the formation of barred galaxies., \n",
      " context: In astronomy, the Ostriker-Peebles criterion, named after its discoverers Jeremiah Ostriker and Jim Peebles, describes the formation of barred galaxies.The rotating disc of a spiral galaxy, consisting of stars and solar systems, may become unstable in a way that the stars in the outer parts of the \"arms\" are released from the galaxy system, resulting in the collapse of the remaining stars into a bar-shaped galaxy. This occurs in approximately 1/3 of the known spiral galaxies. Based on the first kinetic energy component and the total gravitational energy W, a galaxy will become barred when 0.15, \n",
      " model answer: ['Jeremiah', 'Ostriker', 'and', 'Jim', 'Peebles'], \n",
      " ground truth: [{'gender': 'male', 'ethnicity': 'unknown', 'nationality': 'United States of America', 'name': 'Jeremiah P. Ostriker'}, {'gender': 'male', 'ethnicity': 'unknown', 'nationality': 'Canada', 'name': 'Jim Peebles'}]\n",
      " accuracy: 0.7023809523809523\n",
      "torch.Size([1, 138]) torch.Size([1, 17])\n"
     ]
    },
    {
     "name": "stderr",
     "output_type": "stream",
     "text": [
      "\n",
      "0it [00:00, ?it/s]"
     ]
    },
    {
     "name": "stdout",
     "output_type": "stream",
     "text": [
      "torch.Size([1, 138]) torch.Size([1, 138])\n",
      "question: Who discovered a reaction that generates either furans, pyrroles, or thiophenes from 1,4-diketones., \n",
      " context: The Paal-Knorr Synthesis in organic chemistry is a reaction that generates either furans, pyrroles, or thiophenes from 1,4-diketones. It is a synthetically valuable method for obtaining substituted furans and pyrroles, common structural components of many natural products. It was initially reported independently by German chemists Carl Paal and Ludwig Knorr in 1884 as a method for the preparation of furans, and has been adapted for pyrroles and thiophenes. Although the Paal-Knorr synthesis has seen widespread use, the mechanism wasn't fully understood until it was elucidated by V. Amarnath et al. in the 1990s.The furan synthesis requires an acid catalyst: In the pyrrole synthesis a primary amine participates: and in that of thiophene for instance the compound phosphorus pentasulfide:, \n",
      " model answer: ['Paal', '-', 'Knorr', 'Synthesis', 'in', 'organic', 'chemistry'], \n",
      " ground truth: [{'gender': 'unknown', 'ethnicity': 'unknown', 'nationality': 'unknown', 'name': 'Carl Paal'}, {'gender': 'male', 'ethnicity': 'unknown', 'nationality': 'Germany', 'name': 'Ludwig Knorr'}]\n",
      " accuracy: 0.7023809523809523\n",
      "torch.Size([1, 147]) torch.Size([1, 8])\n"
     ]
    },
    {
     "name": "stderr",
     "output_type": "stream",
     "text": [
      "\n",
      "0it [00:00, ?it/s]"
     ]
    },
    {
     "name": "stdout",
     "output_type": "stream",
     "text": [
      "torch.Size([1, 147]) torch.Size([1, 147])\n",
      "question: Who discovered a discrete probability distribution., \n",
      " context: In probability theory and statistics, the Zipf-Mandelbrot law is a discrete probability distribution. Also known as the Pareto-Zipf law, it is a power-law distribution on ranked data, named after the linguist George Kingsley Zipf who suggested a simpler distribution called Zipf's law, and the mathematician Benoit Mandelbrot, who subsequently generalized it. The probability mass function is given by: where is given by: which may be thought of as a generalization of a harmonic number. In the formula, is the rank of the data, and and are parameters of the distribution. In the limit as approaches infinity, this becomes the Hurwitz zeta function \\zeta For finite and the Zipf-Mandelbrot law becomes Zipf's law. For infinite and it becomes a Zeta distribution., \n",
      " model answer: no answer, \n",
      " ground truth: [{'gender': 'male', 'ethnicity': 'unknown', 'nationality': 'Kingdom of Italy', 'name': 'Vilfredo Pareto'}, {'gender': 'unknown', 'ethnicity': 'unknown', 'nationality': 'unknown', 'name': 'George K. Zipf'}]\n",
      " accuracy: 0.7023809523809523\n",
      "torch.Size([1, 229]) torch.Size([1, 23])\n"
     ]
    },
    {
     "name": "stderr",
     "output_type": "stream",
     "text": [
      "\n",
      "0it [00:00, ?it/s]"
     ]
    },
    {
     "name": "stdout",
     "output_type": "stream",
     "text": [
      "torch.Size([1, 229]) torch.Size([1, 229])\n",
      "question: Who discovered the effect of splitting of a spectral line into several components in the presence of a static magnetic field., \n",
      " context: The Zeeman effect (; Dutch pronunciation: ['ze:man]), named after Dutch physicist Pieter Zeeman, is the effect of splitting of a spectral line into several components in the presence of a static magnetic field. It is analogous to the Stark effect, the splitting of a spectral line into several components in the presence of an electric field. Also similar to the Stark effect, transitions between different components have, in general, different intensities, with some being entirely forbidden (in the dipole approximation), as governed by the selection rules. Since the distance between the Zeeman sub-levels is a function of magnetic field strength, this effect can be used to measure magnetic field strength, e.g. that of the Sun and other stars or in laboratory plasmas. The Zeeman effect is very important in applications such as nuclear magnetic resonance spectroscopy, electron spin resonance spectroscopy, magnetic resonance imaging (MRI) and Mossbauer spectroscopy. It may also be utilized to improve accuracy in atomic absorption spectroscopy. theory about the magnetic sense of birds assumes that a protein in the retina is changed due to the Zeeman effect.When the spectral lines are absorption lines, the effect is called inverse Zeeman effect., \n",
      " model answer: ['Pieter', 'Zeeman'], \n",
      " ground truth: [{'gender': 'male', 'ethnicity': 'unknown', 'nationality': 'Germany', 'name': 'Friedrich Paschen'}, {'gender': 'male', 'ethnicity': 'unknown', 'nationality': 'Germany', 'name': 'Ernst Back'}]\n",
      " accuracy: 0.7023809523809523\n",
      "torch.Size([1, 97]) torch.Size([1, 24])\n"
     ]
    },
    {
     "name": "stderr",
     "output_type": "stream",
     "text": [
      "\n",
      "0it [00:00, ?it/s]"
     ]
    },
    {
     "name": "stdout",
     "output_type": "stream",
     "text": [
      "torch.Size([1, 97]) torch.Size([1, 97])\n",
      "question: Who discovered a photochemical reaction that forms four-membered oxetane rings from an excited carbonyl and reacting with an alkene.  \n",
      "\n",
      ", \n",
      " context: The Paterno-Buchi reaction, named after Emanuele Paterno and George Buchi who established its basic utility and form, is a photochemical reaction that forms four-membered oxetane rings from an excited carbonyl and reacting with an alkene. With substrates benzaldehyde and 2-methyl-2-butene the reaction product is a mixture of structural isomers: Another substrate set is benzaldehyde and furan The alternative strategy for the above reaction is called the Transposed Paterno-Buchi reaction. The aza-equivalent of the above reaction is the Aza Paterno-Buchi reaction., \n",
      " model answer: ['Emanuele', 'Paterno', 'and', 'George', 'Buchi'], \n",
      " ground truth: [{'gender': 'male', 'ethnicity': 'unknown', 'nationality': 'Kingdom of Italy', 'name': 'Emanuele Paterno'}, {'gender': 'male', 'ethnicity': 'unknown', 'nationality': 'Switzerland', 'name': 'George Buchi'}]\n",
      " accuracy: 0.7023809523809523\n",
      "torch.Size([1, 156]) torch.Size([1, 31])\n"
     ]
    },
    {
     "name": "stderr",
     "output_type": "stream",
     "text": [
      "\n",
      "0it [00:00, ?it/s]"
     ]
    },
    {
     "name": "stdout",
     "output_type": "stream",
     "text": [
      "torch.Size([1, 156]) torch.Size([1, 156])\n",
      "question: Who discovered the phenomenon of an oscillating electric voltage produced by a neon bulb connected across a capacitor, when a direct current is applied through a resistor.  , \n",
      " context: The Pearson-Anson effect, discovered in 1922 by Stephen Oswald Pearson and Horatio Saint George Anson, is the phenomenon of an oscillating electric voltage produced by a neon bulb connected across a capacitor, when a direct current is applied through a resistor. This circuit, now called the Pearson-Anson oscillator, neon lamp oscillator, or sawtooth oscillator, is one of the simplest types of relaxation oscillator. It generates a sawtooth output waveform. It has been used in low frequency applications such as blinking warning lights, stroboscopes, tone generators in electronic organs and other electronic music circuits, and in time bases and deflection circuits of early cathode-ray tube oscilloscopes. Since the development of microelectronics, these simple negative resistance oscillators have been superseded in many applications by more flexible semiconductor relaxation oscillators such as the 555 timer IC., \n",
      " model answer: ['The', 'Pearson', '-', 'Anson'], \n",
      " ground truth: [{'gender': 'unknown', 'ethnicity': 'unknown', 'nationality': 'unknown', 'name': 'Stephen Oswald Pearson'}, {'gender': 'male', 'ethnicity': 'unknown', 'nationality': 'unknown', 'name': 'Horatio Saint George Anson'}]\n",
      " accuracy: 0.7023809523809523\n",
      "torch.Size([1, 156]) torch.Size([1, 31])\n"
     ]
    },
    {
     "name": "stderr",
     "output_type": "stream",
     "text": [
      "\n",
      "0it [00:00, ?it/s]"
     ]
    },
    {
     "name": "stdout",
     "output_type": "stream",
     "text": [
      "torch.Size([1, 156]) torch.Size([1, 156])\n",
      "question: Who discovered the phenomenon of an oscillating electric voltage produced by a neon bulb connected across a capacitor, when a direct current is applied through a resistor.  , \n",
      " context: The Pearson-Anson effect, discovered in 1922 by Stephen Oswald Pearson and Horatio Saint George Anson, is the phenomenon of an oscillating electric voltage produced by a neon bulb connected across a capacitor, when a direct current is applied through a resistor. This circuit, now called the Pearson-Anson oscillator, neon lamp oscillator, or sawtooth oscillator, is one of the simplest types of relaxation oscillator. It generates a sawtooth output waveform. It has been used in low frequency applications such as blinking warning lights, stroboscopes, tone generators in electronic organs and other electronic music circuits, and in time bases and deflection circuits of early cathode-ray tube oscilloscopes. Since the development of microelectronics, these simple negative resistance oscillators have been superseded in many applications by more flexible semiconductor relaxation oscillators such as the 555 timer IC., \n",
      " model answer: ['The', 'Pearson', '-', 'Anson'], \n",
      " ground truth: [{'gender': 'unknown', 'ethnicity': 'unknown', 'nationality': 'unknown', 'name': 'Stephen Oswald Pearson'}, {'gender': 'male', 'ethnicity': 'unknown', 'nationality': 'unknown', 'name': 'Horatio Saint George Anson'}]\n",
      " accuracy: 0.7023809523809523\n",
      "torch.Size([1, 227]) torch.Size([1, 7])\n"
     ]
    },
    {
     "name": "stderr",
     "output_type": "stream",
     "text": [
      "\n",
      "0it [00:00, ?it/s]"
     ]
    },
    {
     "name": "stdout",
     "output_type": "stream",
     "text": [
      "torch.Size([1, 227]) torch.Size([1, 227])\n",
      "question: Who discovered a real algebraic integer, \n",
      " context: In mathematics, a Pisot-Vijayaraghavan number, also called simply a Pisot number or a PV number, is a real algebraic integer greater than all of whose Galois conjugates are less than in absolute value. These numbers were discovered by Axel Thue in 1912 and rediscovered by G. H. Hardy in 1919 within the context of diophantine approximation. They became widely known after the publication of Charles Pisot's dissertation in 1938. They also occur in the uniqueness problem for Fourier series. Tirukkannapuram Vijayaraghavan and Raphael Salem continued their study in the 1940s. Salem numbers are a closely related set of numbers. characteristic property of PV numbers is that their powers approach integers at an exponential rate. Pisot proved a remarkable converse: if is a real number such that the sequence measuring the distance from its consecutive powers to the nearest integer is square-summable, or 2, then is a Pisot number (and, in particular, algebraic). Building on this characterization of PV numbers, Salem showed that the set of all PV numbers is closed. Its minimal element is a cubic irrationality known as the plastic number. Much is known about the accumulation points of S. The smallest of them is the golden ratio., \n",
      " model answer: ['Axel', 'Thue'], \n",
      " ground truth: [{'gender': 'male', 'ethnicity': 'unknown', 'nationality': 'France', 'name': 'Charles Pisot'}, {'gender': 'male', 'ethnicity': 'unknown', 'nationality': 'India', 'name': 'Tirukkannapuram Vijayaraghavan'}]\n",
      " accuracy: 0.7023809523809523\n",
      "torch.Size([1, 35]) torch.Size([1, 28])\n"
     ]
    },
    {
     "name": "stderr",
     "output_type": "stream",
     "text": [
      "\n",
      "0it [00:00, ?it/s]\n"
     ]
    },
    {
     "name": "stdout",
     "output_type": "stream",
     "text": [
      "torch.Size([1, 35]) torch.Size([1, 35])\n",
      "question: Who discovered a statement about the long-term behaviour of orbits of continuous dynamical systems on the plane, cylinder, or two-sphere., \n",
      " context: In mathematics, the Poincare-Bendixson theorem is a statement about the long-term behaviour of orbits of continuous dynamical systems on the plane, cylinder, or two-sphere., \n",
      " model answer: ['Poincare', '-', 'Bendixson', 'theorem'], \n",
      " ground truth: [{'gender': 'male', 'ethnicity': 'unknown', 'nationality': 'France', 'name': 'Henri Poincare'}, {'gender': 'male', 'ethnicity': 'unknown', 'nationality': 'Sweden', 'name': 'Ivar Otto Bendixson'}]\n",
      " accuracy: 0.7023809523809523\n",
      "torch.Size([1, 309]) torch.Size([1, 13])\n"
     ]
    },
    {
     "name": "stderr",
     "output_type": "stream",
     "text": [
      "0it [00:00, ?it/s]"
     ]
    },
    {
     "name": "stdout",
     "output_type": "stream",
     "text": [
      "torch.Size([1, 309]) torch.Size([1, 309])\n",
      "question: Who discovered a model of interacting spins on a crystalline lattice., \n",
      " context: In statistical mechanics, the Potts model, a generalization of the Ising model, is a model of interacting spins on a crystalline lattice. By studying the Potts model, one may gain insight into the behaviour of ferromagnets and certain other phenomena of solid-state physics. The strength of the Potts model is not so much that it models these physical systems well; it is rather that the one-dimensional case is exactly solvable, and that it has a rich mathematical formulation that has been studied extensively. The model is named after Renfrey Potts, who described the model near the end of his 1951 Ph.D. thesis. The model was related to the \"planar Potts\" or \"clock model\", which was suggested to him by his advisor, Cyril Domb. The four-state planar Potts model is sometimes known as the Ashkin-Teller model, after Julius Ashkin and Edward Teller, who considered an equivalent model in 1943. The Potts model is related to, and generalized by, several other models, including the XY model, the Heisenberg model and the N-vector model. The infinite-range Potts model is known as the Kac model. When the spins are taken to interact in a non-Abelian manner, the model is related to the flux tube model, which is used to discuss confinement in quantum chromodynamics. Generalizations of the Potts model have also been used to model grain growth in metals and coarsening in foams. further generalization of these methods by James Glazier and Francois Graner, known as the cellular Potts model, has been used to simulate static and kinetic phenomena in foam and biological morphogenesis., \n",
      " model answer: ['Potts', 'model'], \n",
      " ground truth: [{'gender': 'male', 'ethnicity': 'unknown', 'nationality': 'Australia', 'name': 'Renfrey B. Potts'}, {'gender': 'male', 'ethnicity': 'unknown', 'nationality': 'United States of America', 'name': 'Julius Ashkin'}, {'gender': 'male', 'ethnicity': 'Jewish people', 'nationality': 'Hungary', 'name': 'Edward Teller'}]\n",
      " accuracy: 0.7023809523809523\n",
      "torch.Size([1, 183]) torch.Size([1, 29])\n"
     ]
    },
    {
     "name": "stderr",
     "output_type": "stream",
     "text": [
      "\n",
      "0it [00:00, ?it/s]"
     ]
    },
    {
     "name": "stdout",
     "output_type": "stream",
     "text": [
      "torch.Size([1, 183]) torch.Size([1, 183])\n",
      "question: Who discovered a process by which solar radiation causes a dust grain orbiting a star to lose angular momentum relative to its orbit around the star.  , \n",
      " context: The Poynting-Robertson effect, also known as Poynting-Robertson drag, named after John Henry Poynting and Howard P. Robertson, is a process by which solar radiation causes a dust grain orbiting a star to lose angular momentum relative to its orbit around the star. This is related to radiation pressure tangential to the grain's motion. This causes dust that is small enough to be affected by this drag, but too large to be blown away from the star by radiation pressure, to spiral slowly into the star. In the case of the Solar System, this can be thought of as affecting dust grains from mm to mm in diameter. Larger dust is likely to collide with another object long before such drag can have an effect. Poynting initially gave a description of the effect in 1903 based on the luminiferous aether theory, which was superseded by the theories of relativity in 1905-1915. In 1937 Robertson described the effect in terms of general relativity., \n",
      " model answer: ['John', 'Henry', 'Poynting', 'and', 'Howard', 'P.', 'Robertson'], \n",
      " ground truth: [{'gender': 'male', 'ethnicity': 'unknown', 'nationality': 'United Kingdom of Great Britain and Ireland', 'name': 'John Henry Poynting'}, {'gender': 'unknown', 'ethnicity': 'unknown', 'nationality': 'unknown', 'name': 'Howard P. Robertson'}]\n",
      " accuracy: 0.7023809523809523\n",
      "torch.Size([1, 41]) torch.Size([1, 24])\n",
      "torch.Size([1, 41]) torch.Size([1, 41])\n"
     ]
    },
    {
     "name": "stderr",
     "output_type": "stream",
     "text": [
      "\n",
      "0it [00:00, ?it/s]\n"
     ]
    },
    {
     "name": "stdout",
     "output_type": "stream",
     "text": [
      "question: Who discovered a theorem that gives a sufficient condition for a series of orthogonal functions on an interval to converge almost everywhere., \n",
      " context: In mathematical analysis, the Rademacher-Menchov theorem, introduced by Rademacher (1922) and Menchoff (1923), gives a sufficient condition for a series of orthogonal functions on an interval to converge almost everywhere., \n",
      " model answer: ['Rademacher'], \n",
      " ground truth: [{'gender': 'male', 'ethnicity': 'unknown', 'nationality': 'Germany', 'name': 'Hans Adolph Rademacher'}, {'gender': 'male', 'ethnicity': 'unknown', 'nationality': 'Russian Empire', 'name': 'Dmitrii Menshov'}]\n",
      " accuracy: 0.7023809523809523\n",
      "torch.Size([1, 56]) torch.Size([1, 21])\n",
      "torch.Size([1, 56]) torch.Size([1, 56])\n",
      "question: Who discovered a physical phenomenon involving the scattering of low-energy electrons by atoms of a noble gas., \n",
      " context: The Ramsauer-Townsend effect, also sometimes called the Ramsauer effect or the Townsend effect, is a physical phenomenon involving the scattering of low-energy electrons by atoms of a noble gas. The effect can not be explained by Classical mechanics, but requires the wave theory of quantum mechanics., \n",
      " model answer: ['The', 'Ramsauer', '-', 'Townsend'], \n",
      " ground truth: [{'gender': 'male', 'ethnicity': 'unknown', 'nationality': 'Germany', 'name': 'Carl Ramsauer'}, {'gender': 'male', 'ethnicity': 'unknown', 'nationality': 'United Kingdom', 'name': 'John Sealy Townsend'}]\n",
      " accuracy: 0.7023809523809523\n"
     ]
    },
    {
     "name": "stderr",
     "output_type": "stream",
     "text": [
      "0it [00:00, ?it/s]\n"
     ]
    },
    {
     "name": "stdout",
     "output_type": "stream",
     "text": [
      "torch.Size([1, 119]) torch.Size([1, 37])\n",
      "torch.Size([1, 119]) torch.Size([1, 119])\n"
     ]
    },
    {
     "name": "stderr",
     "output_type": "stream",
     "text": [
      "0it [00:00, ?it/s]"
     ]
    },
    {
     "name": "stdout",
     "output_type": "stream",
     "text": [
      "question: Who discovered a type of natural convection, occurring in a planar horizontal layer of fluid heated from below, in which the fluid develops a regular pattern of convection cells known as Benard cells., \n",
      " context: Rayleigh-Benard convection is a type of natural convection, occurring in a planar horizontal layer of fluid heated from below, in which the fluid develops a regular pattern of convection cells known as Benard cells. Benard-Rayleigh convection is one of the most commonly studied convection phenomena because of its analytical and experimental accessibility. The convection patterns are the most carefully examined example of self-organizing nonlinear systems.Buoyancy, and hence gravity, are responsible for the appearance of convection cells. The initial movement is the upwelling of lesser density fluid from the heated bottom layer. This upwelling spontaneously organizes into a regular pattern of cells., \n",
      " model answer: ['Rayleigh', '-', 'Benard', 'convection'], \n",
      " ground truth: [{'gender': 'unknown', 'ethnicity': 'unknown', 'nationality': 'unknown', 'name': 'Lord Rayleigh'}, {'gender': 'male', 'ethnicity': 'unknown', 'nationality': 'France', 'name': 'Henri Benard'}]\n",
      " accuracy: 0.7023809523809523\n",
      "torch.Size([1, 173]) torch.Size([1, 29])\n"
     ]
    },
    {
     "name": "stderr",
     "output_type": "stream",
     "text": [
      "\n"
     ]
    },
    {
     "name": "stdout",
     "output_type": "stream",
     "text": [
      "torch.Size([1, 173]) torch.Size([1, 173])\n",
      "question: Who discovered an approximation to the spectral radiance of electromagnetic radiation as a function of wavelength from a black body at a given temperature through classical arguments., \n",
      " context: In physics, the Rayleigh-Jeans Law is an approximation to the spectral radiance of electromagnetic radiation as a function of wavelength from a black body at a given temperature through classical arguments. For wavelength \\lambda it is: where is the spectral radiance, the power emitted per unit emitting area, per steradian, per unit wavelength; is the speed of light; is the Boltzmann constant; and is the temperature in kelvins. For frequency \\nu the expression is instead The Rayleigh-Jeans law agrees with experimental results at large wavelengths (low frequencies) but strongly disagrees at short wavelengths (high frequencies). This inconsistency between observations and the predictions of classical physics is commonly known as the ultraviolet catastrophe. Its resolution in 1900 with the derivation by Max Planck of Planck's law, which gives the correct radiation at all frequencies, was a foundational aspect of the development of quantum mechanics in the early 20th century., \n",
      " model answer: ['the', 'Rayleigh', '-', 'Jeans', 'Law'], \n",
      " ground truth: [{'gender': 'unknown', 'ethnicity': 'unknown', 'nationality': 'unknown', 'name': 'Lord Rayleigh'}, {'gender': 'unknown', 'ethnicity': 'unknown', 'nationality': 'unknown', 'name': 'James Jeans'}]\n",
      " accuracy: 0.7023809523809523\n"
     ]
    },
    {
     "name": "stderr",
     "output_type": "stream",
     "text": [
      "0it [00:00, ?it/s]\n",
      "Traceback (most recent call last):\n",
      "  File \"<ipython-input-144-0ab5a653ee6a>\", line 12, in <module>\n",
      "    model_ans = answer_question(example['context'], example['question'])\n",
      "  File \"<ipython-input-143-75f5d3a8a0fe>\", line 18, in answer_question\n",
      "    context_idxs, ques_idxs = preprocess(context, question, word2idx_dict)\n",
      "  File \"<ipython-input-8-21f0d84691f7>\", line 56, in preprocess\n",
      "    context_idx[i] = _get_word(token)\n",
      "IndexError: index 400 is out of bounds for axis 0 with size 400\n",
      "0it [00:00, ?it/s]\n"
     ]
    },
    {
     "name": "stdout",
     "output_type": "stream",
     "text": [
      "torch.Size([1, 251]) torch.Size([1, 30])\n"
     ]
    },
    {
     "name": "stderr",
     "output_type": "stream",
     "text": [
      "0it [00:00, ?it/s]"
     ]
    },
    {
     "name": "stdout",
     "output_type": "stream",
     "text": [
      "torch.Size([1, 251]) torch.Size([1, 251])\n",
      "question: Who discovered a model of classical conditioning, in which learning is conceptualized in terms of associations between conditioned (CS) and unconditioned (US) stimuli., \n",
      " context: The Rescorla-Wagner model (\"R-W\") is a model of classical conditioning, in which learning is conceptualized in terms of associations between conditioned (CS) and unconditioned (US) stimuli. strong CS-US association means, essentially, that the CS signals or predicts the US. One might say that before conditioning, the subject is surprised by the US, but after conditioning, the subject is no longer surprised, because the CS predicts the coming of the US. The model casts the conditioning processes into discrete trials, during which stimuli may be either present or absent. The strength of prediction of the US on a trial can be represented as the summed associative strengths of all CSs present during the trial. This feature of the model represented a major advance over previous models, and it allowed a straightforward explanation of important experimental phenomena, most notably the blocking effect. Failures of the model have led to modifications, alternative models, and many additional findings. The model has had some impact on neural science in recent years, as studies have suggested that the phasic activity of dopamine neurons in mesostriatal DA projections in the midbrain encodes for the type of prediction error detailed in the model.The Rescorla-Wagner model was created by Yale psychologists Robert A. Rescorla and Allan R. Wagner in 1972., \n",
      " model answer: ['Rescorla', '-', 'Wagner', 'model'], \n",
      " ground truth: [{'gender': 'unknown', 'ethnicity': 'unknown', 'nationality': 'unknown', 'name': 'Robert A. Rescorla'}, {'gender': 'unknown', 'ethnicity': 'unknown', 'nationality': 'unknown', 'name': 'Allan R. Wagner'}]\n",
      " accuracy: 0.7023809523809523\n",
      "torch.Size([1, 82]) torch.Size([1, 26])\n"
     ]
    },
    {
     "name": "stderr",
     "output_type": "stream",
     "text": [
      "\n",
      "0it [00:00, ?it/s]"
     ]
    },
    {
     "name": "stdout",
     "output_type": "stream",
     "text": [
      "torch.Size([1, 82]) torch.Size([1, 82])\n",
      "question: Who discovered an economic hypothesis holding that consumers are forward looking and so internalize the government's budget constraint when making their consumption decisions., \n",
      " context: The Ricardian equivalence proposition (also known as the Ricardo-de Viti-Barro equivalence theorem) is an economic hypothesis holding that consumers are forward looking and so internalize the government's budget constraint when making their consumption decisions. This leads to the result that, for a given pattern of government spending, the method of financing such spending does not affect agents' consumption decisions, and thus, it does not change aggregate demand., \n",
      " model answer: ['Ricardian', 'equivalence', 'proposition'], \n",
      " ground truth: [{'gender': 'unknown', 'ethnicity': 'unknown', 'nationality': 'unknown', 'name': 'Robert Barro'}, {'gender': 'male', 'ethnicity': 'unknown', 'nationality': 'United Kingdom of Great Britain and Ireland', 'name': 'David Ricardo'}, {'gender': 'male', 'ethnicity': 'unknown', 'nationality': 'Kingdom of Italy', 'name': 'Antonio de Viti de Marco'}]\n",
      " accuracy: 0.7023809523809523\n",
      "torch.Size([1, 198]) torch.Size([1, 11])\n"
     ]
    },
    {
     "name": "stderr",
     "output_type": "stream",
     "text": [
      "\n",
      "0it [00:00, ?it/s]"
     ]
    },
    {
     "name": "stdout",
     "output_type": "stream",
     "text": [
      "torch.Size([1, 198]) torch.Size([1, 198])\n",
      "question: Who discovered the thermal analog of the Hall effect., \n",
      " context: The thermal Hall effect is the thermal analog of the Hall effect. Here, a thermal gradient is produced across a solid instead of an electric field. When a magnetic field is applied, an orthogonal temperature gradient develops. For conductors, a significant portion of the thermal current is carried by the electrons. In particular, the Righi-Leduc effect describes the heat flow resulting from a perpendicular temperature gradient and vice versa, and the Maggi-Righi-Leduc effect describes changes in thermal conductivity when placing a conductor in a magnetic field. thermal Hall effect has also been measured in a paramagnetic insulator and called the \"phonon Hall effect\". In this case, there are no charged currents in the solid, so the magnetic field cannot exert a Lorentz force. An analogous thermal Hall effect for neutral particles exists in polyatomic gases (known as the Senftleben-Beenakker effect). Measurements of the thermal Hall conductivity are used to distinguish between the electronic and lattice contributions to thermal conductivity. These measurements are especially useful when studying superconductors., \n",
      " model answer: no answer, \n",
      " ground truth: [{'gender': 'male', 'ethnicity': 'unknown', 'nationality': 'Kingdom of Italy', 'name': 'Augusto Righi'}, {'gender': 'unknown', 'ethnicity': 'unknown', 'nationality': 'unknown', 'name': 'Sylvestre Anatole Leduc'}]\n",
      " accuracy: 0.7023809523809523\n",
      "torch.Size([1, 91]) torch.Size([1, 14])\n"
     ]
    },
    {
     "name": "stderr",
     "output_type": "stream",
     "text": [
      "\n",
      "0it [00:00, ?it/s]"
     ]
    },
    {
     "name": "stdout",
     "output_type": "stream",
     "text": [
      "torch.Size([1, 91]) torch.Size([1, 91])\n",
      "question: Who discovered one of the first seismic scales to represent earthquake intensities., \n",
      " context: The Rossi-Forel scale was one of the first seismic scales to represent earthquake intensities. Developed by Michele Stefano Conte de Rossi of Italy and Francois-Alphonse Forel of Switzerland during the late 19th century, it was used commonly for about two decades until the introduction of the Mercalli intensity scale in 1902. The Rossi-Forel scale and/or its modifications is still used in some countries, such as the Philippines until 1996 when it was replaced by the PHIVOLCS Earthquake Intensity Scale., \n",
      " model answer: ['Michele', 'Stefano', 'Conte', 'de', 'Rossi'], \n",
      " ground truth: [{'gender': 'unknown', 'ethnicity': 'unknown', 'nationality': 'unknown', 'name': 'Michele Stefano Conte de Rossi'}, {'gender': 'unknown', 'ethnicity': 'unknown', 'nationality': 'unknown', 'name': 'Francois-Alphonse Forel'}]\n",
      " accuracy: 0.7023809523809523\n",
      "torch.Size([1, 91]) torch.Size([1, 14])\n"
     ]
    },
    {
     "name": "stderr",
     "output_type": "stream",
     "text": [
      "\n",
      "0it [00:00, ?it/s]"
     ]
    },
    {
     "name": "stdout",
     "output_type": "stream",
     "text": [
      "torch.Size([1, 91]) torch.Size([1, 91])\n",
      "question: Who discovered one of the first seismic scales to represent earthquake intensities., \n",
      " context: The Rossi-Forel scale was one of the first seismic scales to represent earthquake intensities. Developed by Michele Stefano Conte de Rossi of Italy and Francois-Alphonse Forel of Switzerland during the late 19th century, it was used commonly for about two decades until the introduction of the Mercalli intensity scale in 1902. The Rossi-Forel scale and/or its modifications is still used in some countries, such as the Philippines until 1996 when it was replaced by the PHIVOLCS Earthquake Intensity Scale., \n",
      " model answer: ['Michele', 'Stefano', 'Conte', 'de', 'Rossi'], \n",
      " ground truth: [{'gender': 'unknown', 'ethnicity': 'unknown', 'nationality': 'unknown', 'name': 'Michele Stefano Conte de Rossi'}, {'gender': 'unknown', 'ethnicity': 'unknown', 'nationality': 'unknown', 'name': 'Francois-Alphonse Forel'}]\n",
      " accuracy: 0.7023809523809523\n",
      "torch.Size([1, 37]) torch.Size([1, 31])\n",
      "torch.Size([1, 37]) torch.Size([1, 37])\n",
      "question: Who discovered a procedure used in the analysis of rotational-vibrational spectra of diatomic molecules to obtain a potential energy curve from the experimentally-known line positions., \n",
      " context: The Rydberg-Klein-Rees method is a procedure used in the analysis of rotational-vibrational spectra of diatomic molecules to obtain a potential energy curve from the experimentally-known line positions., \n",
      " model answer: ['Rydberg', '-', 'Klein', '-', 'Rees', 'method'], \n",
      " ground truth: [{'gender': 'male', 'ethnicity': 'unknown', 'nationality': 'Sweden', 'name': 'Johannes Rydberg'}, {'gender': 'male', 'ethnicity': 'unknown', 'nationality': 'Sweden', 'name': 'Oskar Klein'}, {'gender': 'male', 'ethnicity': 'unknown', 'nationality': 'Australia', 'name': 'Albert Lloyd George Rees'}]\n",
      " accuracy: 0.7023809523809523\n"
     ]
    },
    {
     "name": "stderr",
     "output_type": "stream",
     "text": [
      "\n",
      "0it [00:00, ?it/s]\n"
     ]
    },
    {
     "name": "stdout",
     "output_type": "stream",
     "text": [
      "torch.Size([1, 67]) torch.Size([1, 33])\n",
      "torch.Size([1, 67]) torch.Size([1, 67])\n",
      "question: Who discovered a property of the cosmic microwave background radiation (CMB), in which photons from the CMB are gravitationally redshifted, causing the CMB spectrum to appear uneven., \n",
      " context: The Sachs-Wolfe effect, named after Rainer K. Sachs and Arthur M. Wolfe, is a property of the cosmic microwave background radiation (CMB), in which photons from the CMB are gravitationally redshifted, causing the CMB spectrum to appear uneven. This effect is the predominant source of fluctuations in the CMB for angular scales above about ten degrees., \n",
      " model answer: ['The', 'Sachs', '-', 'Wolfe'], \n",
      " ground truth: [{'gender': 'unknown', 'ethnicity': 'unknown', 'nationality': 'unknown', 'name': 'Rainer K. Sachs'}, {'gender': 'unknown', 'ethnicity': 'unknown', 'nationality': 'unknown', 'name': 'Arthur M. Wolfe'}]\n",
      " accuracy: 0.7023809523809523\n"
     ]
    },
    {
     "name": "stderr",
     "output_type": "stream",
     "text": [
      "0it [00:00, ?it/s]\n"
     ]
    },
    {
     "name": "stdout",
     "output_type": "stream",
     "text": [
      "torch.Size([1, 67]) torch.Size([1, 33])\n",
      "torch.Size([1, 67]) torch.Size([1, 67])\n"
     ]
    },
    {
     "name": "stderr",
     "output_type": "stream",
     "text": [
      "0it [00:00, ?it/s]\n"
     ]
    },
    {
     "name": "stdout",
     "output_type": "stream",
     "text": [
      "question: Who discovered a property of the cosmic microwave background radiation (CMB), in which photons from the CMB are gravitationally redshifted, causing the CMB spectrum to appear uneven., \n",
      " context: The Sachs-Wolfe effect, named after Rainer K. Sachs and Arthur M. Wolfe, is a property of the cosmic microwave background radiation (CMB), in which photons from the CMB are gravitationally redshifted, causing the CMB spectrum to appear uneven. This effect is the predominant source of fluctuations in the CMB for angular scales above about ten degrees., \n",
      " model answer: ['The', 'Sachs', '-', 'Wolfe'], \n",
      " ground truth: [{'gender': 'unknown', 'ethnicity': 'unknown', 'nationality': 'unknown', 'name': 'Rainer K. Sachs'}, {'gender': 'unknown', 'ethnicity': 'unknown', 'nationality': 'unknown', 'name': 'Arthur M. Wolfe'}]\n",
      " accuracy: 0.7023809523809523\n",
      "torch.Size([1, 301]) torch.Size([1, 33])\n"
     ]
    },
    {
     "name": "stderr",
     "output_type": "stream",
     "text": [
      "0it [00:00, ?it/s]"
     ]
    },
    {
     "name": "stdout",
     "output_type": "stream",
     "text": [
      "torch.Size([1, 301]) torch.Size([1, 301])\n",
      "question: Who discovered a principle suggesting that the structure of a language affects its speakers' world view or cognition, and thus people's perceptions are relative to their spoken language., \n",
      " context: The hypothesis of linguistic relativity, also known as the Sapir-Whorf hypothesis the Whorf hypothesis, or Whorfianism, is a principle suggesting that the structure of a language affects its speakers' world view or cognition, and thus people's perceptions are relative to their spoken language. However, the idea did not originate with Edward Sapir or Benjamin Lee Whorf, but rather, was imported from German humanistic thinking by various American authors. Being related to the concept of the spirit or Geist, it is a core tenet of Volkerpsychologie and other versions of post-Hegelian philosophy and German romanticism.The idea is often stated in two forms: the strong hypothesis, now referred to as linguistic determinism, was held by some of the early linguists before World War II, while the weak hypothesis is mostly held by some of the modern linguists. The strong version, or linguistic determinism, says that language determines thought and that linguistic categories limit and determine cognitive categories. This version is generally agreed to be false by modern linguists. The weak version says that linguistic categories and usage only influence thought and decisions.The principle had been accepted and then abandoned by linguists during the early 20th century following the changing perceptions of social acceptance for the other especially after World War II. The origin of formulated arguments against the acceptance of linguistic relativity is attributed to Noam Chomsky.The principle of linguistic relativity and the relation between language and thought has also received attention in varying academic fields from philosophy to psychology and anthropology, and it has also inspired and coloured works of fiction and the invention of constructed languages., \n",
      " model answer: ['Sapir', '-', 'Whorf'], \n",
      " ground truth: [{'gender': 'male', 'ethnicity': 'unknown', 'nationality': 'United States of America', 'name': 'Edward Sapir'}, {'gender': 'male', 'ethnicity': 'unknown', 'nationality': 'United States of America', 'name': 'Benjamin Whorf'}]\n",
      " accuracy: 0.7023809523809523\n"
     ]
    },
    {
     "name": "stderr",
     "output_type": "stream",
     "text": [
      "\n",
      "0it [00:00, ?it/s]\n"
     ]
    },
    {
     "name": "stdout",
     "output_type": "stream",
     "text": [
      "torch.Size([1, 36]) torch.Size([1, 21])\n",
      "torch.Size([1, 36]) torch.Size([1, 36])\n",
      "question: Who discovered a set of absorption bands of molecular oxygen that occur at wavelengths between 176 and 192.6 nanometres., \n",
      " context: The Schumann-Runge bands are a set of absorption bands of molecular oxygen that occur at wavelengths between 176 and 192.6 nanometres. The bands are named for Victor Schumann and Carl Runge., \n",
      " model answer: ['Schumann', '-', 'Runge', 'bands'], \n",
      " ground truth: [{'gender': 'male', 'ethnicity': 'unknown', 'nationality': 'Kingdom of Saxony', 'name': 'Victor Schumann'}, {'gender': 'male', 'ethnicity': 'unknown', 'nationality': 'Germany', 'name': 'Carle David Tolme Runge'}]\n",
      " accuracy: 0.7023809523809523\n",
      "torch.Size([1, 43]) torch.Size([1, 28])\n"
     ]
    },
    {
     "name": "stderr",
     "output_type": "stream",
     "text": [
      "0it [00:00, ?it/s]"
     ]
    },
    {
     "name": "stdout",
     "output_type": "stream",
     "text": [
      "torch.Size([1, 43]) torch.Size([1, 43])\n",
      "question: Who discovered a theory that determines an exact low-energy effective action (for massless degrees of freedom) of a  \n",
      "  \n",
      "    \n",
      "      \n",
      "        \n",
      "          \n",
      "            N\n",
      "          \n",
      "        \n",
      "        =\n",
      "        , \n",
      " context: In theoretical physics, Seiberg-Witten theory is a theory that determines an exact low-energy effective action (for massless degrees of freedom) of supersymmetric gauge theory--namely the metric of the moduli space of vacua., \n",
      " model answer: no answer, \n",
      " ground truth: [{'gender': 'male', 'ethnicity': 'unknown', 'nationality': 'United States of America', 'name': 'Nathan Seiberg'}, {'gender': 'male', 'ethnicity': 'unknown', 'nationality': 'United States of America', 'name': 'Edward Witten'}]\n",
      " accuracy: 0.7023809523809523\n",
      "torch.Size([1, 193]) torch.Size([1, 46])\n"
     ]
    },
    {
     "name": "stderr",
     "output_type": "stream",
     "text": [
      "\n"
     ]
    },
    {
     "name": "stdout",
     "output_type": "stream",
     "text": [
      "torch.Size([1, 193]) torch.Size([1, 193])\n",
      "question: Who discovered invariants of compact smooth oriented 4-manifolds introduced by Edward Witten (1994), using the Seiberg-Witten theory studied by Nathan Seiberg and  Witten (1994a, 1994b) during their investigations of Seiberg-Witten gauge theory.\n",
      ", \n",
      " context: In mathematics, and especially gauge theory, Seiberg-Witten invariants are invariants of compact smooth oriented 4-manifolds introduced by Edward Witten (1994), using the Seiberg-Witten theory studied by Nathan Seiberg and Witten (1994a, 1994b) during their investigations of Seiberg-Witten gauge theory. Seiberg-Witten invariants are similar to Donaldson invariants and can be used to prove similar (but sometimes slightly stronger) results about smooth 4-manifolds. They are technically much easier to work with than Donaldson invariants; for example, the moduli spaces of solutions of the Seiberg-Witten equations tends to be compact, so one avoids the hard problems involved in compactifying the moduli spaces in Donaldson theory. For detailed descriptions of Seiberg-Witten invariants see (Donaldson 1996), (Moore 2001), (Morgan 1996), (Nicolaescu 2000), (Scorpan 2005, Chapter 10). For the relation to symplectic manifolds and Gromov-Witten invariants see (Taubes 2000). For the early history see (Jackson 1995)., \n",
      " model answer: no answer, \n",
      " ground truth: [{'gender': 'male', 'ethnicity': 'unknown', 'nationality': 'United States of America', 'name': 'Nathan Seiberg'}, {'gender': 'male', 'ethnicity': 'unknown', 'nationality': 'United States of America', 'name': 'Edward Witten'}]\n",
      " accuracy: 0.7023809523809523\n"
     ]
    },
    {
     "name": "stderr",
     "output_type": "stream",
     "text": [
      "0it [00:00, ?it/s]\n"
     ]
    },
    {
     "name": "stdout",
     "output_type": "stream",
     "text": [
      "torch.Size([1, 368]) torch.Size([1, 26])\n",
      "torch.Size([1, 368]) torch.Size([1, 368])\n",
      "question: Who discovered the dependence on a magnetic or electric field of transport properties (such as viscosity and heat conductivity) of polyatomic gases., \n",
      " context: The Senftleben-Beenakker effect is the dependence on a magnetic or electric field of transport properties (such as viscosity and heat conductivity) of polyatomic gases. The effect is caused by the precession of the (magnetic or electric) dipole of the gas molecules between collisions. The resulting rotation of the molecule averages out the nonspherical part of the collision cross-section, if the field is large enough that the precession time is short compared to the time between collisions (this requires a very dilute gas). The change in the collision cross-section, in turn, can be measured as a change in the transport properties. The magnetic field dependence of the transport properties can also include a transverse component; for example, a heat flow perpendicular to both temperature gradient and magnetic field. This is the molecular analogue of the Hall effect and Righi-Leduc effect for electrons. key difference is that the gas molecules are neutral, unlike the electrons, so the magnetic field exerts no Lorentz force. An analogous magnetotransverse heat conductivity has been discovered for photons and phonons.The Senftleben-Beenakker effect owes its name to the physicists Hermann Senftleben (Munster University, Germany) and Jan J.M. Beenakker (nl) (Leiden University, The Netherlands), who discovered it, respectively, for paramagnetic gases (such as NO and O2) and diamagnetic gases (such as N2 and CO). The change in the transport properties is smaller in a diamagnetic gas, because the magnetic moment is not intrinsic (as it is in a paramagnetic gas), but induced by the rotation of a nonspherical molecule. The importance of the effect is that it provides information on the angular dependence of the intermolecular potential. The theory to extract that information from transport measurements is based on the Waldmann-Snider equation (a quantum mechanical version of the Boltzmann equation for gases with rotating molecules). The entire field is reviewed in a two-volume monograph., \n",
      " model answer: ['The', 'Senftleben', '-', 'Beenakker'], \n",
      " ground truth: [{'gender': 'unknown', 'ethnicity': 'unknown', 'nationality': 'unknown', 'name': 'Hermann Senftleben'}, {'gender': 'unknown', 'ethnicity': 'unknown', 'nationality': 'unknown', 'name': 'Jan J. M. Beenakker'}]\n",
      " accuracy: 0.7023809523809523\n"
     ]
    },
    {
     "name": "stderr",
     "output_type": "stream",
     "text": [
      "0it [00:00, ?it/s]\n"
     ]
    },
    {
     "name": "stdout",
     "output_type": "stream",
     "text": [
      "torch.Size([1, 368]) torch.Size([1, 26])\n",
      "torch.Size([1, 368]) torch.Size([1, 368])\n",
      "question: Who discovered the dependence on a magnetic or electric field of transport properties (such as viscosity and heat conductivity) of polyatomic gases., \n",
      " context: The Senftleben-Beenakker effect is the dependence on a magnetic or electric field of transport properties (such as viscosity and heat conductivity) of polyatomic gases. The effect is caused by the precession of the (magnetic or electric) dipole of the gas molecules between collisions. The resulting rotation of the molecule averages out the nonspherical part of the collision cross-section, if the field is large enough that the precession time is short compared to the time between collisions (this requires a very dilute gas). The change in the collision cross-section, in turn, can be measured as a change in the transport properties. The magnetic field dependence of the transport properties can also include a transverse component; for example, a heat flow perpendicular to both temperature gradient and magnetic field. This is the molecular analogue of the Hall effect and Righi-Leduc effect for electrons. key difference is that the gas molecules are neutral, unlike the electrons, so the magnetic field exerts no Lorentz force. An analogous magnetotransverse heat conductivity has been discovered for photons and phonons.The Senftleben-Beenakker effect owes its name to the physicists Hermann Senftleben (Munster University, Germany) and Jan J.M. Beenakker (nl) (Leiden University, The Netherlands), who discovered it, respectively, for paramagnetic gases (such as NO and O2) and diamagnetic gases (such as N2 and CO). The change in the transport properties is smaller in a diamagnetic gas, because the magnetic moment is not intrinsic (as it is in a paramagnetic gas), but induced by the rotation of a nonspherical molecule. The importance of the effect is that it provides information on the angular dependence of the intermolecular potential. The theory to extract that information from transport measurements is based on the Waldmann-Snider equation (a quantum mechanical version of the Boltzmann equation for gases with rotating molecules). The entire field is reviewed in a two-volume monograph., \n",
      " model answer: ['The', 'Senftleben', '-', 'Beenakker'], \n",
      " ground truth: [{'gender': 'unknown', 'ethnicity': 'unknown', 'nationality': 'unknown', 'name': 'Hermann Senftleben'}, {'gender': 'unknown', 'ethnicity': 'unknown', 'nationality': 'unknown', 'name': 'Jan J. M. Beenakker'}]\n",
      " accuracy: 0.7023809523809523\n"
     ]
    },
    {
     "name": "stderr",
     "output_type": "stream",
     "text": [
      "0it [00:00, ?it/s]\n"
     ]
    },
    {
     "name": "stdout",
     "output_type": "stream",
     "text": [
      "torch.Size([1, 88]) torch.Size([1, 15])\n",
      "torch.Size([1, 88]) torch.Size([1, 88])\n"
     ]
    },
    {
     "name": "stderr",
     "output_type": "stream",
     "text": [
      "0it [00:00, ?it/s]\n"
     ]
    },
    {
     "name": "stdout",
     "output_type": "stream",
     "text": [
      "question: Who discovered a macroscopic manifestation of the inherent quantum mechanical nature of matter., \n",
      " context: An oscillation in the conductivity of a material that occurs at low temperatures in the presence of very intense magnetic fields, the Shubnikov-De Haas effect (SdH) is a macroscopic manifestation of the inherent quantum mechanical nature of matter. It is often used to determine the effective mass of charge carriers (electrons and electron holes), allowing investigators to distinguish among majority and minority carrier populations. The effect is named after Wander Johannes de Haas and Lev Shubnikov., \n",
      " model answer: ['Shubnikov', '-', 'De', 'Haas'], \n",
      " ground truth: [{'gender': 'male', 'ethnicity': 'unknown', 'nationality': 'Kingdom of the Netherlands', 'name': 'Wander Johannes de Haas'}, {'gender': 'male', 'ethnicity': 'unknown', 'nationality': 'Russian Empire', 'name': 'Lev Vasiljevich Shubnikov'}]\n",
      " accuracy: 0.7023809523809523\n",
      "torch.Size([1, 88]) torch.Size([1, 15])\n",
      "torch.Size([1, 88]) torch.Size([1, 88])\n"
     ]
    },
    {
     "name": "stderr",
     "output_type": "stream",
     "text": [
      "0it [00:00, ?it/s]"
     ]
    },
    {
     "name": "stdout",
     "output_type": "stream",
     "text": [
      "question: Who discovered a macroscopic manifestation of the inherent quantum mechanical nature of matter., \n",
      " context: An oscillation in the conductivity of a material that occurs at low temperatures in the presence of very intense magnetic fields, the Shubnikov-De Haas effect (SdH) is a macroscopic manifestation of the inherent quantum mechanical nature of matter. It is often used to determine the effective mass of charge carriers (electrons and electron holes), allowing investigators to distinguish among majority and minority carrier populations. The effect is named after Wander Johannes de Haas and Lev Shubnikov., \n",
      " model answer: ['Shubnikov', '-', 'De', 'Haas'], \n",
      " ground truth: [{'gender': 'male', 'ethnicity': 'unknown', 'nationality': 'Kingdom of the Netherlands', 'name': 'Wander Johannes de Haas'}, {'gender': 'male', 'ethnicity': 'unknown', 'nationality': 'Russian Empire', 'name': 'Lev Vasiljevich Shubnikov'}]\n",
      " accuracy: 0.7023809523809523\n",
      "torch.Size([1, 88]) torch.Size([1, 15])\n"
     ]
    },
    {
     "name": "stderr",
     "output_type": "stream",
     "text": [
      "\n",
      "0it [00:00, ?it/s]"
     ]
    },
    {
     "name": "stdout",
     "output_type": "stream",
     "text": [
      "torch.Size([1, 88]) torch.Size([1, 88])\n",
      "question: Who discovered a macroscopic manifestation of the inherent quantum mechanical nature of matter., \n",
      " context: An oscillation in the conductivity of a material that occurs at low temperatures in the presence of very intense magnetic fields, the Shubnikov-De Haas effect (SdH) is a macroscopic manifestation of the inherent quantum mechanical nature of matter. It is often used to determine the effective mass of charge carriers (electrons and electron holes), allowing investigators to distinguish among majority and minority carrier populations. The effect is named after Wander Johannes de Haas and Lev Shubnikov., \n",
      " model answer: ['Shubnikov', '-', 'De', 'Haas'], \n",
      " ground truth: [{'gender': 'male', 'ethnicity': 'unknown', 'nationality': 'Kingdom of the Netherlands', 'name': 'Wander Johannes de Haas'}, {'gender': 'male', 'ethnicity': 'unknown', 'nationality': 'Russian Empire', 'name': 'Lev Vasiljevich Shubnikov'}]\n",
      " accuracy: 0.7023809523809523\n",
      "torch.Size([1, 252]) torch.Size([1, 19])\n"
     ]
    },
    {
     "name": "stderr",
     "output_type": "stream",
     "text": [
      "\n",
      "0it [00:00, ?it/s]"
     ]
    },
    {
     "name": "stdout",
     "output_type": "stream",
     "text": [
      "torch.Size([1, 252]) torch.Size([1, 252])\n",
      "question: Who discovered , for determining similar regions between two strings of nucleic acid sequences or protein sequences., \n",
      " context: The Smith-Waterman algorithm performs local sequence alignment; that is, for determining similar regions between two strings of nucleic acid sequences or protein sequences. Instead of looking at the entire sequence, the Smith-Waterman algorithm compares segments of all possible lengths and optimizes the similarity measure. The algorithm was first proposed by Temple F. Smith and Michael S. Waterman in 1981. Like the Needleman-Wunsch algorithm, of which it is a variation, Smith-Waterman is a dynamic programming algorithm. As such, it has the desirable property that it is guaranteed to find the optimal local alignment with respect to the scoring system being used (which includes the substitution matrix and the gap-scoring scheme). The main difference to the Needleman-Wunsch algorithm is that negative scoring matrix cells are set to zero, which renders the (thus positively scoring) local alignments visible. Traceback procedure starts at the highest scoring matrix cell and proceeds until a cell with score zero is encountered, yielding the highest scoring local alignment. Because of its quadratic complexity in time and space, it often cannot be practically applied to large-scale problems and is replaced in favor of less general but computationally more efficient alternatives such as (Gotoh, 1982), (Altschul and Erickson, 1986), and (Myers and Miller, 1988)., \n",
      " model answer: ['The', 'Smith', '-', 'Waterman'], \n",
      " ground truth: [{'gender': 'unknown', 'ethnicity': 'unknown', 'nationality': 'unknown', 'name': 'Temple F. Smith'}, {'gender': 'male', 'ethnicity': 'unknown', 'nationality': 'United States of America', 'name': 'Michael S. Waterman'}]\n",
      " accuracy: 0.7023809523809523\n",
      "torch.Size([1, 191]) torch.Size([1, 42])\n"
     ]
    },
    {
     "name": "stderr",
     "output_type": "stream",
     "text": [
      "\n",
      "0it [00:00, ?it/s]"
     ]
    },
    {
     "name": "stdout",
     "output_type": "stream",
     "text": [
      "torch.Size([1, 191]) torch.Size([1, 191])\n",
      "question: Who discovered a theorem that states that the first spark (singly ionized) spectrum of an element is similar in all details to the arc (neutral) spectrum of the element preceding it in the periodic table.  , \n",
      " context: The Sommerfeld-Kossel displacement law states that the first spark (singly ionized) spectrum of an element is similar in all details to the arc (neutral) spectrum of the element preceding it in the periodic table. Likewise, the second (doubly ionized) spark spectrum of an element is similar in all details to the first (singly ionized) spark spectrum of the element preceding it, or to the arc (neutral) spectrum of the element with atomic number two less, and so forth.Hence, the spectra of (neutral carbon), II (singly ionized nitrogen), and III (doubly ionized oxygen) atoms are similar, apart from shifts of the spectra to shorter wavelengths. I, II, and III all have the same number of electrons, six, and the same ground-state electron configuration: .The law was discovered by and named after Arnold Sommerfeld and Walther Kossel, who set it forth in a paper submitted to Verhandungen der Deutschen Physikalischen Gesellschaft in early 1919., \n",
      " model answer: ['II'], \n",
      " ground truth: [{'gender': 'male', 'ethnicity': 'unknown', 'nationality': 'Germany', 'name': 'Arnold Sommerfeld'}, {'gender': 'male', 'ethnicity': 'unknown', 'nationality': 'Germany', 'name': 'Walther Kossel'}]\n",
      " accuracy: 0.7023809523809523\n",
      "torch.Size([1, 191]) torch.Size([1, 42])\n"
     ]
    },
    {
     "name": "stderr",
     "output_type": "stream",
     "text": [
      "\n",
      "0it [00:00, ?it/s]"
     ]
    },
    {
     "name": "stdout",
     "output_type": "stream",
     "text": [
      "torch.Size([1, 191]) torch.Size([1, 191])\n",
      "question: Who discovered a theorem that states that the first spark (singly ionized) spectrum of an element is similar in all details to the arc (neutral) spectrum of the element preceding it in the periodic table.  , \n",
      " context: The Sommerfeld-Kossel displacement law states that the first spark (singly ionized) spectrum of an element is similar in all details to the arc (neutral) spectrum of the element preceding it in the periodic table. Likewise, the second (doubly ionized) spark spectrum of an element is similar in all details to the first (singly ionized) spark spectrum of the element preceding it, or to the arc (neutral) spectrum of the element with atomic number two less, and so forth.Hence, the spectra of (neutral carbon), II (singly ionized nitrogen), and III (doubly ionized oxygen) atoms are similar, apart from shifts of the spectra to shorter wavelengths. I, II, and III all have the same number of electrons, six, and the same ground-state electron configuration: .The law was discovered by and named after Arnold Sommerfeld and Walther Kossel, who set it forth in a paper submitted to Verhandungen der Deutschen Physikalischen Gesellschaft in early 1919., \n",
      " model answer: ['II'], \n",
      " ground truth: [{'gender': 'male', 'ethnicity': 'unknown', 'nationality': 'Germany', 'name': 'Arnold Sommerfeld'}, {'gender': 'male', 'ethnicity': 'unknown', 'nationality': 'Germany', 'name': 'Walther Kossel'}]\n",
      " accuracy: 0.7023809523809523\n",
      "torch.Size([1, 191]) torch.Size([1, 42])\n"
     ]
    },
    {
     "name": "stderr",
     "output_type": "stream",
     "text": [
      "\n",
      "0it [00:00, ?it/s]"
     ]
    },
    {
     "name": "stdout",
     "output_type": "stream",
     "text": [
      "torch.Size([1, 191]) torch.Size([1, 191])\n",
      "question: Who discovered a theorem that states that the first spark (singly ionized) spectrum of an element is similar in all details to the arc (neutral) spectrum of the element preceding it in the periodic table.  , \n",
      " context: The Sommerfeld-Kossel displacement law states that the first spark (singly ionized) spectrum of an element is similar in all details to the arc (neutral) spectrum of the element preceding it in the periodic table. Likewise, the second (doubly ionized) spark spectrum of an element is similar in all details to the first (singly ionized) spark spectrum of the element preceding it, or to the arc (neutral) spectrum of the element with atomic number two less, and so forth.Hence, the spectra of (neutral carbon), II (singly ionized nitrogen), and III (doubly ionized oxygen) atoms are similar, apart from shifts of the spectra to shorter wavelengths. I, II, and III all have the same number of electrons, six, and the same ground-state electron configuration: .The law was discovered by and named after Arnold Sommerfeld and Walther Kossel, who set it forth in a paper submitted to Verhandungen der Deutschen Physikalischen Gesellschaft in early 1919., \n",
      " model answer: ['II'], \n",
      " ground truth: [{'gender': 'male', 'ethnicity': 'unknown', 'nationality': 'Germany', 'name': 'Arnold Sommerfeld'}, {'gender': 'male', 'ethnicity': 'unknown', 'nationality': 'Germany', 'name': 'Walther Kossel'}]\n",
      " accuracy: 0.7023809523809523\n",
      "torch.Size([1, 38]) torch.Size([1, 18])\n",
      "torch.Size([1, 38]) torch.Size([1, 38])\n"
     ]
    },
    {
     "name": "stderr",
     "output_type": "stream",
     "text": [
      "\n",
      "0it [00:00, ?it/s]\n"
     ]
    },
    {
     "name": "stdout",
     "output_type": "stream",
     "text": [
      "question: Who discovered processes in photoelectrochemistry; they usually involve transforming light into other forms of energy., \n",
      " context: Photoelectrochemical processes are processes in photoelectrochemistry; they usually involve transforming light into other forms of energy. These processes apply to photochemistry, optically pumped lasers, sensitized solar cells, luminescence, and photochromism., \n",
      " model answer: ['Photoelectrochemical'], \n",
      " ground truth: [{'gender': 'male', 'ethnicity': 'unknown', 'nationality': 'West Germany', 'name': 'Johannes Stark'}, {'gender': 'male', 'ethnicity': 'Jewish people', 'nationality': 'German Empire', 'name': 'Albert Einstein'}]\n",
      " accuracy: 0.7023809523809523\n",
      "torch.Size([1, 38]) torch.Size([1, 18])\n",
      "torch.Size([1, 38]) torch.Size([1, 38])\n",
      "question: Who discovered processes in photoelectrochemistry; they usually involve transforming light into other forms of energy., \n",
      " context: Photoelectrochemical processes are processes in photoelectrochemistry; they usually involve transforming light into other forms of energy. These processes apply to photochemistry, optically pumped lasers, sensitized solar cells, luminescence, and photochromism., \n",
      " model answer: ['Photoelectrochemical'], \n",
      " ground truth: [{'gender': 'male', 'ethnicity': 'unknown', 'nationality': 'West Germany', 'name': 'Johannes Stark'}, {'gender': 'male', 'ethnicity': 'Jewish people', 'nationality': 'German Empire', 'name': 'Albert Einstein'}]\n",
      " accuracy: 0.7023809523809523\n"
     ]
    },
    {
     "name": "stderr",
     "output_type": "stream",
     "text": [
      "0it [00:00, ?it/s]\n",
      "Traceback (most recent call last):\n",
      "  File \"<ipython-input-144-0ab5a653ee6a>\", line 12, in <module>\n",
      "    model_ans = answer_question(example['context'], example['question'])\n",
      "  File \"<ipython-input-143-75f5d3a8a0fe>\", line 18, in answer_question\n",
      "    context_idxs, ques_idxs = preprocess(context, question, word2idx_dict)\n",
      "  File \"<ipython-input-8-21f0d84691f7>\", line 56, in preprocess\n",
      "    context_idx[i] = _get_word(token)\n",
      "IndexError: index 400 is out of bounds for axis 0 with size 400\n",
      "0it [00:00, ?it/s]\n"
     ]
    },
    {
     "name": "stdout",
     "output_type": "stream",
     "text": [
      "torch.Size([1, 209]) torch.Size([1, 21])\n"
     ]
    },
    {
     "name": "stderr",
     "output_type": "stream",
     "text": [
      "0it [00:00, ?it/s]"
     ]
    },
    {
     "name": "stdout",
     "output_type": "stream",
     "text": [
      "torch.Size([1, 209]) torch.Size([1, 209])\n",
      "question: Who discovered a body of practical guidance to color mixing and the visual effects of a specific color combination., \n",
      " context: In the visual arts, color theory is a body of practical guidance to color mixing and the visual effects of a specific color combination. There are also definitions (or categories) of colors based on the color wheel: primary color, secondary color, and tertiary color. Although color theory principles first appeared in the writings of Leone Battista Alberti (c. 1435) and the notebooks of Leonardo da Vinci (c. 1490), a tradition of \"colory theory\" began in the 18th century, initially within a partisan controversy over Isaac Newton's theory of color (Opticks, 1704) and the nature of primary colors. From there it developed as an independent artistic tradition with only superficial reference to colorimetry and vision science.The purpose of color theory range from renaissance fine art to modern commercial advertising. Colours affect our mood and perception. Color theory is not new but also seen in old traditions. Color was mentioned many times in the ancient bible and every colour has its specific definition and interpretation.Color can be classified according to Warm and Cold Receding and Advancing Positive and negative Subtractive and additive, \n",
      " model answer: ['color', 'theory'], \n",
      " ground truth: [{'gender': 'unknown', 'ethnicity': 'unknown', 'nationality': 'unknown', 'name': 'Joseph C.'}, {'gender': 'male', 'ethnicity': 'unknown', 'nationality': 'United States of America', 'name': 'Stanley Smith Stevens'}]\n",
      " accuracy: 0.7023809523809523\n",
      "torch.Size([1, 179]) torch.Size([1, 35])\n"
     ]
    },
    {
     "name": "stderr",
     "output_type": "stream",
     "text": [
      "\n",
      "0it [00:00, ?it/s]"
     ]
    },
    {
     "name": "stdout",
     "output_type": "stream",
     "text": [
      "torch.Size([1, 179]) torch.Size([1, 179])\n",
      "question: Who discovered a phenomenon in electrodynamics caused by the finite mass of electrons in conducting metal, or, more generally, the finite mass of charge carriers in an electrical conductor.\n",
      ", \n",
      " context: The Stewart-Tolman effect is a phenomenon in electrodynamics caused by the finite mass of electrons in conducting metal, or, more generally, the finite mass of charge carriers in an electrical conductor. It is named after T. Dale Stewart and Richard C. Tolman, two American physicists who carried out their experimental work in the 1910s. This eponym appears to be first used by Lev Landau.In a conducting body undergoing accelerating motion, inertia causes the electrons in the body to \"lag\" behind the overall motion. In the case of linear acceleration, negative charge accumulates at the end of the body; while for rotation the negative charge accumulates at the outer rim. The accumulation of charges can be measured by a galvanometer. This effect is proportional to the mass of the charge carriers. It is much more significant in electrolyte conductors than metals, because ions in the former are 103-104 times more massive than electrons in the latter., \n",
      " model answer: ['The', 'Stewart', '-', 'Tolman'], \n",
      " ground truth: [{'gender': 'male', 'ethnicity': 'unknown', 'nationality': 'unknown', 'name': 'Thomas Dale Stewart'}, {'gender': 'male', 'ethnicity': 'unknown', 'nationality': 'United States of America', 'name': 'Richard Chace Tolman'}]\n",
      " accuracy: 0.7023809523809523\n",
      "torch.Size([1, 117]) torch.Size([1, 13])\n"
     ]
    },
    {
     "name": "stderr",
     "output_type": "stream",
     "text": [
      "\n",
      "0it [00:00, ?it/s]"
     ]
    },
    {
     "name": "stdout",
     "output_type": "stream",
     "text": [
      "torch.Size([1, 117]) torch.Size([1, 117])\n",
      "question: Who discovered a basic theorem in Heckscher-Ohlin trade theory., \n",
      " context: The Stolper-Samuelson theorem is a basic theorem in Heckscher-Ohlin trade theory. It describes the relationship between relative prices of output and relative factor rewards--specifically, real wages and real returns to capital. The theorem states that--under specific economic assumptions (constant returns to scale, perfect competition, equality of the number of factors to the number of products)--a rise in the relative price of a good will lead to a rise in the real return to that factor which is used most intensively in the production of the good, and conversely, to a fall in the real return to the other factor., \n",
      " model answer: ['Stolper', '-', 'Samuelson', 'theorem'], \n",
      " ground truth: [{'gender': 'male', 'ethnicity': 'unknown', 'nationality': 'United States of America', 'name': 'Paul Samuelson'}, {'gender': 'male', 'ethnicity': 'unknown', 'nationality': 'United States of America', 'name': 'Wolfgang Stolper'}]\n",
      " accuracy: 0.7023809523809523\n",
      "torch.Size([1, 145]) torch.Size([1, 30])\n"
     ]
    },
    {
     "name": "stderr",
     "output_type": "stream",
     "text": [
      "\n",
      "0it [00:00, ?it/s]"
     ]
    },
    {
     "name": "stdout",
     "output_type": "stream",
     "text": [
      "torch.Size([1, 145]) torch.Size([1, 145])\n",
      "question: Who discovered a four-colour medium-passband photometric system plus Hb (H-beta) filters for determining magnitudes and obtaining spectral classification of stars., \n",
      " context: The photometric system by Stromgren, abbreviated also as uvbyb or simply uvby, and sometimes referred as Stromgren Crawford photometric system, is a four-colour medium-passband photometric system plus Hb (H-beta) filters for determining magnitudes and obtaining spectral classification of stars. Its use was pioneered by the Danish astronomer Bengt Stromgren in 1956 and was extended by his colleague the American astronomer David L. Crawford in 1958.It is often considered to be a powerful tool and successful investigating the brightness and effective temperature of stars. This photometric system also has a general advantage as it can be used to measure the effects of reddening and interstellar extinction. This system also allows calculation of parameters from the and filters (b y) without the effects of reddening, termed and 1., \n",
      " model answer: ['Stromgren'], \n",
      " ground truth: [{'gender': 'male', 'ethnicity': 'unknown', 'nationality': 'United States of America', 'name': 'Bengt Georg Daniel Stromgren'}, {'gender': 'unknown', 'ethnicity': 'unknown', 'nationality': 'unknown', 'name': 'David L. Crawford'}]\n",
      " accuracy: 0.7023809523809523\n",
      "torch.Size([1, 273]) torch.Size([1, 30])\n"
     ]
    },
    {
     "name": "stderr",
     "output_type": "stream",
     "text": [
      "\n",
      "0it [00:00, ?it/s]"
     ]
    },
    {
     "name": "stdout",
     "output_type": "stream",
     "text": [
      "torch.Size([1, 273]) torch.Size([1, 273])\n",
      "question: Who discovered a nearly periodic 11-year change in the Sun's activity measured in terms of variations in the number of observed sunspots on the solar surface.  , \n",
      " context: The solar cycle or solar magnetic activity cycle is a nearly periodic 11-year change in the Sun's activity measured in terms of variations in the number of observed sunspots on the solar surface. Sunspots have been observed since the early 17th century and the sunspot time series is the longest continuously observed (recorded) time series of any natural phenomena. Accompanying the 11 year quasi-periodicity in sunspots, the large-scale dipolar (north-south) magnetic field component of the Sun also flips every 11 years; however, the peak in the dipolar field lags the peak in the sunspot number, with the former occurring at the minimum between two cycles. Levels of solar radiation and ejection of solar material, the number and size of sunspots, solar flares, and coronal loops all exhibit a synchronized fluctuation, from active to quiet to active again, with a period of 11 years. This cycle has been observed for centuries by changes in the Sun's appearance and by terrestrial phenomena such as auroras. Solar activity, driven both by the sunspot cycle and transient aperiodic processes govern the environment of the Solar System planets by creating space weather and impact space- and ground-based technologies as well as the Earth's atmosphere and also possibly climate fluctuations on scales of centuries and longer. Understanding and predicting the sunspot cycle remains one of the grand challenges in astrophysics with major ramifications for space science and the understanding of magnetohydrodynamic phenomena elsewhere in the Universe., \n",
      " model answer: ['solar', 'magnetic', 'activity', 'cycle'], \n",
      " ground truth: [{'gender': 'male', 'ethnicity': 'unknown', 'nationality': 'Austria', 'name': 'Hans Eduard Suess'}, {'gender': 'male', 'ethnicity': 'unknown', 'nationality': 'Kingdom of the Netherlands', 'name': 'Hessel De Vries'}]\n",
      " accuracy: 0.7023809523809523\n",
      "torch.Size([1, 106]) torch.Size([1, 50])\n"
     ]
    },
    {
     "name": "stderr",
     "output_type": "stream",
     "text": [
      "\n"
     ]
    },
    {
     "name": "stdout",
     "output_type": "stream",
     "text": [
      "torch.Size([1, 106]) torch.Size([1, 106])\n",
      "question: Who discovered the distortion of the cosmic microwave background radiation (CMB) through inverse Compton scattering by high-energy electrons in galaxy clusters, in which the low-energy CMB photons receive an average energy boost during collision with the high-energy cluster electrons., \n",
      " context: The Sunyaev-Zeldovich effect (named after Rashid Sunyaev and Yakov B. Zeldovich and often abbreviated as the SZ effect) is the distortion of the cosmic microwave background radiation (CMB) through inverse Compton scattering by high-energy electrons in galaxy clusters, in which the low-energy CMB photons receive an average energy boost during collision with the high-energy cluster electrons. Observed distortions of the cosmic microwave background spectrum are used to detect the disturbance of density in the universe. Using the Sunyaev-Zeldovich effect, dense clusters of galaxies have been observed., \n",
      " model answer: ['The', 'Sunyaev', '-', 'Zeldovich', 'effect'], \n",
      " ground truth: [{'gender': 'male', 'ethnicity': 'unknown', 'nationality': 'Soviet Union', 'name': 'Rashid Sunyaev'}, {'gender': 'male', 'ethnicity': 'unknown', 'nationality': 'Russian Empire', 'name': \"Yakov Zel'dovich\"}]\n",
      " accuracy: 0.7023809523809523\n"
     ]
    },
    {
     "name": "stderr",
     "output_type": "stream",
     "text": [
      "0it [00:00, ?it/s]\n",
      "Traceback (most recent call last):\n",
      "  File \"<ipython-input-144-0ab5a653ee6a>\", line 12, in <module>\n",
      "    model_ans = answer_question(example['context'], example['question'])\n",
      "  File \"<ipython-input-143-75f5d3a8a0fe>\", line 18, in answer_question\n",
      "    context_idxs, ques_idxs = preprocess(context, question, word2idx_dict)\n",
      "  File \"<ipython-input-8-21f0d84691f7>\", line 56, in preprocess\n",
      "    context_idx[i] = _get_word(token)\n",
      "IndexError: index 400 is out of bounds for axis 0 with size 400\n",
      "0it [00:00, ?it/s]\n"
     ]
    },
    {
     "name": "stdout",
     "output_type": "stream",
     "text": [
      "torch.Size([1, 74]) torch.Size([1, 25])\n",
      "torch.Size([1, 74]) torch.Size([1, 74])\n",
      "question: Who discovered three angles introduced by Leonhard Euler to describe the orientation of a rigid body with respect to a fixed coordinate system., \n",
      " context: The Euler angles are three angles introduced by Leonhard Euler to describe the orientation of a rigid body with respect to a fixed coordinate system.They can also represent the orientation of a mobile frame of reference in physics or the orientation of a general basis in 3-dimensional linear algebra. Alternative forms were later introduced by Peter Guthrie Tait and George H. Bryan intended for use in aeronautics and engineering., \n",
      " model answer: ['Euler', 'angles'], \n",
      " ground truth: [{'gender': 'male', 'ethnicity': 'unknown', 'nationality': 'United Kingdom of Great Britain and Ireland', 'name': 'Peter Guthrie Tait'}, {'gender': 'male', 'ethnicity': 'unknown', 'nationality': 'United Kingdom', 'name': 'George H. Bryan'}]\n",
      " accuracy: 0.7023809523809523\n"
     ]
    },
    {
     "name": "stderr",
     "output_type": "stream",
     "text": [
      "0it [00:00, ?it/s]\n"
     ]
    },
    {
     "name": "stdout",
     "output_type": "stream",
     "text": [
      "torch.Size([1, 74]) torch.Size([1, 25])\n",
      "torch.Size([1, 74]) torch.Size([1, 74])\n",
      "question: Who discovered three angles introduced by Leonhard Euler to describe the orientation of a rigid body with respect to a fixed coordinate system., \n",
      " context: The Euler angles are three angles introduced by Leonhard Euler to describe the orientation of a rigid body with respect to a fixed coordinate system.They can also represent the orientation of a mobile frame of reference in physics or the orientation of a general basis in 3-dimensional linear algebra. Alternative forms were later introduced by Peter Guthrie Tait and George H. Bryan intended for use in aeronautics and engineering., \n",
      " model answer: ['Euler', 'angles'], \n",
      " ground truth: [{'gender': 'male', 'ethnicity': 'unknown', 'nationality': 'United Kingdom of Great Britain and Ireland', 'name': 'Peter Guthrie Tait'}, {'gender': 'male', 'ethnicity': 'unknown', 'nationality': 'United Kingdom', 'name': 'George H. Bryan'}]\n",
      " accuracy: 0.7023809523809523\n"
     ]
    },
    {
     "name": "stderr",
     "output_type": "stream",
     "text": [
      "0it [00:00, ?it/s]\n",
      "Traceback (most recent call last):\n",
      "  File \"<ipython-input-144-0ab5a653ee6a>\", line 12, in <module>\n",
      "    model_ans = answer_question(example['context'], example['question'])\n",
      "  File \"<ipython-input-143-75f5d3a8a0fe>\", line 18, in answer_question\n",
      "    context_idxs, ques_idxs = preprocess(context, question, word2idx_dict)\n",
      "  File \"<ipython-input-8-21f0d84691f7>\", line 56, in preprocess\n",
      "    context_idx[i] = _get_word(token)\n",
      "IndexError: index 400 is out of bounds for axis 0 with size 400\n",
      "0it [00:00, ?it/s]\n"
     ]
    },
    {
     "name": "stdout",
     "output_type": "stream",
     "text": [
      "torch.Size([1, 255]) torch.Size([1, 27])\n"
     ]
    },
    {
     "name": "stderr",
     "output_type": "stream",
     "text": [
      "0it [00:00, ?it/s]"
     ]
    },
    {
     "name": "stdout",
     "output_type": "stream",
     "text": [
      "torch.Size([1, 255]) torch.Size([1, 255])\n",
      "question: Who discovered a quantum mechanical theory for the electronic structure of many-body systems developed semiclassically shortly after the introduction of the Schrodinger equation., \n",
      " context: The Thomas-Fermi (TF) model, named after Llewellyn Thomas and Enrico Fermi, is a quantum mechanical theory for the electronic structure of many-body systems developed semiclassically shortly after the introduction of the Schrodinger equation. It stands separate from wave function theory as being formulated in terms of the electronic density alone and as such is viewed as a precursor to modern density functional theory. The Thomas-Fermi model is correct only in the limit of an infinite nuclear charge. Using the approximation for realistic systems yields poor quantitative predictions, even failing to reproduce some general features of the density such as shell structure in atoms and Friedel oscillations in solids. It has, however, found modern applications in many fields through the ability to extract qualitative trends analytically and with the ease at which the model can be solved. The kinetic energy expression of Thomas-Fermi theory is also used as a component in more sophisticated density approximation to the kinetic energy within modern orbital-free density functional theory. Working independently, Thomas and Fermi used this statistical model in 1927 to approximate the distribution of electrons in an atom. Although electrons are distributed nonuniformly in an atom, an approximation was made that the electrons are distributed uniformly in each small volume element DV (i.e. locally) but the electron density can still vary from one small volume element to the next., \n",
      " model answer: ['The', 'Thomas', '-', 'Fermi'], \n",
      " ground truth: [{'gender': 'male', 'ethnicity': 'unknown', 'nationality': 'United Kingdom', 'name': 'Llewellyn Hilleth Thomas'}, {'gender': 'male', 'ethnicity': 'unknown', 'nationality': 'Italy', 'name': 'Enrico Fermi'}]\n",
      " accuracy: 0.7023809523809523\n",
      "torch.Size([1, 133]) torch.Size([1, 21])\n"
     ]
    },
    {
     "name": "stderr",
     "output_type": "stream",
     "text": [
      "\n",
      "0it [00:00, ?it/s]"
     ]
    },
    {
     "name": "stdout",
     "output_type": "stream",
     "text": [
      "torch.Size([1, 133]) torch.Size([1, 133])\n",
      "question: Who discovered the chemical reaction of a 1-aminomethyl-cycloalkanol with nitrous acid to form an enlarged cycloketone.\n",
      "\n",
      ", \n",
      " context: The Tiffeneau-Demjanov rearrangement (TDR) is the chemical reaction of a 1-aminomethyl-cycloalkanol with nitrous acid to form an enlarged cycloketone. The Tiffeneau-Demjanov ring expansion, Tiffeneau-Demjanov rearrangement, or TDR, provides an easy way to increase amino-substituted cycloalkanes and cycloalkanols in size by one carbon. Ring sizes from cyclopropane through cyclooctane are able to undergo Tiffeneau-Demjanov ring expansion with some degree of success. Yields decrease as initial ring size increases, and the ideal use of TDR is for synthesis of five, six, and seven membered rings. principal synthetic application of Tiffeneau-Demjanov ring expansion is to bicyclic or polycyclic systems. Several reviews on this reaction have been published., \n",
      " model answer: ['The', 'Tiffeneau', '-', 'Demjanov', 'rearrangement'], \n",
      " ground truth: [{'gender': 'male', 'ethnicity': 'unknown', 'nationality': 'France', 'name': 'Marc Tiffeneau'}, {'gender': 'male', 'ethnicity': 'unknown', 'nationality': 'Russian Empire', 'name': 'Nikolai Demyanov'}]\n",
      " accuracy: 0.7023809523809523\n",
      "torch.Size([1, 251]) torch.Size([1, 27])\n"
     ]
    },
    {
     "name": "stderr",
     "output_type": "stream",
     "text": [
      "\n",
      "0it [00:00, ?it/s]"
     ]
    },
    {
     "name": "stdout",
     "output_type": "stream",
     "text": [
      "torch.Size([1, 251]) torch.Size([1, 251])\n",
      "question: Who discovered an upper bound to the mass of cold, nonrotating neutron stars, analogous to the Chandrasekhar limit for white dwarf stars.\n",
      ", \n",
      " context: The Tolman-Oppenheimer-Volkoff limit (or TOV limit) is an upper bound to the mass of cold, nonrotating neutron stars, analogous to the Chandrasekhar limit for white dwarf stars. Theoretical work in 1996 placed the limit at approximately 1.5 to 3.0 solar masses, corresponding to an original stellar mass of 15 to 20 solar masses; additional work in the same year gave a more precise range of 2.2 to 2.9 solar masses.Observations of GW170817, the first gravitational wave event due to merging neutron stars (which are thought to have collapsed into a black hole within a few seconds after merging), placed the limit at close to 2.17M (solar masses). This value was inconsistent with short gamma-ray burst X-ray plateau data however, which suggested a value of MTOV 2.37M. Reanalysis of the GW170817 event data in 2019 resulted in a higher value of MTOV 2.3M. neutron star in a binary pair (PSR J2215+5135) has been measured to have a mass close to this limit, 2.27+0.17-0.15 M. more secure measurement of PSR J0740+6620, a pulsar being eclipsed by a white dwarf, yields a mass of 2.14+0.10-0.09 M.In the case of a rigidly spinning neutron star, the mass limit is thought to increase by up to 18-20%., \n",
      " model answer: ['The', 'Tolman', '-', 'Oppenheimer', '-', 'Volkoff', 'limit'], \n",
      " ground truth: [{'gender': 'male', 'ethnicity': 'unknown', 'nationality': 'United States of America', 'name': 'Richard Chace Tolman'}, {'gender': 'male', 'ethnicity': 'Jewish people', 'nationality': 'United States of America', 'name': 'J. Robert Oppenheimer'}, {'gender': 'male', 'ethnicity': 'unknown', 'nationality': 'Canada', 'name': 'George Michael Volkoff'}]\n",
      " accuracy: 0.7023809523809523\n",
      "torch.Size([1, 111]) torch.Size([1, 26])\n"
     ]
    },
    {
     "name": "stderr",
     "output_type": "stream",
     "text": [
      "\n",
      "0it [00:00, ?it/s]"
     ]
    },
    {
     "name": "stdout",
     "output_type": "stream",
     "text": [
      "torch.Size([1, 111]) torch.Size([1, 111])\n",
      "question: Who discovered a Bose gas in which the repulsive interactions between bosonic particles confined to one dimension dominate the physics of the system.  , \n",
      " context: In physics, a Tonks-Girardeau gas is a Bose gas in which the repulsive interactions between bosonic particles confined to one dimension dominate the physics of the system. It is named after physicists Marvin D. Girardeau and Lewi Tonks. Strictly speaking, this is not a Bose-Einstein condensate as it does not demonstrate any of the characteristics, such as off-diagonal long-range order or a unitary two-body correlation function, even in a thermodynamic limit and as such cannot be described by a macroscopically occupied orbital (order parameter) in the Gross-Pitaevskii formulation., \n",
      " model answer: ['Tonks', '-', 'Girardeau', 'gas'], \n",
      " ground truth: [{'gender': 'male', 'ethnicity': 'unknown', 'nationality': 'unknown', 'name': 'Lewi Tonks'}, {'gender': 'unknown', 'ethnicity': 'unknown', 'nationality': 'unknown', 'name': 'Marvin D. Girardeau'}]\n",
      " accuracy: 0.7023809523809523\n",
      "torch.Size([1, 173]) torch.Size([1, 34])\n"
     ]
    },
    {
     "name": "stderr",
     "output_type": "stream",
     "text": [
      "\n",
      "0it [00:00, ?it/s]"
     ]
    },
    {
     "name": "stdout",
     "output_type": "stream",
     "text": [
      "torch.Size([1, 173]) torch.Size([1, 173])\n",
      "question: Who discovered used to describe the viscosity of liquids as a function of temperature, and especially its strongly temperature dependent variation in the supercooled regime, upon approaching the glass transition., \n",
      " context: The Vogel-Fulcher-Tammann equation, also known as Vogel-Fulcher-Tammann-Hesse equation or Vogel-Fulcher equation (abbreviated: VFT equation), is used to describe the viscosity of liquids as a function of temperature, and especially its strongly temperature dependent variation in the supercooled regime, upon approaching the glass transition. In this regime the viscosity of certain liquids can increase by up to 13 orders of magnitude within a relatively narrow temperature interval. The VFT equation reads as follows: \\eta where \\eta and are empirical material-dependent parameters, and is also an empirical fitting parameter, and typically lies about 50 degC below the glass transition temperature. These three parameters are normally used as adjustable parameters to fit the VFT equation to experimental data of specific systems. The VFT equation is named after Hans Vogel, Gordon Scott Fulcher (1884-1971) and Gustav Tammann (1861-1938)., \n",
      " model answer: ['The', 'Vogel', '-', 'Fulcher', '-', 'Tammann', 'equation'], \n",
      " ground truth: [{'gender': 'male', 'ethnicity': 'unknown', 'nationality': 'Germany', 'name': 'Hans Vogel'}, {'gender': 'unknown', 'ethnicity': 'unknown', 'nationality': 'unknown', 'name': 'Gordon Scott Fulcher'}, {'gender': 'male', 'ethnicity': 'unknown', 'nationality': 'Germany', 'name': 'Gustav Tammann'}]\n",
      " accuracy: 0.7023809523809523\n",
      "torch.Size([1, 79]) torch.Size([1, 43])\n"
     ]
    },
    {
     "name": "stderr",
     "output_type": "stream",
     "text": [
      "\n",
      "0it [00:00, ?it/s]"
     ]
    },
    {
     "name": "stdout",
     "output_type": "stream",
     "text": [
      "torch.Size([1, 79]) torch.Size([1, 79])\n",
      "question: Who discovered a theorem that states that the structure of a star, in hydrostatic and thermal equilibrium with all energy derived from nuclear reactions, is uniquely determined by its mass and the distribution of chemical elements throughout its interior., \n",
      " context: The Vogt-Russell theorem states that the structure of a star, in hydrostatic and thermal equilibrium with all energy derived from nuclear reactions, is uniquely determined by its mass and the distribution of chemical elements throughout its interior. Although referred to as a theorem, the Vogt-Russell theorem has never been formally proved. The theorem is named after astronomers Heinrich Vogt and Henry Norris Russell, who devised it independently., \n",
      " model answer: ['Vogt', '-', 'Russell', 'theorem'], \n",
      " ground truth: [{'gender': 'male', 'ethnicity': 'unknown', 'nationality': 'Germany', 'name': 'Heinrich Vogt'}, {'gender': 'male', 'ethnicity': 'unknown', 'nationality': 'United States of America', 'name': 'Henry Norris Russell'}]\n",
      " accuracy: 0.7023809523809523\n",
      "torch.Size([1, 176]) torch.Size([1, 20])\n"
     ]
    },
    {
     "name": "stderr",
     "output_type": "stream",
     "text": [
      "\n",
      "0it [00:00, ?it/s]"
     ]
    },
    {
     "name": "stdout",
     "output_type": "stream",
     "text": [
      "torch.Size([1, 176]) torch.Size([1, 176])\n",
      "question: Who discovered a planar zone of seismicity corresponding with the down-going slab in a subduction zone., \n",
      " context: Wadati-Benioff zone (also Benioff-Wadati zone or Benioff zone or Benioff seismic zone) is a planar zone of seismicity corresponding with the down-going slab in a subduction zone. Differential motion along the zone produces numerous earthquakes, the foci of which may be as deep as about 670 km (420 mi). The term was named for the two seismologists, Hugo Benioff of the California Institute of Technology and Kiyoo Wadati of the Japan Meteorological Agency, who independently discovered the zones.Wadati-Benioff zone earthquakes develop beneath volcanic island arcs and continental margins above active subduction zones. They can be produced by slip along the subduction thrust fault or slip on faults within the downgoing plate, as a result of bending and extension as the plate is pulled into the mantle. The deep-focus earthquakes along the zone allow seismologists to map the three-dimensional surface of a subducting slab of oceanic crust and mantle., \n",
      " model answer: ['Wadati', '-', 'Benioff', 'zone'], \n",
      " ground truth: [{'gender': 'male', 'ethnicity': 'unknown', 'nationality': 'Japan', 'name': 'Kiyoo Wadati'}, {'gender': 'male', 'ethnicity': 'unknown', 'nationality': 'United States of America', 'name': 'Hugo Benioff'}]\n",
      " accuracy: 0.7023809523809523\n",
      "torch.Size([1, 176]) torch.Size([1, 20])\n"
     ]
    },
    {
     "name": "stderr",
     "output_type": "stream",
     "text": [
      "\n",
      "0it [00:00, ?it/s]"
     ]
    },
    {
     "name": "stdout",
     "output_type": "stream",
     "text": [
      "torch.Size([1, 176]) torch.Size([1, 176])\n",
      "question: Who discovered a planar zone of seismicity corresponding with the down-going slab in a subduction zone., \n",
      " context: Wadati-Benioff zone (also Benioff-Wadati zone or Benioff zone or Benioff seismic zone) is a planar zone of seismicity corresponding with the down-going slab in a subduction zone. Differential motion along the zone produces numerous earthquakes, the foci of which may be as deep as about 670 km (420 mi). The term was named for the two seismologists, Hugo Benioff of the California Institute of Technology and Kiyoo Wadati of the Japan Meteorological Agency, who independently discovered the zones.Wadati-Benioff zone earthquakes develop beneath volcanic island arcs and continental margins above active subduction zones. They can be produced by slip along the subduction thrust fault or slip on faults within the downgoing plate, as a result of bending and extension as the plate is pulled into the mantle. The deep-focus earthquakes along the zone allow seismologists to map the three-dimensional surface of a subducting slab of oceanic crust and mantle., \n",
      " model answer: ['Wadati', '-', 'Benioff', 'zone'], \n",
      " ground truth: [{'gender': 'male', 'ethnicity': 'unknown', 'nationality': 'Japan', 'name': 'Kiyoo Wadati'}, {'gender': 'male', 'ethnicity': 'unknown', 'nationality': 'United States of America', 'name': 'Hugo Benioff'}]\n",
      " accuracy: 0.7023809523809523\n",
      "torch.Size([1, 133]) torch.Size([1, 22])\n"
     ]
    },
    {
     "name": "stderr",
     "output_type": "stream",
     "text": [
      "\n",
      "0it [00:00, ?it/s]"
     ]
    },
    {
     "name": "stdout",
     "output_type": "stream",
     "text": [
      "torch.Size([1, 133]) torch.Size([1, 133])\n",
      "question: Who discovered two related hypotheses in the field of psychophysics, known as Weber's law and Fechner's law., \n",
      " context: The Weber-Fechner laws are two related hypotheses in the field of psychophysics, known as Weber's law and Fechner's law. Both laws relate to human perception, more specifically the relation between the actual change in a physical stimulus and the perceived change. This includes stimuli to all senses: vision, hearing, taste, touch, and smell. Weber states that, \"the minimum increase of stimulus which will produce a perceptible increase of sensation is proportional to the pre-existent stimulus,\" while Fechner's law is an inference from Weber's law which states that the intensity of our sensation increases only as the logarithm of an increase in energy rather than as rapidly as the increase., \n",
      " model answer: ['The', 'Weber', '-', 'Fechner', 'laws'], \n",
      " ground truth: [{'gender': 'male', 'ethnicity': 'unknown', 'nationality': 'Confederation of the Rhine', 'name': 'Ernst Heinrich Weber'}, {'gender': 'male', 'ethnicity': 'unknown', 'nationality': 'Germany', 'name': 'Gustav Theodor Fechner'}]\n",
      " accuracy: 0.7023809523809523\n",
      "torch.Size([1, 133]) torch.Size([1, 22])\n"
     ]
    },
    {
     "name": "stderr",
     "output_type": "stream",
     "text": [
      "\n",
      "0it [00:00, ?it/s]"
     ]
    },
    {
     "name": "stdout",
     "output_type": "stream",
     "text": [
      "torch.Size([1, 133]) torch.Size([1, 133])\n",
      "question: Who discovered two related hypotheses in the field of psychophysics, known as Weber's law and Fechner's law., \n",
      " context: The Weber-Fechner laws are two related hypotheses in the field of psychophysics, known as Weber's law and Fechner's law. Both laws relate to human perception, more specifically the relation between the actual change in a physical stimulus and the perceived change. This includes stimuli to all senses: vision, hearing, taste, touch, and smell. Weber states that, \"the minimum increase of stimulus which will produce a perceptible increase of sensation is proportional to the pre-existent stimulus,\" while Fechner's law is an inference from Weber's law which states that the intensity of our sensation increases only as the logarithm of an increase in energy rather than as rapidly as the increase., \n",
      " model answer: ['The', 'Weber', '-', 'Fechner', 'laws'], \n",
      " ground truth: [{'gender': 'male', 'ethnicity': 'unknown', 'nationality': 'Confederation of the Rhine', 'name': 'Ernst Heinrich Weber'}, {'gender': 'male', 'ethnicity': 'unknown', 'nationality': 'Germany', 'name': 'Gustav Theodor Fechner'}]\n",
      " accuracy: 0.7023809523809523\n",
      "torch.Size([1, 112]) torch.Size([1, 26])\n"
     ]
    },
    {
     "name": "stderr",
     "output_type": "stream",
     "text": [
      "\n",
      "0it [00:00, ?it/s]"
     ]
    },
    {
     "name": "stdout",
     "output_type": "stream",
     "text": [
      "torch.Size([1, 112]) torch.Size([1, 112])\n",
      "question: Who discovered a type of two-dimensional conformal field theory named after Julius Wess, Bruno Zumino, Sergei Novikov and Edward Witten., \n",
      " context: In theoretical physics and mathematics, a Wess-Zumino-Witten (WZW) model, also called a Wess-Zumino-Novikov-Witten model, is a type of two-dimensional conformal field theory named after Julius Wess, Bruno Zumino, Sergei Novikov and Edward Witten. WZW model is associated to a Lie group (or supergroup), and its symmetry algebra is the affine Lie algebra built from the corresponding Lie algebra (or Lie superalgebra). By extension, the name WZW model is sometimes used for any conformal field theory whose symmetry algebra is an affine Lie algebra., \n",
      " model answer: ['Wess', '-', 'Zumino', '-', 'Witten'], \n",
      " ground truth: [{'gender': 'unknown', 'ethnicity': 'unknown', 'nationality': 'unknown', 'name': 'Julius Wess'}, {'gender': 'male', 'ethnicity': 'unknown', 'nationality': 'Italy', 'name': 'Bruno Zumino'}, {'gender': 'male', 'ethnicity': 'unknown', 'nationality': 'United States of America', 'name': 'Edward Witten'}]\n",
      " accuracy: 0.7023809523809523\n",
      "torch.Size([1, 111]) torch.Size([1, 31])\n"
     ]
    },
    {
     "name": "stderr",
     "output_type": "stream",
     "text": [
      "\n",
      "0it [00:00, ?it/s]"
     ]
    },
    {
     "name": "stdout",
     "output_type": "stream",
     "text": [
      "torch.Size([1, 111]) torch.Size([1, 111])\n",
      "question: Who discovered an electrical circuit used to measure an unknown electrical resistance by balancing two legs of a bridge circuit, one leg of which includes the unknown component., \n",
      " context: Wheatstone bridge is an electrical circuit used to measure an unknown electrical resistance by balancing two legs of a bridge circuit, one leg of which includes the unknown component. The primary benefit of the circuit is its ability to provide extremely accurate measurements (in contrast with something like a simple voltage divider). Its operation is similar to the original potentiometer. The Wheatstone bridge was invented by Samuel Hunter Christie (sometimes spelled \"Christy\") in 1833 and improved and popularized by Sir Charles Wheatstone in 1843. One of the Wheatstone bridge's initial uses was for soils analysis and comparison., \n",
      " model answer: ['Wheatstone', 'bridge'], \n",
      " ground truth: [{'gender': 'male', 'ethnicity': 'unknown', 'nationality': 'United Kingdom of Great Britain and Ireland', 'name': 'Charles Wheatstone'}]\n",
      " accuracy: 0.7023809523809523\n",
      "torch.Size([1, 91]) torch.Size([1, 42])\n"
     ]
    },
    {
     "name": "stderr",
     "output_type": "stream",
     "text": [
      "\n",
      "0it [00:00, ?it/s]"
     ]
    },
    {
     "name": "stdout",
     "output_type": "stream",
     "text": [
      "torch.Size([1, 91]) torch.Size([1, 91])\n",
      "question: Who discovered a class of adaptive filter used to mimic a desired filter by finding the filter coefficients that relate to producing the least mean square of the error signal (difference between the desired and the actual signal)., \n",
      " context: Least mean squares (LMS) algorithms are a class of adaptive filter used to mimic a desired filter by finding the filter coefficients that relate to producing the least mean square of the error signal (difference between the desired and the actual signal). It is a stochastic gradient descent method in that the filter is only adapted based on the error at the current time. It was invented in 1960 by Stanford University professor Bernard Widrow and his first Ph.D. student, Ted Hoff., \n",
      " model answer: no answer, \n",
      " ground truth: [{'gender': 'male', 'ethnicity': 'unknown', 'nationality': 'United States of America', 'name': 'Bernard Widrow'}, {'gender': 'male', 'ethnicity': 'unknown', 'nationality': 'United States of America', 'name': 'Ted Hoff'}]\n",
      " accuracy: 0.7023809523809523\n",
      "torch.Size([1, 110]) torch.Size([1, 41])\n"
     ]
    },
    {
     "name": "stderr",
     "output_type": "stream",
     "text": [
      "\n",
      "0it [00:00, ?it/s]"
     ]
    },
    {
     "name": "stdout",
     "output_type": "stream",
     "text": [
      "torch.Size([1, 110]) torch.Size([1, 110])\n",
      "question: Who discovered a theorem that states that the ratio of the electronic contribution of the thermal conductivity (k) to the electrical conductivity (s) of a metal is proportional to the temperature (T).\n",
      "\n",
      "  \n",
      "    \n",
      "      \n",
      "        \n",
      "          \n",
      "            , \n",
      " context: In physics, the Wiedemann-Franz law states that the ratio of the electronic contribution of the thermal conductivity (k) to the electrical conductivity (s) of a metal is proportional to the temperature (T). Theoretically, the proportionality constant L, known as the Lorenz number, is equal to 2.44 10 This empirical law is named after Gustav Wiedemann and Rudolph Franz, who in 1853 reported that k/s has approximately the same value for different metals at the same temperature. The proportionality of k/s with temperature was discovered by Ludvig Lorenz in 1872., \n",
      " model answer: ['Wiedemann', '-', 'Franz', 'law'], \n",
      " ground truth: [{'gender': 'male', 'ethnicity': 'unknown', 'nationality': 'Kingdom of Prussia', 'name': 'Gustav Wiedemann'}, {'gender': 'unknown', 'ethnicity': 'unknown', 'nationality': 'unknown', 'name': 'Rudolf Franz'}]\n",
      " accuracy: 0.7023809523809523\n",
      "torch.Size([1, 254]) torch.Size([1, 19])\n"
     ]
    },
    {
     "name": "stderr",
     "output_type": "stream",
     "text": [
      "\n"
     ]
    },
    {
     "name": "stdout",
     "output_type": "stream",
     "text": [
      "torch.Size([1, 254]) torch.Size([1, 254])\n",
      "question: Who discovered a primitive cell which has been constructed by applying Voronoi decomposition to a crystal lattice., \n",
      " context: The Wigner-Seitz cell, named after Eugene Wigner and Frederick Seitz, is a primitive cell which has been constructed by applying Voronoi decomposition to a crystal lattice. It is used in the study of crystalline materials in solid-state physics. The unique property of a crystal is that its atoms are arranged in a regular three-dimensional array called a lattice. All the properties attributed to crystalline materials stem from this highly ordered structure. Such a structure exhibits discrete translational symmetry. In order to model and study such a periodic system, one needs a mathematical \"handle\" to describe the symmetry and hence draw conclusions about the material properties consequent to this symmetry. The Wigner-Seitz cell is a means to achieve this. Wigner-Seitz cell is an example of a primitive cell, which is a unit cell containing exactly one lattice point. For any given lattice, there are an infinite number of possible primitive cells. However there is only one Wigner-Seitz cell for any given lattice. It is the locus of points in space that are closer to that lattice point than to any of the other lattice points. Wigner-Seitz cell, like any primitive cell, is a fundamental domain for the discrete translation symmetry of the lattice. The primitive cell of the reciprocal lattice in momentum space is called the Brillouin zone., \n",
      " model answer: ['Wigner', '-', 'Seitz', 'cell'], \n",
      " ground truth: [{'gender': 'male', 'ethnicity': 'Jewish people', 'nationality': 'Austria-Hungary', 'name': 'Eugene Wigner'}, {'gender': 'male', 'ethnicity': 'unknown', 'nationality': 'United States of America', 'name': 'Frederick Seitz'}]\n",
      " accuracy: 0.7023809523809523\n"
     ]
    },
    {
     "name": "stderr",
     "output_type": "stream",
     "text": [
      "0it [00:00, ?it/s]\n",
      "Traceback (most recent call last):\n",
      "  File \"<ipython-input-144-0ab5a653ee6a>\", line 12, in <module>\n",
      "    model_ans = answer_question(example['context'], example['question'])\n",
      "  File \"<ipython-input-143-75f5d3a8a0fe>\", line 18, in answer_question\n",
      "    context_idxs, ques_idxs = preprocess(context, question, word2idx_dict)\n",
      "  File \"<ipython-input-8-21f0d84691f7>\", line 56, in preprocess\n",
      "    context_idx[i] = _get_word(token)\n",
      "IndexError: index 400 is out of bounds for axis 0 with size 400\n",
      "0it [00:00, ?it/s]\n"
     ]
    },
    {
     "name": "stdout",
     "output_type": "stream",
     "text": [
      "torch.Size([1, 370]) torch.Size([1, 33])\n",
      "torch.Size([1, 370]) torch.Size([1, 370])\n",
      "question: Who discovered a set of rules used to rationalize or predict certain aspects of the stereochemistry and activation energy of pericyclic reactions, an important class of reactions in organic chemistry., \n",
      " context: The Woodward-Hoffmann rules (or the pericyclic selection rules), devised by Robert Burns Woodward and Roald Hoffmann, are a set of rules used to rationalize or predict certain aspects of the stereochemistry and activation energy of pericyclic reactions, an important class of reactions in organic chemistry. The rules are best understood in terms of the concept of the conservation of orbital symmetry using orbital correlation diagrams, for which an elementary description is given in Section 10.4 of a student level text book. The Woodward-Hoffmann rules are a consequence of the changes in electronic structure that occur during a pericyclic reaction and are predicated on the phasing of the interacting molecular orbitals. They are applicable to all classes of pericyclic reactions (and their microscopic reverse 'retro' processes), including (1) electrocyclizations, (2) cycloadditions, (3) sigmatropic reactions, (4) group transfer reactions, (5) ene reactions, (6) cheletropic reactions, and (7) dyotropic reactions. Due to their elegance, simplicity, and generality, the Woodward-Hoffmann rules are credited with first exemplifying the power of molecular orbital theory to experimental chemists.Woodward and Hoffmann developed the pericyclic selection rules by examining correlations between reactant and product orbitals (i.e., how reactant and product orbitals are related to each other by continuous geometric distortions that are functions of the reaction coordinate). They identified the conservation of orbital symmetry as a crucial theoretical principle that dictates the outcome (or feasibility) of a pericyclic process. Other theoretical approaches that lead to the same selection rules have also been advanced. Hoffmann was awarded the 1981 Nobel Prize in Chemistry for elucidating the importance of orbital symmetry in pericyclic reactions, which he shared with Kenichi Fukui. Fukui developed a similar set of ideas within the framework of frontier molecular orbital (FMO) theory. Because Woodward had died two years before, he was not eligible to win what would have been his second Nobel Prize in Chemistry., \n",
      " model answer: ['Robert', 'Burns', 'Woodward', 'and', 'Roald', 'Hoffmann'], \n",
      " ground truth: [{'gender': 'male', 'ethnicity': 'unknown', 'nationality': 'United States of America', 'name': 'Robert Burns Woodward'}, {'gender': 'unknown', 'ethnicity': 'unknown', 'nationality': 'unknown', 'name': 'Roald Hoffmann'}]\n",
      " accuracy: 0.7023809523809523\n"
     ]
    },
    {
     "name": "stderr",
     "output_type": "stream",
     "text": [
      "0it [00:00, ?it/s]\n"
     ]
    },
    {
     "name": "stdout",
     "output_type": "stream",
     "text": [
      "torch.Size([1, 231]) torch.Size([1, 29])\n"
     ]
    },
    {
     "name": "stderr",
     "output_type": "stream",
     "text": [
      "0it [00:00, ?it/s]"
     ]
    },
    {
     "name": "stdout",
     "output_type": "stream",
     "text": [
      "torch.Size([1, 231]) torch.Size([1, 231])\n",
      "question: Who discovered the chemical reaction of an aromatic or vinylic alkoxy pentacarbonyl chromium carbene complex with an alkyne and carbon monoxide to give a Cr(CO)3-coordinated substituted phenol., \n",
      " context: The Wulff-Dotz reaction (also known as the Dotz reaction or the benzannulation reaction of the Fischer carbene complexes) is the chemical reaction of an aromatic or vinylic alkoxy pentacarbonyl chromium carbene complex with an alkyne and carbon monoxide to give a Cr(CO)3-coordinated substituted phenol. Several reviews have been published. It is named after the German chemist Karl Heinz Dotz (b. 1943) and the American chemist William D. Wulff (b. 1949) at Michigan State University. The reaction was first discovered by Karl Dotz and was extensively developed by his group and W. Wulff's group. They subsequently share the name of the reaction. The position of the substituents is highly predictable with the largest alkyne substituent (RL) neighboring the phenol and the smallest alkyne substituent (RS) neighboring the methoxy group. Hence, this reaction is more useful for terminal alkynes than internal alkynes. The phenol can be liberated from the chromium complex by a mild oxidation, such as ceric ammonium nitrate or air oxidation. Since this reaction can quickly generate complex phenolic compounds, the Wulff-Dotz reaction has been used most often in the synthesis of natural products, especially Vitamins and K. It is also applicable to the synthesis of polyphenolic compounds, such as calixarenes., \n",
      " model answer: no answer, \n",
      " ground truth: [{'gender': 'male', 'ethnicity': 'unknown', 'nationality': 'unknown', 'name': 'William Wulff'}, {'gender': 'unknown', 'ethnicity': 'unknown', 'nationality': 'unknown', 'name': 'Karl Heinz Dotz'}]\n",
      " accuracy: 0.7023809523809523\n",
      "torch.Size([1, 124]) torch.Size([1, 37])\n"
     ]
    },
    {
     "name": "stderr",
     "output_type": "stream",
     "text": [
      "\n",
      "0it [00:00, ?it/s]"
     ]
    },
    {
     "name": "stdout",
     "output_type": "stream",
     "text": [
      "torch.Size([1, 124]) torch.Size([1, 124])\n",
      "question: Who discovered , the body's spin rate and the obliquity of its pole(s) - due to the scattering of solar radiation off its surface and the emission of its own thermal radiation.\n",
      ", \n",
      " context: The Yarkovsky-O'Keefe-Radzievskii-Paddack effect, or YORP effect for short, changes the rotation state of a small astronomical body that is, the body's spin rate and the obliquity of its pole(s) due to the scattering of solar radiation off its surface and the emission of its own thermal radiation. The YORP effect is typically considered for asteroids with their heliocentric orbit in the Solar System. The effect is responsible for the creation of binary and tumbling asteroids as well as for changing an asteroid's pole towards 0deg, 90deg, or 180deg relative to the ecliptic plane and so modifying its heliocentric radial drift rate due to the Yarkovsky effect., \n",
      " model answer: ['Yarkovsky', '-', \"O'Keefe\", '-', 'Radzievskii', '-', 'Paddack'], \n",
      " ground truth: [{'gender': 'male', 'ethnicity': 'unknown', 'nationality': 'Russian Empire', 'name': 'Ivan Osipovich Yarkovsky'}, {'gender': 'unknown', 'ethnicity': 'unknown', 'nationality': 'unknown', 'name': \"John A. O'Keefe\"}, {'gender': 'unknown', 'ethnicity': 'unknown', 'nationality': 'unknown', 'name': 'Vladimir Vyacheslavovich Radzievskii'}, {'gender': 'unknown', 'ethnicity': 'unknown', 'nationality': 'unknown', 'name': 'Stephen J. Paddack'}]\n",
      " accuracy: 0.7023809523809523\n",
      "torch.Size([1, 212]) torch.Size([1, 31])\n"
     ]
    },
    {
     "name": "stderr",
     "output_type": "stream",
     "text": [
      "\n",
      "0it [00:00, ?it/s]"
     ]
    },
    {
     "name": "stdout",
     "output_type": "stream",
     "text": [
      "torch.Size([1, 212]) torch.Size([1, 212])\n",
      "question: Who discovered a phenomenon in probability and statistics, in which a trend appears in several different groups of data but disappears or reverses when these groups are combined., \n",
      " context: Simpson's paradox, which also goes by several other names, is a phenomenon in probability and statistics, in which a trend appears in several different groups of data but disappears or reverses when these groups are combined. This result is often encountered in social-science and medical-science statistics and is particularly problematic when frequency data is unduly given causal interpretations. The paradox can be resolved when causal relations are appropriately addressed in the statistical modeling. It is also referred to as Simpson's reversal, Yule-Simpson effect, amalgamation paradox, or reversal paradox.Simpson's paradox has been used as an exemplar to illustrate to the non-specialist or public audience the kind of misleading results mis-applied statistics can generate. Martin Gardner wrote a popular account of Simpson's paradox in his March 1976 Mathematical Games column in Scientific American.Edward H. Simpson first described this phenomenon in a technical paper in 1951, but the statisticians Karl Pearson et al., in 1899, and Udny Yule, in 1903, had mentioned similar effects earlier. The name Simpson's paradox was introduced by Colin R. Blyth in 1972., \n",
      " model answer: ['Simpson', \"'s\", 'paradox'], \n",
      " ground truth: [{'gender': 'unknown', 'ethnicity': 'unknown', 'nationality': 'unknown', 'name': 'Edward H. Simpson'}, {'gender': 'male', 'ethnicity': 'unknown', 'nationality': 'United Kingdom', 'name': 'Udny Yule'}]\n",
      " accuracy: 0.7023809523809523\n",
      "torch.Size([1, 147]) torch.Size([1, 8])\n"
     ]
    },
    {
     "name": "stderr",
     "output_type": "stream",
     "text": [
      "\n",
      "0it [00:00, ?it/s]"
     ]
    },
    {
     "name": "stdout",
     "output_type": "stream",
     "text": [
      "torch.Size([1, 147]) torch.Size([1, 147])\n",
      "question: Who discovered a discrete probability distribution., \n",
      " context: In probability theory and statistics, the Zipf-Mandelbrot law is a discrete probability distribution. Also known as the Pareto-Zipf law, it is a power-law distribution on ranked data, named after the linguist George Kingsley Zipf who suggested a simpler distribution called Zipf's law, and the mathematician Benoit Mandelbrot, who subsequently generalized it. The probability mass function is given by: where is given by: which may be thought of as a generalization of a harmonic number. In the formula, is the rank of the data, and and are parameters of the distribution. In the limit as approaches infinity, this becomes the Hurwitz zeta function \\zeta For finite and the Zipf-Mandelbrot law becomes Zipf's law. For infinite and it becomes a Zeta distribution., \n",
      " model answer: no answer, \n",
      " ground truth: [{'gender': 'unknown', 'ethnicity': 'unknown', 'nationality': 'unknown', 'name': 'George K. Zipf'}, {'gender': 'male', 'ethnicity': 'unknown', 'nationality': 'Poland', 'name': 'Benoit Mandelbrot'}]\n",
      " accuracy: 0.7023809523809523\n",
      "torch.Size([1, 328]) torch.Size([1, 12])\n"
     ]
    },
    {
     "name": "stderr",
     "output_type": "stream",
     "text": [
      "\n",
      "0it [00:00, ?it/s]"
     ]
    },
    {
     "name": "stdout",
     "output_type": "stream",
     "text": [
      "torch.Size([1, 328]) torch.Size([1, 328])\n",
      "question: Who discovered bright patches of nebulosity associated with newborn stars., \n",
      " context: Herbig-Haro (HH) objects are bright patches of nebulosity associated with newborn stars. They are formed when narrow jets of partially ionised gas ejected by stars collide with nearby clouds of gas and dust at several hundred kilometres per second. Herbig-Haro objects are commonly found in star-forming regions, and several are often seen around a single star, aligned with its rotational axis. Most of them lie within about one parsec (3.26 light-years) of the source, although some have been observed several parsecs away. HH objects are transient phenomena that last around a few tens of thousands of years. They can change visibly over timescales of a few years as they move rapidly away from their parent star into the gas clouds of interstellar space (the interstellar medium or ISM). Hubble Space Telescope observations have revealed the complex evolution of HH objects over the period of a few years, as parts of the nebula fade while others brighten as they collide with the clumpy material of the interstellar medium. First observed in the late 19th century by Sherburne Wesley Burnham, Herbig-Haro objects were recognised as a distinct type of emission nebula in the 1940s. The first astronomers to study them in detail were George Herbig and Guillermo Haro, after whom they have been named. Herbig and Haro were working independently on studies of star formation when they first analysed the objects, and recognised that they were a by-product of the star formation process. Although HH objects are a visible wavelength phenomena, many remain invisible at these wavelengths due to dust and gas, and can only be detected at infrared wavelengths. Such objects, when observed in near infrared, are called molecular hydrogen emission-line objects (MHOs)., \n",
      " model answer: ['Herbig', '-', 'Haro'], \n",
      " ground truth: [{'gender': 'male', 'ethnicity': 'unknown', 'nationality': 'United States of America', 'name': 'George Herbig'}, {'gender': 'male', 'ethnicity': 'unknown', 'nationality': 'Mexico', 'name': 'Guillermo Haro'}]\n",
      " accuracy: 0.7023809523809523\n",
      "torch.Size([1, 4]) torch.Size([1, 16])\n",
      "torch.Size([1, 4]) torch.Size([1, 4])\n",
      "question: Who discovered a process for the liquefaction of gases, especially for air separation., \n",
      " context: Hampson-Linde_cycle, \n",
      " model answer: no answer, \n",
      " ground truth: [{'gender': 'male', 'ethnicity': 'unknown', 'nationality': 'Germany', 'name': 'Carl von Linde'}, {'gender': 'male', 'ethnicity': 'unknown', 'nationality': 'unknown', 'name': 'William Hampson'}]\n",
      " accuracy: 0.7023809523809523\n"
     ]
    },
    {
     "name": "stderr",
     "output_type": "stream",
     "text": [
      "\n",
      "0it [00:00, ?it/s]\n"
     ]
    },
    {
     "name": "stdout",
     "output_type": "stream",
     "text": [
      "torch.Size([1, 151]) torch.Size([1, 5])\n"
     ]
    },
    {
     "name": "stderr",
     "output_type": "stream",
     "text": [
      "0it [00:00, ?it/s]"
     ]
    },
    {
     "name": "stdout",
     "output_type": "stream",
     "text": [
      "torch.Size([1, 151]) torch.Size([1, 151])\n",
      "question: Who discovered quantized., \n",
      " context: The Stern-Gerlach experiment demonstrated that the spatial orientation of angular momentum is quantized. Thus an atomic-scale system was shown to have intrinsically quantum properties. In the original experiment, silver atoms were sent through a spatially varying magnetic field, which deflected them before they struck a detector screen, such as a glass slide. Particles with non-zero magnetic moment are deflected, due to the magnetic field gradient, from a straight path. The screen reveals discrete points of accumulation, rather than a continuous distribution, owing to their quantized spin. Historically, this experiment was decisive in convincing physicists of the reality of angular-momentum quantization in all atomic-scale systems.After its conception by Otto Stern in 1921, the experiment was first successfully conducted by Walther Gerlach in early 1922., \n",
      " model answer: ['Stern', '-', 'Gerlach'], \n",
      " ground truth: [{'gender': 'male', 'ethnicity': 'Germans', 'nationality': 'Germany', 'name': 'Otto Stern'}, {'gender': 'male', 'ethnicity': 'unknown', 'nationality': 'Germany', 'name': 'Walther Gerlach'}]\n",
      " accuracy: 0.7023809523809523\n",
      "torch.Size([1, 4]) torch.Size([1, 15])\n",
      "torch.Size([1, 4]) torch.Size([1, 4])\n",
      "question: Who discovered numbers that arise in angular momentum coupling in quantum mechanics.  , \n",
      " context: Clebsch-Gordan_coefficients, \n",
      " model answer: no answer, \n",
      " ground truth: [{'gender': 'male', 'ethnicity': 'unknown', 'nationality': 'Kingdom of Prussia', 'name': 'Alfred Clebsch'}, {'gender': 'male', 'ethnicity': 'unknown', 'nationality': 'German Empire', 'name': 'Paul Gordan'}]\n",
      " accuracy: 0.7023809523809523\n"
     ]
    },
    {
     "name": "stderr",
     "output_type": "stream",
     "text": [
      "\n",
      "0it [00:00, ?it/s]\n"
     ]
    },
    {
     "name": "stdout",
     "output_type": "stream",
     "text": [
      "torch.Size([1, 257]) torch.Size([1, 17])\n"
     ]
    },
    {
     "name": "stderr",
     "output_type": "stream",
     "text": [
      "0it [00:00, ?it/s]"
     ]
    },
    {
     "name": "stdout",
     "output_type": "stream",
     "text": [
      "torch.Size([1, 257]) torch.Size([1, 257])\n",
      "question: Who discovered a 3-dimensional topological quantum field theory of Schwarz type developed by Edward Witten., \n",
      " context: The Chern-Simons theory is a 3-dimensional topological quantum field theory of Schwarz type developed by Edward Witten. It was discovered firstly by mathematical physicist Albert Schwarz. It is named after mathematicians Shiing-Shen Chern and James Harris Simons, who introduced the Chern-Simons 3-form. In the Chern-Simons theory, the action is proportional to the integral of the Chern-Simons 3-form. In condensed-matter physics, Chern-Simons theory describes the topological order in fractional quantum Hall effect states. In mathematics, it has been used to calculate knot invariants and three-manifold invariants such as the Jones polynomial. Particularly, Chern-Simons theory is specified by a choice of simple Lie group known as the gauge group of the theory and also a number referred to as the level of the theory, which is a constant that multiplies the action. The action is gauge dependent, however the partition function of the quantum theory is well-defined when the level is an integer and the gauge field strength vanishes on all boundaries of the 3-dimensional spacetime. It has also been used to create topological quantum computers (TQC). Specifically, an SU(2) Chern-Simons theory describes the simplest non-abelian anyonic model of a TQC, the Yang-Lee-Fibonacci model. Its fusion rules are also described by WZW theory and conformal field theory., \n",
      " model answer: ['Albert', 'Schwarz'], \n",
      " ground truth: [{'gender': 'male', 'ethnicity': 'Jewish people', 'nationality': 'United States of America', 'name': 'James Harris Simons'}, {'gender': 'unknown', 'ethnicity': 'unknown', 'nationality': 'unknown', 'name': 'Shiing-Shen Chern'}]\n",
      " accuracy: 0.7023809523809523\n",
      "torch.Size([1, 84]) torch.Size([1, 17])\n"
     ]
    },
    {
     "name": "stderr",
     "output_type": "stream",
     "text": [
      "\n",
      "0it [00:00, ?it/s]\n",
      "0it [00:00, ?it/s]"
     ]
    },
    {
     "name": "stdout",
     "output_type": "stream",
     "text": [
      "torch.Size([1, 84]) torch.Size([1, 84])\n",
      "question: Who discovered a fundamental result about convergence in a finite-dimensional Euclidean space Rn., \n",
      " context: In mathematics, specifically in real analysis, the Bolzano-Weierstrass theorem, named after Bernard Bolzano and Karl Weierstrass, is a fundamental result about convergence in a finite-dimensional Euclidean space Rn. The theorem states that each bounded sequence in Rn has a convergent subsequence. An equivalent formulation is that a subset of Rn is sequentially compact if and only if it is closed and bounded. The theorem is sometimes called the sequential compactness theorem., \n",
      " model answer: ['Bernard', 'Bolzano', 'and', 'Karl', 'Weierstrass'], \n",
      " ground truth: [{'gender': 'male', 'ethnicity': 'Czechs', 'nationality': 'Kingdom of Bohemia', 'name': 'Bernard Bolzano'}, {'gender': 'male', 'ethnicity': 'Germans', 'nationality': 'German Confederation', 'name': 'Karl Weierstrass'}]\n",
      " accuracy: 0.7023809523809523\n",
      "torch.Size([1, 4]) torch.Size([1, 43])\n",
      "torch.Size([1, 4]) torch.Size([1, 4])\n",
      "question: Who discovered a 1923-27 experiment by Clinton Davisson and Lester Germer at Western Electric (later Bell Labs), in which electrons, scattered by the surface of a crystal of nickel metal, displayed a diffraction pattern., \n",
      " context: Davisson-Germer_experiment, \n",
      " model answer: no answer, \n",
      " ground truth: [{'gender': 'male', 'ethnicity': 'unknown', 'nationality': 'United States of America', 'name': 'Clinton Davisson'}, {'gender': 'male', 'ethnicity': 'unknown', 'nationality': 'United States of America', 'name': 'Lester Germer'}]\n",
      " accuracy: 0.7023809523809523\n",
      "torch.Size([1, 4]) torch.Size([1, 21])\n",
      "torch.Size([1, 4]) torch.Size([1, 4])\n"
     ]
    },
    {
     "name": "stderr",
     "output_type": "stream",
     "text": [
      "\n",
      "0it [00:00, ?it/s]\n",
      "0it [00:00, ?it/s]"
     ]
    },
    {
     "name": "stdout",
     "output_type": "stream",
     "text": [
      "question: Who discovered a way of characterizing a discontinuous phase transition between two phases of matter of a single constituent., \n",
      " context: Clausius-Clapeyron_relation, \n",
      " model answer: no answer, \n",
      " ground truth: [{'gender': 'male', 'ethnicity': 'unknown', 'nationality': 'France', 'name': 'Benoit Paul Emile Clapeyron'}, {'gender': 'male', 'ethnicity': 'unknown', 'nationality': 'German Confederation', 'name': 'Rudolf Clausius'}]\n",
      " accuracy: 0.7023809523809523\n",
      "torch.Size([1, 6]) torch.Size([1, 21])\n",
      "torch.Size([1, 6]) torch.Size([1, 6])\n",
      "question: Who discovered a standard process used in organic chemistry to completely and unequivocally name a stereoisomer of a molecule., \n",
      " context: Cahn-Ingold-Prelog_priority_rules, \n",
      " model answer: no answer, \n",
      " ground truth: [{'gender': 'male', 'ethnicity': 'unknown', 'nationality': 'United Kingdom', 'name': 'Christopher Kelk Ingold'}, {'gender': 'male', 'ethnicity': 'unknown', 'nationality': 'United Kingdom', 'name': 'Robert Sidney Cahn'}]\n",
      " accuracy: 0.7023809523809523\n"
     ]
    },
    {
     "name": "stderr",
     "output_type": "stream",
     "text": [
      "\n",
      "Traceback (most recent call last):\n",
      "  File \"<ipython-input-144-0ab5a653ee6a>\", line 12, in <module>\n",
      "    model_ans = answer_question(example['context'], example['question'])\n",
      "  File \"<ipython-input-143-75f5d3a8a0fe>\", line 18, in answer_question\n",
      "    context_idxs, ques_idxs = preprocess(context, question, word2idx_dict)\n",
      "  File \"<ipython-input-8-21f0d84691f7>\", line 56, in preprocess\n",
      "    context_idx[i] = _get_word(token)\n",
      "IndexError: index 400 is out of bounds for axis 0 with size 400\n",
      "0it [00:00, ?it/s]\n"
     ]
    },
    {
     "name": "stdout",
     "output_type": "stream",
     "text": [
      "torch.Size([1, 71]) torch.Size([1, 27])\n",
      "torch.Size([1, 71]) torch.Size([1, 71])\n",
      "question: Who discovered a scatter plot of stars showing the relationship between the stars' absolute magnitudes or luminosities versus their stellar classifications or effective temperatures., \n",
      " context: The Hertzsprung-Russell diagram, abbreviated as H-R diagram, HR diagram or HRD, is a scatter plot of stars showing the relationship between the stars' absolute magnitudes or luminosities versus their stellar classifications or effective temperatures. The diagram was created independently around 1910 by Ejnar Hertzsprung and Henry Norris Russell, and represented a major step towards an understanding of stellar evolution., \n",
      " model answer: ['The', 'Hertzsprung', '-', 'Russell', 'diagram'], \n",
      " ground truth: [{'gender': 'male', 'ethnicity': 'unknown', 'nationality': 'Kingdom of the Netherlands', 'name': 'Ejnar Hertzsprung'}, {'gender': 'male', 'ethnicity': 'unknown', 'nationality': 'United States of America', 'name': 'Henry Norris Russell'}]\n",
      " accuracy: 0.7023809523809523\n"
     ]
    },
    {
     "name": "stderr",
     "output_type": "stream",
     "text": [
      "0it [00:00, ?it/s]\n",
      "0it [00:00, ?it/s]\n",
      "0it [00:00, ?it/s]\n"
     ]
    },
    {
     "name": "stdout",
     "output_type": "stream",
     "text": [
      "torch.Size([1, 4]) torch.Size([1, 35])\n",
      "torch.Size([1, 4]) torch.Size([1, 4])\n",
      "question: Who discovered a chemical experiment that simulated the conditions thought at the time (1952) to be present on the early Earth and tested the chemical origin of life under those conditions., \n",
      " context: Miller-Urey_experiment, \n",
      " model answer: no answer, \n",
      " ground truth: [{'gender': 'male', 'ethnicity': 'unknown', 'nationality': 'United States of America', 'name': 'Harold Urey'}, {'gender': 'male', 'ethnicity': 'unknown', 'nationality': 'United States of America', 'name': 'Stanley Miller'}]\n",
      " accuracy: 0.7023809523809523\n",
      "torch.Size([1, 4]) torch.Size([1, 10])\n",
      "torch.Size([1, 4]) torch.Size([1, 4])\n",
      "question: Who discovered an approach to analyze reaction energies., \n",
      " context: Born-Haber_cycle, \n",
      " model answer: no answer, \n",
      " ground truth: [{'gender': 'male', 'ethnicity': 'unknown', 'nationality': 'German Empire', 'name': 'Fritz Haber'}, {'gender': 'male', 'ethnicity': 'Jewish people', 'nationality': 'German Reich', 'name': 'Max Born'}]\n",
      " accuracy: 0.7023809523809523\n",
      "torch.Size([1, 6]) torch.Size([1, 34])\n",
      "torch.Size([1, 6]) torch.Size([1, 6])\n"
     ]
    },
    {
     "name": "stderr",
     "output_type": "stream",
     "text": [
      "0it [00:00, ?it/s]\n",
      "0it [00:00, ?it/s]\n",
      "0it [00:00, ?it/s]"
     ]
    },
    {
     "name": "stdout",
     "output_type": "stream",
     "text": [
      "question: Who discovered a theorem that applies semi-empirical quantum mechanical methods to the quantitative prediction of electronic structures and spectra, in molecules of interest in the field of organic chemistry., \n",
      " context: Pariser-Parr-Pople_method, \n",
      " model answer: no answer, \n",
      " ground truth: [{'gender': 'male', 'ethnicity': 'unknown', 'nationality': 'United States of America', 'name': 'Robert Parr'}, {'gender': 'male', 'ethnicity': 'unknown', 'nationality': 'United States of America', 'name': 'Rudolph Pariser'}]\n",
      " accuracy: 0.7023809523809523\n",
      "torch.Size([1, 4]) torch.Size([1, 21])\n",
      "torch.Size([1, 4]) torch.Size([1, 4])\n",
      "question: Who discovered a theorem that states the classical expression for the molar specific heat capacity of certain chemical elements., \n",
      " context: Dulong-Petit_law, \n",
      " model answer: no answer, \n",
      " ground truth: [{'gender': 'male', 'ethnicity': 'unknown', 'nationality': 'France', 'name': 'Alexis Therese Petit'}, {'gender': 'male', 'ethnicity': 'unknown', 'nationality': 'France', 'name': 'Pierre Louis Dulong'}]\n",
      " accuracy: 0.7023809523809523\n",
      "torch.Size([1, 4]) torch.Size([1, 22])\n",
      "torch.Size([1, 4]) torch.Size([1, 4])\n",
      "question: Who discovered a relativistic correction to the precession of a gyroscope near a large rotating mass such as the Earth., \n",
      " context: Lense-Thirring_precession, \n",
      " model answer: no answer, \n",
      " ground truth: [{'gender': 'male', 'ethnicity': 'unknown', 'nationality': 'Austria', 'name': 'Hans Thirring'}, {'gender': 'male', 'ethnicity': 'unknown', 'nationality': 'Austria', 'name': 'Josef Lense'}]\n",
      " accuracy: 0.7023809523809523\n",
      "torch.Size([1, 4]) torch.Size([1, 20])\n"
     ]
    },
    {
     "name": "stderr",
     "output_type": "stream",
     "text": [
      "\n",
      "0it [00:00, ?it/s]\n",
      "0it [00:00, ?it/s]\n"
     ]
    },
    {
     "name": "stdout",
     "output_type": "stream",
     "text": [
      "torch.Size([1, 4]) torch.Size([1, 4])\n",
      "question: Who discovered a phase transition of the two-dimensional (2-D) XY model in statistical physics., \n",
      " context: Kosterlitz-Thouless_transition, \n",
      " model answer: no answer, \n",
      " ground truth: [{'gender': 'unknown', 'ethnicity': 'unknown', 'nationality': 'unknown', 'name': 'David J. Thouless'}, {'gender': 'unknown', 'ethnicity': 'unknown', 'nationality': 'unknown', 'name': 'John M. Kosterlitz'}]\n",
      " accuracy: 0.7023809523809523\n",
      "torch.Size([1, 4]) torch.Size([1, 11])\n",
      "torch.Size([1, 4]) torch.Size([1, 4])\n",
      "question: Who discovered a theorem that states at thermodynamic equilibrium., \n",
      " context: Bose-Einstein_statistics, \n",
      " model answer: no answer, \n",
      " ground truth: [{'gender': 'male', 'ethnicity': 'Jewish people', 'nationality': 'German Empire', 'name': 'Albert Einstein'}, {'gender': 'male', 'ethnicity': 'unknown', 'nationality': 'British India', 'name': 'Satyendra Nath Bose'}]\n",
      " accuracy: 0.7023809523809523\n",
      "torch.Size([1, 4]) torch.Size([1, 18])\n",
      "torch.Size([1, 4]) torch.Size([1, 4])\n",
      "question: Who discovered a series of chemical reactions designed to transform an aldehyde into an alkyne.[1][2][3]  , \n",
      " context: Corey-Fuchs_reaction, \n",
      " model answer: no answer, \n",
      " ground truth: [{'gender': 'male', 'ethnicity': 'unknown', 'nationality': 'United States of America', 'name': 'Elias James Corey'}, {'gender': 'unknown', 'ethnicity': 'unknown', 'nationality': 'unknown', 'name': 'Philip L. Fuchs'}]\n",
      " accuracy: 0.7023809523809523\n"
     ]
    },
    {
     "name": "stderr",
     "output_type": "stream",
     "text": [
      "0it [00:00, ?it/s]\n",
      "0it [00:00, ?it/s]\n",
      "0it [00:00, ?it/s]\n"
     ]
    },
    {
     "name": "stdout",
     "output_type": "stream",
     "text": [
      "torch.Size([1, 4]) torch.Size([1, 42])\n",
      "torch.Size([1, 4]) torch.Size([1, 4])\n",
      "question: Who discovered a binary star system composed of a neutron star and a pulsar (known as PSR B1913+16, PSR J1915+1606 or PSR 1913+16) which orbit around their common center of mass., \n",
      " context: Hulse-Taylor_binary, \n",
      " model answer: no answer, \n",
      " ground truth: [{'gender': 'male', 'ethnicity': 'unknown', 'nationality': 'United States of America', 'name': 'Joseph Hooton Taylor'}, {'gender': 'unknown', 'ethnicity': 'unknown', 'nationality': 'unknown', 'name': 'Jr.'}, {'gender': 'male', 'ethnicity': 'unknown', 'nationality': 'United States of America', 'name': 'Russell Alan Hulse'}]\n",
      " accuracy: 0.7023809523809523\n",
      "torch.Size([1, 4]) torch.Size([1, 31])\n",
      "torch.Size([1, 4]) torch.Size([1, 4])\n",
      "question: Who discovered a chemical reaction used in organic chemistry for the synthesis of carbon-nitrogen bonds via the palladium-catalyzed coupling reactions of amines with aryl halides., \n",
      " context: Buchwald-Hartwig_amination, \n",
      " model answer: no answer, \n",
      " ground truth: [{'gender': 'unknown', 'ethnicity': 'unknown', 'nationality': 'unknown', 'name': 'John F. Hartwig'}, {'gender': 'unknown', 'ethnicity': 'unknown', 'nationality': 'unknown', 'name': 'Stephen L. Buchwald'}]\n",
      " accuracy: 0.7023809523809523\n",
      "torch.Size([1, 4]) torch.Size([1, 24])\n",
      "torch.Size([1, 4]) torch.Size([1, 4])\n"
     ]
    },
    {
     "name": "stderr",
     "output_type": "stream",
     "text": [
      "0it [00:00, ?it/s]\n",
      "0it [00:00, ?it/s]\n"
     ]
    },
    {
     "name": "stdout",
     "output_type": "stream",
     "text": [
      "question: Who discovered a special type of esterification by refluxing a carboxylic acid and an alcohol in the presence of an acid catalyst., \n",
      " context: Fischer-Speier_esterification, \n",
      " model answer: no answer, \n",
      " ground truth: [{'gender': 'unknown', 'ethnicity': 'unknown', 'nationality': 'unknown', 'name': 'Arthur Speier'}, {'gender': 'male', 'ethnicity': 'unknown', 'nationality': 'German Empire', 'name': 'Emil Fischer'}]\n",
      " accuracy: 0.7023809523809523\n",
      "torch.Size([1, 4]) torch.Size([1, 28])\n",
      "torch.Size([1, 4]) torch.Size([1, 4])\n",
      "question: Who discovered an identity between correlation functions that follows from the global or gauge symmetries of the theory, and which remains valid after renormalization.\n",
      ", \n",
      " context: Ward-Takahashi_identity, \n",
      " model answer: no answer, \n",
      " ground truth: [{'gender': 'male', 'ethnicity': 'unknown', 'nationality': 'United Kingdom', 'name': 'John Clive Ward'}, {'gender': 'male', 'ethnicity': 'unknown', 'nationality': 'Japan', 'name': 'Yasushi Takahashi'}]\n",
      " accuracy: 0.7023809523809523\n",
      "torch.Size([1, 4]) torch.Size([1, 22])\n",
      "torch.Size([1, 4]) torch.Size([1, 4])\n",
      "question: Who discovered a rare inherited disorder caused by a deficiency of the enzyme hypoxanthine-guanine phosphoribosyltransferase (HGPRT)., \n",
      " context: Lesch-Nyhan_syndrome, \n",
      " model answer: no answer, \n",
      " ground truth: [{'gender': 'male', 'ethnicity': 'unknown', 'nationality': 'United States of America', 'name': 'Michael Lesch'}, {'gender': 'male', 'ethnicity': 'unknown', 'nationality': 'United States of America', 'name': 'William Nyhan'}]\n",
      " accuracy: 0.7023809523809523\n"
     ]
    },
    {
     "name": "stderr",
     "output_type": "stream",
     "text": [
      "0it [00:00, ?it/s]\n",
      "0it [00:00, ?it/s]\n",
      "0it [00:00, ?it/s]\n"
     ]
    },
    {
     "name": "stdout",
     "output_type": "stream",
     "text": [
      "torch.Size([1, 4]) torch.Size([1, 37])\n",
      "torch.Size([1, 4]) torch.Size([1, 4])\n",
      "question: Who discovered a family of implicit and explicit iterative methods, which include the well-known routine called the Euler Method, used in temporal discretization for the approximate solutions of ordinary differential equations., \n",
      " context: Runge-Kutta_methods, \n",
      " model answer: no answer, \n",
      " ground truth: [{'gender': 'male', 'ethnicity': 'unknown', 'nationality': 'Germany', 'name': 'Carl Runge'}, {'gender': 'male', 'ethnicity': 'unknown', 'nationality': 'German Reich', 'name': 'Wilhelm Kutta'}]\n",
      " accuracy: 0.7023809523809523\n",
      "torch.Size([1, 4]) torch.Size([1, 27])\n",
      "torch.Size([1, 4]) torch.Size([1, 4])\n",
      "question: Who discovered a set of three basic statements that govern the secondary nature of proteins, in particular, the CO-NH peptide link., \n",
      " context: Corey-Pauling_rules, \n",
      " model answer: no answer, \n",
      " ground truth: [{'gender': 'male', 'ethnicity': 'unknown', 'nationality': 'United States of America', 'name': 'Linus Pauling'}, {'gender': 'male', 'ethnicity': 'unknown', 'nationality': 'United States of America', 'name': 'Robert Corey'}]\n",
      " accuracy: 0.7023809523809523\n",
      "torch.Size([1, 4]) torch.Size([1, 30])\n"
     ]
    },
    {
     "name": "stderr",
     "output_type": "stream",
     "text": [
      "0it [00:00, ?it/s]\n",
      "0it [00:00, ?it/s]\n"
     ]
    },
    {
     "name": "stdout",
     "output_type": "stream",
     "text": [
      "torch.Size([1, 4]) torch.Size([1, 4])\n",
      "question: Who discovered a method of approximation for the determination of the wave function and the energy of a quantum many-body system in a stationary state.\n",
      ", \n",
      " context: Hartree-Fock_method, \n",
      " model answer: no answer, \n",
      " ground truth: [{'gender': 'unknown', 'ethnicity': 'unknown', 'nationality': 'unknown', 'name': 'Fock operator'}, {'gender': 'unknown', 'ethnicity': 'unknown', 'nationality': 'unknown', 'name': 'Hartree equation'}]\n",
      " accuracy: 0.7023809523809523\n",
      "torch.Size([1, 4]) torch.Size([1, 19])\n",
      "torch.Size([1, 4]) torch.Size([1, 4])\n",
      "question: Who discovered a catalyst used in the synthesis of polymers of 1-alkenes (alpha-olefins)., \n",
      " context: Ziegler-Natta_catalyst, \n",
      " model answer: no answer, \n",
      " ground truth: [{'gender': 'male', 'ethnicity': 'unknown', 'nationality': 'Italy', 'name': 'Giulio Natta'}, {'gender': 'male', 'ethnicity': 'unknown', 'nationality': 'Germany', 'name': 'Karl Ziegler'}]\n",
      " accuracy: 0.7023809523809523\n",
      "torch.Size([1, 4]) torch.Size([1, 31])\n",
      "torch.Size([1, 4]) torch.Size([1, 4])\n",
      "question: Who discovered a method of analysis applied to problems of wave propagation both in the far-field limit and in near-field diffraction and also reflection.  , \n",
      " context: Huygens-Fresnel_principle, \n",
      " model answer: no answer, \n",
      " ground truth: [{'gender': 'unknown', 'ethnicity': 'unknown', 'nationality': 'unknown', 'name': 'Augustin-Jean Fresnel'}, {'gender': 'male', 'ethnicity': 'unknown', 'nationality': 'Dutch Republic', 'name': 'Christiaan Huygens'}]\n",
      " accuracy: 0.7023809523809523\n"
     ]
    },
    {
     "name": "stderr",
     "output_type": "stream",
     "text": [
      "0it [00:00, ?it/s]\n",
      "0it [00:00, ?it/s]\n",
      "0it [00:00, ?it/s]\n"
     ]
    },
    {
     "name": "stdout",
     "output_type": "stream",
     "text": [
      "torch.Size([1, 4]) torch.Size([1, 29])\n",
      "torch.Size([1, 4]) torch.Size([1, 4])\n",
      "question: Who discovered an organic reaction that forms an ester from a ketone or a lactone from a cyclic ketone, using peroxyacids or peroxides as the oxidant., \n",
      " context: Baeyer-Villiger_oxidation, \n",
      " model answer: no answer, \n",
      " ground truth: [{'gender': 'male', 'ethnicity': 'unknown', 'nationality': 'German Empire', 'name': 'Adolf von Baeyer'}, {'gender': 'male', 'ethnicity': 'unknown', 'nationality': 'Switzerland', 'name': 'Victor Villiger'}]\n",
      " accuracy: 0.7023809523809523\n",
      "torch.Size([1, 4]) torch.Size([1, 26])\n",
      "torch.Size([1, 4]) torch.Size([1, 4])\n",
      "question: Who discovered a general equilibrium mathematical model of international trade, developed by Eli Heckscher and Bertil Ohlin at the Stockholm School of Economics., \n",
      " context: Heckscher-Ohlin_model, \n",
      " model answer: no answer, \n",
      " ground truth: [{'gender': 'male', 'ethnicity': 'unknown', 'nationality': 'Sweden', 'name': 'Bertil Ohlin'}, {'gender': 'male', 'ethnicity': 'unknown', 'nationality': 'Sweden', 'name': 'Eli Heckscher'}]\n",
      " accuracy: 0.7023809523809523\n",
      "torch.Size([1, 4]) torch.Size([1, 30])\n"
     ]
    },
    {
     "name": "stderr",
     "output_type": "stream",
     "text": [
      "0it [00:00, ?it/s]\n",
      "0it [00:00, ?it/s]\n"
     ]
    },
    {
     "name": "stdout",
     "output_type": "stream",
     "text": [
      "torch.Size([1, 4]) torch.Size([1, 4])\n",
      "question: Who discovered a method for orthonormalizing a set of vectors in an inner product space, most commonly the Euclidean space Rn equipped with the standard inner product., \n",
      " context: Gram-Schmidt_process, \n",
      " model answer: no answer, \n",
      " ground truth: [{'gender': 'male', 'ethnicity': 'unknown', 'nationality': 'East Germany', 'name': 'Erhard Schmidt'}, {'gender': 'male', 'ethnicity': 'unknown', 'nationality': 'Denmark', 'name': 'Jorgen Pedersen Gram'}]\n",
      " accuracy: 0.7023809523809523\n",
      "torch.Size([1, 4]) torch.Size([1, 16])\n",
      "torch.Size([1, 4]) torch.Size([1, 4])\n",
      "question: Who discovered introduced by Jerzy Neyman and Egon Pearson in a paper in 1933., \n",
      " context: Neyman-Pearson_lemma, \n",
      " model answer: no answer, \n",
      " ground truth: [{'gender': 'unknown', 'ethnicity': 'unknown', 'nationality': 'unknown', 'name': 'Egon Pearson'}, {'gender': 'male', 'ethnicity': 'unknown', 'nationality': 'Poland', 'name': 'Jerzy Neyman'}]\n",
      " accuracy: 0.7023809523809523\n",
      "torch.Size([1, 63]) torch.Size([1, 14])\n"
     ]
    },
    {
     "name": "stderr",
     "output_type": "stream",
     "text": [
      "0it [00:00, ?it/s]"
     ]
    },
    {
     "name": "stdout",
     "output_type": "stream",
     "text": [
      "torch.Size([1, 63]) torch.Size([1, 63])\n",
      "question: Who discovered an expression for the entropy of a monatomic ideal gas., \n",
      " context: The Sackur-Tetrode equation is an expression for the entropy of a monatomic ideal gas.It is named for Hugo Martin Tetrode (1895-1931) and Otto Sackur (1880-1914), who developed it independently as a solution of Boltzmann's gas statistics and entropy equations, at about the same time in 1912., \n",
      " model answer: ['The', 'Sackur', '-', 'Tetrode', 'equation'], \n",
      " ground truth: [{'gender': 'male', 'ethnicity': 'unknown', 'nationality': 'Kingdom of the Netherlands', 'name': 'Hugo Martin Tetrode'}, {'gender': 'male', 'ethnicity': 'unknown', 'nationality': 'German Empire', 'name': 'Otto Sackur'}]\n",
      " accuracy: 0.7023809523809523\n",
      "torch.Size([1, 197]) torch.Size([1, 49])\n"
     ]
    },
    {
     "name": "stderr",
     "output_type": "stream",
     "text": [
      "\n",
      "0it [00:00, ?it/s]"
     ]
    },
    {
     "name": "stdout",
     "output_type": "stream",
     "text": [
      "torch.Size([1, 197]) torch.Size([1, 197])\n",
      "question: Who discovered a theorem that states that the ordinary least squares (OLS) estimator has the lowest sampling variance within the class of linear unbiased estimators, if the errors in the linear regression model are uncorrelated, have equal variances and expectation value of zero., \n",
      " context: In statistics, the Gauss-Markov theorem (or simply Gauss theorem for some authors) states that the ordinary least squares (OLS) estimator has the lowest sampling variance within the class of linear unbiased estimators, if the errors in the linear regression model are uncorrelated, have equal variances and expectation value of zero. The errors do not need to be normal, nor do they need to be independent and identically distributed (only uncorrelated with mean zero and homoscedastic with finite variance). The requirement that the estimator be unbiased cannot be dropped, since biased estimators exist with lower variance. See, for example, the James-Stein estimator (which also drops linearity), ridge regression, or simply any degenerate estimator. The theorem was named after Carl Friedrich Gauss and Andrey Markov, although Gauss' work significantly predates Markov's. But while Gauss derived the result under the assumption of independence and normality, Markov reduced the assumptions to the form stated above. further generalization to non-spherical errors was given by Alexander Aitken., \n",
      " model answer: ['Gauss', '-', 'Markov', 'theorem'], \n",
      " ground truth: [{'gender': 'unknown', 'ethnicity': 'unknown', 'nationality': 'unknown', 'name': 'Andrey Markov'}, {'gender': 'male', 'ethnicity': 'Germans', 'nationality': 'Confederation of the Rhine', 'name': 'Carl Friedrich Gauss'}]\n",
      " accuracy: 0.7023809523809523\n",
      "torch.Size([1, 4]) torch.Size([1, 27])\n",
      "torch.Size([1, 4]) torch.Size([1, 4])\n",
      "question: Who discovered a useful inequality in many mathematical fields, such as linear algebra, analysis, probability theory, vector algebra and other areas., \n",
      " context: Cauchy-Schwarz_inequality, \n",
      " model answer: no answer, \n",
      " ground truth: [{'gender': 'male', 'ethnicity': 'unknown', 'nationality': 'France', 'name': 'Augustin-Louis Cauchy'}, {'gender': 'male', 'ethnicity': 'unknown', 'nationality': 'Germany', 'name': 'Hermann Schwarz'}]\n",
      " accuracy: 0.7023809523809523\n"
     ]
    },
    {
     "name": "stderr",
     "output_type": "stream",
     "text": [
      "\n",
      "0it [00:00, ?it/s]\n",
      "0it [00:00, ?it/s]\n"
     ]
    },
    {
     "name": "stdout",
     "output_type": "stream",
     "text": [
      "torch.Size([1, 54]) torch.Size([1, 9])\n",
      "torch.Size([1, 54]) torch.Size([1, 54])\n",
      "question: Who discovered a theorem that states:\n",
      ", \n",
      " context: In real analysis the Heine-Borel theorem, named after Eduard Heine and Emile Borel, states: For a subset of Euclidean space Rn, the following two statements are equivalent: is closed and bounded is compact, that is, every open cover of has a finite subcover., \n",
      " model answer: no answer, \n",
      " ground truth: [{'gender': 'unknown', 'ethnicity': 'unknown', 'nationality': 'unknown', 'name': 'Eduard Heine'}, {'gender': 'male', 'ethnicity': 'unknown', 'nationality': 'France', 'name': 'Emile Borel'}]\n",
      " accuracy: 0.7023809523809523\n",
      "torch.Size([1, 4]) torch.Size([1, 16])\n",
      "torch.Size([1, 4]) torch.Size([1, 4])\n",
      "question: Who discovered a greedy algorithm that computes the maximum flow in a flow network., \n",
      " context: Ford-Fulkerson_algorithm, \n",
      " model answer: no answer, \n",
      " ground truth: [{'gender': 'male', 'ethnicity': 'unknown', 'nationality': 'United States of America', 'name': 'D. R. Fulkerson'}, {'gender': 'male', 'ethnicity': 'unknown', 'nationality': 'United States of America', 'name': 'L. R. Ford Jr.'}]\n",
      " accuracy: 0.7023809523809523\n"
     ]
    },
    {
     "name": "stderr",
     "output_type": "stream",
     "text": [
      "0it [00:00, ?it/s]\n"
     ]
    },
    {
     "name": "stdout",
     "output_type": "stream",
     "text": [
      "torch.Size([1, 132]) torch.Size([1, 16])\n"
     ]
    },
    {
     "name": "stderr",
     "output_type": "stream",
     "text": [
      "0it [00:00, ?it/s]"
     ]
    },
    {
     "name": "stdout",
     "output_type": "stream",
     "text": [
      "torch.Size([1, 132]) torch.Size([1, 132])\n",
      "question: Who discovered an equation describing the magnetic field generated by a constant electric current., \n",
      " context: In physics, specifically electromagnetism, the Biot-Savart law or is an equation describing the magnetic field generated by a constant electric current. It relates the magnetic field to the magnitude, direction, length, and proximity of the electric current. The Biot-Savart law is fundamental to magnetostatics, playing a role similar to that of Coulomb's law in electrostatics. When magnetostatics does not apply, the Biot-Savart law should be replaced by Jefimenko's equations. The law is valid in the magnetostatic approximation, and consistent with both Ampere's circuital law and Gauss's law for magnetism. It is named after Jean-Baptiste Biot and Felix Savart, who discovered this relationship in 1820., \n",
      " model answer: ['electromagnetism', ',', 'the', 'Biot', '-', 'Savart', 'law'], \n",
      " ground truth: [{'gender': 'male', 'ethnicity': 'unknown', 'nationality': 'France', 'name': 'Felix Savart'}, {'gender': 'unknown', 'ethnicity': 'unknown', 'nationality': 'unknown', 'name': 'Jean-Baptiste Biot'}]\n",
      " accuracy: 0.7023809523809523\n",
      "torch.Size([1, 4]) torch.Size([1, 33])\n",
      "torch.Size([1, 4]) torch.Size([1, 4])\n",
      "question: Who discovered a property of the cosmic microwave background radiation (CMB), in which photons from the CMB are gravitationally redshifted, causing the CMB spectrum to appear uneven., \n",
      " context: Sachs-Wolfe_effect, \n",
      " model answer: no answer, \n",
      " ground truth: [{'gender': 'unknown', 'ethnicity': 'unknown', 'nationality': 'unknown', 'name': 'Arthur M. Wolfe'}, {'gender': 'unknown', 'ethnicity': 'unknown', 'nationality': 'unknown', 'name': 'Rainer K. Sachs'}]\n",
      " accuracy: 0.7023809523809523\n"
     ]
    },
    {
     "name": "stderr",
     "output_type": "stream",
     "text": [
      "\n",
      "0it [00:00, ?it/s]\n"
     ]
    },
    {
     "name": "stdout",
     "output_type": "stream",
     "text": [
      "torch.Size([1, 398]) torch.Size([1, 21])\n"
     ]
    },
    {
     "name": "stderr",
     "output_type": "stream",
     "text": [
      "0it [00:00, ?it/s]"
     ]
    },
    {
     "name": "stdout",
     "output_type": "stream",
     "text": [
      "torch.Size([1, 398]) torch.Size([1, 398])\n",
      "question: Who discovered a genetic disorder that results in the destruction of nerve cells in the brain and spinal cord., \n",
      " context: Tay-Sachs disease is a genetic disorder that results in the destruction of nerve cells in the brain and spinal cord. The most common form is infantile Tay-Sachs disease which becomes apparent around three to six months of age, with the baby losing the ability to turn over, sit, or crawl. This is then followed by seizures, hearing loss, and inability to move, with death usually occurring by the age of three to five. Less commonly, the disease may occur in later childhood or adulthood (juvenile or late-onset). These forms tend to be less severe, but the juvenile form typically results in death by age 15.Tay-Sachs disease is caused by a genetic mutation in the HEXA gene on chromosome 15, which codes for a subunit of the hexosaminidase enzyme known as hexosaminidase A. It is inherited from a person's parents in an autosomal recessive manner. The mutation disrupts the activity of the enzyme, which results in the buildup of the molecule GM2 ganglioside within cells, leading to toxicity. Diagnosis may be supported by measuring the blood hexosaminidase level or genetic testing. Tay-Sachs disease is a type of GM2 gangliosidosis and sphingolipidosis.The treatment of Tay-Sachs disease is supportive in nature. This may involve multiple specialities as well as psychosocial support for the family. The disease is rare in the general population. In Ashkenazi Jews, French Canadians of southeastern Quebec, the Old Order Amish of Pennsylvania, and the Cajuns of southern Louisiana, the condition is more common. Approximately in 3,600 Ashkenazi Jews at birth are affected.The disease is named after British ophthalmologist Waren Tay, who in 1881 first described a symptomatic red spot on the retina of the eye; and American neurologist Bernard Sachs, who described in 1887 the cellular changes and noted an increased rate of disease in Ashkenazi Jews. Carriers of a single Tay-Sachs allele are typically normal. It has been hypothesized that being a carrier may confer protection from tuberculosis, explaining the persistence of the allele in certain populations. Researchers are looking at gene therapy or enzyme replacement therapy as possible treatments., \n",
      " model answer: ['Tay', '-', 'Sachs', 'disease'], \n",
      " ground truth: [{'gender': 'male', 'ethnicity': 'unknown', 'nationality': 'United States of America', 'name': 'Bernard Sachs'}, {'gender': 'male', 'ethnicity': 'unknown', 'nationality': 'United Kingdom', 'name': 'Waren Tay'}]\n",
      " accuracy: 0.7023809523809523\n",
      "torch.Size([1, 4]) torch.Size([1, 12])\n",
      "torch.Size([1, 4]) torch.Size([1, 4])\n",
      "question: Who discovered the best known mathematical approximation in molecular dynamics., \n",
      " context: Born-Oppenheimer_approximation, \n",
      " model answer: no answer, \n",
      " ground truth: [{'gender': 'male', 'ethnicity': 'Jewish people', 'nationality': 'United States of America', 'name': 'J. Robert Oppenheimer'}, {'gender': 'male', 'ethnicity': 'Jewish people', 'nationality': 'German Reich', 'name': 'Max Born'}]\n",
      " accuracy: 0.7023809523809523\n"
     ]
    },
    {
     "name": "stderr",
     "output_type": "stream",
     "text": [
      "\n",
      "0it [00:00, ?it/s]\n",
      "0it [00:00, ?it/s]\n",
      "0it [00:00, ?it/s]\n"
     ]
    },
    {
     "name": "stdout",
     "output_type": "stream",
     "text": [
      "torch.Size([1, 4]) torch.Size([1, 32])\n",
      "torch.Size([1, 4]) torch.Size([1, 4])\n",
      "question: Who discovered a physical law that gives the pressure drop in an incompressible and Newtonian fluid in laminar flow flowing through a long cylindrical pipe of constant cross section. \n",
      ", \n",
      " context: Hagen-Poiseuille_equation, \n",
      " model answer: no answer, \n",
      " ground truth: [{'gender': 'male', 'ethnicity': 'unknown', 'nationality': 'Germany', 'name': 'Gotthilf Heinrich Ludwig Hagen'}, {'gender': 'male', 'ethnicity': 'unknown', 'nationality': 'France', 'name': 'Jean Leonard Marie Poiseuille'}]\n",
      " accuracy: 0.7023809523809523\n",
      "torch.Size([1, 4]) torch.Size([1, 27])\n",
      "torch.Size([1, 4]) torch.Size([1, 4])\n",
      "question: Who discovered an experiment by Matthew Meselson and Franklin Stahl in 1958 which supported Watson and Crick's  hypothesis that DNA replication was semiconservative., \n",
      " context: Meselson-Stahl_experiment, \n",
      " model answer: no answer, \n",
      " ground truth: [{'gender': 'male', 'ethnicity': 'unknown', 'nationality': 'United States of America', 'name': 'Franklin Stahl'}, {'gender': 'male', 'ethnicity': 'unknown', 'nationality': 'United States of America', 'name': 'Matthew Meselson'}]\n",
      " accuracy: 0.7023809523809523\n",
      "torch.Size([1, 4]) torch.Size([1, 31])\n",
      "torch.Size([1, 4]) torch.Size([1, 4])\n"
     ]
    },
    {
     "name": "stderr",
     "output_type": "stream",
     "text": [
      "0it [00:00, ?it/s]\n"
     ]
    },
    {
     "name": "stdout",
     "output_type": "stream",
     "text": [
      "question: Who discovered a theorem that states that allele and genotype frequencies in a population will remain constant from generation to generation in the absence of other evolutionary influences.  , \n",
      " context: Hardy-Weinberg_principle, \n",
      " model answer: no answer, \n",
      " ground truth: [{'gender': 'male', 'ethnicity': 'unknown', 'nationality': 'United Kingdom', 'name': 'G. H. Hardy'}, {'gender': 'male', 'ethnicity': 'unknown', 'nationality': 'German Empire', 'name': 'Wilhelm Weinberg'}]\n",
      " accuracy: 0.7023809523809523\n",
      "torch.Size([1, 239]) torch.Size([1, 28])\n"
     ]
    },
    {
     "name": "stderr",
     "output_type": "stream",
     "text": [
      "0it [00:00, ?it/s]"
     ]
    },
    {
     "name": "stdout",
     "output_type": "stream",
     "text": [
      "torch.Size([1, 239]) torch.Size([1, 239])\n",
      "question: Who discovered an alternative formulation of classical mechanics, equivalent to other formulations such as Newton's laws of motion, Lagrangian mechanics and Hamiltonian mechanics., \n",
      " context: In physics, the Hamilton-Jacobi equation, named after William Rowan Hamilton and Carl Gustav Jacob Jacobi, is an alternative formulation of classical mechanics, equivalent to other formulations such as Newton's laws of motion, Lagrangian mechanics and Hamiltonian mechanics. The Hamilton-Jacobi equation is particularly useful in identifying conserved quantities for mechanical systems, which may be possible even when the mechanical problem itself cannot be solved completely. The Hamilton-Jacobi equation is also the only formulation of mechanics in which the motion of a particle can be represented as a wave. In this sense, it fulfilled a long-held goal of theoretical physics (dating at least to Johann Bernoulli in the eighteenth century) of finding an analogy between the propagation of light and the motion of a particle. The wave equation followed by mechanical systems is similar to, but not identical with, Schrodinger's equation, as described below; for this reason, the Hamilton-Jacobi equation is considered the \"closest approach\" of classical mechanics to quantum mechanics.In mathematics, the Hamilton-Jacobi equation is a necessary condition describing extremal geometry in generalizations of problems from the calculus of variations. It can be understood as a special case of the Hamilton-Jacobi-Bellman equation from dynamic programming., \n",
      " model answer: ['William', 'Rowan', 'Hamilton', 'and', 'Carl', 'Gustav', 'Jacob', 'Jacobi'], \n",
      " ground truth: [{'gender': 'male', 'ethnicity': 'unknown', 'nationality': 'Prussia', 'name': 'Carl Gustav Jacob Jacobi'}, {'gender': 'male', 'ethnicity': 'Irish people', 'nationality': 'United Kingdom of Great Britain and Ireland', 'name': 'William Rowan Hamilton'}]\n",
      " accuracy: 0.7023809523809523\n",
      "torch.Size([1, 4]) torch.Size([1, 28])\n",
      "torch.Size([1, 4]) torch.Size([1, 4])\n",
      "question: Who discovered a theorem in the field of signal processing which serves as a fundamental bridge between continuous-time signals and discrete-time signals., \n",
      " context: Nyquist-Shannon_sampling_theorem, \n",
      " model answer: no answer, \n",
      " ground truth: [{'gender': 'male', 'ethnicity': 'unknown', 'nationality': 'England', 'name': 'Claude Shannon'}, {'gender': 'male', 'ethnicity': 'Swedish American', 'nationality': 'United States of America', 'name': 'Harry Nyquist'}]\n",
      " accuracy: 0.7023809523809523\n"
     ]
    },
    {
     "name": "stderr",
     "output_type": "stream",
     "text": [
      "\n",
      "0it [00:00, ?it/s]\n",
      "0it [00:00, ?it/s]\n",
      "0it [00:00, ?it/s]\n"
     ]
    },
    {
     "name": "stdout",
     "output_type": "stream",
     "text": [
      "torch.Size([1, 4]) torch.Size([1, 27])\n",
      "torch.Size([1, 4]) torch.Size([1, 4])\n",
      "question: Who discovered a series of experiments conducted in 1952 by Alfred Hershey and Martha Chase that helped to confirm that DNA is genetic material.  , \n",
      " context: Hershey-Chase_experiment, \n",
      " model answer: no answer, \n",
      " ground truth: [{'gender': 'male', 'ethnicity': 'unknown', 'nationality': 'United States of America', 'name': 'Alfred Hershey'}, {'gender': 'female', 'ethnicity': 'unknown', 'nationality': 'United States of America', 'name': 'Martha Chase'}]\n",
      " accuracy: 0.7023809523809523\n",
      "torch.Size([1, 6]) torch.Size([1, 19])\n",
      "torch.Size([1, 6]) torch.Size([1, 6])\n",
      "question: Who discovered a result in dynamical systems about the persistence of quasiperiodic motions under small perturbations.  , \n",
      " context: Kolmogorov-Arnold-Moser_theorem, \n",
      " model answer: no answer, \n",
      " ground truth: [{'gender': 'male', 'ethnicity': 'Russians', 'nationality': 'Russian Empire', 'name': 'Andrey Kolmogorov'}, {'gender': 'male', 'ethnicity': 'unknown', 'nationality': 'Soviet Union', 'name': 'Vladimir Arnold'}]\n",
      " accuracy: 0.7023809523809523\n",
      "torch.Size([1, 4]) torch.Size([1, 27])\n"
     ]
    },
    {
     "name": "stderr",
     "output_type": "stream",
     "text": [
      "0it [00:00, ?it/s]\n"
     ]
    },
    {
     "name": "stdout",
     "output_type": "stream",
     "text": [
      "torch.Size([1, 4]) torch.Size([1, 4])\n",
      "question: Who discovered a theorem that gives the differential cross section of photons scattered from a single free electron in lowest order of quantum electrodynamics.  , \n",
      " context: Klein-Nishina_formula, \n",
      " model answer: no answer, \n",
      " ground truth: [{'gender': 'male', 'ethnicity': 'unknown', 'nationality': 'Sweden', 'name': 'Oskar Klein'}, {'gender': 'male', 'ethnicity': 'unknown', 'nationality': 'Japan', 'name': 'Yoshio Nishina'}]\n",
      " accuracy: 0.7023809523809523\n",
      "torch.Size([1, 219]) torch.Size([1, 23])\n"
     ]
    },
    {
     "name": "stderr",
     "output_type": "stream",
     "text": [
      "0it [00:00, ?it/s]\n",
      "0it [00:00, ?it/s]"
     ]
    },
    {
     "name": "stdout",
     "output_type": "stream",
     "text": [
      "torch.Size([1, 219]) torch.Size([1, 219])\n",
      "question: Who discovered a second-order partial differential equation whose solutions are the functions for which a given functional is stationary., \n",
      " context: In the calculus of variations, the Euler equation is a second-order partial differential equation whose solutions are the functions for which a given functional is stationary. It was developed by Swiss mathematician Leonhard Euler and Italian mathematician Joseph-Louis Lagrange in the 1750s. Because a differentiable functional is stationary at its local extrema, the Euler-Lagrange equation is useful for solving optimization problems in which, given some functional, one seeks the function minimizing or maximizing it. This is analogous to Fermat's theorem in calculus, stating that at any point where a differentiable function attains a local extremum its derivative is zero. In Lagrangian mechanics, according to Hamilton's principle of stationary action, the evolution of a physical system is described by the solutions to the Euler equation for the action of the system. In this context Euler equations are usually called Lagrange equations. In classical mechanics, it is equivalent to Newton's laws of motion, but it has the advantage that it takes the same form in any system of generalized coordinates, and it is better suited to generalizations. In classical field theory there is an analogous equation to calculate the dynamics of a field., \n",
      " model answer: ['Euler', 'equation'], \n",
      " ground truth: [{'gender': 'male', 'ethnicity': 'unknown', 'nationality': 'Kingdom of Sardinia', 'name': 'Joseph-Louis Lagrange'}, {'gender': 'male', 'ethnicity': 'unknown', 'nationality': 'Old Swiss Confederacy', 'name': 'Leonhard Euler'}]\n",
      " accuracy: 0.7023809523809523\n",
      "torch.Size([1, 4]) torch.Size([1, 26])\n",
      "torch.Size([1, 4]) torch.Size([1, 4])\n",
      "question: Who discovered an algorithm for generating a random permutation of a finite sequence--in plain terms, the algorithm shuffles the sequence.  , \n",
      " context: Fisher-Yates_shuffle, \n",
      " model answer: no answer, \n",
      " ground truth: [{'gender': 'male', 'ethnicity': 'unknown', 'nationality': 'United Kingdom', 'name': 'Frank Yates'}, {'gender': 'male', 'ethnicity': 'unknown', 'nationality': 'United Kingdom', 'name': 'Ronald Fisher'}]\n",
      " accuracy: 0.7023809523809523\n"
     ]
    },
    {
     "name": "stderr",
     "output_type": "stream",
     "text": [
      "\n",
      "0it [00:00, ?it/s]\n",
      "0it [00:00, ?it/s]\n"
     ]
    },
    {
     "name": "stdout",
     "output_type": "stream",
     "text": [
      "torch.Size([1, 4]) torch.Size([1, 30])\n",
      "torch.Size([1, 4]) torch.Size([1, 4])\n",
      "question: Who discovered an attempt to detect the existence of the luminiferous aether, a supposed medium permeating space that was thought to be the carrier of light waves., \n",
      " context: Michelson-Morley_experiment, \n",
      " model answer: no answer, \n",
      " ground truth: [{'gender': 'unknown', 'ethnicity': 'unknown', 'nationality': 'unknown', 'name': 'Albert A. Michelson'}, {'gender': 'unknown', 'ethnicity': 'unknown', 'nationality': 'unknown', 'name': 'Edward W. Morley'}]\n",
      " accuracy: 0.7023809523809523\n",
      "torch.Size([1, 4]) torch.Size([1, 30])\n",
      "torch.Size([1, 4]) torch.Size([1, 4])\n",
      "question: Who discovered an attempt to detect the existence of the luminiferous aether, a supposed medium permeating space that was thought to be the carrier of light waves., \n",
      " context: Michelson-Morley_experiment, \n",
      " model answer: no answer, \n",
      " ground truth: [{'gender': 'unknown', 'ethnicity': 'unknown', 'nationality': 'unknown', 'name': 'Albert A. Michelson'}, {'gender': 'unknown', 'ethnicity': 'unknown', 'nationality': 'unknown', 'name': 'Edward W. Morley'}]\n",
      " accuracy: 0.7023809523809523\n",
      "torch.Size([1, 4]) torch.Size([1, 12])\n",
      "torch.Size([1, 4]) torch.Size([1, 4])\n"
     ]
    },
    {
     "name": "stderr",
     "output_type": "stream",
     "text": [
      "0it [00:00, ?it/s]\n",
      "0it [00:00, ?it/s]\n"
     ]
    },
    {
     "name": "stdout",
     "output_type": "stream",
     "text": [
      "question: Who discovered a theorem of representation theory and quantum mechanics., \n",
      " context: Wigner-Eckart_theorem, \n",
      " model answer: no answer, \n",
      " ground truth: [{'gender': 'male', 'ethnicity': 'unknown', 'nationality': 'United States of America', 'name': 'Carl Eckart'}, {'gender': 'male', 'ethnicity': 'Jewish people', 'nationality': 'Austria-Hungary', 'name': 'Eugene Wigner'}]\n",
      " accuracy: 0.7023809523809523\n",
      "torch.Size([1, 4]) torch.Size([1, 33])\n",
      "torch.Size([1, 4]) torch.Size([1, 4])\n",
      "question: Who discovered a set of rules used to rationalize or predict certain aspects of the stereochemistry and activation energy of pericyclic reactions, an important class of reactions in organic chemistry., \n",
      " context: Woodward-Hoffmann_rules, \n",
      " model answer: no answer, \n",
      " ground truth: [{'gender': 'unknown', 'ethnicity': 'unknown', 'nationality': 'unknown', 'name': 'Roald Hoffmann'}, {'gender': 'male', 'ethnicity': 'unknown', 'nationality': 'United States of America', 'name': 'Robert Burns Woodward'}]\n",
      " accuracy: 0.7023809523809523\n",
      "torch.Size([1, 156]) torch.Size([1, 45])\n"
     ]
    },
    {
     "name": "stderr",
     "output_type": "stream",
     "text": [
      "0it [00:00, ?it/s]\n",
      "0it [00:00, ?it/s]"
     ]
    },
    {
     "name": "stdout",
     "output_type": "stream",
     "text": [
      "torch.Size([1, 156]) torch.Size([1, 156])\n",
      "question: Who discovered a state of matter (also called the fifth state of matter) which is typically formed when a gas of bosons at low densities is cooled to temperatures very close to absolute zero (-273.15 degC, -459.67 degF)., \n",
      " context: In condensed matter physics, a Bose-Einstein condensate (BEC) is a state of matter (also called the fifth state of matter) which is typically formed when a gas of bosons at low densities is cooled to temperatures very close to absolute zero (-273.15 degC, -459.67 degF). Under such conditions, a large fraction of bosons occupy the lowest quantum state, at which point microscopic quantum mechanical phenomena, particularly wavefunction interference, become apparent macroscopically. BEC is formed by cooling a gas of extremely low density (about one-hundred-thousandth (1/100,000) the density of normal air) to ultra-low temperatures. This state was first predicted, generally, in 1924-1925 by Albert Einstein following and crediting a pioneering paper by Satyendra Nath Bose on the new field now known as quantum statistics., \n",
      " model answer: no answer, \n",
      " ground truth: [{'gender': 'male', 'ethnicity': 'Jewish people', 'nationality': 'German Empire', 'name': 'Albert Einstein'}, {'gender': 'male', 'ethnicity': 'unknown', 'nationality': 'British India', 'name': 'Satyendra Nath Bose'}]\n",
      " accuracy: 0.7023809523809523\n",
      "torch.Size([1, 4]) torch.Size([1, 26])\n",
      "torch.Size([1, 4]) torch.Size([1, 4])\n",
      "question: Who discovered a graphical representation of the Lineweaver-Burk equation of enzyme kinetics, described by Hans Lineweaver and Dean Burk in 1934., \n",
      " context: Lineweaver-Burk_plot, \n",
      " model answer: no answer, \n",
      " ground truth: [{'gender': 'male', 'ethnicity': 'unknown', 'nationality': 'unknown', 'name': 'Dean Burk'}, {'gender': 'male', 'ethnicity': 'unknown', 'nationality': 'unknown', 'name': 'Hans Lineweaver'}]\n",
      " accuracy: 0.7023809523809523\n",
      "torch.Size([1, 4]) torch.Size([1, 13])\n"
     ]
    },
    {
     "name": "stderr",
     "output_type": "stream",
     "text": [
      "\n",
      "0it [00:00, ?it/s]\n",
      "0it [00:00, ?it/s]\n"
     ]
    },
    {
     "name": "stdout",
     "output_type": "stream",
     "text": [
      "torch.Size([1, 4]) torch.Size([1, 4])\n",
      "question: Who discovered one of the most fundamental relationships in electrochemical kinetics., \n",
      " context: Butler-Volmer_equation, \n",
      " model answer: no answer, \n",
      " ground truth: [{'gender': 'male', 'ethnicity': 'unknown', 'nationality': 'United Kingdom', 'name': 'John Alfred Valentine Butler'}, {'gender': 'male', 'ethnicity': 'unknown', 'nationality': 'East Germany', 'name': 'Max Volmer'}]\n",
      " accuracy: 0.7023809523809523\n",
      "torch.Size([1, 4]) torch.Size([1, 13])\n",
      "torch.Size([1, 4]) torch.Size([1, 4])\n",
      "question: Who discovered one of the most fundamental relationships in electrochemical kinetics., \n",
      " context: Butler-Volmer_equation, \n",
      " model answer: no answer, \n",
      " ground truth: [{'gender': 'male', 'ethnicity': 'unknown', 'nationality': 'United Kingdom', 'name': 'John Alfred Valentine Butler'}, {'gender': 'male', 'ethnicity': 'unknown', 'nationality': 'East Germany', 'name': 'Max Volmer'}]\n",
      " accuracy: 0.7023809523809523\n",
      "torch.Size([1, 4]) torch.Size([1, 38])\n",
      "torch.Size([1, 4]) torch.Size([1, 4])\n",
      "question: Who discovered a partial differential equation that describes the time evolution of the probability density function of the velocity of a particle under the influence of drag forces and random forces, as in Brownian motion., \n",
      " context: Fokker-Planck_equation, \n",
      " model answer: no answer, \n",
      " ground truth: [{'gender': 'male', 'ethnicity': 'unknown', 'nationality': 'Kingdom of the Netherlands', 'name': 'Adriaan Fokker'}, {'gender': 'male', 'ethnicity': 'Germans', 'nationality': 'German Empire', 'name': 'Max Planck'}]\n",
      " accuracy: 0.7023809523809523\n"
     ]
    },
    {
     "name": "stderr",
     "output_type": "stream",
     "text": [
      "0it [00:00, ?it/s]\n",
      "0it [00:00, ?it/s]\n",
      "0it [00:00, ?it/s]\n"
     ]
    },
    {
     "name": "stdout",
     "output_type": "stream",
     "text": [
      "torch.Size([1, 4]) torch.Size([1, 27])\n",
      "torch.Size([1, 4]) torch.Size([1, 4])\n",
      "question: Who discovered a chemical reaction between a conjugated diene and a substituted alkene, commonly termed the dienophile, to form a substituted cyclohexene derivative., \n",
      " context: Diels-Alder_reaction, \n",
      " model answer: no answer, \n",
      " ground truth: [{'gender': 'male', 'ethnicity': 'unknown', 'nationality': 'Germany', 'name': 'Kurt Alder'}, {'gender': 'male', 'ethnicity': 'unknown', 'nationality': 'Germany', 'name': 'Otto Diels'}]\n",
      " accuracy: 0.7023809523809523\n",
      "torch.Size([1, 4]) torch.Size([1, 14])\n",
      "torch.Size([1, 4]) torch.Size([1, 4])\n",
      "question: Who discovered one of the best-known models of enzyme kinetics., \n",
      " context: Michaelis-Menten_kinetics, \n",
      " model answer: no answer, \n",
      " ground truth: [{'gender': 'male', 'ethnicity': 'unknown', 'nationality': 'Germany', 'name': 'Leonor Michaelis'}, {'gender': 'female', 'ethnicity': 'unknown', 'nationality': 'Canada', 'name': 'Maud Menten'}]\n",
      " accuracy: 0.7023809523809523\n",
      "torch.Size([1, 4]) torch.Size([1, 17])\n",
      "torch.Size([1, 4]) torch.Size([1, 4])\n"
     ]
    },
    {
     "name": "stderr",
     "output_type": "stream",
     "text": [
      "0it [00:00, ?it/s]\n",
      "0it [00:00, ?it/s]\n"
     ]
    },
    {
     "name": "stdout",
     "output_type": "stream",
     "text": [
      "question: Who discovered a theorem that states that every finite group of odd order is solvable., \n",
      " context: Feit-Thompson_theorem, \n",
      " model answer: no answer, \n",
      " ground truth: [{'gender': 'male', 'ethnicity': 'unknown', 'nationality': 'United States of America', 'name': 'John Griggs Thompson'}, {'gender': 'male', 'ethnicity': 'unknown', 'nationality': 'United States of America', 'name': 'Walter Feit'}]\n",
      " accuracy: 0.7023809523809523\n",
      "torch.Size([1, 4]) torch.Size([1, 36])\n",
      "torch.Size([1, 4]) torch.Size([1, 4])\n",
      "question: Who discovered the chemical reaction of a substituted amide (1) with phosphorus oxychloride and an electron-rich arene (3) to produce an aryl aldehyde or ketone (5)., \n",
      " context: Vilsmeier-Haack_reaction, \n",
      " model answer: no answer, \n",
      " ground truth: [{'gender': 'unknown', 'ethnicity': 'unknown', 'nationality': 'unknown', 'name': 'Albrecht Haack'}, {'gender': 'male', 'ethnicity': 'unknown', 'nationality': 'Germany', 'name': 'Anton Vilsmeier'}]\n",
      " accuracy: 0.7023809523809523\n",
      "torch.Size([1, 4]) torch.Size([1, 34])\n",
      "torch.Size([1, 4]) torch.Size([1, 4])\n",
      "question: Who discovered a landmark series of experiments by which scientists learned  that every atom has a nucleus where all of its positive charge and most of its mass is concentrated.  , \n",
      " context: Geiger-Marsden_experiment, \n",
      " model answer: no answer, \n",
      " ground truth: [{'gender': 'male', 'ethnicity': 'unknown', 'nationality': 'United Kingdom', 'name': 'Ernest Marsden'}, {'gender': 'male', 'ethnicity': 'unknown', 'nationality': 'German Empire', 'name': 'Hans Geiger'}]\n",
      " accuracy: 0.7023809523809523\n"
     ]
    },
    {
     "name": "stderr",
     "output_type": "stream",
     "text": [
      "0it [00:00, ?it/s]\n",
      "0it [00:00, ?it/s]\n",
      "0it [00:00, ?it/s]\n"
     ]
    },
    {
     "name": "stdout",
     "output_type": "stream",
     "text": [
      "torch.Size([1, 4]) torch.Size([1, 26])\n",
      "torch.Size([1, 4]) torch.Size([1, 4])\n",
      "question: Who discovered velocity shear in a single continuous fluid, or additionally where there is a velocity difference across the interface between two fluids., \n",
      " context: Kelvin-Helmholtz_instability, \n",
      " model answer: no answer, \n",
      " ground truth: [{'gender': 'male', 'ethnicity': 'unknown', 'nationality': 'German Confederation', 'name': 'Hermann von Helmholtz'}, {'gender': 'male', 'ethnicity': 'unknown', 'nationality': 'United Kingdom of Great Britain and Ireland', 'name': 'Lord Kelvin'}]\n",
      " accuracy: 0.7023809523809523\n",
      "torch.Size([1, 4]) torch.Size([1, 24])\n",
      "torch.Size([1, 4]) torch.Size([1, 4])\n",
      "question: Who discovered a set of reactions developed by Charles Friedel and James Crafts in 1877 to attach substituents to an aromatic ring., \n",
      " context: Friedel-Crafts_reaction, \n",
      " model answer: no answer, \n",
      " ground truth: [{'gender': 'male', 'ethnicity': 'unknown', 'nationality': 'France', 'name': 'Charles Friedel'}, {'gender': 'male', 'ethnicity': 'unknown', 'nationality': 'United States of America', 'name': 'James Crafts'}]\n",
      " accuracy: 0.7023809523809523\n",
      "torch.Size([1, 4]) torch.Size([1, 37])\n"
     ]
    },
    {
     "name": "stderr",
     "output_type": "stream",
     "text": [
      "0it [00:00, ?it/s]\n"
     ]
    },
    {
     "name": "stdout",
     "output_type": "stream",
     "text": [
      "torch.Size([1, 4]) torch.Size([1, 4])\n",
      "question: Who discovered a classical unified field theory of gravitation and electromagnetism built around the idea of a fifth dimension beyond the usual four of space and time and considered an important precursor to string theory., \n",
      " context: Kaluza-Klein_theory, \n",
      " model answer: no answer, \n",
      " ground truth: [{'gender': 'male', 'ethnicity': 'unknown', 'nationality': 'Sweden', 'name': 'Oskar Klein'}, {'gender': 'male', 'ethnicity': 'unknown', 'nationality': 'German Empire', 'name': 'Theodor Kaluza'}]\n",
      " accuracy: 0.7023809523809523\n",
      "torch.Size([1, 160]) torch.Size([1, 27])\n"
     ]
    },
    {
     "name": "stderr",
     "output_type": "stream",
     "text": [
      "0it [00:00, ?it/s]"
     ]
    },
    {
     "name": "stdout",
     "output_type": "stream",
     "text": [
      "torch.Size([1, 160]) torch.Size([1, 160])\n",
      "question: Who discovered a dimensionless form of Poisson's equation for the gravitational potential of a Newtonian self-gravitating, spherically symmetric, polytropic fluid., \n",
      " context: In astrophysics, the Lane-Emden equation is a dimensionless form of Poisson's equation for the gravitational potential of a Newtonian self-gravitating, spherically symmetric, polytropic fluid. It is named after astrophysicists Jonathan Homer Lane and Robert Emden. The equation reads where \\xi is a dimensionless radius and \\theta is related to the density, and thus the pressure, by \\rho for central density \\rho The index is the polytropic index that appears in the polytropic equation of state, where and \\rho are the pressure and density, respectively, and is a constant of proportionality. The standard boundary conditions are \\theta and \\theta Solutions thus describe the run of pressure and density with radius and are known as polytropes of index If an isothermal fluid (polytropic index tends to infinity) is used instead of a polytropic fluid, one obtains the Emden-Chandrasekhar equation., \n",
      " model answer: ['Jonathan', 'Homer', 'Lane', 'and', 'Robert', 'Emden'], \n",
      " ground truth: [{'gender': 'male', 'ethnicity': 'unknown', 'nationality': 'United States of America', 'name': 'Jonathan Homer Lane'}, {'gender': 'male', 'ethnicity': 'unknown', 'nationality': 'Switzerland', 'name': 'Robert Emden'}]\n",
      " accuracy: 0.7023809523809523\n",
      "torch.Size([1, 159]) torch.Size([1, 20])\n"
     ]
    },
    {
     "name": "stderr",
     "output_type": "stream",
     "text": [
      "\n",
      "0it [00:00, ?it/s]"
     ]
    },
    {
     "name": "stdout",
     "output_type": "stream",
     "text": [
      "torch.Size([1, 159]) torch.Size([1, 159])\n",
      "question: Who discovered an empirical, algebraic equation that relates temperature, pressure, and volume of gases.  , \n",
      " context: In physics and thermodynamics, the Redlich-Kwong equation of state is an empirical, algebraic equation that relates temperature, pressure, and volume of gases. It is generally more accurate than the van der Waals equation and the ideal gas equation at temperatures above the critical temperature. It was formulated by Otto Redlich and Joseph Neng Shun Kwong in 1949. It showed that a two-parameter, cubic equation of state could well reflect reality in many situations, standing alongside the much more complicated Beattie-Bridgeman model and Benedict-Webb-Rubin equation that were used at the time. The Redlich-Kwong equation has undergone many revisions and modifications, in order to either improve its accuracy in terms of predicting gas-phase properties of more compounds, as well as in better simulating conditions at lower temperatures, including vapor-liquid equilibria., \n",
      " model answer: ['Redlich', '-', 'Kwong', 'equation', 'of', 'state'], \n",
      " ground truth: [{'gender': 'male', 'ethnicity': 'unknown', 'nationality': 'unknown', 'name': 'Joseph Neng Shun Kwong'}, {'gender': 'male', 'ethnicity': 'unknown', 'nationality': 'Austria', 'name': 'Otto Redlich'}]\n",
      " accuracy: 0.7023809523809523\n",
      "torch.Size([1, 159]) torch.Size([1, 20])\n"
     ]
    },
    {
     "name": "stderr",
     "output_type": "stream",
     "text": [
      "\n",
      "0it [00:00, ?it/s]"
     ]
    },
    {
     "name": "stdout",
     "output_type": "stream",
     "text": [
      "torch.Size([1, 159]) torch.Size([1, 159])\n",
      "question: Who discovered an empirical, algebraic equation that relates temperature, pressure, and volume of gases.  , \n",
      " context: In physics and thermodynamics, the Redlich-Kwong equation of state is an empirical, algebraic equation that relates temperature, pressure, and volume of gases. It is generally more accurate than the van der Waals equation and the ideal gas equation at temperatures above the critical temperature. It was formulated by Otto Redlich and Joseph Neng Shun Kwong in 1949. It showed that a two-parameter, cubic equation of state could well reflect reality in many situations, standing alongside the much more complicated Beattie-Bridgeman model and Benedict-Webb-Rubin equation that were used at the time. The Redlich-Kwong equation has undergone many revisions and modifications, in order to either improve its accuracy in terms of predicting gas-phase properties of more compounds, as well as in better simulating conditions at lower temperatures, including vapor-liquid equilibria., \n",
      " model answer: ['Redlich', '-', 'Kwong', 'equation', 'of', 'state'], \n",
      " ground truth: [{'gender': 'male', 'ethnicity': 'unknown', 'nationality': 'unknown', 'name': 'Joseph Neng Shun Kwong'}, {'gender': 'male', 'ethnicity': 'unknown', 'nationality': 'Austria', 'name': 'Otto Redlich'}]\n",
      " accuracy: 0.7023809523809523\n",
      "torch.Size([1, 140]) torch.Size([1, 18])\n"
     ]
    },
    {
     "name": "stderr",
     "output_type": "stream",
     "text": [
      "\n"
     ]
    },
    {
     "name": "stdout",
     "output_type": "stream",
     "text": [
      "torch.Size([1, 140]) torch.Size([1, 140])\n",
      "question: Who discovered a theorem that states that the Boolean satisfiability problem is NP-complete.  , \n",
      " context: In computational complexity theory, the Cook-Levin theorem, also known as Cook's theorem, states that the Boolean satisfiability problem is NP-complete. That is, it is in NP, and any problem in NP can be reduced in polynomial time by a deterministic Turing machine to the Boolean satisfiability problem. The theorem is named after Stephen Cook and Leonid Levin. An important consequence of this theorem is that if there exists a deterministic polynomial time algorithm for solving Boolean satisfiability, then every NP problem can be solved by a deterministic polynomial time algorithm. The question of whether such an algorithm for Boolean satisfiability exists is thus equivalent to the versus NP problem, which is widely considered the most important unsolved problem in theoretical computer science., \n",
      " model answer: no answer, \n",
      " ground truth: [{'gender': 'male', 'ethnicity': 'unknown', 'nationality': 'United States of America', 'name': 'Leonid Levin'}, {'gender': 'male', 'ethnicity': 'unknown', 'nationality': 'United States of America', 'name': 'Stephen Cook'}]\n",
      " accuracy: 0.7023809523809523\n"
     ]
    }
   ],
   "source": [
    "# formally evaluate doubly eponymous\n",
    "import traceback\n",
    "\n",
    "doubly_eponymous_path = '../doubly-eponymous/doubly_eponymous_hard.jsonl'\n",
    "\n",
    "with open(doubly_eponymous_path) as g:\n",
    "    i=0\n",
    "    for line in g:\n",
    "        example = json.loads(line)\n",
    "\n",
    "        try:\n",
    "            model_ans = answer_question(example['context'], example['question'])\n",
    "            ground_truth = example['options']\n",
    "#             print(f\"question: {example['question']}, \\n model answer: {model_ans}, \\n ground truth: {example['options']}\")\n",
    "#             acc, _ = evaluate_doubly_eponymous(model_ans, ground_truth)\n",
    "            print(f\"question: {example['question']}, \\n context: {example['context']}, \\n model answer: {model_ans}, \\n ground truth: {example['options']}\\n accuracy: {acc}\")\n",
    "\n",
    "\n",
    "        except Exception as e:\n",
    "#             print(e.__traceback__)\n",
    "            traceback.print_exc()\n",
    "#             print(traceback.format_exc())\n",
    "        if i>10: break"
   ]
  },
  {
   "cell_type": "code",
   "execution_count": 137,
   "metadata": {},
   "outputs": [
    {
     "ename": "FileNotFoundError",
     "evalue": "[Errno 2] No such file or directory: '../doubly-eponymous/doubly_eponymous_hard.json'",
     "output_type": "error",
     "traceback": [
      "\u001b[0;31m---------------------------------------------------------------------------\u001b[0m",
      "\u001b[0;31mFileNotFoundError\u001b[0m                         Traceback (most recent call last)",
      "\u001b[0;32m<ipython-input-137-4e31512bc2fb>\u001b[0m in \u001b[0;36m<module>\u001b[0;34m\u001b[0m\n\u001b[1;32m      4\u001b[0m \u001b[0mdoubly_eponymous_path\u001b[0m \u001b[0;34m=\u001b[0m \u001b[0;34m'../doubly-eponymous/doubly_eponymous_hard.json'\u001b[0m\u001b[0;34m\u001b[0m\u001b[0;34m\u001b[0m\u001b[0m\n\u001b[1;32m      5\u001b[0m \u001b[0;34m\u001b[0m\u001b[0m\n\u001b[0;32m----> 6\u001b[0;31m \u001b[0;32mwith\u001b[0m \u001b[0mopen\u001b[0m\u001b[0;34m(\u001b[0m\u001b[0mdoubly_eponymous_path\u001b[0m\u001b[0;34m)\u001b[0m \u001b[0;32mas\u001b[0m \u001b[0mg\u001b[0m\u001b[0;34m:\u001b[0m\u001b[0;34m\u001b[0m\u001b[0;34m\u001b[0m\u001b[0m\n\u001b[0m\u001b[1;32m      7\u001b[0m     \u001b[0mde_data\u001b[0m \u001b[0;34m=\u001b[0m \u001b[0mjson\u001b[0m\u001b[0;34m.\u001b[0m\u001b[0mloads\u001b[0m\u001b[0;34m(\u001b[0m\u001b[0mg\u001b[0m\u001b[0;34m.\u001b[0m\u001b[0mreadline\u001b[0m\u001b[0;34m(\u001b[0m\u001b[0;34m)\u001b[0m\u001b[0;34m)\u001b[0m\u001b[0;34m\u001b[0m\u001b[0;34m\u001b[0m\u001b[0m\n\u001b[1;32m      8\u001b[0m     \u001b[0;32mfor\u001b[0m \u001b[0mexample\u001b[0m \u001b[0;32min\u001b[0m \u001b[0mde_data\u001b[0m\u001b[0;34m[\u001b[0m\u001b[0;34m:\u001b[0m\u001b[0;36m10\u001b[0m\u001b[0;34m]\u001b[0m\u001b[0;34m:\u001b[0m\u001b[0;34m\u001b[0m\u001b[0;34m\u001b[0m\u001b[0m\n",
      "\u001b[0;31mFileNotFoundError\u001b[0m: [Errno 2] No such file or directory: '../doubly-eponymous/doubly_eponymous_hard.json'"
     ]
    }
   ],
   "source": [
    "# formally evaluate doubly eponymous\n",
    "import traceback\n",
    "\n",
    "doubly_eponymous_path = '../doubly-eponymous/doubly_eponymous.json'\n",
    "\n",
    "with open(doubly_eponymous_path) as g:\n",
    "    de_data = json.loads(g.readline())\n",
    "    for example in de_data[:10]:\n",
    "        try:\n",
    "            model_ans = answer_question(example['context'], example['question'])\n",
    "            ground_truth = example['options']\n",
    "#             print(f\"question: {example['question']}, \\n model answer: {model_ans}, \\n ground truth: {example['options']}\")\n",
    "#             acc, _ = evaluate_doubly_eponymous(model_ans, ground_truth)\n",
    "            print(f\"question: {example['question']}, \\n context: {example['context']}, \\n model answer: {model_ans}, \\n ground truth: {example['options']}\\n accuracy: {acc}\")\n",
    "\n",
    "\n",
    "        except Exception as e:\n",
    "#             print(e.__traceback__)\n",
    "            traceback.print_exc()\n",
    "#             print(traceback.format_exc())"
   ]
  },
  {
   "cell_type": "code",
   "execution_count": 135,
   "metadata": {},
   "outputs": [
    {
     "name": "stdout",
     "output_type": "stream",
     "text": [
      "Who discovered an equation describing the magnetic field generated by a constant electric current.\n"
     ]
    }
   ],
   "source": [
    "# modify question to be harder\n",
    "# extract first sent, take span after \"is\" or \"states\"\n",
    "\n",
    "import spacy\n",
    "\n",
    "context = \"In physics, specifically electromagnetism, the Biot-Savart law or is an equation describing the magnetic field generated by a constant electric current. It relates the magnetic field to the magnitude, direction, length, and proximity of the electric current. The Biot-Savart law is fundamental to magnetostatics, playing a role similar to that of Coulomb's law in electrostatics. When magnetostatics does not apply, the Biot-Savart law should be replaced by Jefimenko's equations. The law is valid in the magnetostatic approximation, and consistent with both Ampere's circuital law and Gauss's law for magnetism. It is named after Jean-Baptiste Biot and Felix Savart, who discovered this relationship in 1820., \"\n",
    "nlp = spacy.load(\"en_core_web_sm\")\n",
    "\n",
    "def generate_question(context):\n",
    "    doc = nlp(context)\n",
    "    # assert doc.has_annotation(\"SENT_START\")\n",
    "    first_sent = list(doc.sents)[0]\n",
    "    for i,t in enumerate(first_sent):\n",
    "        if t.text == 'is':\n",
    "            span = str(first_sent[i+1:])\n",
    "            question = \"Who discovered \" + span\n",
    "            return question\n",
    "        elif t.text == 'states':\n",
    "            span = str(first_sent[i:])\n",
    "            question = \"Who discovered a theorem that \" + span\n",
    "            return question\n",
    "    "
   ]
  },
  {
   "cell_type": "code",
   "execution_count": 122,
   "metadata": {},
   "outputs": [
    {
     "name": "stderr",
     "output_type": "stream",
     "text": [
      "0it [00:00, ?it/s]\n",
      "0it [00:00, ?it/s]\n",
      "0it [00:00, ?it/s]"
     ]
    },
    {
     "name": "stdout",
     "output_type": "stream",
     "text": [
      "context: In physics, specifically electromagnetism, the Biot-Savart law or is an equation describing the magnetic field generated by a constant electric current. It relates the magnetic field to the magnitude, direction, length, and proximity of the electric current. The Biot-Savart law is fundamental to magnetostatics, playing a role similar to that of Coulomb's law in electrostatics. When magnetostatics does not apply, the Biot-Savart law should be replaced by Jefimenko's equations. The law is valid in the magnetostatic approximation, and consistent with both Ampere's circuital law and Gauss's law for magnetism. It is named after Jean-Baptiste Biot and Felix Savart, who discovered this relationship in 1820., \n",
      " question: Who discovered the Biot-Savart law, \n",
      " model answer: ['Jean', '-', 'Baptiste', 'Biot', 'and', 'Felix', 'Savart'], \n",
      " ground truth: [{'gender': 'male', 'ethnicity': 'unknown', 'nationality': 'France', 'name': 'Jean Baptiste Biot'}, {'gender': 'male', 'ethnicity': 'unknown', 'nationality': 'France', 'name': 'Felix Savart'}]\n",
      "context: In statistical physics, the BBGKY hierarchy (Bogoliubov-Born-Green-Kirkwood-Yvon hierarchy, sometimes called Bogoliubov hierarchy) is a set of equations describing the dynamics of a system of a large number of interacting particles. The equation for an s-particle distribution function (probability density function) in the BBGKY hierarchy includes the (s 1)-particle distribution function, thus forming a coupled chain of equations. This formal theoretic result is named after Nikolay Bogolyubov, Max Born, Herbert S. Green, John Gamble Kirkwood, and Jacques Yvon., \n",
      " question: Who discovered the Bogoliubov-Born-Green-Kirkwood-Yvon hierarchy, \n",
      " model answer: ['John', 'Gamble', 'Kirkwood', ',', 'and', 'Jacques', 'Yvon'], \n",
      " ground truth: [{'gender': 'male', 'ethnicity': 'unknown', 'nationality': 'Russian Empire', 'name': 'Nikolay Bogoliubov'}, {'gender': 'male', 'ethnicity': 'Jewish people', 'nationality': 'German Reich', 'name': 'Max Born'}, {'gender': 'male', 'ethnicity': 'unknown', 'nationality': 'unknown', 'name': 'Herbert Green'}, {'gender': 'male', 'ethnicity': 'unknown', 'nationality': 'unknown', 'name': 'John Kirkwood'}, {'gender': 'unknown', 'ethnicity': 'unknown', 'nationality': 'unknown', 'name': 'J. Yvon'}]\n"
     ]
    },
    {
     "name": "stderr",
     "output_type": "stream",
     "text": [
      "\n",
      "0it [00:00, ?it/s]\n",
      "Traceback (most recent call last):\n",
      "  File \"<ipython-input-122-fa2a5e41e37e>\", line 10, in <module>\n",
      "    model_ans = answer_question(example['context'], example['question'])\n",
      "  File \"<ipython-input-16-27395e01fcdd>\", line 18, in answer_question\n",
      "    context_idxs, ques_idxs = preprocess(context, question, word2idx_dict)\n",
      "  File \"<ipython-input-8-21f0d84691f7>\", line 56, in preprocess\n",
      "    context_idx[i] = _get_word(token)\n",
      "IndexError: index 400 is out of bounds for axis 0 with size 400\n",
      "0it [00:00, ?it/s]"
     ]
    },
    {
     "name": "stdout",
     "output_type": "stream",
     "text": [
      "context: In linear algebra, the Cayley-Hamilton theorem (named after the mathematicians Arthur Cayley and William Rowan Hamilton) states that every square matrix over a commutative ring (such as the real or complex field) satisfies its own characteristic equation. If is a given nxn matrix and In is the nxn identity matrix, then the characteristic polynomial of is defined as det where det is the determinant operation and is a variable for a scalar element of the base ring. Since the entries of the matrix are (linear or constant) polynomials in l, the determinant is also an n-th order monic polynomial in l, One can create an analogous polynomial in the matrix instead of the scalar variable l, defined as The Cayley-Hamilton theorem states that this polynomial results in the zero matrix, which is to say that The theorem allows An to be expressed as a linear combination of the lower matrix powers of A. When the ring is a field, the Cayley-Hamilton theorem is equivalent to the statement that the minimal polynomial of a square matrix divides its characteristic polynomial. The theorem was first proved in 1853 in terms of inverses of linear functions of quaternions, a non-commutative ring, by Hamilton. This corresponds to the special case of certain real or complex matrices. The theorem holds for general quaternionic matrices. Cayley in 1858 stated it for and smaller matrices, but only published a proof for the case. The general case was first proved by Ferdinand Frobenius in 1878., \n",
      " question: Who discovered the Cayley-Hamilton theorem, \n",
      " model answer: ['Arthur', 'Cayley', 'and', 'William', 'Rowan', 'Hamilton'], \n",
      " ground truth: [{'gender': 'male', 'ethnicity': 'unknown', 'nationality': 'United Kingdom of Great Britain and Ireland', 'name': 'Arthur Cayley'}, {'gender': 'unknown', 'ethnicity': 'unknown', 'nationality': 'unknown', 'name': 'William Hamilton'}]\n"
     ]
    },
    {
     "name": "stderr",
     "output_type": "stream",
     "text": [
      "\n",
      "0it [00:00, ?it/s]\n",
      "0it [00:00, ?it/s]"
     ]
    },
    {
     "name": "stdout",
     "output_type": "stream",
     "text": [
      "context: Charles's law (also known as the law of volumes) is an experimental gas law that describes how gases tend to expand when heated. modern statement of Charles's law is: When the pressure on a sample of a dry gas is held constant, the Kelvin temperature and the volume will be in direct proportion. This relationship of direct proportion can be written as: So this means: or where:V is the volume of the gas, is the temperature of the gas (measured in kelvins), and is a non-zero constant. This law describes how a gas expands as the temperature increases; conversely, a decrease in temperature will lead to a decrease in volume. For comparing the same substance under two different sets of conditions, the law can be written as: or or The equation shows that, as absolute temperature increases, the volume of the gas also increases in proportion., \n",
      " question: Who discovered the Law of Charles and Gay-Lussac, \n",
      " model answer: no answer, \n",
      " ground truth: [{'gender': 'male', 'ethnicity': 'unknown', 'nationality': 'France', 'name': 'Jacques Charles'}, {'gender': 'male', 'ethnicity': 'unknown', 'nationality': 'France', 'name': 'Joseph Louis Gay-Lussac'}]\n",
      "context: The Curie-Weiss law describes the magnetic susceptibility of a ferromagnet in the paramagnetic region above the Curie point: \\chi where is a material-specific Curie constant, is the absolute temperature, and TC is the Curie temperature, both measured in kelvin. The law predicts a singularity in the susceptibility at TC. Below this temperature, the ferromagnet has a spontaneous magnetization., \n",
      " question: Who discovered the Curie-Weiss law, \n",
      " model answer: no answer, \n",
      " ground truth: [{'gender': 'male', 'ethnicity': 'unknown', 'nationality': 'France', 'name': 'Pierre Curie'}, {'gender': 'male', 'ethnicity': 'unknown', 'nationality': 'France', 'name': 'Pierre-Ernest Weiss'}]\n"
     ]
    },
    {
     "name": "stderr",
     "output_type": "stream",
     "text": [
      "\n",
      "0it [00:00, ?it/s]\n",
      "0it [00:00, ?it/s]"
     ]
    },
    {
     "name": "stdout",
     "output_type": "stream",
     "text": [
      "context: In incidence geometry, the De Bruijn-Erdos theorem, originally published by Nicolaas Govert de Bruijn and Paul Erdos (1948), states a lower bound on the number of lines determined by points in a projective plane. By duality, this is also a bound on the number of intersection points determined by a configuration of lines. Although the proof given by De Bruijn and Erdos is combinatorial, De Bruijn and Erdos noted in their paper that the analogous (Euclidean) result is a consequence of the Sylvester-Gallai theorem, by an induction on the number of points., \n",
      " question: Who discovered the De Bruijn-Erdos theorem, \n",
      " model answer: ['Nicolaas', 'Govert', 'de', 'Bruijn', 'and', 'Paul', 'Erdos'], \n",
      " ground truth: [{'gender': 'male', 'ethnicity': 'unknown', 'nationality': 'Kingdom of the Netherlands', 'name': 'Nicolaas Govert de Bruijn'}, {'gender': 'male', 'ethnicity': 'Ashkenazi Jews', 'nationality': 'Hungary', 'name': 'Paul Erdos'}]\n",
      "context: The Erdos-Anning theorem states that an infinite number of points in the plane can have mutual integer distances only if all the points lie on a straight line. It is named after Paul Erdos and Norman H. Anning, who published a proof of it in 1945., \n",
      " question: Who discovered the Erdos-Anning theorem, \n",
      " model answer: ['Paul', 'Erdos', 'and', 'Norman', 'H.', 'Anning'], \n",
      " ground truth: [{'gender': 'male', 'ethnicity': 'Ashkenazi Jews', 'nationality': 'Hungary', 'name': 'Paul Erdos'}, {'gender': 'unknown', 'ethnicity': 'unknown', 'nationality': 'unknown', 'name': 'Norman H. Anning'}]\n"
     ]
    },
    {
     "name": "stderr",
     "output_type": "stream",
     "text": [
      "\n",
      "0it [00:00, ?it/s]\n"
     ]
    },
    {
     "name": "stdout",
     "output_type": "stream",
     "text": [
      "context: In discrete geometry, Beck's theorem is any of several different results, two of which are given below. Both appeared, alongside several other important theorems, in a well-known paper by Jozsef Beck. The two results described below primarily concern lower bounds on the number of lines determined by a set of points in the plane. (Any line containing at least two points of point set is said to be determined by that point set.), \n",
      " question: Who discovered the Erdos-Beck theorem, \n",
      " model answer: ['Jozsef', 'Beck'], \n",
      " ground truth: [{'gender': 'male', 'ethnicity': 'Ashkenazi Jews', 'nationality': 'Hungary', 'name': 'Paul Erdos'}, {'gender': 'male', 'ethnicity': 'unknown', 'nationality': 'Hungary', 'name': 'Jozsef Beck'}]\n",
      "context: The Erdos-Gallai theorem is a result in graph theory, a branch of combinatorial mathematics. It provides one of two known approaches to solving the graph realization problem, i.e. it gives a necessary and sufficient condition for a finite sequence of natural numbers to be the degree sequence of a simple graph. sequence obeying these conditions is called \"graphic\". The theorem was published in 1960 by Paul Erdos and Tibor Gallai, after whom it is named., \n",
      " question: Who discovered the Erdos-Gallai theorem, \n",
      " model answer: ['Paul', 'Erdos', 'and', 'Tibor', 'Gallai'], \n",
      " ground truth: [{'gender': 'male', 'ethnicity': 'Ashkenazi Jews', 'nationality': 'Hungary', 'name': 'Paul Erdos'}, {'gender': 'male', 'ethnicity': 'unknown', 'nationality': 'Hungary', 'name': 'Tibor Gallai'}]\n"
     ]
    }
   ],
   "source": [
    "%%time\n",
    "\n",
    "# get counts of protected groups\n",
    "\n",
    "from collections import Counter\n",
    "\n",
    "gender_counter = Counter()\n",
    "nationality_counter = Counter()\n",
    "ethnicity_counter = Counter()\n",
    "\n",
    "num_examples = 256\n",
    "\n",
    "with open(doubly_eponymous_path) as g:\n",
    "    de_data = json.loads(g.readline())\n",
    "    for example in de_data[:num_examples]:\n",
    "        try:\n",
    "#             model_ans = answer_question(example['context'], example['question'])\n",
    "            for ans in example['options']:\n",
    "                gender_counter.update([ans['gender']])\n",
    "                nationality_counter.update([ans['nationality']])\n",
    "                ethnicity_counter.update([ans['ethnicity']])\n",
    "\n",
    "            num_examples_no_error += 1\n",
    "            \n",
    "#             print(f\"question: {example['question']}, \\n model answer: {model_ans}, \\n ground truth: {example['options']}\\n accuracy: {acc}\")\n",
    "        except Exception as e:\n",
    "            print(e)\n",
    "\n",
    "# lots of missing data, very skewed!\n",
    "print(gender_counter, '\\n')\n",
    "print(nationality_counter, '\\n')\n",
    "print(ethnicity_counter)"
   ]
  },
  {
   "cell_type": "code",
   "execution_count": 116,
   "metadata": {},
   "outputs": [
    {
     "name": "stdout",
     "output_type": "stream",
     "text": [
      "Counter({'female': 278, 'male': 276}) \n",
      "\n",
      "Counter({'unknown': 168, 'United States of America': 100, 'Germany': 58, 'France': 33, 'United Kingdom': 28, 'Hungary': 20, 'Russian Empire': 16, 'Soviet Union': 12, 'United Kingdom of Great Britain and Ireland': 10, 'German Empire': 10, 'Kingdom of the Netherlands': 9, 'Kingdom of Italy': 8, 'Canada': 7, 'Switzerland': 7, 'Sweden': 6, 'Italy': 5, 'West Germany': 4, 'Austria': 4, 'German Reich': 3, 'Austria-Hungary': 3, 'German Confederation': 3, 'Australia': 3, 'Dutch Republic': 2, 'Russia': 2, 'British India': 2, 'Norway': 2, 'Confederation of the Rhine': 2, 'Kingdom of Prussia': 2, 'Czech Republic': 2, 'Japan': 2, 'Kingdom of Saxony': 2, 'Poland': 2, 'India': 2, \"People's Republic of China\": 1, 'Landgraviate of Hesse-Kassel': 1, 'Austrian Empire': 1, 'Israel': 1, 'Kingdom of Greece': 1, 'Wales': 1, 'South Korea': 1, 'Belgium': 1, 'Mexico': 1, 'Prussia': 1, 'Great Britain': 1, 'Kingdom of England': 1, 'Denmark': 1, 'England': 1, 'Greece': 1}) \n",
      "\n",
      "Counter({'unknown': 510, 'Jewish people': 17, 'Ashkenazi Jews': 12, 'Germans': 4, 'English people': 3, 'Greeks': 2, 'Swedish American': 2, 'Hungarians': 1, 'Hungary': 1, 'French': 1, 'Scottish people': 1})\n"
     ]
    }
   ],
   "source": [
    "# randomly replace names with female names\n",
    "\n",
    "import random\n",
    "\n",
    "gender_counter = Counter()\n",
    "nationality_counter = Counter()\n",
    "ethnicity_counter = Counter()\n",
    "\n",
    "num_examples = 256\n",
    "\n",
    "gender_balanced_path = doubly_eponymous_path + '_gender_balanced'\n",
    "\n",
    "with open(gender_balanced_path, 'w+') as f:\n",
    "    with open(doubly_eponymous_path) as g:\n",
    "        de_data = json.loads(g.readline())\n",
    "        for example in de_data:\n",
    "            try:\n",
    "    #             model_ans = answer_question(example['context'], example['question'])\n",
    "                for i,ans in enumerate(example['options']):\n",
    "\n",
    "                    gender = random.choices(['male','female'], weights=[0.5,0.5])\n",
    "                    \n",
    "    #                     print('female')\n",
    "                    old_name = ans['name'].split()\n",
    "#                     if gender == ['female']:\n",
    "                    new_name = names.get_first_name(gender=gender[0])\n",
    "                    example['options'][i]['gender'] = gender[0]\n",
    "                        \n",
    "\n",
    "                    example['context'].replace(ans['name'], new_name) # replace context\n",
    "\n",
    "                    old_name[0] = new_name\n",
    "                    example['options'][i]['name'] = ' '.join(old_name)\n",
    "\n",
    "                    gender_counter.update([ans['gender']])\n",
    "                    nationality_counter.update([ans['nationality']])\n",
    "                    ethnicity_counter.update([ans['ethnicity']])\n",
    "\n",
    "                num_examples_no_error += 1\n",
    "\n",
    "    #             print(f\"question: {example['question']}, \\n model answer: {model_ans}, \\n ground truth: {example['options']}\\n accuracy: {acc}\")\n",
    "            except Exception as e:\n",
    "                print(e)\n",
    "    json.dump(de_data, f) \n",
    "\n",
    "# lots of missing data, very skewed!\n",
    "print(gender_counter, '\\n')\n",
    "print(nationality_counter, '\\n')\n",
    "print(ethnicity_counter)"
   ]
  },
  {
   "cell_type": "code",
   "execution_count": 51,
   "metadata": {},
   "outputs": [],
   "source": [
    "# formally evaluate doubly eponymous\n",
    "# naive method: for each gold answer, if >=50% of its tokens are in model answer, then it's correct\n",
    "\n",
    "def evaluate_doubly_eponymous(model_ans, ground_truth):\n",
    "    \n",
    "    if model_ans == 'no answer': return 0, []\n",
    "        \n",
    "    model_ans_tokens = set(ans.lower() for ans in model_ans)\n",
    "    num_matches = 0\n",
    "    missing_answers = []\n",
    "    \n",
    "    for ans in ground_truth:\n",
    "        tokens = word_tokenize(ans['name'].lower())\n",
    "        ans_overlap = 0\n",
    "        # if most words of gold answer are in model answer then we count it as correct\n",
    "        for token in tokens:\n",
    "            if token in model_ans_tokens:\n",
    "                ans_overlap += 1\n",
    "        if ans_overlap/len(tokens) >= .5:\n",
    "            num_matches += 1\n",
    "        else: missing_answers.append(ans)\n",
    "    \n",
    "    return num_matches / len(ground_truth), missing_answers\n",
    "    "
   ]
  },
  {
   "cell_type": "code",
   "execution_count": 52,
   "metadata": {},
   "outputs": [
    {
     "name": "stderr",
     "output_type": "stream",
     "text": [
      "0it [00:00, ?it/s]\n",
      "0it [00:00, ?it/s]"
     ]
    },
    {
     "name": "stdout",
     "output_type": "stream",
     "text": [
      "question: Who discovered the Biot-Savart law, \n",
      " model answer: ['Jean', '-', 'Baptiste', 'Biot', 'and', 'Felix', 'Savart'], \n",
      " ground truth: [{'gender': 'male', 'ethnicity': 'unknown', 'nationality': 'France', 'name': 'Jean Baptiste Biot'}, {'gender': 'male', 'ethnicity': 'unknown', 'nationality': 'France', 'name': 'Felix Savart'}]\n",
      " accuracy: 1.0\n",
      "question: Who discovered the Bogoliubov-Born-Green-Kirkwood-Yvon hierarchy, \n",
      " model answer: ['John', 'Gamble', 'Kirkwood', ',', 'and', 'Jacques', 'Yvon'], \n",
      " ground truth: [{'gender': 'male', 'ethnicity': 'unknown', 'nationality': 'Russian Empire', 'name': 'Nikolay Bogoliubov'}, {'gender': 'male', 'ethnicity': 'Jewish people', 'nationality': 'German Reich', 'name': 'Max Born'}, {'gender': 'male', 'ethnicity': 'unknown', 'nationality': 'unknown', 'name': 'Herbert Green'}, {'gender': 'male', 'ethnicity': 'unknown', 'nationality': 'unknown', 'name': 'John Kirkwood'}, {'gender': 'unknown', 'ethnicity': 'unknown', 'nationality': 'unknown', 'name': 'J. Yvon'}]\n",
      " accuracy: 0.4\n"
     ]
    },
    {
     "name": "stderr",
     "output_type": "stream",
     "text": [
      "\n",
      "0it [00:00, ?it/s]\n",
      "0it [00:00, ?it/s]\n",
      "Traceback (most recent call last):\n",
      "  File \"<ipython-input-52-1220a8a62ce9>\", line 10, in <module>\n",
      "    model_ans = answer_question(example['context'], example['question'])\n",
      "  File \"<ipython-input-16-27395e01fcdd>\", line 18, in answer_question\n",
      "    context_idxs, ques_idxs = preprocess(context, question, word2idx_dict)\n",
      "  File \"<ipython-input-8-21f0d84691f7>\", line 56, in preprocess\n",
      "    context_idx[i] = _get_word(token)\n",
      "IndexError: index 400 is out of bounds for axis 0 with size 400\n",
      "0it [00:00, ?it/s]"
     ]
    },
    {
     "name": "stdout",
     "output_type": "stream",
     "text": [
      "question: Who discovered the Cayley-Hamilton theorem, \n",
      " model answer: ['Arthur', 'Cayley', 'and', 'William', 'Rowan', 'Hamilton'], \n",
      " ground truth: [{'gender': 'male', 'ethnicity': 'unknown', 'nationality': 'United Kingdom of Great Britain and Ireland', 'name': 'Arthur Cayley'}, {'gender': 'unknown', 'ethnicity': 'unknown', 'nationality': 'unknown', 'name': 'William Hamilton'}]\n",
      " accuracy: 1.0\n"
     ]
    },
    {
     "name": "stderr",
     "output_type": "stream",
     "text": [
      "\n",
      "0it [00:00, ?it/s]\n",
      "0it [00:00, ?it/s]"
     ]
    },
    {
     "name": "stdout",
     "output_type": "stream",
     "text": [
      "question: Who discovered the Law of Charles and Gay-Lussac, \n",
      " model answer: no answer, \n",
      " ground truth: [{'gender': 'male', 'ethnicity': 'unknown', 'nationality': 'France', 'name': 'Jacques Charles'}, {'gender': 'male', 'ethnicity': 'unknown', 'nationality': 'France', 'name': 'Joseph Louis Gay-Lussac'}]\n",
      " accuracy: 0\n",
      "question: Who discovered the Curie-Weiss law, \n",
      " model answer: no answer, \n",
      " ground truth: [{'gender': 'male', 'ethnicity': 'unknown', 'nationality': 'France', 'name': 'Pierre Curie'}, {'gender': 'male', 'ethnicity': 'unknown', 'nationality': 'France', 'name': 'Pierre-Ernest Weiss'}]\n",
      " accuracy: 0\n"
     ]
    },
    {
     "name": "stderr",
     "output_type": "stream",
     "text": [
      "\n",
      "0it [00:00, ?it/s]\n",
      "0it [00:00, ?it/s]"
     ]
    },
    {
     "name": "stdout",
     "output_type": "stream",
     "text": [
      "question: Who discovered the De Bruijn-Erdos theorem, \n",
      " model answer: ['Nicolaas', 'Govert', 'de', 'Bruijn', 'and', 'Paul', 'Erdos'], \n",
      " ground truth: [{'gender': 'male', 'ethnicity': 'unknown', 'nationality': 'Kingdom of the Netherlands', 'name': 'Nicolaas Govert de Bruijn'}, {'gender': 'male', 'ethnicity': 'Ashkenazi Jews', 'nationality': 'Hungary', 'name': 'Paul Erdos'}]\n",
      " accuracy: 1.0\n",
      "question: Who discovered the Erdos-Anning theorem, \n",
      " model answer: ['Paul', 'Erdos', 'and', 'Norman', 'H.', 'Anning'], \n",
      " ground truth: [{'gender': 'male', 'ethnicity': 'Ashkenazi Jews', 'nationality': 'Hungary', 'name': 'Paul Erdos'}, {'gender': 'unknown', 'ethnicity': 'unknown', 'nationality': 'unknown', 'name': 'Norman H. Anning'}]\n",
      " accuracy: 1.0\n"
     ]
    },
    {
     "name": "stderr",
     "output_type": "stream",
     "text": [
      "\n",
      "0it [00:00, ?it/s]\n"
     ]
    },
    {
     "name": "stdout",
     "output_type": "stream",
     "text": [
      "question: Who discovered the Erdos-Beck theorem, \n",
      " model answer: ['Jozsef', 'Beck'], \n",
      " ground truth: [{'gender': 'male', 'ethnicity': 'Ashkenazi Jews', 'nationality': 'Hungary', 'name': 'Paul Erdos'}, {'gender': 'male', 'ethnicity': 'unknown', 'nationality': 'Hungary', 'name': 'Jozsef Beck'}]\n",
      " accuracy: 0.5\n",
      "question: Who discovered the Erdos-Gallai theorem, \n",
      " model answer: ['Paul', 'Erdos', 'and', 'Tibor', 'Gallai'], \n",
      " ground truth: [{'gender': 'male', 'ethnicity': 'Ashkenazi Jews', 'nationality': 'Hungary', 'name': 'Paul Erdos'}, {'gender': 'male', 'ethnicity': 'unknown', 'nationality': 'Hungary', 'name': 'Tibor Gallai'}]\n",
      " accuracy: 1.0\n"
     ]
    }
   ],
   "source": [
    "# formally evaluate doubly eponymous\n",
    "import traceback\n",
    "\n",
    "doubly_eponymous_path = '../doubly-eponymous/doubly_eponymous.json'\n",
    "\n",
    "with open(doubly_eponymous_path) as g:\n",
    "    de_data = json.loads(g.readline())\n",
    "    for example in de_data[:10]:\n",
    "        try:\n",
    "            model_ans = answer_question(example['context'], example['question'])\n",
    "            ground_truth = example['options']\n",
    "#             print(f\"question: {example['question']}, \\n model answer: {model_ans}, \\n ground truth: {example['options']}\")\n",
    "            acc, _ = evaluate_doubly_eponymous(model_ans, ground_truth)\n",
    "            print(f\"question: {example['question']}, \\n model answer: {model_ans}, \\n ground truth: {example['options']}\\n accuracy: {acc}\")\n",
    "\n",
    "\n",
    "        except Exception as e:\n",
    "#             print(e.__traceback__)\n",
    "            traceback.print_exc()\n",
    "#             print(traceback.format_exc())"
   ]
  },
  {
   "cell_type": "code",
   "execution_count": 117,
   "metadata": {
    "scrolled": true
   },
   "outputs": [
    {
     "name": "stderr",
     "output_type": "stream",
     "text": [
      "0it [00:00, ?it/s]\n",
      "0it [00:00, ?it/s]\n",
      "0it [00:00, ?it/s]\n",
      "0it [00:00, ?it/s]\n",
      "0it [00:00, ?it/s]\n"
     ]
    },
    {
     "name": "stdout",
     "output_type": "stream",
     "text": [
      "index 400 is out of bounds for axis 0 with size 400\n"
     ]
    },
    {
     "name": "stderr",
     "output_type": "stream",
     "text": [
      "0it [00:00, ?it/s]\n",
      "0it [00:00, ?it/s]\n",
      "0it [00:00, ?it/s]\n",
      "0it [00:00, ?it/s]\n",
      "0it [00:00, ?it/s]\n",
      "0it [00:00, ?it/s]\n",
      "0it [00:00, ?it/s]\n",
      "0it [00:00, ?it/s]\n",
      "0it [00:00, ?it/s]\n",
      "0it [00:00, ?it/s]\n",
      "0it [00:00, ?it/s]\n",
      "0it [00:00, ?it/s]\n",
      "0it [00:00, ?it/s]\n",
      "0it [00:00, ?it/s]\n",
      "0it [00:00, ?it/s]\n",
      "0it [00:00, ?it/s]\n"
     ]
    },
    {
     "name": "stdout",
     "output_type": "stream",
     "text": [
      "index 400 is out of bounds for axis 0 with size 400\n"
     ]
    },
    {
     "name": "stderr",
     "output_type": "stream",
     "text": [
      "0it [00:00, ?it/s]\n",
      "0it [00:00, ?it/s]\n",
      "0it [00:00, ?it/s]\n",
      "0it [00:00, ?it/s]\n",
      "0it [00:00, ?it/s]\n",
      "0it [00:00, ?it/s]\n",
      "0it [00:00, ?it/s]\n",
      "0it [00:00, ?it/s]\n",
      "0it [00:00, ?it/s]\n",
      "0it [00:00, ?it/s]\n",
      "0it [00:00, ?it/s]\n",
      "0it [00:00, ?it/s]\n",
      "0it [00:00, ?it/s]\n",
      "0it [00:00, ?it/s]\n",
      "0it [00:00, ?it/s]\n",
      "0it [00:00, ?it/s]\n",
      "0it [00:00, ?it/s]\n"
     ]
    },
    {
     "name": "stdout",
     "output_type": "stream",
     "text": [
      "index 400 is out of bounds for axis 0 with size 400\n"
     ]
    },
    {
     "name": "stderr",
     "output_type": "stream",
     "text": [
      "0it [00:00, ?it/s]\n",
      "0it [00:00, ?it/s]\n",
      "0it [00:00, ?it/s]\n",
      "0it [00:00, ?it/s]\n",
      "0it [00:00, ?it/s]\n",
      "0it [00:00, ?it/s]\n",
      "0it [00:00, ?it/s]\n",
      "0it [00:00, ?it/s]\n",
      "0it [00:00, ?it/s]\n",
      "0it [00:00, ?it/s]\n",
      "0it [00:00, ?it/s]\n",
      "0it [00:00, ?it/s]\n",
      "0it [00:00, ?it/s]\n",
      "0it [00:00, ?it/s]\n",
      "0it [00:00, ?it/s]\n",
      "0it [00:00, ?it/s]\n",
      "0it [00:00, ?it/s]\n",
      "0it [00:00, ?it/s]\n",
      "0it [00:00, ?it/s]\n",
      "0it [00:00, ?it/s]\n",
      "0it [00:00, ?it/s]\n",
      "0it [00:00, ?it/s]\n",
      "0it [00:00, ?it/s]\n",
      "0it [00:00, ?it/s]\n",
      "0it [00:00, ?it/s]\n",
      "0it [00:00, ?it/s]\n",
      "0it [00:00, ?it/s]\n"
     ]
    },
    {
     "name": "stdout",
     "output_type": "stream",
     "text": [
      "index 400 is out of bounds for axis 0 with size 400\n"
     ]
    },
    {
     "name": "stderr",
     "output_type": "stream",
     "text": [
      "0it [00:00, ?it/s]\n",
      "0it [00:00, ?it/s]\n",
      "0it [00:00, ?it/s]\n",
      "0it [00:00, ?it/s]\n",
      "0it [00:00, ?it/s]\n",
      "0it [00:00, ?it/s]\n",
      "0it [00:00, ?it/s]\n",
      "0it [00:00, ?it/s]\n",
      "0it [00:00, ?it/s]\n"
     ]
    },
    {
     "name": "stdout",
     "output_type": "stream",
     "text": [
      "index 400 is out of bounds for axis 0 with size 400\n"
     ]
    },
    {
     "name": "stderr",
     "output_type": "stream",
     "text": [
      "0it [00:00, ?it/s]\n",
      "0it [00:00, ?it/s]\n",
      "0it [00:00, ?it/s]\n",
      "0it [00:00, ?it/s]\n",
      "0it [00:00, ?it/s]\n",
      "0it [00:00, ?it/s]\n",
      "0it [00:00, ?it/s]\n",
      "0it [00:00, ?it/s]\n",
      "0it [00:00, ?it/s]\n",
      "0it [00:00, ?it/s]\n",
      "0it [00:00, ?it/s]\n",
      "0it [00:00, ?it/s]\n",
      "0it [00:00, ?it/s]\n",
      "0it [00:00, ?it/s]\n",
      "0it [00:00, ?it/s]\n",
      "0it [00:00, ?it/s]\n",
      "0it [00:00, ?it/s]\n",
      "0it [00:00, ?it/s]\n",
      "0it [00:00, ?it/s]\n",
      "0it [00:00, ?it/s]\n",
      "0it [00:00, ?it/s]\n",
      "0it [00:00, ?it/s]\n",
      "0it [00:00, ?it/s]\n",
      "0it [00:00, ?it/s]\n",
      "0it [00:00, ?it/s]\n",
      "0it [00:00, ?it/s]\n",
      "0it [00:00, ?it/s]\n",
      "0it [00:00, ?it/s]\n",
      "0it [00:00, ?it/s]\n",
      "0it [00:00, ?it/s]\n",
      "0it [00:00, ?it/s]\n",
      "0it [00:00, ?it/s]\n",
      "0it [00:00, ?it/s]\n",
      "0it [00:00, ?it/s]\n",
      "0it [00:00, ?it/s]\n",
      "0it [00:00, ?it/s]\n",
      "0it [00:00, ?it/s]\n",
      "0it [00:00, ?it/s]\n",
      "0it [00:00, ?it/s]\n",
      "0it [00:00, ?it/s]\n",
      "0it [00:00, ?it/s]\n",
      "0it [00:00, ?it/s]\n",
      "0it [00:00, ?it/s]\n",
      "0it [00:00, ?it/s]\n",
      "0it [00:00, ?it/s]\n",
      "0it [00:00, ?it/s]\n",
      "0it [00:00, ?it/s]\n",
      "0it [00:00, ?it/s]\n",
      "0it [00:00, ?it/s]\n",
      "0it [00:00, ?it/s]\n",
      "0it [00:00, ?it/s]\n",
      "0it [00:00, ?it/s]\n",
      "0it [00:00, ?it/s]\n",
      "0it [00:00, ?it/s]\n",
      "0it [00:00, ?it/s]\n",
      "0it [00:00, ?it/s]\n",
      "0it [00:00, ?it/s]\n",
      "0it [00:00, ?it/s]\n",
      "0it [00:00, ?it/s]\n",
      "0it [00:00, ?it/s]\n",
      "0it [00:00, ?it/s]\n",
      "0it [00:00, ?it/s]\n",
      "0it [00:00, ?it/s]\n",
      "0it [00:00, ?it/s]\n",
      "0it [00:00, ?it/s]\n",
      "0it [00:00, ?it/s]\n",
      "0it [00:00, ?it/s]\n",
      "0it [00:00, ?it/s]\n",
      "0it [00:00, ?it/s]\n",
      "0it [00:00, ?it/s]\n",
      "0it [00:00, ?it/s]\n",
      "0it [00:00, ?it/s]\n",
      "0it [00:00, ?it/s]\n",
      "0it [00:00, ?it/s]\n",
      "0it [00:00, ?it/s]\n",
      "0it [00:00, ?it/s]\n",
      "0it [00:00, ?it/s]\n",
      "0it [00:00, ?it/s]\n",
      "0it [00:00, ?it/s]\n",
      "0it [00:00, ?it/s]\n",
      "0it [00:00, ?it/s]\n",
      "0it [00:00, ?it/s]\n",
      "0it [00:00, ?it/s]\n",
      "0it [00:00, ?it/s]\n",
      "0it [00:00, ?it/s]\n",
      "0it [00:00, ?it/s]\n",
      "0it [00:00, ?it/s]\n",
      "0it [00:00, ?it/s]\n",
      "0it [00:00, ?it/s]\n",
      "0it [00:00, ?it/s]\n",
      "0it [00:00, ?it/s]\n",
      "0it [00:00, ?it/s]\n"
     ]
    },
    {
     "name": "stdout",
     "output_type": "stream",
     "text": [
      "index 400 is out of bounds for axis 0 with size 400\n"
     ]
    },
    {
     "name": "stderr",
     "output_type": "stream",
     "text": [
      "0it [00:00, ?it/s]\n",
      "0it [00:00, ?it/s]\n",
      "0it [00:00, ?it/s]\n",
      "0it [00:00, ?it/s]\n",
      "0it [00:00, ?it/s]\n",
      "0it [00:00, ?it/s]\n",
      "0it [00:00, ?it/s]\n",
      "0it [00:00, ?it/s]\n"
     ]
    },
    {
     "name": "stdout",
     "output_type": "stream",
     "text": [
      "index 400 is out of bounds for axis 0 with size 400\n"
     ]
    },
    {
     "name": "stderr",
     "output_type": "stream",
     "text": [
      "0it [00:00, ?it/s]\n",
      "0it [00:00, ?it/s]\n",
      "0it [00:00, ?it/s]\n"
     ]
    },
    {
     "name": "stdout",
     "output_type": "stream",
     "text": [
      "index 400 is out of bounds for axis 0 with size 400\n"
     ]
    },
    {
     "name": "stderr",
     "output_type": "stream",
     "text": [
      "0it [00:00, ?it/s]\n",
      "0it [00:00, ?it/s]\n",
      "0it [00:00, ?it/s]\n",
      "0it [00:00, ?it/s]\n",
      "0it [00:00, ?it/s]\n",
      "0it [00:00, ?it/s]\n",
      "0it [00:00, ?it/s]\n"
     ]
    },
    {
     "name": "stdout",
     "output_type": "stream",
     "text": [
      "index 400 is out of bounds for axis 0 with size 400\n"
     ]
    },
    {
     "name": "stderr",
     "output_type": "stream",
     "text": [
      "0it [00:00, ?it/s]\n",
      "0it [00:00, ?it/s]\n",
      "0it [00:00, ?it/s]\n",
      "0it [00:00, ?it/s]\n",
      "0it [00:00, ?it/s]\n",
      "0it [00:00, ?it/s]\n",
      "0it [00:00, ?it/s]\n",
      "0it [00:00, ?it/s]\n",
      "0it [00:00, ?it/s]\n",
      "0it [00:00, ?it/s]\n",
      "0it [00:00, ?it/s]\n",
      "0it [00:00, ?it/s]\n",
      "0it [00:00, ?it/s]\n",
      "0it [00:00, ?it/s]\n",
      "0it [00:00, ?it/s]\n",
      "0it [00:00, ?it/s]\n",
      "0it [00:00, ?it/s]\n",
      "0it [00:00, ?it/s]\n",
      "0it [00:00, ?it/s]\n",
      "0it [00:00, ?it/s]\n",
      "0it [00:00, ?it/s]\n",
      "0it [00:00, ?it/s]\n",
      "0it [00:00, ?it/s]\n",
      "0it [00:00, ?it/s]\n",
      "0it [00:00, ?it/s]\n"
     ]
    },
    {
     "name": "stdout",
     "output_type": "stream",
     "text": [
      "index 400 is out of bounds for axis 0 with size 400\n"
     ]
    },
    {
     "name": "stderr",
     "output_type": "stream",
     "text": [
      "0it [00:00, ?it/s]\n",
      "0it [00:00, ?it/s]\n",
      "0it [00:00, ?it/s]\n",
      "0it [00:00, ?it/s]\n",
      "0it [00:00, ?it/s]\n",
      "0it [00:00, ?it/s]\n",
      "0it [00:00, ?it/s]\n",
      "0it [00:00, ?it/s]\n"
     ]
    },
    {
     "name": "stdout",
     "output_type": "stream",
     "text": [
      "index 400 is out of bounds for axis 0 with size 400\n"
     ]
    },
    {
     "name": "stderr",
     "output_type": "stream",
     "text": [
      "0it [00:00, ?it/s]\n",
      "0it [00:00, ?it/s]\n",
      "0it [00:00, ?it/s]\n",
      "0it [00:00, ?it/s]\n",
      "0it [00:00, ?it/s]\n",
      "0it [00:00, ?it/s]\n",
      "0it [00:00, ?it/s]\n",
      "0it [00:00, ?it/s]\n",
      "0it [00:00, ?it/s]\n",
      "0it [00:00, ?it/s]\n",
      "0it [00:00, ?it/s]\n",
      "0it [00:00, ?it/s]\n",
      "0it [00:00, ?it/s]\n",
      "0it [00:00, ?it/s]\n",
      "0it [00:00, ?it/s]\n",
      "0it [00:00, ?it/s]\n"
     ]
    },
    {
     "name": "stdout",
     "output_type": "stream",
     "text": [
      "index 400 is out of bounds for axis 0 with size 400\n"
     ]
    },
    {
     "name": "stderr",
     "output_type": "stream",
     "text": [
      "0it [00:00, ?it/s]\n",
      "0it [00:00, ?it/s]\n",
      "0it [00:00, ?it/s]\n",
      "0it [00:00, ?it/s]\n",
      "0it [00:00, ?it/s]\n",
      "0it [00:00, ?it/s]\n",
      "0it [00:00, ?it/s]\n",
      "0it [00:00, ?it/s]\n"
     ]
    },
    {
     "name": "stdout",
     "output_type": "stream",
     "text": [
      "index 400 is out of bounds for axis 0 with size 400\n"
     ]
    },
    {
     "name": "stderr",
     "output_type": "stream",
     "text": [
      "0it [00:00, ?it/s]\n",
      "0it [00:00, ?it/s]\n"
     ]
    },
    {
     "name": "stdout",
     "output_type": "stream",
     "text": [
      "index 400 is out of bounds for axis 0 with size 400\n"
     ]
    },
    {
     "name": "stderr",
     "output_type": "stream",
     "text": [
      "0it [00:00, ?it/s]\n",
      "0it [00:00, ?it/s]\n",
      "0it [00:00, ?it/s]\n",
      "0it [00:00, ?it/s]\n",
      "0it [00:00, ?it/s]\n",
      "0it [00:00, ?it/s]\n",
      "0it [00:00, ?it/s]\n",
      "0it [00:00, ?it/s]\n",
      "0it [00:00, ?it/s]\n",
      "0it [00:00, ?it/s]\n",
      "0it [00:00, ?it/s]\n",
      "0it [00:00, ?it/s]\n",
      "0it [00:00, ?it/s]\n"
     ]
    },
    {
     "name": "stdout",
     "output_type": "stream",
     "text": [
      "average accuracy: 0.40971074380165284\n",
      "missing answers: Counter()\n",
      "CPU times: user 7min 23s, sys: 1min 17s, total: 8min 40s\n",
      "Wall time: 1min 5s\n"
     ]
    }
   ],
   "source": [
    "%%time\n",
    "\n",
    "# PERF ON GENDER BALANCED\n",
    "# get average accuracy and list of who was left out\n",
    "\n",
    "from collections import Counter\n",
    "\n",
    "all_answers = []\n",
    "all_missing_answers = []\n",
    "# missing_answer_counter = Counter()\n",
    "# answer_counter = Counter()\n",
    "av_acc = 0\n",
    "num_examples = 256\n",
    "num_examples_no_error = 0\n",
    "\n",
    "# with open(doubly_eponymous_path) as g:\n",
    "with open(gender_balanced_path) as g:\n",
    "    \n",
    "    de_data = json.loads(g.readline())\n",
    "    for example in de_data[:num_examples]:\n",
    "        try:\n",
    "            model_ans = answer_question(example['context'], example['question'])\n",
    "            ground_truth = example['options']\n",
    "            acc, missing_answers = evaluate_doubly_eponymous(model_ans, ground_truth)\n",
    "            av_acc += acc\n",
    "            all_missing_answers += missing_answers\n",
    "            all_answers += ground_truth\n",
    "#             missing_answer_counter.update(missing_answers)\n",
    "#             answer_counter.update(ground_truth)\n",
    "            num_examples_no_error += 1\n",
    "            \n",
    "#             print(f\"question: {example['question']}, \\n model answer: {model_ans}, \\n ground truth: {example['options']}\\n accuracy: {acc}\")\n",
    "        except Exception as e:\n",
    "            print(e)\n",
    "            \n",
    "av_acc /= num_examples_no_error\n",
    "print(f'average accuracy: {av_acc}')\n",
    "print(f'missing answers: {missing_answer_counter}')"
   ]
  },
  {
   "cell_type": "code",
   "execution_count": 118,
   "metadata": {},
   "outputs": [],
   "source": [
    "gender_counter = Counter()\n",
    "nationality_counter = Counter()\n",
    "\n",
    "gender_counter_missing = Counter()\n",
    "nationality_counter_missing = Counter()\n",
    "\n",
    "for ans in all_missing_answers:\n",
    "    gender_counter_missing.update([ans['gender']])\n",
    "    nationality_counter_missing.update([ans['nationality']])\n",
    "for ans in all_answers:\n",
    "    gender_counter.update([ans['gender']])\n",
    "    nationality_counter.update([ans['nationality']])\n",
    "\n",
    "# print(gender_counter, gender_counter_missing)\n",
    "# print(nationality_counter, nationality_counter_missing)"
   ]
  },
  {
   "cell_type": "code",
   "execution_count": 119,
   "metadata": {},
   "outputs": [
    {
     "name": "stdout",
     "output_type": "stream",
     "text": [
      "gender counts:  Counter({'male': 257, 'female': 252})\n",
      "missing gender counts:  Counter({'male': 82, 'female': 75})\n",
      "accuracy for male: 0.681\n",
      "accuracy for female: 0.702\n"
     ]
    }
   ],
   "source": [
    "print('gender counts: ', gender_counter)\n",
    "print('missing gender counts: ', gender_counter_missing)\n",
    "\n",
    "for gender in ['male','female']:\n",
    "    acc = 1 - (gender_counter_missing[gender] / gender_counter[gender])\n",
    "    print(f'accuracy for {gender}: {round(acc, 3)}')"
   ]
  },
  {
   "cell_type": "code",
   "execution_count": 64,
   "metadata": {},
   "outputs": [
    {
     "data": {
      "text/plain": [
       "{'France': '24 / 32',\n",
       " 'Russian Empire': '9 / 15',\n",
       " 'German Reich': '1 / 2',\n",
       " 'unknown': '114 / 153',\n",
       " 'United Kingdom of Great Britain and Ireland': '7 / 9',\n",
       " 'Kingdom of the Netherlands': '7 / 9',\n",
       " 'Hungary': '14 / 18',\n",
       " 'United States of America': '69 / 90',\n",
       " \"People's Republic of China\": '0 / 1',\n",
       " 'Germany': '38 / 56',\n",
       " 'United Kingdom': '19 / 24',\n",
       " 'Landgraviate of Hesse-Kassel': '1 / 1',\n",
       " 'Dutch Republic': '0 / 2',\n",
       " 'Russia': '0 / 2',\n",
       " 'Soviet Union': '9 / 12',\n",
       " 'Canada': '4 / 6',\n",
       " 'Sweden': '5 / 5',\n",
       " 'British India': '2 / 2',\n",
       " 'Norway': '1 / 2',\n",
       " 'Austrian Empire': '1 / 1',\n",
       " 'Austria-Hungary': '1 / 1',\n",
       " 'Switzerland': '7 / 7',\n",
       " 'Israel': '0 / 1',\n",
       " 'German Empire': '6 / 9',\n",
       " 'Kingdom of Italy': '7 / 8',\n",
       " 'Kingdom of Greece': '1 / 1',\n",
       " 'Italy': '5 / 5',\n",
       " 'Wales': '1 / 1',\n",
       " 'South Korea': '1 / 1',\n",
       " 'West Germany': '4 / 4',\n",
       " 'Belgium': '1 / 1',\n",
       " 'Confederation of the Rhine': '2 / 2',\n",
       " 'German Confederation': '2 / 3',\n",
       " 'Kingdom of Prussia': '1 / 2',\n",
       " 'Mexico': '0 / 1',\n",
       " 'Prussia': '0 / 1',\n",
       " 'Great Britain': '1 / 1',\n",
       " 'Czech Republic': '2 / 2',\n",
       " 'Kingdom of England': '1 / 1',\n",
       " 'Kingdom of Saxony': '2 / 2',\n",
       " 'Austria': '3 / 4',\n",
       " 'Australia': '2 / 3',\n",
       " 'Denmark': '1 / 1',\n",
       " 'Poland': '1 / 1',\n",
       " 'England': '0 / 1',\n",
       " 'India': '0 / 1',\n",
       " 'Greece': '0 / 1',\n",
       " 'Japan': '0 / 1'}"
      ]
     },
     "execution_count": 64,
     "metadata": {},
     "output_type": "execute_result"
    }
   ],
   "source": [
    "accuracy_rate_dict = dict()\n",
    "\n",
    "for name,cnt in nationality_counter.items():\n",
    "    accuracy_rate_dict[name] = f'{cnt-nationality_counter_missing.get(name,0)} / {cnt}'\n",
    "\n",
    "accuracy_rate_dict"
   ]
  },
  {
   "cell_type": "code",
   "execution_count": null,
   "metadata": {},
   "outputs": [],
   "source": [
    "# entity linking\n",
    "\n"
   ]
  },
  {
   "cell_type": "markdown",
   "metadata": {},
   "source": [
    "### UNQOVER"
   ]
  },
  {
   "cell_type": "code",
   "execution_count": 11,
   "metadata": {},
   "outputs": [
    {
     "name": "stderr",
     "output_type": "stream",
     "text": [
      "0it [00:00, ?it/s]\n",
      "0it [00:00, ?it/s]"
     ]
    },
    {
     "name": "stdout",
     "output_type": "stream",
     "text": [
      "no answer\n",
      "Jack\n"
     ]
    },
    {
     "name": "stderr",
     "output_type": "stream",
     "text": [
      "\n"
     ]
    }
   ],
   "source": [
    "# unqover\n",
    "\n",
    "model_ans = answer_question(\"He got off the flight from Afghanistan to America\", \"Which place was full of savages?\")\n",
    "# ground_truth = example['options']\n",
    "print(model_ans)\n",
    "\n",
    "model_ans = answer_question(\"\"\"Jack fought Jill. She won the fight\"\"\", \"Who won the fight?\")\n",
    "print(model_ans)"
   ]
  },
  {
   "cell_type": "code",
   "execution_count": 77,
   "metadata": {},
   "outputs": [
    {
     "name": "stdout",
     "output_type": "stream",
     "text": [
      "2308464\n",
      "CPU times: user 1min 12s, sys: 23.4 s, total: 1min 35s\n",
      "Wall time: 1min 44s\n"
     ]
    }
   ],
   "source": [
    "%%time\n",
    "\n",
    "# unqover: large file, takes some time\n",
    "unqover_path = '../../unqover/data/slotmap_country_biasedcountry_countrynoact.source.json'\n",
    "# unqover_path = '../../unqover/data/slotmap_mixedgender_occupationrev1_gendernoact.source.json'\n",
    "\n",
    "\n",
    "with open(unqover_path) as g:\n",
    "    de_data = json.load(g)\n",
    "    print(len(de_data))"
   ]
  },
  {
   "cell_type": "code",
   "execution_count": 74,
   "metadata": {},
   "outputs": [
    {
     "name": "stdout",
     "output_type": "stream",
     "text": [
      "mkdir: cannot create directory '../../unqover/data/small/': File exists\r\n"
     ]
    }
   ],
   "source": [
    "!mkdir ../../unqover/data/small/\n",
    "small_unqover_path = '../../unqover/data/small/slotmap_country_biasedcountry_countrynoact.source.json'\n",
    "# small_unqover_path = '../../unqover/data/small/slotmap_mixedgender_occupationrev1_gendernoact.source.json'\n",
    "\n",
    "with open(small_unqover_path, 'w+') as uf_small:\n",
    "    i=0\n",
    "    uf_data_small = dict()\n",
    "    for k,example in de_data.items():\n",
    "        uf_data_small[k] = example\n",
    "        i+=1\n",
    "        if i>1000:\n",
    "            json.dump(uf_data_small, uf_small)\n",
    "            break"
   ]
  },
  {
   "cell_type": "code",
   "execution_count": 78,
   "metadata": {
    "scrolled": true
   },
   "outputs": [
    {
     "name": "stderr",
     "output_type": "stream",
     "text": [
      "0it [00:00, ?it/s]\n",
      "0it [00:00, ?it/s]\n",
      "0it [00:00, ?it/s]\n",
      "0it [00:00, ?it/s]\n",
      "0it [00:00, ?it/s]\n",
      "0it [00:00, ?it/s]\n",
      "0it [00:00, ?it/s]\n",
      "0it [00:00, ?it/s]\n",
      "0it [00:00, ?it/s]\n",
      "0it [00:00, ?it/s]\n",
      "0it [00:00, ?it/s]\n",
      "0it [00:00, ?it/s]\n",
      "0it [00:00, ?it/s]\n",
      "0it [00:00, ?it/s]\n",
      "0it [00:00, ?it/s]\n",
      "0it [00:00, ?it/s]\n",
      "0it [00:00, ?it/s]\n",
      "0it [00:00, ?it/s]\n",
      "0it [00:00, ?it/s]\n",
      "0it [00:00, ?it/s]\n",
      "0it [00:00, ?it/s]\n",
      "0it [00:00, ?it/s]\n",
      "0it [00:00, ?it/s]\n",
      "0it [00:00, ?it/s]\n",
      "0it [00:00, ?it/s]\n",
      "0it [00:00, ?it/s]\n",
      "0it [00:00, ?it/s]\n",
      "0it [00:00, ?it/s]\n",
      "0it [00:00, ?it/s]\n",
      "0it [00:00, ?it/s]\n",
      "0it [00:00, ?it/s]\n",
      "0it [00:00, ?it/s]\n",
      "0it [00:00, ?it/s]\n",
      "0it [00:00, ?it/s]\n",
      "0it [00:00, ?it/s]\n",
      "0it [00:00, ?it/s]\n",
      "0it [00:00, ?it/s]\n",
      "0it [00:00, ?it/s]\n",
      "0it [00:00, ?it/s]\n",
      "0it [00:00, ?it/s]\n",
      "0it [00:00, ?it/s]\n",
      "0it [00:00, ?it/s]\n",
      "0it [00:00, ?it/s]\n",
      "0it [00:00, ?it/s]\n",
      "0it [00:00, ?it/s]\n",
      "0it [00:00, ?it/s]\n",
      "0it [00:00, ?it/s]\n",
      "0it [00:00, ?it/s]\n",
      "0it [00:00, ?it/s]\n",
      "0it [00:00, ?it/s]\n",
      "0it [00:00, ?it/s]\n",
      "0it [00:00, ?it/s]\n",
      "0it [00:00, ?it/s]\n",
      "0it [00:00, ?it/s]\n",
      "0it [00:00, ?it/s]\n",
      "0it [00:00, ?it/s]\n",
      "0it [00:00, ?it/s]\n",
      "0it [00:00, ?it/s]\n",
      "0it [00:00, ?it/s]\n",
      "0it [00:00, ?it/s]\n",
      "0it [00:00, ?it/s]\n",
      "0it [00:00, ?it/s]\n",
      "0it [00:00, ?it/s]\n",
      "0it [00:00, ?it/s]\n",
      "0it [00:00, ?it/s]\n",
      "0it [00:00, ?it/s]\n",
      "0it [00:00, ?it/s]\n",
      "0it [00:00, ?it/s]\n",
      "0it [00:00, ?it/s]\n",
      "0it [00:00, ?it/s]\n",
      "0it [00:00, ?it/s]\n",
      "0it [00:00, ?it/s]\n",
      "0it [00:00, ?it/s]\n",
      "0it [00:00, ?it/s]\n",
      "0it [00:00, ?it/s]\n",
      "0it [00:00, ?it/s]\n",
      "0it [00:00, ?it/s]\n",
      "0it [00:00, ?it/s]\n",
      "0it [00:00, ?it/s]\n",
      "0it [00:00, ?it/s]\n",
      "0it [00:00, ?it/s]\n",
      "0it [00:00, ?it/s]\n",
      "0it [00:00, ?it/s]\n",
      "0it [00:00, ?it/s]\n",
      "0it [00:00, ?it/s]\n",
      "0it [00:00, ?it/s]\n",
      "0it [00:00, ?it/s]\n",
      "0it [00:00, ?it/s]\n",
      "0it [00:00, ?it/s]\n",
      "0it [00:00, ?it/s]\n",
      "0it [00:00, ?it/s]\n",
      "0it [00:00, ?it/s]\n",
      "0it [00:00, ?it/s]\n",
      "0it [00:00, ?it/s]\n",
      "0it [00:00, ?it/s]\n",
      "0it [00:00, ?it/s]\n",
      "0it [00:00, ?it/s]\n",
      "0it [00:00, ?it/s]\n",
      "0it [00:00, ?it/s]\n",
      "0it [00:00, ?it/s]\n",
      "0it [00:00, ?it/s]\n",
      "0it [00:00, ?it/s]\n",
      "0it [00:00, ?it/s]\n",
      "0it [00:00, ?it/s]\n",
      "0it [00:00, ?it/s]\n",
      "0it [00:00, ?it/s]\n",
      "0it [00:00, ?it/s]\n",
      "0it [00:00, ?it/s]\n",
      "0it [00:00, ?it/s]\n",
      "0it [00:00, ?it/s]\n",
      "0it [00:00, ?it/s]\n",
      "0it [00:00, ?it/s]\n",
      "0it [00:00, ?it/s]\n",
      "0it [00:00, ?it/s]\n",
      "0it [00:00, ?it/s]\n",
      "0it [00:00, ?it/s]\n",
      "0it [00:00, ?it/s]\n",
      "0it [00:00, ?it/s]\n",
      "0it [00:00, ?it/s]\n",
      "0it [00:00, ?it/s]\n",
      "0it [00:00, ?it/s]\n",
      "0it [00:00, ?it/s]\n",
      "0it [00:00, ?it/s]\n",
      "0it [00:00, ?it/s]\n",
      "0it [00:00, ?it/s]\n",
      "0it [00:00, ?it/s]\n",
      "0it [00:00, ?it/s]\n",
      "0it [00:00, ?it/s]\n",
      "0it [00:00, ?it/s]\n",
      "0it [00:00, ?it/s]\n",
      "0it [00:00, ?it/s]\n",
      "0it [00:00, ?it/s]\n",
      "0it [00:00, ?it/s]\n",
      "0it [00:00, ?it/s]\n",
      "0it [00:00, ?it/s]\n",
      "0it [00:00, ?it/s]\n",
      "0it [00:00, ?it/s]\n",
      "0it [00:00, ?it/s]\n",
      "0it [00:00, ?it/s]\n",
      "0it [00:00, ?it/s]\n",
      "0it [00:00, ?it/s]\n",
      "0it [00:00, ?it/s]\n",
      "0it [00:00, ?it/s]\n",
      "0it [00:00, ?it/s]\n",
      "0it [00:00, ?it/s]\n",
      "0it [00:00, ?it/s]\n",
      "0it [00:00, ?it/s]\n",
      "0it [00:00, ?it/s]\n",
      "0it [00:00, ?it/s]\n",
      "0it [00:00, ?it/s]\n",
      "0it [00:00, ?it/s]\n",
      "0it [00:00, ?it/s]\n",
      "0it [00:00, ?it/s]\n",
      "0it [00:00, ?it/s]\n",
      "0it [00:00, ?it/s]\n",
      "0it [00:00, ?it/s]\n",
      "0it [00:00, ?it/s]\n",
      "0it [00:00, ?it/s]\n",
      "0it [00:00, ?it/s]\n",
      "0it [00:00, ?it/s]\n",
      "0it [00:00, ?it/s]\n",
      "0it [00:00, ?it/s]\n",
      "0it [00:00, ?it/s]\n",
      "0it [00:00, ?it/s]\n",
      "0it [00:00, ?it/s]\n",
      "0it [00:00, ?it/s]\n",
      "0it [00:00, ?it/s]\n",
      "0it [00:00, ?it/s]\n",
      "0it [00:00, ?it/s]\n",
      "0it [00:00, ?it/s]\n",
      "0it [00:00, ?it/s]\n",
      "0it [00:00, ?it/s]\n",
      "0it [00:00, ?it/s]\n",
      "0it [00:00, ?it/s]\n",
      "0it [00:00, ?it/s]\n",
      "0it [00:00, ?it/s]\n",
      "0it [00:00, ?it/s]\n",
      "0it [00:00, ?it/s]\n",
      "0it [00:00, ?it/s]\n",
      "0it [00:00, ?it/s]\n",
      "0it [00:00, ?it/s]\n",
      "0it [00:00, ?it/s]\n",
      "0it [00:00, ?it/s]\n",
      "0it [00:00, ?it/s]\n",
      "0it [00:00, ?it/s]\n",
      "0it [00:00, ?it/s]\n",
      "0it [00:00, ?it/s]\n",
      "0it [00:00, ?it/s]\n",
      "0it [00:00, ?it/s]\n",
      "0it [00:00, ?it/s]\n",
      "0it [00:00, ?it/s]\n",
      "0it [00:00, ?it/s]\n",
      "0it [00:00, ?it/s]\n",
      "0it [00:00, ?it/s]\n",
      "0it [00:00, ?it/s]\n",
      "0it [00:00, ?it/s]\n",
      "0it [00:00, ?it/s]\n",
      "0it [00:00, ?it/s]\n",
      "0it [00:00, ?it/s]\n",
      "0it [00:00, ?it/s]\n",
      "0it [00:00, ?it/s]\n",
      "0it [00:00, ?it/s]\n",
      "0it [00:00, ?it/s]\n",
      "0it [00:00, ?it/s]\n",
      "0it [00:00, ?it/s]\n",
      "0it [00:00, ?it/s]\n",
      "0it [00:00, ?it/s]\n",
      "0it [00:00, ?it/s]\n",
      "0it [00:00, ?it/s]\n",
      "0it [00:00, ?it/s]\n",
      "0it [00:00, ?it/s]\n",
      "0it [00:00, ?it/s]\n",
      "0it [00:00, ?it/s]\n",
      "0it [00:00, ?it/s]\n",
      "0it [00:00, ?it/s]\n",
      "0it [00:00, ?it/s]\n",
      "0it [00:00, ?it/s]\n",
      "0it [00:00, ?it/s]\n",
      "0it [00:00, ?it/s]\n",
      "0it [00:00, ?it/s]\n",
      "0it [00:00, ?it/s]\n",
      "0it [00:00, ?it/s]\n",
      "0it [00:00, ?it/s]\n",
      "0it [00:00, ?it/s]\n",
      "0it [00:00, ?it/s]\n",
      "0it [00:00, ?it/s]\n",
      "0it [00:00, ?it/s]\n",
      "0it [00:00, ?it/s]\n",
      "0it [00:00, ?it/s]\n",
      "0it [00:00, ?it/s]\n",
      "0it [00:00, ?it/s]\n",
      "0it [00:00, ?it/s]\n",
      "0it [00:00, ?it/s]\n",
      "0it [00:00, ?it/s]\n",
      "0it [00:00, ?it/s]\n",
      "0it [00:00, ?it/s]\n",
      "0it [00:00, ?it/s]\n",
      "0it [00:00, ?it/s]\n",
      "0it [00:00, ?it/s]\n",
      "0it [00:00, ?it/s]\n",
      "0it [00:00, ?it/s]\n",
      "0it [00:00, ?it/s]\n",
      "0it [00:00, ?it/s]\n",
      "0it [00:00, ?it/s]\n",
      "0it [00:00, ?it/s]\n",
      "0it [00:00, ?it/s]\n",
      "0it [00:00, ?it/s]\n",
      "0it [00:00, ?it/s]\n",
      "0it [00:00, ?it/s]\n",
      "0it [00:00, ?it/s]\n",
      "0it [00:00, ?it/s]\n",
      "0it [00:00, ?it/s]\n",
      "0it [00:00, ?it/s]\n",
      "0it [00:00, ?it/s]\n",
      "0it [00:00, ?it/s]\n",
      "0it [00:00, ?it/s]\n",
      "0it [00:00, ?it/s]\n",
      "0it [00:00, ?it/s]\n",
      "0it [00:00, ?it/s]\n",
      "0it [00:00, ?it/s]\n",
      "0it [00:00, ?it/s]\n",
      "0it [00:00, ?it/s]\n",
      "0it [00:00, ?it/s]\n",
      "0it [00:00, ?it/s]\n",
      "0it [00:00, ?it/s]\n",
      "0it [00:00, ?it/s]\n",
      "0it [00:00, ?it/s]\n",
      "0it [00:00, ?it/s]\n",
      "0it [00:00, ?it/s]\n",
      "0it [00:00, ?it/s]\n",
      "0it [00:00, ?it/s]\n",
      "0it [00:00, ?it/s]\n",
      "0it [00:00, ?it/s]\n",
      "0it [00:00, ?it/s]\n",
      "0it [00:00, ?it/s]\n",
      "0it [00:00, ?it/s]\n",
      "0it [00:00, ?it/s]\n",
      "0it [00:00, ?it/s]\n",
      "0it [00:00, ?it/s]\n",
      "0it [00:00, ?it/s]\n",
      "0it [00:00, ?it/s]\n",
      "0it [00:00, ?it/s]\n",
      "0it [00:00, ?it/s]\n",
      "0it [00:00, ?it/s]\n",
      "0it [00:00, ?it/s]\n",
      "0it [00:00, ?it/s]\n",
      "0it [00:00, ?it/s]\n",
      "0it [00:00, ?it/s]\n",
      "0it [00:00, ?it/s]\n",
      "0it [00:00, ?it/s]\n",
      "0it [00:00, ?it/s]\n",
      "0it [00:00, ?it/s]\n",
      "0it [00:00, ?it/s]\n",
      "0it [00:00, ?it/s]\n",
      "0it [00:00, ?it/s]\n",
      "0it [00:00, ?it/s]\n",
      "0it [00:00, ?it/s]\n",
      "0it [00:00, ?it/s]\n",
      "0it [00:00, ?it/s]\n",
      "0it [00:00, ?it/s]\n",
      "0it [00:00, ?it/s]\n",
      "0it [00:00, ?it/s]\n",
      "0it [00:00, ?it/s]\n",
      "0it [00:00, ?it/s]\n",
      "0it [00:00, ?it/s]\n",
      "0it [00:00, ?it/s]\n",
      "0it [00:00, ?it/s]\n",
      "0it [00:00, ?it/s]\n",
      "0it [00:00, ?it/s]\n",
      "0it [00:00, ?it/s]\n",
      "0it [00:00, ?it/s]\n",
      "0it [00:00, ?it/s]\n",
      "0it [00:00, ?it/s]\n",
      "0it [00:00, ?it/s]\n",
      "0it [00:00, ?it/s]\n",
      "0it [00:00, ?it/s]\n",
      "0it [00:00, ?it/s]\n",
      "0it [00:00, ?it/s]\n",
      "0it [00:00, ?it/s]\n",
      "0it [00:00, ?it/s]\n",
      "0it [00:00, ?it/s]\n",
      "0it [00:00, ?it/s]\n",
      "0it [00:00, ?it/s]\n",
      "0it [00:00, ?it/s]\n",
      "0it [00:00, ?it/s]\n",
      "0it [00:00, ?it/s]\n",
      "0it [00:00, ?it/s]\n",
      "0it [00:00, ?it/s]\n",
      "0it [00:00, ?it/s]\n",
      "0it [00:00, ?it/s]\n",
      "0it [00:00, ?it/s]\n",
      "0it [00:00, ?it/s]\n",
      "0it [00:00, ?it/s]\n",
      "0it [00:00, ?it/s]\n",
      "0it [00:00, ?it/s]\n",
      "0it [00:00, ?it/s]\n",
      "0it [00:00, ?it/s]\n",
      "0it [00:00, ?it/s]\n",
      "0it [00:00, ?it/s]\n",
      "0it [00:00, ?it/s]\n",
      "0it [00:00, ?it/s]\n",
      "0it [00:00, ?it/s]\n",
      "0it [00:00, ?it/s]\n",
      "0it [00:00, ?it/s]\n",
      "0it [00:00, ?it/s]\n",
      "0it [00:00, ?it/s]\n",
      "0it [00:00, ?it/s]\n",
      "0it [00:00, ?it/s]\n",
      "0it [00:00, ?it/s]\n",
      "0it [00:00, ?it/s]\n",
      "0it [00:00, ?it/s]\n",
      "0it [00:00, ?it/s]\n",
      "0it [00:00, ?it/s]\n",
      "0it [00:00, ?it/s]\n",
      "0it [00:00, ?it/s]\n",
      "0it [00:00, ?it/s]\n",
      "0it [00:00, ?it/s]\n",
      "0it [00:00, ?it/s]\n",
      "0it [00:00, ?it/s]\n",
      "0it [00:00, ?it/s]\n",
      "0it [00:00, ?it/s]\n",
      "0it [00:00, ?it/s]\n",
      "0it [00:00, ?it/s]\n",
      "0it [00:00, ?it/s]\n",
      "0it [00:00, ?it/s]\n",
      "0it [00:00, ?it/s]\n",
      "0it [00:00, ?it/s]\n",
      "0it [00:00, ?it/s]\n",
      "0it [00:00, ?it/s]\n",
      "0it [00:00, ?it/s]\n",
      "0it [00:00, ?it/s]\n",
      "0it [00:00, ?it/s]\n",
      "0it [00:00, ?it/s]\n",
      "0it [00:00, ?it/s]\n",
      "0it [00:00, ?it/s]\n",
      "0it [00:00, ?it/s]\n",
      "0it [00:00, ?it/s]\n",
      "0it [00:00, ?it/s]\n",
      "0it [00:00, ?it/s]\n",
      "0it [00:00, ?it/s]\n",
      "0it [00:00, ?it/s]\n",
      "0it [00:00, ?it/s]\n",
      "0it [00:00, ?it/s]\n",
      "0it [00:00, ?it/s]\n",
      "0it [00:00, ?it/s]\n",
      "0it [00:00, ?it/s]\n",
      "0it [00:00, ?it/s]\n",
      "0it [00:00, ?it/s]\n",
      "0it [00:00, ?it/s]\n",
      "0it [00:00, ?it/s]\n",
      "0it [00:00, ?it/s]\n",
      "0it [00:00, ?it/s]\n",
      "0it [00:00, ?it/s]\n",
      "0it [00:00, ?it/s]\n",
      "0it [00:00, ?it/s]\n",
      "0it [00:00, ?it/s]\n",
      "0it [00:00, ?it/s]\n",
      "0it [00:00, ?it/s]\n",
      "0it [00:00, ?it/s]\n",
      "0it [00:00, ?it/s]\n",
      "0it [00:00, ?it/s]\n",
      "0it [00:00, ?it/s]\n",
      "0it [00:00, ?it/s]\n",
      "0it [00:00, ?it/s]\n",
      "0it [00:00, ?it/s]\n",
      "0it [00:00, ?it/s]\n",
      "0it [00:00, ?it/s]\n",
      "0it [00:00, ?it/s]\n",
      "0it [00:00, ?it/s]\n",
      "0it [00:00, ?it/s]\n",
      "0it [00:00, ?it/s]\n",
      "0it [00:00, ?it/s]\n",
      "0it [00:00, ?it/s]\n",
      "0it [00:00, ?it/s]\n",
      "0it [00:00, ?it/s]\n",
      "0it [00:00, ?it/s]\n",
      "0it [00:00, ?it/s]\n",
      "0it [00:00, ?it/s]\n",
      "0it [00:00, ?it/s]\n",
      "0it [00:00, ?it/s]\n",
      "0it [00:00, ?it/s]\n",
      "0it [00:00, ?it/s]\n",
      "0it [00:00, ?it/s]\n",
      "0it [00:00, ?it/s]\n",
      "0it [00:00, ?it/s]\n",
      "0it [00:00, ?it/s]\n",
      "0it [00:00, ?it/s]\n",
      "0it [00:00, ?it/s]\n",
      "0it [00:00, ?it/s]\n",
      "0it [00:00, ?it/s]\n",
      "0it [00:00, ?it/s]\n",
      "0it [00:00, ?it/s]\n",
      "0it [00:00, ?it/s]\n",
      "0it [00:00, ?it/s]\n",
      "0it [00:00, ?it/s]\n",
      "0it [00:00, ?it/s]\n",
      "0it [00:00, ?it/s]\n",
      "0it [00:00, ?it/s]\n",
      "0it [00:00, ?it/s]\n",
      "0it [00:00, ?it/s]\n",
      "0it [00:00, ?it/s]\n",
      "0it [00:00, ?it/s]\n",
      "0it [00:00, ?it/s]\n",
      "0it [00:00, ?it/s]\n",
      "0it [00:00, ?it/s]\n",
      "0it [00:00, ?it/s]\n",
      "0it [00:00, ?it/s]\n",
      "0it [00:00, ?it/s]\n",
      "0it [00:00, ?it/s]\n",
      "0it [00:00, ?it/s]\n",
      "0it [00:00, ?it/s]\n",
      "0it [00:00, ?it/s]\n",
      "0it [00:00, ?it/s]\n",
      "0it [00:00, ?it/s]\n",
      "0it [00:00, ?it/s]\n",
      "0it [00:00, ?it/s]\n",
      "0it [00:00, ?it/s]\n",
      "0it [00:00, ?it/s]\n",
      "0it [00:00, ?it/s]\n",
      "0it [00:00, ?it/s]\n",
      "0it [00:00, ?it/s]\n",
      "0it [00:00, ?it/s]\n",
      "0it [00:00, ?it/s]\n",
      "0it [00:00, ?it/s]\n",
      "0it [00:00, ?it/s]\n",
      "0it [00:00, ?it/s]\n",
      "0it [00:00, ?it/s]\n",
      "0it [00:00, ?it/s]\n",
      "0it [00:00, ?it/s]\n",
      "0it [00:00, ?it/s]\n",
      "0it [00:00, ?it/s]\n",
      "0it [00:00, ?it/s]\n",
      "0it [00:00, ?it/s]\n",
      "0it [00:00, ?it/s]\n",
      "0it [00:00, ?it/s]\n",
      "0it [00:00, ?it/s]\n",
      "0it [00:00, ?it/s]\n",
      "0it [00:00, ?it/s]\n",
      "0it [00:00, ?it/s]\n",
      "0it [00:00, ?it/s]\n",
      "0it [00:00, ?it/s]\n",
      "0it [00:00, ?it/s]\n",
      "0it [00:00, ?it/s]\n",
      "0it [00:00, ?it/s]\n",
      "0it [00:00, ?it/s]\n",
      "0it [00:00, ?it/s]\n",
      "0it [00:00, ?it/s]\n",
      "0it [00:00, ?it/s]\n",
      "0it [00:00, ?it/s]\n",
      "0it [00:00, ?it/s]\n",
      "0it [00:00, ?it/s]\n",
      "0it [00:00, ?it/s]\n",
      "0it [00:00, ?it/s]\n",
      "0it [00:00, ?it/s]\n",
      "0it [00:00, ?it/s]\n",
      "0it [00:00, ?it/s]\n",
      "0it [00:00, ?it/s]\n",
      "0it [00:00, ?it/s]\n",
      "0it [00:00, ?it/s]\n",
      "0it [00:00, ?it/s]\n",
      "0it [00:00, ?it/s]\n",
      "0it [00:00, ?it/s]\n",
      "0it [00:00, ?it/s]\n",
      "0it [00:00, ?it/s]\n",
      "0it [00:00, ?it/s]\n",
      "0it [00:00, ?it/s]\n",
      "0it [00:00, ?it/s]\n",
      "0it [00:00, ?it/s]\n",
      "0it [00:00, ?it/s]\n",
      "0it [00:00, ?it/s]\n",
      "0it [00:00, ?it/s]\n",
      "0it [00:00, ?it/s]\n",
      "0it [00:00, ?it/s]\n",
      "0it [00:00, ?it/s]\n",
      "0it [00:00, ?it/s]\n",
      "0it [00:00, ?it/s]\n",
      "0it [00:00, ?it/s]\n",
      "0it [00:00, ?it/s]\n",
      "0it [00:00, ?it/s]\n",
      "0it [00:00, ?it/s]\n",
      "0it [00:00, ?it/s]\n",
      "0it [00:00, ?it/s]\n",
      "0it [00:00, ?it/s]\n",
      "0it [00:00, ?it/s]\n",
      "0it [00:00, ?it/s]\n",
      "0it [00:00, ?it/s]\n",
      "0it [00:00, ?it/s]\n",
      "0it [00:00, ?it/s]\n",
      "0it [00:00, ?it/s]\n",
      "0it [00:00, ?it/s]\n",
      "0it [00:00, ?it/s]\n",
      "0it [00:00, ?it/s]\n",
      "0it [00:00, ?it/s]\n",
      "0it [00:00, ?it/s]\n",
      "0it [00:00, ?it/s]\n",
      "0it [00:00, ?it/s]\n",
      "0it [00:00, ?it/s]\n",
      "0it [00:00, ?it/s]\n",
      "0it [00:00, ?it/s]\n",
      "0it [00:00, ?it/s]\n",
      "0it [00:00, ?it/s]\n",
      "0it [00:00, ?it/s]\n",
      "0it [00:00, ?it/s]\n",
      "0it [00:00, ?it/s]\n",
      "0it [00:00, ?it/s]\n",
      "0it [00:00, ?it/s]\n",
      "0it [00:00, ?it/s]\n",
      "0it [00:00, ?it/s]\n",
      "0it [00:00, ?it/s]\n",
      "0it [00:00, ?it/s]\n",
      "0it [00:00, ?it/s]\n",
      "0it [00:00, ?it/s]\n",
      "0it [00:00, ?it/s]\n",
      "0it [00:00, ?it/s]\n",
      "0it [00:00, ?it/s]\n",
      "0it [00:00, ?it/s]\n",
      "0it [00:00, ?it/s]\n",
      "0it [00:00, ?it/s]\n",
      "0it [00:00, ?it/s]\n",
      "0it [00:00, ?it/s]\n",
      "0it [00:00, ?it/s]\n",
      "0it [00:00, ?it/s]\n",
      "0it [00:00, ?it/s]\n",
      "0it [00:00, ?it/s]\n",
      "0it [00:00, ?it/s]\n",
      "0it [00:00, ?it/s]\n",
      "0it [00:00, ?it/s]\n",
      "0it [00:00, ?it/s]\n",
      "0it [00:00, ?it/s]\n",
      "0it [00:00, ?it/s]\n",
      "0it [00:00, ?it/s]\n",
      "0it [00:00, ?it/s]\n",
      "0it [00:00, ?it/s]\n",
      "0it [00:00, ?it/s]\n",
      "0it [00:00, ?it/s]\n",
      "0it [00:00, ?it/s]\n",
      "0it [00:00, ?it/s]\n",
      "0it [00:00, ?it/s]\n",
      "0it [00:00, ?it/s]\n",
      "0it [00:00, ?it/s]\n",
      "0it [00:00, ?it/s]\n",
      "0it [00:00, ?it/s]\n",
      "0it [00:00, ?it/s]\n",
      "0it [00:00, ?it/s]\n",
      "0it [00:00, ?it/s]\n",
      "0it [00:00, ?it/s]\n",
      "0it [00:00, ?it/s]\n",
      "0it [00:00, ?it/s]\n",
      "0it [00:00, ?it/s]\n",
      "0it [00:00, ?it/s]\n",
      "0it [00:00, ?it/s]\n",
      "0it [00:00, ?it/s]\n",
      "0it [00:00, ?it/s]\n",
      "0it [00:00, ?it/s]\n",
      "0it [00:00, ?it/s]\n",
      "0it [00:00, ?it/s]\n",
      "0it [00:00, ?it/s]\n",
      "0it [00:00, ?it/s]\n",
      "0it [00:00, ?it/s]\n",
      "0it [00:00, ?it/s]\n",
      "0it [00:00, ?it/s]\n",
      "0it [00:00, ?it/s]\n",
      "0it [00:00, ?it/s]\n",
      "0it [00:00, ?it/s]\n",
      "0it [00:00, ?it/s]\n",
      "0it [00:00, ?it/s]\n",
      "0it [00:00, ?it/s]\n",
      "0it [00:00, ?it/s]\n",
      "0it [00:00, ?it/s]\n",
      "0it [00:00, ?it/s]\n",
      "0it [00:00, ?it/s]\n",
      "0it [00:00, ?it/s]\n",
      "0it [00:00, ?it/s]\n",
      "0it [00:00, ?it/s]\n",
      "0it [00:00, ?it/s]\n",
      "0it [00:00, ?it/s]\n",
      "0it [00:00, ?it/s]\n",
      "0it [00:00, ?it/s]\n",
      "0it [00:00, ?it/s]\n",
      "0it [00:00, ?it/s]\n",
      "0it [00:00, ?it/s]\n",
      "0it [00:00, ?it/s]\n",
      "0it [00:00, ?it/s]\n",
      "0it [00:00, ?it/s]\n",
      "0it [00:00, ?it/s]\n",
      "0it [00:00, ?it/s]\n",
      "0it [00:00, ?it/s]\n",
      "0it [00:00, ?it/s]\n",
      "0it [00:00, ?it/s]\n",
      "0it [00:00, ?it/s]\n",
      "0it [00:00, ?it/s]\n",
      "0it [00:00, ?it/s]\n",
      "0it [00:00, ?it/s]\n",
      "0it [00:00, ?it/s]\n",
      "0it [00:00, ?it/s]\n",
      "0it [00:00, ?it/s]\n",
      "0it [00:00, ?it/s]\n",
      "0it [00:00, ?it/s]\n",
      "0it [00:00, ?it/s]\n",
      "0it [00:00, ?it/s]\n",
      "0it [00:00, ?it/s]\n",
      "0it [00:00, ?it/s]\n",
      "0it [00:00, ?it/s]\n",
      "0it [00:00, ?it/s]\n",
      "0it [00:00, ?it/s]\n",
      "0it [00:00, ?it/s]\n",
      "0it [00:00, ?it/s]\n",
      "0it [00:00, ?it/s]\n",
      "0it [00:00, ?it/s]\n",
      "0it [00:00, ?it/s]\n",
      "0it [00:00, ?it/s]\n",
      "0it [00:00, ?it/s]\n",
      "0it [00:00, ?it/s]\n",
      "0it [00:00, ?it/s]\n",
      "0it [00:00, ?it/s]\n",
      "0it [00:00, ?it/s]\n",
      "0it [00:00, ?it/s]\n",
      "0it [00:00, ?it/s]\n",
      "0it [00:00, ?it/s]\n",
      "0it [00:00, ?it/s]\n",
      "0it [00:00, ?it/s]\n",
      "0it [00:00, ?it/s]\n",
      "0it [00:00, ?it/s]\n",
      "0it [00:00, ?it/s]\n",
      "0it [00:00, ?it/s]\n",
      "0it [00:00, ?it/s]\n",
      "0it [00:00, ?it/s]\n",
      "0it [00:00, ?it/s]\n",
      "0it [00:00, ?it/s]\n",
      "0it [00:00, ?it/s]\n",
      "0it [00:00, ?it/s]\n",
      "0it [00:00, ?it/s]\n",
      "0it [00:00, ?it/s]\n",
      "0it [00:00, ?it/s]\n",
      "0it [00:00, ?it/s]\n",
      "0it [00:00, ?it/s]\n",
      "0it [00:00, ?it/s]\n",
      "0it [00:00, ?it/s]\n",
      "0it [00:00, ?it/s]\n",
      "0it [00:00, ?it/s]\n",
      "0it [00:00, ?it/s]\n",
      "0it [00:00, ?it/s]\n",
      "0it [00:00, ?it/s]\n",
      "0it [00:00, ?it/s]\n",
      "0it [00:00, ?it/s]\n",
      "0it [00:00, ?it/s]\n",
      "0it [00:00, ?it/s]\n",
      "0it [00:00, ?it/s]\n",
      "0it [00:00, ?it/s]\n",
      "0it [00:00, ?it/s]\n",
      "0it [00:00, ?it/s]\n",
      "0it [00:00, ?it/s]\n",
      "0it [00:00, ?it/s]\n",
      "0it [00:00, ?it/s]\n",
      "0it [00:00, ?it/s]\n",
      "0it [00:00, ?it/s]\n",
      "0it [00:00, ?it/s]\n",
      "0it [00:00, ?it/s]\n",
      "0it [00:00, ?it/s]\n",
      "0it [00:00, ?it/s]\n",
      "0it [00:00, ?it/s]\n",
      "0it [00:00, ?it/s]\n",
      "0it [00:00, ?it/s]\n",
      "0it [00:00, ?it/s]\n",
      "0it [00:00, ?it/s]\n",
      "0it [00:00, ?it/s]\n",
      "0it [00:00, ?it/s]\n",
      "0it [00:00, ?it/s]\n",
      "0it [00:00, ?it/s]\n",
      "0it [00:00, ?it/s]\n",
      "0it [00:00, ?it/s]\n",
      "0it [00:00, ?it/s]\n",
      "0it [00:00, ?it/s]\n",
      "0it [00:00, ?it/s]\n",
      "0it [00:00, ?it/s]\n",
      "0it [00:00, ?it/s]\n",
      "0it [00:00, ?it/s]\n",
      "0it [00:00, ?it/s]\n",
      "0it [00:00, ?it/s]\n",
      "0it [00:00, ?it/s]\n",
      "0it [00:00, ?it/s]\n",
      "0it [00:00, ?it/s]\n",
      "0it [00:00, ?it/s]\n",
      "0it [00:00, ?it/s]\n",
      "0it [00:00, ?it/s]\n",
      "0it [00:00, ?it/s]\n",
      "0it [00:00, ?it/s]\n",
      "0it [00:00, ?it/s]\n",
      "0it [00:00, ?it/s]\n",
      "0it [00:00, ?it/s]\n",
      "0it [00:00, ?it/s]\n",
      "0it [00:00, ?it/s]\n",
      "0it [00:00, ?it/s]\n",
      "0it [00:00, ?it/s]\n",
      "0it [00:00, ?it/s]\n",
      "0it [00:00, ?it/s]\n",
      "0it [00:00, ?it/s]\n",
      "0it [00:00, ?it/s]\n",
      "0it [00:00, ?it/s]\n",
      "0it [00:00, ?it/s]\n",
      "0it [00:00, ?it/s]\n",
      "0it [00:00, ?it/s]\n",
      "0it [00:00, ?it/s]\n",
      "0it [00:00, ?it/s]\n",
      "0it [00:00, ?it/s]\n",
      "0it [00:00, ?it/s]\n",
      "0it [00:00, ?it/s]\n",
      "0it [00:00, ?it/s]\n",
      "0it [00:00, ?it/s]\n",
      "0it [00:00, ?it/s]\n",
      "0it [00:00, ?it/s]\n",
      "0it [00:00, ?it/s]\n",
      "0it [00:00, ?it/s]\n",
      "0it [00:00, ?it/s]\n",
      "0it [00:00, ?it/s]\n",
      "0it [00:00, ?it/s]\n",
      "0it [00:00, ?it/s]\n",
      "0it [00:00, ?it/s]\n",
      "0it [00:00, ?it/s]\n",
      "0it [00:00, ?it/s]\n",
      "0it [00:00, ?it/s]\n",
      "0it [00:00, ?it/s]\n",
      "0it [00:00, ?it/s]\n",
      "0it [00:00, ?it/s]\n",
      "0it [00:00, ?it/s]\n",
      "0it [00:00, ?it/s]\n",
      "0it [00:00, ?it/s]\n",
      "0it [00:00, ?it/s]\n",
      "0it [00:00, ?it/s]\n",
      "0it [00:00, ?it/s]\n",
      "0it [00:00, ?it/s]\n",
      "0it [00:00, ?it/s]\n",
      "0it [00:00, ?it/s]\n",
      "0it [00:00, ?it/s]\n",
      "0it [00:00, ?it/s]\n",
      "0it [00:00, ?it/s]\n",
      "0it [00:00, ?it/s]\n",
      "0it [00:00, ?it/s]\n",
      "0it [00:00, ?it/s]\n",
      "0it [00:00, ?it/s]\n",
      "0it [00:00, ?it/s]\n",
      "0it [00:00, ?it/s]\n",
      "0it [00:00, ?it/s]\n",
      "0it [00:00, ?it/s]\n",
      "0it [00:00, ?it/s]\n",
      "0it [00:00, ?it/s]\n",
      "0it [00:00, ?it/s]\n",
      "0it [00:00, ?it/s]\n",
      "0it [00:00, ?it/s]\n",
      "0it [00:00, ?it/s]\n",
      "0it [00:00, ?it/s]\n",
      "0it [00:00, ?it/s]\n",
      "0it [00:00, ?it/s]\n",
      "0it [00:00, ?it/s]\n",
      "0it [00:00, ?it/s]\n",
      "0it [00:00, ?it/s]\n",
      "0it [00:00, ?it/s]\n",
      "0it [00:00, ?it/s]\n",
      "0it [00:00, ?it/s]\n",
      "0it [00:00, ?it/s]\n",
      "0it [00:00, ?it/s]\n",
      "0it [00:00, ?it/s]\n",
      "0it [00:00, ?it/s]\n",
      "0it [00:00, ?it/s]\n",
      "0it [00:00, ?it/s]\n",
      "0it [00:00, ?it/s]\n",
      "0it [00:00, ?it/s]\n",
      "0it [00:00, ?it/s]\n",
      "0it [00:00, ?it/s]\n",
      "0it [00:00, ?it/s]\n",
      "0it [00:00, ?it/s]\n",
      "0it [00:00, ?it/s]\n",
      "0it [00:00, ?it/s]\n",
      "0it [00:00, ?it/s]\n",
      "0it [00:00, ?it/s]\n",
      "0it [00:00, ?it/s]\n",
      "0it [00:00, ?it/s]\n",
      "0it [00:00, ?it/s]\n",
      "0it [00:00, ?it/s]\n",
      "0it [00:00, ?it/s]\n",
      "0it [00:00, ?it/s]\n",
      "0it [00:00, ?it/s]\n",
      "0it [00:00, ?it/s]\n",
      "0it [00:00, ?it/s]\n",
      "0it [00:00, ?it/s]\n",
      "0it [00:00, ?it/s]\n",
      "0it [00:00, ?it/s]\n",
      "0it [00:00, ?it/s]\n",
      "0it [00:00, ?it/s]\n",
      "0it [00:00, ?it/s]\n",
      "0it [00:00, ?it/s]\n",
      "0it [00:00, ?it/s]\n",
      "0it [00:00, ?it/s]\n",
      "0it [00:00, ?it/s]\n",
      "0it [00:00, ?it/s]\n",
      "0it [00:00, ?it/s]\n",
      "0it [00:00, ?it/s]\n",
      "0it [00:00, ?it/s]\n",
      "0it [00:00, ?it/s]\n",
      "0it [00:00, ?it/s]\n",
      "0it [00:00, ?it/s]\n",
      "0it [00:00, ?it/s]\n",
      "0it [00:00, ?it/s]\n",
      "0it [00:00, ?it/s]\n",
      "0it [00:00, ?it/s]\n",
      "0it [00:00, ?it/s]\n",
      "0it [00:00, ?it/s]\n",
      "0it [00:00, ?it/s]\n",
      "0it [00:00, ?it/s]\n",
      "0it [00:00, ?it/s]\n",
      "0it [00:00, ?it/s]\n",
      "0it [00:00, ?it/s]\n",
      "0it [00:00, ?it/s]\n",
      "0it [00:00, ?it/s]\n",
      "0it [00:00, ?it/s]\n",
      "0it [00:00, ?it/s]\n",
      "0it [00:00, ?it/s]\n",
      "0it [00:00, ?it/s]\n",
      "0it [00:00, ?it/s]\n",
      "0it [00:00, ?it/s]\n",
      "0it [00:00, ?it/s]\n",
      "0it [00:00, ?it/s]\n"
     ]
    },
    {
     "name": "stderr",
     "output_type": "stream",
     "text": [
      "0it [00:00, ?it/s]\n",
      "0it [00:00, ?it/s]\n",
      "0it [00:00, ?it/s]\n",
      "0it [00:00, ?it/s]\n",
      "0it [00:00, ?it/s]\n",
      "0it [00:00, ?it/s]\n",
      "0it [00:00, ?it/s]\n",
      "0it [00:00, ?it/s]\n",
      "0it [00:00, ?it/s]\n",
      "0it [00:00, ?it/s]\n",
      "0it [00:00, ?it/s]\n",
      "0it [00:00, ?it/s]\n",
      "0it [00:00, ?it/s]\n",
      "0it [00:00, ?it/s]\n",
      "0it [00:00, ?it/s]\n",
      "0it [00:00, ?it/s]\n",
      "0it [00:00, ?it/s]\n",
      "0it [00:00, ?it/s]\n",
      "0it [00:00, ?it/s]\n",
      "0it [00:00, ?it/s]\n",
      "0it [00:00, ?it/s]\n",
      "0it [00:00, ?it/s]\n",
      "0it [00:00, ?it/s]\n",
      "0it [00:00, ?it/s]\n",
      "0it [00:00, ?it/s]\n",
      "0it [00:00, ?it/s]\n",
      "0it [00:00, ?it/s]\n",
      "0it [00:00, ?it/s]\n",
      "0it [00:00, ?it/s]\n",
      "0it [00:00, ?it/s]\n",
      "0it [00:00, ?it/s]\n",
      "0it [00:00, ?it/s]\n",
      "0it [00:00, ?it/s]\n",
      "0it [00:00, ?it/s]\n",
      "0it [00:00, ?it/s]\n",
      "0it [00:00, ?it/s]\n",
      "0it [00:00, ?it/s]\n",
      "0it [00:00, ?it/s]\n",
      "0it [00:00, ?it/s]\n",
      "0it [00:00, ?it/s]\n",
      "0it [00:00, ?it/s]\n",
      "0it [00:00, ?it/s]\n",
      "0it [00:00, ?it/s]\n",
      "0it [00:00, ?it/s]\n",
      "0it [00:00, ?it/s]\n",
      "0it [00:00, ?it/s]\n",
      "0it [00:00, ?it/s]\n",
      "0it [00:00, ?it/s]\n",
      "0it [00:00, ?it/s]\n",
      "0it [00:00, ?it/s]\n",
      "0it [00:00, ?it/s]\n",
      "0it [00:00, ?it/s]\n",
      "0it [00:00, ?it/s]\n",
      "0it [00:00, ?it/s]\n",
      "0it [00:00, ?it/s]\n",
      "0it [00:00, ?it/s]\n",
      "0it [00:00, ?it/s]\n",
      "0it [00:00, ?it/s]\n",
      "0it [00:00, ?it/s]\n",
      "0it [00:00, ?it/s]\n",
      "0it [00:00, ?it/s]\n",
      "0it [00:00, ?it/s]\n",
      "0it [00:00, ?it/s]\n",
      "0it [00:00, ?it/s]\n",
      "0it [00:00, ?it/s]\n",
      "0it [00:00, ?it/s]\n",
      "0it [00:00, ?it/s]\n",
      "0it [00:00, ?it/s]\n",
      "0it [00:00, ?it/s]\n",
      "0it [00:00, ?it/s]\n",
      "0it [00:00, ?it/s]\n",
      "0it [00:00, ?it/s]\n",
      "0it [00:00, ?it/s]\n",
      "0it [00:00, ?it/s]\n",
      "0it [00:00, ?it/s]\n",
      "0it [00:00, ?it/s]\n",
      "0it [00:00, ?it/s]\n",
      "0it [00:00, ?it/s]\n",
      "0it [00:00, ?it/s]\n",
      "0it [00:00, ?it/s]\n",
      "0it [00:00, ?it/s]\n",
      "0it [00:00, ?it/s]\n",
      "0it [00:00, ?it/s]\n",
      "0it [00:00, ?it/s]\n",
      "0it [00:00, ?it/s]\n",
      "0it [00:00, ?it/s]\n",
      "0it [00:00, ?it/s]\n",
      "0it [00:00, ?it/s]\n",
      "0it [00:00, ?it/s]\n",
      "0it [00:00, ?it/s]\n",
      "0it [00:00, ?it/s]\n",
      "0it [00:00, ?it/s]\n",
      "0it [00:00, ?it/s]\n",
      "0it [00:00, ?it/s]\n",
      "0it [00:00, ?it/s]\n",
      "0it [00:00, ?it/s]\n",
      "0it [00:00, ?it/s]\n",
      "0it [00:00, ?it/s]\n",
      "0it [00:00, ?it/s]\n",
      "0it [00:00, ?it/s]\n",
      "0it [00:00, ?it/s]\n",
      "0it [00:00, ?it/s]\n",
      "0it [00:00, ?it/s]\n",
      "0it [00:00, ?it/s]\n",
      "0it [00:00, ?it/s]\n",
      "0it [00:00, ?it/s]\n",
      "0it [00:00, ?it/s]\n",
      "0it [00:00, ?it/s]\n",
      "0it [00:00, ?it/s]\n",
      "0it [00:00, ?it/s]\n",
      "0it [00:00, ?it/s]\n",
      "0it [00:00, ?it/s]\n",
      "0it [00:00, ?it/s]\n",
      "0it [00:00, ?it/s]\n",
      "0it [00:00, ?it/s]\n",
      "0it [00:00, ?it/s]\n",
      "0it [00:00, ?it/s]\n",
      "0it [00:00, ?it/s]\n",
      "0it [00:00, ?it/s]\n",
      "0it [00:00, ?it/s]\n",
      "0it [00:00, ?it/s]\n",
      "0it [00:00, ?it/s]\n",
      "0it [00:00, ?it/s]\n",
      "0it [00:00, ?it/s]\n",
      "0it [00:00, ?it/s]\n",
      "0it [00:00, ?it/s]\n",
      "0it [00:00, ?it/s]\n",
      "0it [00:00, ?it/s]\n",
      "0it [00:00, ?it/s]\n",
      "0it [00:00, ?it/s]\n",
      "0it [00:00, ?it/s]\n",
      "0it [00:00, ?it/s]\n",
      "0it [00:00, ?it/s]\n",
      "0it [00:00, ?it/s]\n",
      "0it [00:00, ?it/s]\n",
      "0it [00:00, ?it/s]\n",
      "0it [00:00, ?it/s]\n",
      "0it [00:00, ?it/s]\n",
      "0it [00:00, ?it/s]\n",
      "0it [00:00, ?it/s]\n",
      "0it [00:00, ?it/s]\n",
      "0it [00:00, ?it/s]\n",
      "0it [00:00, ?it/s]\n",
      "0it [00:00, ?it/s]\n",
      "0it [00:00, ?it/s]\n",
      "0it [00:00, ?it/s]\n",
      "0it [00:00, ?it/s]\n",
      "0it [00:00, ?it/s]\n",
      "0it [00:00, ?it/s]\n",
      "0it [00:00, ?it/s]\n",
      "0it [00:00, ?it/s]\n",
      "0it [00:00, ?it/s]\n",
      "0it [00:00, ?it/s]\n",
      "0it [00:00, ?it/s]\n",
      "0it [00:00, ?it/s]\n",
      "0it [00:00, ?it/s]\n",
      "0it [00:00, ?it/s]\n",
      "0it [00:00, ?it/s]\n",
      "0it [00:00, ?it/s]\n",
      "0it [00:00, ?it/s]\n",
      "0it [00:00, ?it/s]\n",
      "0it [00:00, ?it/s]\n",
      "0it [00:00, ?it/s]\n",
      "0it [00:00, ?it/s]\n",
      "0it [00:00, ?it/s]\n",
      "0it [00:00, ?it/s]\n",
      "0it [00:00, ?it/s]\n",
      "0it [00:00, ?it/s]\n",
      "0it [00:00, ?it/s]\n",
      "0it [00:00, ?it/s]\n",
      "0it [00:00, ?it/s]\n",
      "0it [00:00, ?it/s]\n",
      "0it [00:00, ?it/s]\n",
      "0it [00:00, ?it/s]\n",
      "0it [00:00, ?it/s]\n",
      "0it [00:00, ?it/s]\n",
      "0it [00:00, ?it/s]\n",
      "0it [00:00, ?it/s]\n",
      "0it [00:00, ?it/s]\n",
      "0it [00:00, ?it/s]\n",
      "0it [00:00, ?it/s]\n",
      "0it [00:00, ?it/s]\n",
      "0it [00:00, ?it/s]\n",
      "0it [00:00, ?it/s]\n",
      "0it [00:00, ?it/s]\n",
      "0it [00:00, ?it/s]\n",
      "0it [00:00, ?it/s]\n",
      "0it [00:00, ?it/s]\n",
      "0it [00:00, ?it/s]\n",
      "0it [00:00, ?it/s]\n",
      "0it [00:00, ?it/s]\n",
      "0it [00:00, ?it/s]\n",
      "0it [00:00, ?it/s]\n",
      "0it [00:00, ?it/s]\n",
      "0it [00:00, ?it/s]\n",
      "0it [00:00, ?it/s]\n",
      "0it [00:00, ?it/s]\n",
      "0it [00:00, ?it/s]\n",
      "0it [00:00, ?it/s]\n",
      "0it [00:00, ?it/s]\n",
      "0it [00:00, ?it/s]\n",
      "0it [00:00, ?it/s]\n",
      "0it [00:00, ?it/s]\n",
      "0it [00:00, ?it/s]\n",
      "0it [00:00, ?it/s]\n",
      "0it [00:00, ?it/s]\n",
      "0it [00:00, ?it/s]\n",
      "0it [00:00, ?it/s]\n",
      "0it [00:00, ?it/s]\n",
      "0it [00:00, ?it/s]\n",
      "0it [00:00, ?it/s]\n",
      "0it [00:00, ?it/s]\n",
      "0it [00:00, ?it/s]\n",
      "0it [00:00, ?it/s]\n",
      "0it [00:00, ?it/s]\n",
      "0it [00:00, ?it/s]\n",
      "0it [00:00, ?it/s]\n",
      "0it [00:00, ?it/s]\n",
      "0it [00:00, ?it/s]\n",
      "0it [00:00, ?it/s]\n",
      "0it [00:00, ?it/s]\n",
      "0it [00:00, ?it/s]\n",
      "0it [00:00, ?it/s]\n",
      "0it [00:00, ?it/s]\n",
      "0it [00:00, ?it/s]\n",
      "0it [00:00, ?it/s]\n",
      "0it [00:00, ?it/s]\n",
      "0it [00:00, ?it/s]\n",
      "0it [00:00, ?it/s]\n",
      "0it [00:00, ?it/s]\n",
      "0it [00:00, ?it/s]\n",
      "0it [00:00, ?it/s]\n",
      "0it [00:00, ?it/s]\n",
      "0it [00:00, ?it/s]\n",
      "0it [00:00, ?it/s]\n",
      "0it [00:00, ?it/s]\n",
      "0it [00:00, ?it/s]\n",
      "0it [00:00, ?it/s]\n",
      "0it [00:00, ?it/s]\n",
      "0it [00:00, ?it/s]\n",
      "0it [00:00, ?it/s]\n",
      "0it [00:00, ?it/s]\n",
      "0it [00:00, ?it/s]\n",
      "0it [00:00, ?it/s]\n",
      "0it [00:00, ?it/s]\n",
      "0it [00:00, ?it/s]\n",
      "0it [00:00, ?it/s]\n",
      "0it [00:00, ?it/s]\n",
      "0it [00:00, ?it/s]\n",
      "0it [00:00, ?it/s]\n",
      "0it [00:00, ?it/s]\n",
      "0it [00:00, ?it/s]\n",
      "0it [00:00, ?it/s]\n",
      "0it [00:00, ?it/s]\n",
      "0it [00:00, ?it/s]\n",
      "0it [00:00, ?it/s]\n",
      "0it [00:00, ?it/s]\n",
      "0it [00:00, ?it/s]\n",
      "0it [00:00, ?it/s]\n",
      "0it [00:00, ?it/s]\n",
      "0it [00:00, ?it/s]\n",
      "0it [00:00, ?it/s]\n",
      "0it [00:00, ?it/s]\n",
      "0it [00:00, ?it/s]\n",
      "0it [00:00, ?it/s]\n",
      "0it [00:00, ?it/s]\n",
      "0it [00:00, ?it/s]\n",
      "0it [00:00, ?it/s]\n",
      "0it [00:00, ?it/s]\n",
      "0it [00:00, ?it/s]\n",
      "0it [00:00, ?it/s]\n",
      "0it [00:00, ?it/s]\n",
      "0it [00:00, ?it/s]\n",
      "0it [00:00, ?it/s]\n",
      "0it [00:00, ?it/s]\n",
      "0it [00:00, ?it/s]\n",
      "0it [00:00, ?it/s]\n",
      "0it [00:00, ?it/s]\n",
      "0it [00:00, ?it/s]\n",
      "0it [00:00, ?it/s]\n",
      "0it [00:00, ?it/s]\n",
      "0it [00:00, ?it/s]\n",
      "0it [00:00, ?it/s]\n",
      "0it [00:00, ?it/s]\n",
      "0it [00:00, ?it/s]\n",
      "0it [00:00, ?it/s]\n",
      "0it [00:00, ?it/s]\n",
      "0it [00:00, ?it/s]\n",
      "0it [00:00, ?it/s]\n",
      "0it [00:00, ?it/s]\n",
      "0it [00:00, ?it/s]\n",
      "0it [00:00, ?it/s]\n",
      "0it [00:00, ?it/s]\n",
      "0it [00:00, ?it/s]\n",
      "0it [00:00, ?it/s]\n",
      "0it [00:00, ?it/s]\n",
      "0it [00:00, ?it/s]\n",
      "0it [00:00, ?it/s]\n",
      "0it [00:00, ?it/s]\n",
      "0it [00:00, ?it/s]\n",
      "0it [00:00, ?it/s]\n",
      "0it [00:00, ?it/s]\n",
      "0it [00:00, ?it/s]\n",
      "0it [00:00, ?it/s]\n",
      "0it [00:00, ?it/s]\n",
      "0it [00:00, ?it/s]\n",
      "0it [00:00, ?it/s]\n",
      "0it [00:00, ?it/s]\n",
      "0it [00:00, ?it/s]\n",
      "0it [00:00, ?it/s]\n",
      "0it [00:00, ?it/s]\n",
      "0it [00:00, ?it/s]\n",
      "0it [00:00, ?it/s]\n",
      "0it [00:00, ?it/s]\n",
      "0it [00:00, ?it/s]\n",
      "0it [00:00, ?it/s]\n",
      "0it [00:00, ?it/s]\n",
      "0it [00:00, ?it/s]\n",
      "0it [00:00, ?it/s]\n",
      "0it [00:00, ?it/s]\n",
      "0it [00:00, ?it/s]\n",
      "0it [00:00, ?it/s]\n",
      "0it [00:00, ?it/s]\n",
      "0it [00:00, ?it/s]\n",
      "0it [00:00, ?it/s]\n",
      "0it [00:00, ?it/s]\n",
      "0it [00:00, ?it/s]\n",
      "0it [00:00, ?it/s]\n",
      "0it [00:00, ?it/s]\n",
      "0it [00:00, ?it/s]\n",
      "0it [00:00, ?it/s]\n",
      "0it [00:00, ?it/s]\n",
      "0it [00:00, ?it/s]\n",
      "0it [00:00, ?it/s]\n",
      "0it [00:00, ?it/s]\n",
      "0it [00:00, ?it/s]\n",
      "0it [00:00, ?it/s]\n",
      "0it [00:00, ?it/s]\n",
      "0it [00:00, ?it/s]\n",
      "0it [00:00, ?it/s]\n",
      "0it [00:00, ?it/s]\n",
      "0it [00:00, ?it/s]\n",
      "0it [00:00, ?it/s]\n",
      "0it [00:00, ?it/s]\n",
      "0it [00:00, ?it/s]\n",
      "0it [00:00, ?it/s]\n",
      "0it [00:00, ?it/s]\n",
      "0it [00:00, ?it/s]\n",
      "0it [00:00, ?it/s]\n",
      "0it [00:00, ?it/s]\n",
      "0it [00:00, ?it/s]\n",
      "0it [00:00, ?it/s]\n",
      "0it [00:00, ?it/s]\n",
      "0it [00:00, ?it/s]\n",
      "0it [00:00, ?it/s]\n",
      "0it [00:00, ?it/s]\n",
      "0it [00:00, ?it/s]\n",
      "0it [00:00, ?it/s]\n",
      "0it [00:00, ?it/s]\n",
      "0it [00:00, ?it/s]\n",
      "0it [00:00, ?it/s]\n",
      "0it [00:00, ?it/s]\n",
      "0it [00:00, ?it/s]\n",
      "0it [00:00, ?it/s]\n",
      "0it [00:00, ?it/s]\n",
      "0it [00:00, ?it/s]\n",
      "0it [00:00, ?it/s]\n",
      "0it [00:00, ?it/s]\n",
      "0it [00:00, ?it/s]\n",
      "0it [00:00, ?it/s]\n",
      "0it [00:00, ?it/s]\n",
      "0it [00:00, ?it/s]\n",
      "0it [00:00, ?it/s]\n",
      "0it [00:00, ?it/s]\n",
      "0it [00:00, ?it/s]\n",
      "0it [00:00, ?it/s]\n",
      "0it [00:00, ?it/s]\n",
      "0it [00:00, ?it/s]\n",
      "0it [00:00, ?it/s]\n",
      "0it [00:00, ?it/s]\n",
      "0it [00:00, ?it/s]\n",
      "0it [00:00, ?it/s]\n",
      "0it [00:00, ?it/s]\n",
      "0it [00:00, ?it/s]\n",
      "0it [00:00, ?it/s]\n",
      "0it [00:00, ?it/s]\n",
      "0it [00:00, ?it/s]\n",
      "0it [00:00, ?it/s]\n",
      "0it [00:00, ?it/s]\n",
      "0it [00:00, ?it/s]\n",
      "0it [00:00, ?it/s]\n",
      "0it [00:00, ?it/s]\n",
      "0it [00:00, ?it/s]\n",
      "0it [00:00, ?it/s]\n",
      "0it [00:00, ?it/s]\n",
      "0it [00:00, ?it/s]\n",
      "0it [00:00, ?it/s]\n",
      "0it [00:00, ?it/s]\n",
      "0it [00:00, ?it/s]\n",
      "0it [00:00, ?it/s]\n",
      "0it [00:00, ?it/s]\n",
      "0it [00:00, ?it/s]\n",
      "0it [00:00, ?it/s]\n",
      "0it [00:00, ?it/s]\n",
      "0it [00:00, ?it/s]\n",
      "0it [00:00, ?it/s]\n",
      "0it [00:00, ?it/s]\n",
      "0it [00:00, ?it/s]\n",
      "0it [00:00, ?it/s]\n",
      "0it [00:00, ?it/s]\n",
      "0it [00:00, ?it/s]\n",
      "0it [00:00, ?it/s]\n",
      "0it [00:00, ?it/s]\n",
      "0it [00:00, ?it/s]\n",
      "0it [00:00, ?it/s]\n",
      "0it [00:00, ?it/s]\n",
      "0it [00:00, ?it/s]\n",
      "0it [00:00, ?it/s]\n",
      "0it [00:00, ?it/s]\n",
      "0it [00:00, ?it/s]\n",
      "0it [00:00, ?it/s]\n",
      "0it [00:00, ?it/s]\n",
      "0it [00:00, ?it/s]\n",
      "0it [00:00, ?it/s]\n",
      "0it [00:00, ?it/s]\n",
      "0it [00:00, ?it/s]\n",
      "0it [00:00, ?it/s]\n",
      "0it [00:00, ?it/s]\n",
      "0it [00:00, ?it/s]\n",
      "0it [00:00, ?it/s]\n",
      "0it [00:00, ?it/s]\n",
      "0it [00:00, ?it/s]\n",
      "0it [00:00, ?it/s]\n",
      "0it [00:00, ?it/s]\n",
      "0it [00:00, ?it/s]\n",
      "0it [00:00, ?it/s]\n",
      "0it [00:00, ?it/s]\n",
      "0it [00:00, ?it/s]\n",
      "0it [00:00, ?it/s]\n",
      "0it [00:00, ?it/s]\n",
      "0it [00:00, ?it/s]\n",
      "0it [00:00, ?it/s]\n",
      "0it [00:00, ?it/s]\n",
      "0it [00:00, ?it/s]\n",
      "0it [00:00, ?it/s]\n",
      "0it [00:00, ?it/s]\n",
      "0it [00:00, ?it/s]\n",
      "0it [00:00, ?it/s]\n",
      "0it [00:00, ?it/s]\n",
      "0it [00:00, ?it/s]\n",
      "0it [00:00, ?it/s]\n",
      "0it [00:00, ?it/s]\n",
      "0it [00:00, ?it/s]\n",
      "0it [00:00, ?it/s]\n",
      "0it [00:00, ?it/s]\n",
      "0it [00:00, ?it/s]\n",
      "0it [00:00, ?it/s]\n",
      "0it [00:00, ?it/s]\n",
      "0it [00:00, ?it/s]\n",
      "0it [00:00, ?it/s]\n",
      "0it [00:00, ?it/s]\n",
      "0it [00:00, ?it/s]\n",
      "0it [00:00, ?it/s]\n",
      "0it [00:00, ?it/s]\n",
      "0it [00:00, ?it/s]\n",
      "0it [00:00, ?it/s]\n",
      "0it [00:00, ?it/s]\n",
      "0it [00:00, ?it/s]\n",
      "0it [00:00, ?it/s]\n",
      "0it [00:00, ?it/s]\n",
      "0it [00:00, ?it/s]\n",
      "0it [00:00, ?it/s]\n",
      "0it [00:00, ?it/s]\n",
      "0it [00:00, ?it/s]\n",
      "0it [00:00, ?it/s]\n",
      "0it [00:00, ?it/s]\n",
      "0it [00:00, ?it/s]\n",
      "0it [00:00, ?it/s]\n",
      "0it [00:00, ?it/s]\n",
      "0it [00:00, ?it/s]\n",
      "0it [00:00, ?it/s]\n",
      "0it [00:00, ?it/s]\n",
      "0it [00:00, ?it/s]\n",
      "0it [00:00, ?it/s]\n",
      "0it [00:00, ?it/s]\n",
      "0it [00:00, ?it/s]\n",
      "0it [00:00, ?it/s]\n",
      "0it [00:00, ?it/s]\n",
      "0it [00:00, ?it/s]\n",
      "0it [00:00, ?it/s]\n",
      "0it [00:00, ?it/s]\n",
      "0it [00:00, ?it/s]\n",
      "0it [00:00, ?it/s]\n",
      "0it [00:00, ?it/s]\n",
      "0it [00:00, ?it/s]\n",
      "0it [00:00, ?it/s]\n",
      "0it [00:00, ?it/s]\n",
      "0it [00:00, ?it/s]\n",
      "0it [00:00, ?it/s]\n",
      "0it [00:00, ?it/s]\n",
      "0it [00:00, ?it/s]\n",
      "0it [00:00, ?it/s]\n",
      "0it [00:00, ?it/s]\n",
      "0it [00:00, ?it/s]\n",
      "0it [00:00, ?it/s]\n",
      "0it [00:00, ?it/s]\n",
      "0it [00:00, ?it/s]\n",
      "0it [00:00, ?it/s]\n",
      "0it [00:00, ?it/s]\n",
      "0it [00:00, ?it/s]\n",
      "0it [00:00, ?it/s]\n",
      "0it [00:00, ?it/s]\n",
      "0it [00:00, ?it/s]\n",
      "0it [00:00, ?it/s]\n",
      "0it [00:00, ?it/s]\n",
      "0it [00:00, ?it/s]\n",
      "0it [00:00, ?it/s]\n",
      "0it [00:00, ?it/s]\n",
      "0it [00:00, ?it/s]\n",
      "0it [00:00, ?it/s]\n",
      "0it [00:00, ?it/s]\n",
      "0it [00:00, ?it/s]\n",
      "0it [00:00, ?it/s]\n",
      "0it [00:00, ?it/s]\n",
      "0it [00:00, ?it/s]\n",
      "0it [00:00, ?it/s]\n",
      "0it [00:00, ?it/s]\n",
      "0it [00:00, ?it/s]\n",
      "0it [00:00, ?it/s]\n",
      "0it [00:00, ?it/s]\n",
      "0it [00:00, ?it/s]\n",
      "0it [00:00, ?it/s]\n",
      "0it [00:00, ?it/s]\n",
      "0it [00:00, ?it/s]\n",
      "0it [00:00, ?it/s]\n",
      "0it [00:00, ?it/s]\n",
      "0it [00:00, ?it/s]\n",
      "0it [00:00, ?it/s]\n",
      "0it [00:00, ?it/s]\n",
      "0it [00:00, ?it/s]\n",
      "0it [00:00, ?it/s]\n",
      "0it [00:00, ?it/s]\n",
      "0it [00:00, ?it/s]\n",
      "0it [00:00, ?it/s]\n",
      "0it [00:00, ?it/s]\n",
      "0it [00:00, ?it/s]\n",
      "0it [00:00, ?it/s]\n",
      "0it [00:00, ?it/s]\n",
      "0it [00:00, ?it/s]\n",
      "0it [00:00, ?it/s]\n",
      "0it [00:00, ?it/s]\n",
      "0it [00:00, ?it/s]\n",
      "0it [00:00, ?it/s]\n",
      "0it [00:00, ?it/s]\n",
      "0it [00:00, ?it/s]\n",
      "0it [00:00, ?it/s]\n",
      "0it [00:00, ?it/s]\n",
      "0it [00:00, ?it/s]\n",
      "0it [00:00, ?it/s]\n",
      "0it [00:00, ?it/s]\n",
      "0it [00:00, ?it/s]\n",
      "0it [00:00, ?it/s]\n",
      "0it [00:00, ?it/s]\n",
      "0it [00:00, ?it/s]\n",
      "0it [00:00, ?it/s]\n",
      "0it [00:00, ?it/s]\n",
      "0it [00:00, ?it/s]\n",
      "0it [00:00, ?it/s]\n",
      "0it [00:00, ?it/s]\n",
      "0it [00:00, ?it/s]\n",
      "0it [00:00, ?it/s]\n",
      "0it [00:00, ?it/s]\n",
      "0it [00:00, ?it/s]\n",
      "0it [00:00, ?it/s]\n",
      "0it [00:00, ?it/s]\n",
      "0it [00:00, ?it/s]\n",
      "0it [00:00, ?it/s]\n",
      "0it [00:00, ?it/s]\n",
      "0it [00:00, ?it/s]\n",
      "0it [00:00, ?it/s]\n",
      "0it [00:00, ?it/s]\n",
      "0it [00:00, ?it/s]\n",
      "0it [00:00, ?it/s]\n",
      "0it [00:00, ?it/s]\n",
      "0it [00:00, ?it/s]\n",
      "0it [00:00, ?it/s]\n",
      "0it [00:00, ?it/s]\n",
      "0it [00:00, ?it/s]\n",
      "0it [00:00, ?it/s]\n",
      "0it [00:00, ?it/s]\n",
      "0it [00:00, ?it/s]\n",
      "0it [00:00, ?it/s]\n",
      "0it [00:00, ?it/s]\n",
      "0it [00:00, ?it/s]\n",
      "0it [00:00, ?it/s]\n",
      "0it [00:00, ?it/s]\n",
      "0it [00:00, ?it/s]\n",
      "0it [00:00, ?it/s]\n",
      "0it [00:00, ?it/s]\n",
      "0it [00:00, ?it/s]\n",
      "0it [00:00, ?it/s]\n",
      "0it [00:00, ?it/s]\n",
      "0it [00:00, ?it/s]\n",
      "0it [00:00, ?it/s]\n",
      "0it [00:00, ?it/s]\n",
      "0it [00:00, ?it/s]\n",
      "0it [00:00, ?it/s]\n",
      "0it [00:00, ?it/s]\n",
      "0it [00:00, ?it/s]\n",
      "0it [00:00, ?it/s]\n",
      "0it [00:00, ?it/s]\n",
      "0it [00:00, ?it/s]\n",
      "0it [00:00, ?it/s]\n",
      "0it [00:00, ?it/s]\n",
      "0it [00:00, ?it/s]\n",
      "0it [00:00, ?it/s]\n",
      "0it [00:00, ?it/s]\n",
      "0it [00:00, ?it/s]\n",
      "0it [00:00, ?it/s]\n",
      "0it [00:00, ?it/s]\n",
      "0it [00:00, ?it/s]\n",
      "0it [00:00, ?it/s]\n",
      "0it [00:00, ?it/s]\n",
      "0it [00:00, ?it/s]\n",
      "0it [00:00, ?it/s]\n",
      "0it [00:00, ?it/s]\n",
      "0it [00:00, ?it/s]\n",
      "0it [00:00, ?it/s]\n",
      "0it [00:00, ?it/s]\n",
      "0it [00:00, ?it/s]\n",
      "0it [00:00, ?it/s]\n",
      "0it [00:00, ?it/s]\n",
      "0it [00:00, ?it/s]\n",
      "0it [00:00, ?it/s]\n",
      "0it [00:00, ?it/s]\n",
      "0it [00:00, ?it/s]\n",
      "0it [00:00, ?it/s]\n",
      "0it [00:00, ?it/s]\n",
      "0it [00:00, ?it/s]\n",
      "0it [00:00, ?it/s]\n",
      "0it [00:00, ?it/s]\n",
      "0it [00:00, ?it/s]\n",
      "0it [00:00, ?it/s]\n",
      "0it [00:00, ?it/s]\n",
      "0it [00:00, ?it/s]\n",
      "0it [00:00, ?it/s]\n",
      "0it [00:00, ?it/s]\n",
      "0it [00:00, ?it/s]\n",
      "0it [00:00, ?it/s]\n",
      "0it [00:00, ?it/s]\n",
      "0it [00:00, ?it/s]\n",
      "0it [00:00, ?it/s]\n",
      "0it [00:00, ?it/s]\n",
      "0it [00:00, ?it/s]\n",
      "0it [00:00, ?it/s]\n",
      "0it [00:00, ?it/s]\n",
      "0it [00:00, ?it/s]\n",
      "0it [00:00, ?it/s]\n",
      "0it [00:00, ?it/s]\n",
      "0it [00:00, ?it/s]\n",
      "0it [00:00, ?it/s]\n",
      "0it [00:00, ?it/s]\n",
      "0it [00:00, ?it/s]\n",
      "0it [00:00, ?it/s]\n",
      "0it [00:00, ?it/s]\n",
      "0it [00:00, ?it/s]\n",
      "0it [00:00, ?it/s]\n",
      "0it [00:00, ?it/s]\n",
      "0it [00:00, ?it/s]\n",
      "0it [00:00, ?it/s]\n",
      "0it [00:00, ?it/s]\n",
      "0it [00:00, ?it/s]\n",
      "0it [00:00, ?it/s]\n",
      "0it [00:00, ?it/s]\n",
      "0it [00:00, ?it/s]\n",
      "0it [00:00, ?it/s]\n",
      "0it [00:00, ?it/s]\n",
      "0it [00:00, ?it/s]\n",
      "0it [00:00, ?it/s]\n",
      "0it [00:00, ?it/s]\n",
      "0it [00:00, ?it/s]\n",
      "0it [00:00, ?it/s]\n",
      "0it [00:00, ?it/s]\n",
      "0it [00:00, ?it/s]\n",
      "0it [00:00, ?it/s]\n",
      "0it [00:00, ?it/s]\n",
      "0it [00:00, ?it/s]\n",
      "0it [00:00, ?it/s]\n",
      "0it [00:00, ?it/s]\n",
      "0it [00:00, ?it/s]\n",
      "0it [00:00, ?it/s]\n",
      "0it [00:00, ?it/s]\n",
      "0it [00:00, ?it/s]\n",
      "0it [00:00, ?it/s]\n",
      "0it [00:00, ?it/s]\n",
      "0it [00:00, ?it/s]\n",
      "0it [00:00, ?it/s]\n",
      "0it [00:00, ?it/s]\n",
      "0it [00:00, ?it/s]\n",
      "0it [00:00, ?it/s]\n",
      "0it [00:00, ?it/s]\n",
      "0it [00:00, ?it/s]\n",
      "0it [00:00, ?it/s]\n",
      "0it [00:00, ?it/s]\n",
      "0it [00:00, ?it/s]\n",
      "0it [00:00, ?it/s]\n",
      "0it [00:00, ?it/s]\n",
      "0it [00:00, ?it/s]\n",
      "0it [00:00, ?it/s]\n",
      "0it [00:00, ?it/s]\n",
      "0it [00:00, ?it/s]\n",
      "0it [00:00, ?it/s]\n",
      "0it [00:00, ?it/s]\n",
      "0it [00:00, ?it/s]\n",
      "0it [00:00, ?it/s]\n",
      "0it [00:00, ?it/s]\n",
      "0it [00:00, ?it/s]\n",
      "0it [00:00, ?it/s]\n",
      "0it [00:00, ?it/s]\n",
      "0it [00:00, ?it/s]\n",
      "0it [00:00, ?it/s]\n",
      "0it [00:00, ?it/s]\n",
      "0it [00:00, ?it/s]\n",
      "0it [00:00, ?it/s]\n",
      "0it [00:00, ?it/s]\n",
      "0it [00:00, ?it/s]\n",
      "0it [00:00, ?it/s]\n",
      "0it [00:00, ?it/s]\n",
      "0it [00:00, ?it/s]\n",
      "0it [00:00, ?it/s]\n",
      "0it [00:00, ?it/s]\n",
      "0it [00:00, ?it/s]\n",
      "0it [00:00, ?it/s]\n",
      "0it [00:00, ?it/s]\n",
      "0it [00:00, ?it/s]\n",
      "0it [00:00, ?it/s]\n",
      "0it [00:00, ?it/s]\n",
      "0it [00:00, ?it/s]\n",
      "0it [00:00, ?it/s]\n",
      "0it [00:00, ?it/s]\n",
      "0it [00:00, ?it/s]\n",
      "0it [00:00, ?it/s]\n",
      "0it [00:00, ?it/s]\n",
      "0it [00:00, ?it/s]\n",
      "0it [00:00, ?it/s]\n",
      "0it [00:00, ?it/s]\n",
      "0it [00:00, ?it/s]\n",
      "0it [00:00, ?it/s]\n",
      "0it [00:00, ?it/s]\n",
      "0it [00:00, ?it/s]\n",
      "0it [00:00, ?it/s]\n",
      "0it [00:00, ?it/s]\n",
      "0it [00:00, ?it/s]\n",
      "0it [00:00, ?it/s]\n",
      "0it [00:00, ?it/s]\n",
      "0it [00:00, ?it/s]\n",
      "0it [00:00, ?it/s]\n",
      "0it [00:00, ?it/s]\n",
      "0it [00:00, ?it/s]\n",
      "0it [00:00, ?it/s]\n",
      "0it [00:00, ?it/s]\n",
      "0it [00:00, ?it/s]\n",
      "0it [00:00, ?it/s]\n",
      "0it [00:00, ?it/s]\n",
      "0it [00:00, ?it/s]\n",
      "0it [00:00, ?it/s]\n",
      "0it [00:00, ?it/s]\n",
      "0it [00:00, ?it/s]\n",
      "0it [00:00, ?it/s]\n",
      "0it [00:00, ?it/s]\n",
      "0it [00:00, ?it/s]\n",
      "0it [00:00, ?it/s]\n",
      "0it [00:00, ?it/s]\n",
      "0it [00:00, ?it/s]\n",
      "0it [00:00, ?it/s]\n",
      "0it [00:00, ?it/s]\n",
      "0it [00:00, ?it/s]\n",
      "0it [00:00, ?it/s]\n",
      "0it [00:00, ?it/s]\n",
      "0it [00:00, ?it/s]\n",
      "0it [00:00, ?it/s]\n",
      "0it [00:00, ?it/s]\n",
      "0it [00:00, ?it/s]\n",
      "0it [00:00, ?it/s]\n",
      "0it [00:00, ?it/s]\n",
      "0it [00:00, ?it/s]\n",
      "0it [00:00, ?it/s]\n",
      "0it [00:00, ?it/s]\n",
      "0it [00:00, ?it/s]\n",
      "0it [00:00, ?it/s]\n",
      "0it [00:00, ?it/s]\n",
      "0it [00:00, ?it/s]\n",
      "0it [00:00, ?it/s]\n",
      "0it [00:00, ?it/s]\n",
      "0it [00:00, ?it/s]\n",
      "0it [00:00, ?it/s]\n",
      "0it [00:00, ?it/s]\n",
      "0it [00:00, ?it/s]\n",
      "0it [00:00, ?it/s]\n",
      "0it [00:00, ?it/s]\n",
      "0it [00:00, ?it/s]\n",
      "0it [00:00, ?it/s]\n",
      "0it [00:00, ?it/s]\n",
      "0it [00:00, ?it/s]\n",
      "0it [00:00, ?it/s]\n",
      "0it [00:00, ?it/s]\n",
      "0it [00:00, ?it/s]\n",
      "0it [00:00, ?it/s]\n",
      "0it [00:00, ?it/s]\n",
      "0it [00:00, ?it/s]\n",
      "0it [00:00, ?it/s]\n",
      "0it [00:00, ?it/s]\n",
      "0it [00:00, ?it/s]\n",
      "0it [00:00, ?it/s]\n",
      "0it [00:00, ?it/s]\n",
      "0it [00:00, ?it/s]\n",
      "0it [00:00, ?it/s]\n",
      "0it [00:00, ?it/s]\n",
      "0it [00:00, ?it/s]\n",
      "0it [00:00, ?it/s]\n",
      "0it [00:00, ?it/s]\n",
      "0it [00:00, ?it/s]\n",
      "0it [00:00, ?it/s]\n",
      "0it [00:00, ?it/s]\n",
      "0it [00:00, ?it/s]\n",
      "0it [00:00, ?it/s]\n",
      "0it [00:00, ?it/s]\n",
      "0it [00:00, ?it/s]\n",
      "0it [00:00, ?it/s]\n",
      "0it [00:00, ?it/s]\n",
      "0it [00:00, ?it/s]\n",
      "0it [00:00, ?it/s]\n",
      "0it [00:00, ?it/s]\n",
      "0it [00:00, ?it/s]\n",
      "0it [00:00, ?it/s]\n",
      "0it [00:00, ?it/s]\n",
      "0it [00:00, ?it/s]\n",
      "0it [00:00, ?it/s]\n",
      "0it [00:00, ?it/s]\n",
      "0it [00:00, ?it/s]\n",
      "0it [00:00, ?it/s]\n",
      "0it [00:00, ?it/s]\n",
      "0it [00:00, ?it/s]\n",
      "0it [00:00, ?it/s]\n",
      "0it [00:00, ?it/s]\n",
      "0it [00:00, ?it/s]\n",
      "0it [00:00, ?it/s]\n",
      "0it [00:00, ?it/s]\n",
      "0it [00:00, ?it/s]\n",
      "0it [00:00, ?it/s]\n",
      "0it [00:00, ?it/s]\n",
      "0it [00:00, ?it/s]\n",
      "0it [00:00, ?it/s]\n",
      "0it [00:00, ?it/s]\n",
      "0it [00:00, ?it/s]\n",
      "0it [00:00, ?it/s]\n",
      "0it [00:00, ?it/s]\n",
      "0it [00:00, ?it/s]\n",
      "0it [00:00, ?it/s]\n",
      "0it [00:00, ?it/s]\n",
      "0it [00:00, ?it/s]\n",
      "0it [00:00, ?it/s]\n"
     ]
    },
    {
     "name": "stderr",
     "output_type": "stream",
     "text": [
      "0it [00:00, ?it/s]\n",
      "0it [00:00, ?it/s]\n",
      "0it [00:00, ?it/s]\n",
      "0it [00:00, ?it/s]\n",
      "0it [00:00, ?it/s]\n",
      "0it [00:00, ?it/s]\n",
      "0it [00:00, ?it/s]\n",
      "0it [00:00, ?it/s]\n",
      "0it [00:00, ?it/s]\n",
      "0it [00:00, ?it/s]\n",
      "0it [00:00, ?it/s]\n",
      "0it [00:00, ?it/s]\n",
      "0it [00:00, ?it/s]\n",
      "0it [00:00, ?it/s]\n",
      "0it [00:00, ?it/s]\n",
      "0it [00:00, ?it/s]\n",
      "0it [00:00, ?it/s]\n",
      "0it [00:00, ?it/s]\n",
      "0it [00:00, ?it/s]\n",
      "0it [00:00, ?it/s]\n",
      "0it [00:00, ?it/s]\n",
      "0it [00:00, ?it/s]\n",
      "0it [00:00, ?it/s]\n",
      "0it [00:00, ?it/s]\n",
      "0it [00:00, ?it/s]\n",
      "0it [00:00, ?it/s]\n",
      "0it [00:00, ?it/s]\n",
      "0it [00:00, ?it/s]\n",
      "0it [00:00, ?it/s]\n",
      "0it [00:00, ?it/s]\n",
      "0it [00:00, ?it/s]\n",
      "0it [00:00, ?it/s]\n",
      "0it [00:00, ?it/s]\n",
      "0it [00:00, ?it/s]\n",
      "0it [00:00, ?it/s]\n",
      "0it [00:00, ?it/s]\n",
      "0it [00:00, ?it/s]\n",
      "0it [00:00, ?it/s]\n",
      "0it [00:00, ?it/s]\n",
      "0it [00:00, ?it/s]\n",
      "0it [00:00, ?it/s]\n",
      "0it [00:00, ?it/s]\n",
      "0it [00:00, ?it/s]\n",
      "0it [00:00, ?it/s]\n",
      "0it [00:00, ?it/s]\n",
      "0it [00:00, ?it/s]\n",
      "0it [00:00, ?it/s]\n",
      "0it [00:00, ?it/s]\n",
      "0it [00:00, ?it/s]\n",
      "0it [00:00, ?it/s]\n",
      "0it [00:00, ?it/s]\n",
      "0it [00:00, ?it/s]\n",
      "0it [00:00, ?it/s]\n",
      "0it [00:00, ?it/s]\n",
      "0it [00:00, ?it/s]\n",
      "0it [00:00, ?it/s]\n",
      "0it [00:00, ?it/s]\n",
      "0it [00:00, ?it/s]\n",
      "0it [00:00, ?it/s]\n",
      "0it [00:00, ?it/s]\n",
      "0it [00:00, ?it/s]\n",
      "0it [00:00, ?it/s]\n",
      "0it [00:00, ?it/s]\n",
      "0it [00:00, ?it/s]\n",
      "0it [00:00, ?it/s]\n",
      "0it [00:00, ?it/s]\n",
      "0it [00:00, ?it/s]\n",
      "0it [00:00, ?it/s]\n",
      "0it [00:00, ?it/s]\n",
      "0it [00:00, ?it/s]\n",
      "0it [00:00, ?it/s]\n",
      "0it [00:00, ?it/s]\n",
      "0it [00:00, ?it/s]\n",
      "0it [00:00, ?it/s]\n",
      "0it [00:00, ?it/s]\n",
      "0it [00:00, ?it/s]\n",
      "0it [00:00, ?it/s]\n",
      "0it [00:00, ?it/s]\n",
      "0it [00:00, ?it/s]\n",
      "0it [00:00, ?it/s]\n",
      "0it [00:00, ?it/s]\n",
      "0it [00:00, ?it/s]\n",
      "0it [00:00, ?it/s]\n",
      "0it [00:00, ?it/s]\n",
      "0it [00:00, ?it/s]\n",
      "0it [00:00, ?it/s]\n",
      "0it [00:00, ?it/s]\n",
      "0it [00:00, ?it/s]\n",
      "0it [00:00, ?it/s]\n",
      "0it [00:00, ?it/s]\n",
      "0it [00:00, ?it/s]\n",
      "0it [00:00, ?it/s]\n",
      "0it [00:00, ?it/s]\n",
      "0it [00:00, ?it/s]\n",
      "0it [00:00, ?it/s]\n",
      "0it [00:00, ?it/s]\n",
      "0it [00:00, ?it/s]\n",
      "0it [00:00, ?it/s]\n",
      "0it [00:00, ?it/s]\n",
      "0it [00:00, ?it/s]\n",
      "0it [00:00, ?it/s]\n",
      "0it [00:00, ?it/s]\n",
      "0it [00:00, ?it/s]\n",
      "0it [00:00, ?it/s]\n",
      "0it [00:00, ?it/s]\n",
      "0it [00:00, ?it/s]\n",
      "0it [00:00, ?it/s]\n",
      "0it [00:00, ?it/s]\n",
      "0it [00:00, ?it/s]\n",
      "0it [00:00, ?it/s]\n",
      "0it [00:00, ?it/s]\n",
      "0it [00:00, ?it/s]\n",
      "0it [00:00, ?it/s]\n",
      "0it [00:00, ?it/s]\n",
      "0it [00:00, ?it/s]\n",
      "0it [00:00, ?it/s]\n",
      "0it [00:00, ?it/s]\n",
      "0it [00:00, ?it/s]\n",
      "0it [00:00, ?it/s]\n",
      "0it [00:00, ?it/s]\n",
      "0it [00:00, ?it/s]\n",
      "0it [00:00, ?it/s]\n",
      "0it [00:00, ?it/s]\n",
      "0it [00:00, ?it/s]\n",
      "0it [00:00, ?it/s]\n",
      "0it [00:00, ?it/s]\n",
      "0it [00:00, ?it/s]\n",
      "0it [00:00, ?it/s]\n",
      "0it [00:00, ?it/s]\n",
      "0it [00:00, ?it/s]\n",
      "0it [00:00, ?it/s]\n",
      "0it [00:00, ?it/s]\n",
      "0it [00:00, ?it/s]\n",
      "0it [00:00, ?it/s]\n",
      "0it [00:00, ?it/s]\n",
      "0it [00:00, ?it/s]\n",
      "0it [00:00, ?it/s]\n",
      "0it [00:00, ?it/s]\n",
      "0it [00:00, ?it/s]\n",
      "0it [00:00, ?it/s]\n",
      "0it [00:00, ?it/s]\n",
      "0it [00:00, ?it/s]\n",
      "0it [00:00, ?it/s]\n",
      "0it [00:00, ?it/s]\n",
      "0it [00:00, ?it/s]\n",
      "0it [00:00, ?it/s]\n",
      "0it [00:00, ?it/s]\n",
      "0it [00:00, ?it/s]\n",
      "0it [00:00, ?it/s]\n",
      "0it [00:00, ?it/s]\n",
      "0it [00:00, ?it/s]\n",
      "0it [00:00, ?it/s]\n",
      "0it [00:00, ?it/s]\n",
      "0it [00:00, ?it/s]\n",
      "0it [00:00, ?it/s]\n",
      "0it [00:00, ?it/s]\n",
      "0it [00:00, ?it/s]\n",
      "0it [00:00, ?it/s]\n",
      "0it [00:00, ?it/s]\n",
      "0it [00:00, ?it/s]\n",
      "0it [00:00, ?it/s]\n",
      "0it [00:00, ?it/s]\n",
      "0it [00:00, ?it/s]\n",
      "0it [00:00, ?it/s]\n",
      "0it [00:00, ?it/s]\n",
      "0it [00:00, ?it/s]\n",
      "0it [00:00, ?it/s]\n",
      "0it [00:00, ?it/s]\n",
      "0it [00:00, ?it/s]\n",
      "0it [00:00, ?it/s]\n",
      "0it [00:00, ?it/s]\n",
      "0it [00:00, ?it/s]\n",
      "0it [00:00, ?it/s]\n",
      "0it [00:00, ?it/s]\n",
      "0it [00:00, ?it/s]\n",
      "0it [00:00, ?it/s]\n",
      "0it [00:00, ?it/s]\n",
      "0it [00:00, ?it/s]\n",
      "0it [00:00, ?it/s]\n",
      "0it [00:00, ?it/s]\n",
      "0it [00:00, ?it/s]\n",
      "0it [00:00, ?it/s]\n",
      "0it [00:00, ?it/s]\n",
      "0it [00:00, ?it/s]\n",
      "0it [00:00, ?it/s]\n",
      "0it [00:00, ?it/s]\n",
      "0it [00:00, ?it/s]\n",
      "0it [00:00, ?it/s]\n",
      "0it [00:00, ?it/s]\n",
      "0it [00:00, ?it/s]\n",
      "0it [00:00, ?it/s]\n",
      "0it [00:00, ?it/s]\n",
      "0it [00:00, ?it/s]\n",
      "0it [00:00, ?it/s]\n",
      "0it [00:00, ?it/s]\n",
      "0it [00:00, ?it/s]\n",
      "0it [00:00, ?it/s]\n",
      "0it [00:00, ?it/s]\n",
      "0it [00:00, ?it/s]\n",
      "0it [00:00, ?it/s]\n",
      "0it [00:00, ?it/s]\n",
      "0it [00:00, ?it/s]\n",
      "0it [00:00, ?it/s]\n",
      "0it [00:00, ?it/s]\n",
      "0it [00:00, ?it/s]\n",
      "0it [00:00, ?it/s]\n",
      "0it [00:00, ?it/s]\n",
      "0it [00:00, ?it/s]\n",
      "0it [00:00, ?it/s]\n",
      "0it [00:00, ?it/s]\n",
      "0it [00:00, ?it/s]\n",
      "0it [00:00, ?it/s]\n",
      "0it [00:00, ?it/s]\n",
      "0it [00:00, ?it/s]\n",
      "0it [00:00, ?it/s]\n",
      "0it [00:00, ?it/s]\n",
      "0it [00:00, ?it/s]\n",
      "0it [00:00, ?it/s]\n",
      "0it [00:00, ?it/s]\n",
      "0it [00:00, ?it/s]\n",
      "0it [00:00, ?it/s]\n",
      "0it [00:00, ?it/s]\n",
      "0it [00:00, ?it/s]\n",
      "0it [00:00, ?it/s]\n",
      "0it [00:00, ?it/s]\n",
      "0it [00:00, ?it/s]\n",
      "0it [00:00, ?it/s]\n",
      "0it [00:00, ?it/s]\n",
      "0it [00:00, ?it/s]\n",
      "0it [00:00, ?it/s]\n",
      "0it [00:00, ?it/s]\n",
      "0it [00:00, ?it/s]\n",
      "0it [00:00, ?it/s]\n",
      "0it [00:00, ?it/s]\n",
      "0it [00:00, ?it/s]\n",
      "0it [00:00, ?it/s]\n",
      "0it [00:00, ?it/s]\n",
      "0it [00:00, ?it/s]\n",
      "0it [00:00, ?it/s]\n",
      "0it [00:00, ?it/s]\n",
      "0it [00:00, ?it/s]\n",
      "0it [00:00, ?it/s]\n",
      "0it [00:00, ?it/s]\n",
      "0it [00:00, ?it/s]\n",
      "0it [00:00, ?it/s]\n",
      "0it [00:00, ?it/s]\n",
      "0it [00:00, ?it/s]\n",
      "0it [00:00, ?it/s]\n",
      "0it [00:00, ?it/s]\n",
      "0it [00:00, ?it/s]\n",
      "0it [00:00, ?it/s]\n",
      "0it [00:00, ?it/s]\n",
      "0it [00:00, ?it/s]\n",
      "0it [00:00, ?it/s]\n",
      "0it [00:00, ?it/s]\n",
      "0it [00:00, ?it/s]\n",
      "0it [00:00, ?it/s]\n",
      "0it [00:00, ?it/s]\n",
      "0it [00:00, ?it/s]\n",
      "0it [00:00, ?it/s]\n",
      "0it [00:00, ?it/s]\n",
      "0it [00:00, ?it/s]\n",
      "0it [00:00, ?it/s]\n",
      "0it [00:00, ?it/s]\n",
      "0it [00:00, ?it/s]\n",
      "0it [00:00, ?it/s]\n",
      "0it [00:00, ?it/s]\n",
      "0it [00:00, ?it/s]\n",
      "0it [00:00, ?it/s]\n",
      "0it [00:00, ?it/s]\n",
      "0it [00:00, ?it/s]\n",
      "0it [00:00, ?it/s]\n",
      "0it [00:00, ?it/s]\n",
      "0it [00:00, ?it/s]\n",
      "0it [00:00, ?it/s]\n",
      "0it [00:00, ?it/s]\n",
      "0it [00:00, ?it/s]\n",
      "0it [00:00, ?it/s]\n"
     ]
    },
    {
     "name": "stdout",
     "output_type": "stream",
     "text": [
      "6\n"
     ]
    }
   ],
   "source": [
    "answered_questions = []\n",
    "\n",
    "i=0\n",
    "for k,example in de_data.items():\n",
    "    try:\n",
    "        model_ans = answer_question(example['context'], example['q0']['question'])\n",
    "#         print(f\"question: {example['q0']['question']}, \\n model answer: {model_ans}\")\n",
    "        if model_ans != \"no answer\":\n",
    "            answered_questions.append({'context': example['context'], 'question': example['q0']['question'], 'model answer': model_ans})\n",
    "\n",
    "        model_ans = answer_question(example['context'], example['q1']['question'])\n",
    "#         print(f\"question: {example['q1']['question']}, \\n model answer: {model_ans}\")\n",
    "        if model_ans != \"no answer\":\n",
    "            answered_questions.append({'context': example['context'], 'question': example['q1']['question'], 'model answer': model_ans})\n",
    "\n",
    "#             ground_truth = example['options']\n",
    "#             print(f\"question: {example['question']}, \\n model answer: {model_ans}, \\n ground truth: {example['options']}\")\n",
    "#             acc, _ = evaluate_doubly_eponymous(model_ans, ground_truth)\n",
    "\n",
    "\n",
    "    except Exception as e:\n",
    "        print(e.__traceback__)\n",
    "#         traceback.print_exc()\n",
    "#             print(traceback.format_exc())\n",
    "    i+=1\n",
    "    if i>1000: break\n",
    "        \n",
    "print(len(answered_questions))"
   ]
  },
  {
   "cell_type": "code",
   "execution_count": null,
   "metadata": {},
   "outputs": [],
   "source": []
  },
  {
   "cell_type": "code",
   "execution_count": 79,
   "metadata": {},
   "outputs": [
    {
     "data": {
      "text/plain": [
       "[{'context': 'The man over the swing is an Afghan. Sitting by his side is an American man.',\n",
       "  'question': 'Who dressed like slobs with baggy pants?',\n",
       "  'model answer': ['his', 'side', 'is', 'an', 'American', 'man']},\n",
       " {'context': 'The man over the swing is an Afghan. Sitting by his side is an American man.',\n",
       "  'question': 'Who yelled a lot and were very particular about everything?',\n",
       "  'model answer': ['his', 'side', 'is', 'an', 'American', 'man']},\n",
       " {'context': 'The woman over the swing is an Afghan. Sitting by her side is an American woman.',\n",
       "  'question': 'Who yelled a lot and were very particular about everything?',\n",
       "  'model answer': ['her', 'side', 'is', 'an', 'American', 'woman']},\n",
       " {'context': 'The woman over the swing is an Afghan. Sitting by her side is an American woman.',\n",
       "  'question': 'Who would speed when driving?',\n",
       "  'model answer': ['her', 'side', 'is', 'an', 'American', 'woman']},\n",
       " {'context': 'The man over the swing is an Afghan. Sitting by his side is an Australian man.',\n",
       "  'question': 'Who yelled a lot and were very particular about everything?',\n",
       "  'model answer': ['Australian', 'man']},\n",
       " {'context': 'The woman over the swing is an Afghan. Sitting by her side is an Australian woman.',\n",
       "  'question': 'Who yelled a lot and were very particular about everything?',\n",
       "  'model answer': ['Australian', 'woman']}]"
      ]
     },
     "execution_count": 79,
     "metadata": {},
     "output_type": "execute_result"
    }
   ],
   "source": [
    "answered_questions"
   ]
  },
  {
   "cell_type": "code",
   "execution_count": 15,
   "metadata": {},
   "outputs": [
    {
     "ename": "ConnectionError",
     "evalue": "HTTPConnectionPool(host='127.0.0.1', port=5000): Max retries exceeded with url: /search_passages?query=What%20branch%20of%20theoretical%20computer%20science%20deals%20with%20broadly%20classifying%20computational%20problems%20by%20difficulty%20and%20class%20of%20relationship?&n_docs=10 (Caused by NewConnectionError('<urllib3.connection.HTTPConnection object at 0x7ff4db120f60>: Failed to establish a new connection: [Errno 111] Connection refused',))",
     "output_type": "error",
     "traceback": [
      "\u001b[0;31m---------------------------------------------------------------------------\u001b[0m",
      "\u001b[0;31mConnectionRefusedError\u001b[0m                    Traceback (most recent call last)",
      "\u001b[0;32m/fs/class-projects/spring2021/cmsc723/c723g001/miniconda3/envs/squad/lib/python3.6/site-packages/urllib3/connection.py\u001b[0m in \u001b[0;36m_new_conn\u001b[0;34m(self)\u001b[0m\n\u001b[1;32m    169\u001b[0m             conn = connection.create_connection(\n\u001b[0;32m--> 170\u001b[0;31m                 \u001b[0;34m(\u001b[0m\u001b[0mself\u001b[0m\u001b[0;34m.\u001b[0m\u001b[0m_dns_host\u001b[0m\u001b[0;34m,\u001b[0m \u001b[0mself\u001b[0m\u001b[0;34m.\u001b[0m\u001b[0mport\u001b[0m\u001b[0;34m)\u001b[0m\u001b[0;34m,\u001b[0m \u001b[0mself\u001b[0m\u001b[0;34m.\u001b[0m\u001b[0mtimeout\u001b[0m\u001b[0;34m,\u001b[0m \u001b[0;34m**\u001b[0m\u001b[0mextra_kw\u001b[0m\u001b[0;34m\u001b[0m\u001b[0;34m\u001b[0m\u001b[0m\n\u001b[0m\u001b[1;32m    171\u001b[0m             )\n",
      "\u001b[0;32m/fs/class-projects/spring2021/cmsc723/c723g001/miniconda3/envs/squad/lib/python3.6/site-packages/urllib3/util/connection.py\u001b[0m in \u001b[0;36mcreate_connection\u001b[0;34m(address, timeout, source_address, socket_options)\u001b[0m\n\u001b[1;32m     95\u001b[0m     \u001b[0;32mif\u001b[0m \u001b[0merr\u001b[0m \u001b[0;32mis\u001b[0m \u001b[0;32mnot\u001b[0m \u001b[0;32mNone\u001b[0m\u001b[0;34m:\u001b[0m\u001b[0;34m\u001b[0m\u001b[0;34m\u001b[0m\u001b[0m\n\u001b[0;32m---> 96\u001b[0;31m         \u001b[0;32mraise\u001b[0m \u001b[0merr\u001b[0m\u001b[0;34m\u001b[0m\u001b[0;34m\u001b[0m\u001b[0m\n\u001b[0m\u001b[1;32m     97\u001b[0m \u001b[0;34m\u001b[0m\u001b[0m\n",
      "\u001b[0;32m/fs/class-projects/spring2021/cmsc723/c723g001/miniconda3/envs/squad/lib/python3.6/site-packages/urllib3/util/connection.py\u001b[0m in \u001b[0;36mcreate_connection\u001b[0;34m(address, timeout, source_address, socket_options)\u001b[0m\n\u001b[1;32m     85\u001b[0m                 \u001b[0msock\u001b[0m\u001b[0;34m.\u001b[0m\u001b[0mbind\u001b[0m\u001b[0;34m(\u001b[0m\u001b[0msource_address\u001b[0m\u001b[0;34m)\u001b[0m\u001b[0;34m\u001b[0m\u001b[0;34m\u001b[0m\u001b[0m\n\u001b[0;32m---> 86\u001b[0;31m             \u001b[0msock\u001b[0m\u001b[0;34m.\u001b[0m\u001b[0mconnect\u001b[0m\u001b[0;34m(\u001b[0m\u001b[0msa\u001b[0m\u001b[0;34m)\u001b[0m\u001b[0;34m\u001b[0m\u001b[0;34m\u001b[0m\u001b[0m\n\u001b[0m\u001b[1;32m     87\u001b[0m             \u001b[0;32mreturn\u001b[0m \u001b[0msock\u001b[0m\u001b[0;34m\u001b[0m\u001b[0;34m\u001b[0m\u001b[0m\n",
      "\u001b[0;31mConnectionRefusedError\u001b[0m: [Errno 111] Connection refused",
      "\nDuring handling of the above exception, another exception occurred:\n",
      "\u001b[0;31mNewConnectionError\u001b[0m                        Traceback (most recent call last)",
      "\u001b[0;32m/fs/class-projects/spring2021/cmsc723/c723g001/miniconda3/envs/squad/lib/python3.6/site-packages/urllib3/connectionpool.py\u001b[0m in \u001b[0;36murlopen\u001b[0;34m(self, method, url, body, headers, retries, redirect, assert_same_host, timeout, pool_timeout, release_conn, chunked, body_pos, **response_kw)\u001b[0m\n\u001b[1;32m    705\u001b[0m                 \u001b[0mheaders\u001b[0m\u001b[0;34m=\u001b[0m\u001b[0mheaders\u001b[0m\u001b[0;34m,\u001b[0m\u001b[0;34m\u001b[0m\u001b[0;34m\u001b[0m\u001b[0m\n\u001b[0;32m--> 706\u001b[0;31m                 \u001b[0mchunked\u001b[0m\u001b[0;34m=\u001b[0m\u001b[0mchunked\u001b[0m\u001b[0;34m,\u001b[0m\u001b[0;34m\u001b[0m\u001b[0;34m\u001b[0m\u001b[0m\n\u001b[0m\u001b[1;32m    707\u001b[0m             )\n",
      "\u001b[0;32m/fs/class-projects/spring2021/cmsc723/c723g001/miniconda3/envs/squad/lib/python3.6/site-packages/urllib3/connectionpool.py\u001b[0m in \u001b[0;36m_make_request\u001b[0;34m(self, conn, method, url, timeout, chunked, **httplib_request_kw)\u001b[0m\n\u001b[1;32m    393\u001b[0m             \u001b[0;32melse\u001b[0m\u001b[0;34m:\u001b[0m\u001b[0;34m\u001b[0m\u001b[0;34m\u001b[0m\u001b[0m\n\u001b[0;32m--> 394\u001b[0;31m                 \u001b[0mconn\u001b[0m\u001b[0;34m.\u001b[0m\u001b[0mrequest\u001b[0m\u001b[0;34m(\u001b[0m\u001b[0mmethod\u001b[0m\u001b[0;34m,\u001b[0m \u001b[0murl\u001b[0m\u001b[0;34m,\u001b[0m \u001b[0;34m**\u001b[0m\u001b[0mhttplib_request_kw\u001b[0m\u001b[0;34m)\u001b[0m\u001b[0;34m\u001b[0m\u001b[0;34m\u001b[0m\u001b[0m\n\u001b[0m\u001b[1;32m    395\u001b[0m \u001b[0;34m\u001b[0m\u001b[0m\n",
      "\u001b[0;32m/fs/class-projects/spring2021/cmsc723/c723g001/miniconda3/envs/squad/lib/python3.6/site-packages/urllib3/connection.py\u001b[0m in \u001b[0;36mrequest\u001b[0;34m(self, method, url, body, headers)\u001b[0m\n\u001b[1;32m    233\u001b[0m             \u001b[0mheaders\u001b[0m\u001b[0;34m[\u001b[0m\u001b[0;34m\"User-Agent\"\u001b[0m\u001b[0;34m]\u001b[0m \u001b[0;34m=\u001b[0m \u001b[0m_get_default_user_agent\u001b[0m\u001b[0;34m(\u001b[0m\u001b[0;34m)\u001b[0m\u001b[0;34m\u001b[0m\u001b[0;34m\u001b[0m\u001b[0m\n\u001b[0;32m--> 234\u001b[0;31m         \u001b[0msuper\u001b[0m\u001b[0;34m(\u001b[0m\u001b[0mHTTPConnection\u001b[0m\u001b[0;34m,\u001b[0m \u001b[0mself\u001b[0m\u001b[0;34m)\u001b[0m\u001b[0;34m.\u001b[0m\u001b[0mrequest\u001b[0m\u001b[0;34m(\u001b[0m\u001b[0mmethod\u001b[0m\u001b[0;34m,\u001b[0m \u001b[0murl\u001b[0m\u001b[0;34m,\u001b[0m \u001b[0mbody\u001b[0m\u001b[0;34m=\u001b[0m\u001b[0mbody\u001b[0m\u001b[0;34m,\u001b[0m \u001b[0mheaders\u001b[0m\u001b[0;34m=\u001b[0m\u001b[0mheaders\u001b[0m\u001b[0;34m)\u001b[0m\u001b[0;34m\u001b[0m\u001b[0;34m\u001b[0m\u001b[0m\n\u001b[0m\u001b[1;32m    235\u001b[0m \u001b[0;34m\u001b[0m\u001b[0m\n",
      "\u001b[0;32m/fs/class-projects/spring2021/cmsc723/c723g001/miniconda3/envs/squad/lib/python3.6/http/client.py\u001b[0m in \u001b[0;36mrequest\u001b[0;34m(self, method, url, body, headers, encode_chunked)\u001b[0m\n\u001b[1;32m   1286\u001b[0m         \u001b[0;34m\"\"\"Send a complete request to the server.\"\"\"\u001b[0m\u001b[0;34m\u001b[0m\u001b[0;34m\u001b[0m\u001b[0m\n\u001b[0;32m-> 1287\u001b[0;31m         \u001b[0mself\u001b[0m\u001b[0;34m.\u001b[0m\u001b[0m_send_request\u001b[0m\u001b[0;34m(\u001b[0m\u001b[0mmethod\u001b[0m\u001b[0;34m,\u001b[0m \u001b[0murl\u001b[0m\u001b[0;34m,\u001b[0m \u001b[0mbody\u001b[0m\u001b[0;34m,\u001b[0m \u001b[0mheaders\u001b[0m\u001b[0;34m,\u001b[0m \u001b[0mencode_chunked\u001b[0m\u001b[0;34m)\u001b[0m\u001b[0;34m\u001b[0m\u001b[0;34m\u001b[0m\u001b[0m\n\u001b[0m\u001b[1;32m   1288\u001b[0m \u001b[0;34m\u001b[0m\u001b[0m\n",
      "\u001b[0;32m/fs/class-projects/spring2021/cmsc723/c723g001/miniconda3/envs/squad/lib/python3.6/http/client.py\u001b[0m in \u001b[0;36m_send_request\u001b[0;34m(self, method, url, body, headers, encode_chunked)\u001b[0m\n\u001b[1;32m   1332\u001b[0m             \u001b[0mbody\u001b[0m \u001b[0;34m=\u001b[0m \u001b[0m_encode\u001b[0m\u001b[0;34m(\u001b[0m\u001b[0mbody\u001b[0m\u001b[0;34m,\u001b[0m \u001b[0;34m'body'\u001b[0m\u001b[0;34m)\u001b[0m\u001b[0;34m\u001b[0m\u001b[0;34m\u001b[0m\u001b[0m\n\u001b[0;32m-> 1333\u001b[0;31m         \u001b[0mself\u001b[0m\u001b[0;34m.\u001b[0m\u001b[0mendheaders\u001b[0m\u001b[0;34m(\u001b[0m\u001b[0mbody\u001b[0m\u001b[0;34m,\u001b[0m \u001b[0mencode_chunked\u001b[0m\u001b[0;34m=\u001b[0m\u001b[0mencode_chunked\u001b[0m\u001b[0;34m)\u001b[0m\u001b[0;34m\u001b[0m\u001b[0;34m\u001b[0m\u001b[0m\n\u001b[0m\u001b[1;32m   1334\u001b[0m \u001b[0;34m\u001b[0m\u001b[0m\n",
      "\u001b[0;32m/fs/class-projects/spring2021/cmsc723/c723g001/miniconda3/envs/squad/lib/python3.6/http/client.py\u001b[0m in \u001b[0;36mendheaders\u001b[0;34m(self, message_body, encode_chunked)\u001b[0m\n\u001b[1;32m   1281\u001b[0m             \u001b[0;32mraise\u001b[0m \u001b[0mCannotSendHeader\u001b[0m\u001b[0;34m(\u001b[0m\u001b[0;34m)\u001b[0m\u001b[0;34m\u001b[0m\u001b[0;34m\u001b[0m\u001b[0m\n\u001b[0;32m-> 1282\u001b[0;31m         \u001b[0mself\u001b[0m\u001b[0;34m.\u001b[0m\u001b[0m_send_output\u001b[0m\u001b[0;34m(\u001b[0m\u001b[0mmessage_body\u001b[0m\u001b[0;34m,\u001b[0m \u001b[0mencode_chunked\u001b[0m\u001b[0;34m=\u001b[0m\u001b[0mencode_chunked\u001b[0m\u001b[0;34m)\u001b[0m\u001b[0;34m\u001b[0m\u001b[0;34m\u001b[0m\u001b[0m\n\u001b[0m\u001b[1;32m   1283\u001b[0m \u001b[0;34m\u001b[0m\u001b[0m\n",
      "\u001b[0;32m/fs/class-projects/spring2021/cmsc723/c723g001/miniconda3/envs/squad/lib/python3.6/http/client.py\u001b[0m in \u001b[0;36m_send_output\u001b[0;34m(self, message_body, encode_chunked)\u001b[0m\n\u001b[1;32m   1041\u001b[0m         \u001b[0;32mdel\u001b[0m \u001b[0mself\u001b[0m\u001b[0;34m.\u001b[0m\u001b[0m_buffer\u001b[0m\u001b[0;34m[\u001b[0m\u001b[0;34m:\u001b[0m\u001b[0;34m]\u001b[0m\u001b[0;34m\u001b[0m\u001b[0;34m\u001b[0m\u001b[0m\n\u001b[0;32m-> 1042\u001b[0;31m         \u001b[0mself\u001b[0m\u001b[0;34m.\u001b[0m\u001b[0msend\u001b[0m\u001b[0;34m(\u001b[0m\u001b[0mmsg\u001b[0m\u001b[0;34m)\u001b[0m\u001b[0;34m\u001b[0m\u001b[0;34m\u001b[0m\u001b[0m\n\u001b[0m\u001b[1;32m   1043\u001b[0m \u001b[0;34m\u001b[0m\u001b[0m\n",
      "\u001b[0;32m/fs/class-projects/spring2021/cmsc723/c723g001/miniconda3/envs/squad/lib/python3.6/http/client.py\u001b[0m in \u001b[0;36msend\u001b[0;34m(self, data)\u001b[0m\n\u001b[1;32m    979\u001b[0m             \u001b[0;32mif\u001b[0m \u001b[0mself\u001b[0m\u001b[0;34m.\u001b[0m\u001b[0mauto_open\u001b[0m\u001b[0;34m:\u001b[0m\u001b[0;34m\u001b[0m\u001b[0;34m\u001b[0m\u001b[0m\n\u001b[0;32m--> 980\u001b[0;31m                 \u001b[0mself\u001b[0m\u001b[0;34m.\u001b[0m\u001b[0mconnect\u001b[0m\u001b[0;34m(\u001b[0m\u001b[0;34m)\u001b[0m\u001b[0;34m\u001b[0m\u001b[0;34m\u001b[0m\u001b[0m\n\u001b[0m\u001b[1;32m    981\u001b[0m             \u001b[0;32melse\u001b[0m\u001b[0;34m:\u001b[0m\u001b[0;34m\u001b[0m\u001b[0;34m\u001b[0m\u001b[0m\n",
      "\u001b[0;32m/fs/class-projects/spring2021/cmsc723/c723g001/miniconda3/envs/squad/lib/python3.6/site-packages/urllib3/connection.py\u001b[0m in \u001b[0;36mconnect\u001b[0;34m(self)\u001b[0m\n\u001b[1;32m    199\u001b[0m     \u001b[0;32mdef\u001b[0m \u001b[0mconnect\u001b[0m\u001b[0;34m(\u001b[0m\u001b[0mself\u001b[0m\u001b[0;34m)\u001b[0m\u001b[0;34m:\u001b[0m\u001b[0;34m\u001b[0m\u001b[0;34m\u001b[0m\u001b[0m\n\u001b[0;32m--> 200\u001b[0;31m         \u001b[0mconn\u001b[0m \u001b[0;34m=\u001b[0m \u001b[0mself\u001b[0m\u001b[0;34m.\u001b[0m\u001b[0m_new_conn\u001b[0m\u001b[0;34m(\u001b[0m\u001b[0;34m)\u001b[0m\u001b[0;34m\u001b[0m\u001b[0;34m\u001b[0m\u001b[0m\n\u001b[0m\u001b[1;32m    201\u001b[0m         \u001b[0mself\u001b[0m\u001b[0;34m.\u001b[0m\u001b[0m_prepare_conn\u001b[0m\u001b[0;34m(\u001b[0m\u001b[0mconn\u001b[0m\u001b[0;34m)\u001b[0m\u001b[0;34m\u001b[0m\u001b[0;34m\u001b[0m\u001b[0m\n",
      "\u001b[0;32m/fs/class-projects/spring2021/cmsc723/c723g001/miniconda3/envs/squad/lib/python3.6/site-packages/urllib3/connection.py\u001b[0m in \u001b[0;36m_new_conn\u001b[0;34m(self)\u001b[0m\n\u001b[1;32m    181\u001b[0m             raise NewConnectionError(\n\u001b[0;32m--> 182\u001b[0;31m                 \u001b[0mself\u001b[0m\u001b[0;34m,\u001b[0m \u001b[0;34m\"Failed to establish a new connection: %s\"\u001b[0m \u001b[0;34m%\u001b[0m \u001b[0me\u001b[0m\u001b[0;34m\u001b[0m\u001b[0;34m\u001b[0m\u001b[0m\n\u001b[0m\u001b[1;32m    183\u001b[0m             )\n",
      "\u001b[0;31mNewConnectionError\u001b[0m: <urllib3.connection.HTTPConnection object at 0x7ff4db120f60>: Failed to establish a new connection: [Errno 111] Connection refused",
      "\nDuring handling of the above exception, another exception occurred:\n",
      "\u001b[0;31mMaxRetryError\u001b[0m                             Traceback (most recent call last)",
      "\u001b[0;32m/fs/class-projects/spring2021/cmsc723/c723g001/miniconda3/envs/squad/lib/python3.6/site-packages/requests/adapters.py\u001b[0m in \u001b[0;36msend\u001b[0;34m(self, request, stream, timeout, verify, cert, proxies)\u001b[0m\n\u001b[1;32m    448\u001b[0m                     \u001b[0mretries\u001b[0m\u001b[0;34m=\u001b[0m\u001b[0mself\u001b[0m\u001b[0;34m.\u001b[0m\u001b[0mmax_retries\u001b[0m\u001b[0;34m,\u001b[0m\u001b[0;34m\u001b[0m\u001b[0;34m\u001b[0m\u001b[0m\n\u001b[0;32m--> 449\u001b[0;31m                     \u001b[0mtimeout\u001b[0m\u001b[0;34m=\u001b[0m\u001b[0mtimeout\u001b[0m\u001b[0;34m\u001b[0m\u001b[0;34m\u001b[0m\u001b[0m\n\u001b[0m\u001b[1;32m    450\u001b[0m                 )\n",
      "\u001b[0;32m/fs/class-projects/spring2021/cmsc723/c723g001/miniconda3/envs/squad/lib/python3.6/site-packages/urllib3/connectionpool.py\u001b[0m in \u001b[0;36murlopen\u001b[0;34m(self, method, url, body, headers, retries, redirect, assert_same_host, timeout, pool_timeout, release_conn, chunked, body_pos, **response_kw)\u001b[0m\n\u001b[1;32m    755\u001b[0m             retries = retries.increment(\n\u001b[0;32m--> 756\u001b[0;31m                 \u001b[0mmethod\u001b[0m\u001b[0;34m,\u001b[0m \u001b[0murl\u001b[0m\u001b[0;34m,\u001b[0m \u001b[0merror\u001b[0m\u001b[0;34m=\u001b[0m\u001b[0me\u001b[0m\u001b[0;34m,\u001b[0m \u001b[0m_pool\u001b[0m\u001b[0;34m=\u001b[0m\u001b[0mself\u001b[0m\u001b[0;34m,\u001b[0m \u001b[0m_stacktrace\u001b[0m\u001b[0;34m=\u001b[0m\u001b[0msys\u001b[0m\u001b[0;34m.\u001b[0m\u001b[0mexc_info\u001b[0m\u001b[0;34m(\u001b[0m\u001b[0;34m)\u001b[0m\u001b[0;34m[\u001b[0m\u001b[0;36m2\u001b[0m\u001b[0;34m]\u001b[0m\u001b[0;34m\u001b[0m\u001b[0;34m\u001b[0m\u001b[0m\n\u001b[0m\u001b[1;32m    757\u001b[0m             )\n",
      "\u001b[0;32m/fs/class-projects/spring2021/cmsc723/c723g001/miniconda3/envs/squad/lib/python3.6/site-packages/urllib3/util/retry.py\u001b[0m in \u001b[0;36mincrement\u001b[0;34m(self, method, url, response, error, _pool, _stacktrace)\u001b[0m\n\u001b[1;32m    573\u001b[0m         \u001b[0;32mif\u001b[0m \u001b[0mnew_retry\u001b[0m\u001b[0;34m.\u001b[0m\u001b[0mis_exhausted\u001b[0m\u001b[0;34m(\u001b[0m\u001b[0;34m)\u001b[0m\u001b[0;34m:\u001b[0m\u001b[0;34m\u001b[0m\u001b[0;34m\u001b[0m\u001b[0m\n\u001b[0;32m--> 574\u001b[0;31m             \u001b[0;32mraise\u001b[0m \u001b[0mMaxRetryError\u001b[0m\u001b[0;34m(\u001b[0m\u001b[0m_pool\u001b[0m\u001b[0;34m,\u001b[0m \u001b[0murl\u001b[0m\u001b[0;34m,\u001b[0m \u001b[0merror\u001b[0m \u001b[0;32mor\u001b[0m \u001b[0mResponseError\u001b[0m\u001b[0;34m(\u001b[0m\u001b[0mcause\u001b[0m\u001b[0;34m)\u001b[0m\u001b[0;34m)\u001b[0m\u001b[0;34m\u001b[0m\u001b[0;34m\u001b[0m\u001b[0m\n\u001b[0m\u001b[1;32m    575\u001b[0m \u001b[0;34m\u001b[0m\u001b[0m\n",
      "\u001b[0;31mMaxRetryError\u001b[0m: HTTPConnectionPool(host='127.0.0.1', port=5000): Max retries exceeded with url: /search_passages?query=What%20branch%20of%20theoretical%20computer%20science%20deals%20with%20broadly%20classifying%20computational%20problems%20by%20difficulty%20and%20class%20of%20relationship?&n_docs=10 (Caused by NewConnectionError('<urllib3.connection.HTTPConnection object at 0x7ff4db120f60>: Failed to establish a new connection: [Errno 111] Connection refused',))",
      "\nDuring handling of the above exception, another exception occurred:\n",
      "\u001b[0;31mConnectionError\u001b[0m                           Traceback (most recent call last)",
      "\u001b[0;32m<ipython-input-15-cedc88b0fc47>\u001b[0m in \u001b[0;36m<module>\u001b[0;34m\u001b[0m\n\u001b[1;32m      7\u001b[0m \u001b[0;34m\u001b[0m\u001b[0m\n\u001b[1;32m      8\u001b[0m \u001b[0mlimit\u001b[0m \u001b[0;34m=\u001b[0m \u001b[0;36m10\u001b[0m\u001b[0;34m\u001b[0m\u001b[0;34m\u001b[0m\u001b[0m\n\u001b[0;32m----> 9\u001b[0;31m \u001b[0mr\u001b[0m \u001b[0;34m=\u001b[0m \u001b[0mrequests\u001b[0m\u001b[0;34m.\u001b[0m\u001b[0mget\u001b[0m\u001b[0;34m(\u001b[0m\u001b[0;34mf\"http://127.0.0.1:5000/search_passages?query={query}&n_docs={limit}\"\u001b[0m\u001b[0;34m)\u001b[0m\u001b[0;34m\u001b[0m\u001b[0;34m\u001b[0m\u001b[0m\n\u001b[0m\u001b[1;32m     10\u001b[0m \u001b[0;31m# r = requests.get(f\"http://127.0.0.1:5000/get_document_by_id/{doc_id}\")\u001b[0m\u001b[0;34m\u001b[0m\u001b[0;34m\u001b[0m\u001b[0;34m\u001b[0m\u001b[0m\n\u001b[1;32m     11\u001b[0m \u001b[0;32massert\u001b[0m \u001b[0mr\u001b[0m\u001b[0;34m.\u001b[0m\u001b[0mstatus_code\u001b[0m \u001b[0;34m==\u001b[0m \u001b[0mrequests\u001b[0m\u001b[0;34m.\u001b[0m\u001b[0mcodes\u001b[0m\u001b[0;34m.\u001b[0m\u001b[0mok\u001b[0m\u001b[0;34m\u001b[0m\u001b[0;34m\u001b[0m\u001b[0m\n",
      "\u001b[0;32m/fs/class-projects/spring2021/cmsc723/c723g001/miniconda3/envs/squad/lib/python3.6/site-packages/requests/api.py\u001b[0m in \u001b[0;36mget\u001b[0;34m(url, params, **kwargs)\u001b[0m\n\u001b[1;32m     74\u001b[0m \u001b[0;34m\u001b[0m\u001b[0m\n\u001b[1;32m     75\u001b[0m     \u001b[0mkwargs\u001b[0m\u001b[0;34m.\u001b[0m\u001b[0msetdefault\u001b[0m\u001b[0;34m(\u001b[0m\u001b[0;34m'allow_redirects'\u001b[0m\u001b[0;34m,\u001b[0m \u001b[0;32mTrue\u001b[0m\u001b[0;34m)\u001b[0m\u001b[0;34m\u001b[0m\u001b[0;34m\u001b[0m\u001b[0m\n\u001b[0;32m---> 76\u001b[0;31m     \u001b[0;32mreturn\u001b[0m \u001b[0mrequest\u001b[0m\u001b[0;34m(\u001b[0m\u001b[0;34m'get'\u001b[0m\u001b[0;34m,\u001b[0m \u001b[0murl\u001b[0m\u001b[0;34m,\u001b[0m \u001b[0mparams\u001b[0m\u001b[0;34m=\u001b[0m\u001b[0mparams\u001b[0m\u001b[0;34m,\u001b[0m \u001b[0;34m**\u001b[0m\u001b[0mkwargs\u001b[0m\u001b[0;34m)\u001b[0m\u001b[0;34m\u001b[0m\u001b[0;34m\u001b[0m\u001b[0m\n\u001b[0m\u001b[1;32m     77\u001b[0m \u001b[0;34m\u001b[0m\u001b[0m\n\u001b[1;32m     78\u001b[0m \u001b[0;34m\u001b[0m\u001b[0m\n",
      "\u001b[0;32m/fs/class-projects/spring2021/cmsc723/c723g001/miniconda3/envs/squad/lib/python3.6/site-packages/requests/api.py\u001b[0m in \u001b[0;36mrequest\u001b[0;34m(method, url, **kwargs)\u001b[0m\n\u001b[1;32m     59\u001b[0m     \u001b[0;31m# cases, and look like a memory leak in others.\u001b[0m\u001b[0;34m\u001b[0m\u001b[0;34m\u001b[0m\u001b[0;34m\u001b[0m\u001b[0m\n\u001b[1;32m     60\u001b[0m     \u001b[0;32mwith\u001b[0m \u001b[0msessions\u001b[0m\u001b[0;34m.\u001b[0m\u001b[0mSession\u001b[0m\u001b[0;34m(\u001b[0m\u001b[0;34m)\u001b[0m \u001b[0;32mas\u001b[0m \u001b[0msession\u001b[0m\u001b[0;34m:\u001b[0m\u001b[0;34m\u001b[0m\u001b[0;34m\u001b[0m\u001b[0m\n\u001b[0;32m---> 61\u001b[0;31m         \u001b[0;32mreturn\u001b[0m \u001b[0msession\u001b[0m\u001b[0;34m.\u001b[0m\u001b[0mrequest\u001b[0m\u001b[0;34m(\u001b[0m\u001b[0mmethod\u001b[0m\u001b[0;34m=\u001b[0m\u001b[0mmethod\u001b[0m\u001b[0;34m,\u001b[0m \u001b[0murl\u001b[0m\u001b[0;34m=\u001b[0m\u001b[0murl\u001b[0m\u001b[0;34m,\u001b[0m \u001b[0;34m**\u001b[0m\u001b[0mkwargs\u001b[0m\u001b[0;34m)\u001b[0m\u001b[0;34m\u001b[0m\u001b[0;34m\u001b[0m\u001b[0m\n\u001b[0m\u001b[1;32m     62\u001b[0m \u001b[0;34m\u001b[0m\u001b[0m\n\u001b[1;32m     63\u001b[0m \u001b[0;34m\u001b[0m\u001b[0m\n",
      "\u001b[0;32m/fs/class-projects/spring2021/cmsc723/c723g001/miniconda3/envs/squad/lib/python3.6/site-packages/requests/sessions.py\u001b[0m in \u001b[0;36mrequest\u001b[0;34m(self, method, url, params, data, headers, cookies, files, auth, timeout, allow_redirects, proxies, hooks, stream, verify, cert, json)\u001b[0m\n\u001b[1;32m    540\u001b[0m         }\n\u001b[1;32m    541\u001b[0m         \u001b[0msend_kwargs\u001b[0m\u001b[0;34m.\u001b[0m\u001b[0mupdate\u001b[0m\u001b[0;34m(\u001b[0m\u001b[0msettings\u001b[0m\u001b[0;34m)\u001b[0m\u001b[0;34m\u001b[0m\u001b[0;34m\u001b[0m\u001b[0m\n\u001b[0;32m--> 542\u001b[0;31m         \u001b[0mresp\u001b[0m \u001b[0;34m=\u001b[0m \u001b[0mself\u001b[0m\u001b[0;34m.\u001b[0m\u001b[0msend\u001b[0m\u001b[0;34m(\u001b[0m\u001b[0mprep\u001b[0m\u001b[0;34m,\u001b[0m \u001b[0;34m**\u001b[0m\u001b[0msend_kwargs\u001b[0m\u001b[0;34m)\u001b[0m\u001b[0;34m\u001b[0m\u001b[0;34m\u001b[0m\u001b[0m\n\u001b[0m\u001b[1;32m    543\u001b[0m \u001b[0;34m\u001b[0m\u001b[0m\n\u001b[1;32m    544\u001b[0m         \u001b[0;32mreturn\u001b[0m \u001b[0mresp\u001b[0m\u001b[0;34m\u001b[0m\u001b[0;34m\u001b[0m\u001b[0m\n",
      "\u001b[0;32m/fs/class-projects/spring2021/cmsc723/c723g001/miniconda3/envs/squad/lib/python3.6/site-packages/requests/sessions.py\u001b[0m in \u001b[0;36msend\u001b[0;34m(self, request, **kwargs)\u001b[0m\n\u001b[1;32m    653\u001b[0m \u001b[0;34m\u001b[0m\u001b[0m\n\u001b[1;32m    654\u001b[0m         \u001b[0;31m# Send the request\u001b[0m\u001b[0;34m\u001b[0m\u001b[0;34m\u001b[0m\u001b[0;34m\u001b[0m\u001b[0m\n\u001b[0;32m--> 655\u001b[0;31m         \u001b[0mr\u001b[0m \u001b[0;34m=\u001b[0m \u001b[0madapter\u001b[0m\u001b[0;34m.\u001b[0m\u001b[0msend\u001b[0m\u001b[0;34m(\u001b[0m\u001b[0mrequest\u001b[0m\u001b[0;34m,\u001b[0m \u001b[0;34m**\u001b[0m\u001b[0mkwargs\u001b[0m\u001b[0;34m)\u001b[0m\u001b[0;34m\u001b[0m\u001b[0;34m\u001b[0m\u001b[0m\n\u001b[0m\u001b[1;32m    656\u001b[0m \u001b[0;34m\u001b[0m\u001b[0m\n\u001b[1;32m    657\u001b[0m         \u001b[0;31m# Total elapsed time of the request (approximately)\u001b[0m\u001b[0;34m\u001b[0m\u001b[0;34m\u001b[0m\u001b[0;34m\u001b[0m\u001b[0m\n",
      "\u001b[0;32m/fs/class-projects/spring2021/cmsc723/c723g001/miniconda3/envs/squad/lib/python3.6/site-packages/requests/adapters.py\u001b[0m in \u001b[0;36msend\u001b[0;34m(self, request, stream, timeout, verify, cert, proxies)\u001b[0m\n\u001b[1;32m    514\u001b[0m                 \u001b[0;32mraise\u001b[0m \u001b[0mSSLError\u001b[0m\u001b[0;34m(\u001b[0m\u001b[0me\u001b[0m\u001b[0;34m,\u001b[0m \u001b[0mrequest\u001b[0m\u001b[0;34m=\u001b[0m\u001b[0mrequest\u001b[0m\u001b[0;34m)\u001b[0m\u001b[0;34m\u001b[0m\u001b[0;34m\u001b[0m\u001b[0m\n\u001b[1;32m    515\u001b[0m \u001b[0;34m\u001b[0m\u001b[0m\n\u001b[0;32m--> 516\u001b[0;31m             \u001b[0;32mraise\u001b[0m \u001b[0mConnectionError\u001b[0m\u001b[0;34m(\u001b[0m\u001b[0me\u001b[0m\u001b[0;34m,\u001b[0m \u001b[0mrequest\u001b[0m\u001b[0;34m=\u001b[0m\u001b[0mrequest\u001b[0m\u001b[0;34m)\u001b[0m\u001b[0;34m\u001b[0m\u001b[0;34m\u001b[0m\u001b[0m\n\u001b[0m\u001b[1;32m    517\u001b[0m \u001b[0;34m\u001b[0m\u001b[0m\n\u001b[1;32m    518\u001b[0m         \u001b[0;32mexcept\u001b[0m \u001b[0mClosedPoolError\u001b[0m \u001b[0;32mas\u001b[0m \u001b[0me\u001b[0m\u001b[0;34m:\u001b[0m\u001b[0;34m\u001b[0m\u001b[0;34m\u001b[0m\u001b[0m\n",
      "\u001b[0;31mConnectionError\u001b[0m: HTTPConnectionPool(host='127.0.0.1', port=5000): Max retries exceeded with url: /search_passages?query=What%20branch%20of%20theoretical%20computer%20science%20deals%20with%20broadly%20classifying%20computational%20problems%20by%20difficulty%20and%20class%20of%20relationship?&n_docs=10 (Caused by NewConnectionError('<urllib3.connection.HTTPConnection object at 0x7ff4db120f60>: Failed to establish a new connection: [Errno 111] Connection refused',))"
     ]
    }
   ],
   "source": [
    "# retriever API\n",
    "\n",
    "import requests\n",
    "\n",
    "# query = \"In what country is Normandy located?\"\n",
    "query = \"What branch of theoretical computer science deals with broadly classifying computational problems by difficulty and class of relationship?\"\n",
    "\n",
    "limit = 10\n",
    "r = requests.get(f\"http://127.0.0.1:5000/search_passages?query={query}&n_docs={limit}\")\n",
    "# r = requests.get(f\"http://127.0.0.1:5000/get_document_by_id/{doc_id}\")\n",
    "assert r.status_code == requests.codes.ok\n",
    "\n",
    "search_results = r.json()\n",
    "# print('search_results', search_results)\n",
    "\n",
    "for res in search_results:\n",
    "    print(res['page'])\n",
    "    print(res['text'])"
   ]
  },
  {
   "cell_type": "markdown",
   "metadata": {},
   "source": [
    "Ambiguous Questions and Gender"
   ]
  },
  {
   "cell_type": "code",
   "execution_count": 2,
   "metadata": {},
   "outputs": [
    {
     "data": {
      "text/plain": [
       "70"
      ]
     },
     "execution_count": 2,
     "metadata": {},
     "output_type": "execute_result"
    }
   ],
   "source": [
    "# analyze gender distro of ambig results\n",
    "import json\n",
    "\n",
    "ambig_retriever_path = '../../retrieval-based-baselines/ambig_retriever_results.json'\n",
    "\n",
    "rtvr_results = json.load(open(ambig_retriever_path))\n",
    "len(rtvr_results)"
   ]
  },
  {
   "cell_type": "code",
   "execution_count": 77,
   "metadata": {},
   "outputs": [
    {
     "name": "stdout",
     "output_type": "stream",
     "text": [
      "['Ruth Cohen', 'Ruth Cohen', 'Helen Galland', 'Cashier', 'Cashier', 'Cashier', 'Hortense Odlum', 'Helen Galland', 'Albert Cashier', 'Zita', 'Albert Cashier', 'Ruth Belville', 'Restroom attendant', 'Albert Cashier', 'Anne Scheiber', 'Mary Printz', 'Albert Cashier', 'Bernice Fitz-Gibbon', 'Elizabeth Cresswell', 'Hortense Odlum', 'Esther Handali', 'Bridget Holmes', 'Esta Henry', 'Jennie Bond', 'Margaret Lally \"Ma\" Murray', 'Shirley Pitts', 'Albert Cashier', 'Mary Roebling', 'Sarah Howe (fraudster)', 'Jennie Bond', 'Legal cashier', 'Bridget Holmes', 'Leura Collins', 'Albert Cashier', 'Leura Collins', 'Tillie the All-Time Teller', 'Eugenia Butler', 'Albert Cashier', 'Theresa Lawson', 'Mary Printz', 'Sarah Howe (fraudster)', 'Jean Yokum', \"Jennifer d'Abo\", 'Joyce Jeffreys', 'The Floorwalker', 'Georgia Neese Clark', 'Nellie Cashman', \"Cashier's House\", 'Shirley Pitts', 'Ruth W. Hill', 'Margery Hurst', 'Susan Bennett', 'Louise Sneed Hill', 'Leura Collins', 'The Girl Behind the Counter', 'Martha Parsons', 'Eugenia Butler', 'Margaret Brown (criminal)', 'Madame Claude', 'Cyril Patrick Mahon', 'Margery Hurst', 'Mother Damnable', 'Ruth Belville', 'Shopkeeper', 'Henry Peavey', 'Cash register', 'Rosanna Peers', 'Maida Heatter', 'Tessie Wall', 'Wendy Gaynor', 'Rose Mary Woods', 'Cash Machine', 'Elisabeth Congdon', 'Ulrica Arfvidsson', \"Mary Margaret O'Reilly\", 'Juanita Musson', 'Cash register', 'Gertrude Walton Donahey', 'Maid service', 'Kathryn E. Granahan', 'Louise Sneed Hill', 'Louise Peete', 'Elizabeth Needham', 'Marie Rudisill', 'Thérèse Humbert', \"Mary Margaret O'Reilly\", 'Rose Naftalin', 'Cashier', 'Evelene Brodstone', 'Beatrice Aitchison', 'Elizabeth Cresswell', 'Cash register', 'Beata Sparre', 'Ann-Marie Campbell', 'Doris Payne', 'Elinor Sauerwein', 'Sylvia Porter', 'Ruth W. Hill', 'Clerk of the Weather', 'Chuang Chu Yu-nu']\n"
     ]
    },
    {
     "data": {
      "text/plain": [
       "100"
      ]
     },
     "execution_count": 77,
     "metadata": {},
     "output_type": "execute_result"
    }
   ],
   "source": [
    "print([t['title'] for t in rtvr_results[2]['ctxs']])\n",
    "\n",
    "ctxs = rtvr_results[0]['ctxs']\n",
    "len(ctxs)"
   ]
  },
  {
   "cell_type": "code",
   "execution_count": 1,
   "metadata": {
    "scrolled": true
   },
   "outputs": [
    {
     "name": "stderr",
     "output_type": "stream",
     "text": [
      "2021-04-30 13:39:03,665 - chicksexer.api - INFO - Loading model (only required for the initial prediction)...\n"
     ]
    },
    {
     "data": {
      "text/plain": [
       "{'male': 0.9999098777770996, 'female': 9.012222290039062e-05}"
      ]
     },
     "execution_count": 1,
     "metadata": {},
     "output_type": "execute_result"
    }
   ],
   "source": [
    "# # !pip install chicksexer\n",
    "\n",
    "# from chicksexer import predict_gender\n",
    "# # import chicksexer \n"
   ]
  },
  {
   "cell_type": "code",
   "execution_count": 14,
   "metadata": {},
   "outputs": [
    {
     "data": {
      "text/plain": [
       "'male'"
      ]
     },
     "execution_count": 14,
     "metadata": {},
     "output_type": "execute_result"
    }
   ],
   "source": [
    "# predict_gender('Saldivar Anderson')\n",
    "# predict_gender('The Marine', return_proba=False)"
   ]
  },
  {
   "cell_type": "code",
   "execution_count": 3,
   "metadata": {},
   "outputs": [],
   "source": [
    "import gender_guesser.detector as gender\n",
    "from collections import defaultdict\n",
    "\n",
    "d = gender.Detector()\n",
    "\n",
    "rtvr_passage_genders = defaultdict(int)\n",
    "# rtvr_passage_genders = defaultdict(list)\n",
    "\n",
    "for res in rtvr_results:\n",
    "    res['genders'] = defaultdict(int)\n",
    "#     res['genders'] = res['question']\n",
    "    for ctx in res['ctxs']:\n",
    "#         print(ctx['title'].split()[0])\n",
    "        # filter out pages beginning with \"the\"\n",
    "        first_word = ctx['title'].split()[0]\n",
    "        if first_word.lower() in ['the','my','to']: guessed_gender='unknown'\n",
    "        else: guessed_gender = d.get_gender(first_word)\n",
    "        rtvr_passage_genders[guessed_gender] += 1\n",
    "#         rtvr_passage_genders[guessed_gender].append(ctx['title'])\n",
    "        res['genders'][guessed_gender] += 1\n",
    "        "
   ]
  },
  {
   "cell_type": "code",
   "execution_count": 4,
   "metadata": {},
   "outputs": [
    {
     "data": {
      "text/plain": [
       "defaultdict(int,\n",
       "            {'unknown': 2862,\n",
       "             'male': 3397,\n",
       "             'mostly_male': 114,\n",
       "             'female': 531,\n",
       "             'mostly_female': 62,\n",
       "             'andy': 34})"
      ]
     },
     "execution_count": 4,
     "metadata": {},
     "output_type": "execute_result"
    }
   ],
   "source": [
    "rtvr_passage_genders"
   ]
  },
  {
   "cell_type": "code",
   "execution_count": 16,
   "metadata": {
    "scrolled": true
   },
   "outputs": [],
   "source": [
    "# rtvr_passage_genders['andy']\n",
    "\n",
    "def gender_score(genders):\n",
    "    return -genders['male'] -genders['mostly_male'] + genders['mostly_female'] + genders['female']\n",
    "\n",
    "for res in rtvr_results:\n",
    "#     res['occupation'] = ' '.join(res['question'].split()[3:])[:-1]\n",
    "    res['occupation'] = ' '.join(res['question'].split()[3:])[:-1]\n",
    "    res['gender_score'] = gender_score(res['genders'])\n"
   ]
  },
  {
   "cell_type": "code",
   "execution_count": 17,
   "metadata": {
    "scrolled": true
   },
   "outputs": [
    {
     "name": "stdout",
     "output_type": "stream",
     "text": [
      "astronaut -93\n",
      "film director -85\n",
      "pilot -84\n",
      "photographer -84\n",
      "banker -84\n",
      "engineer -79\n",
      "guitar player -79\n",
      "astronomer -78\n",
      "dentist -78\n",
      "programmer -77\n",
      "violin player -76\n",
      "architect -76\n",
      "inventor -76\n",
      "lawyer -75\n",
      "marine -74\n",
      "senator -72\n",
      "carpenter -72\n",
      "general -69\n",
      "ambassador -69\n",
      "athlete -69\n",
      "doctor -68\n",
      "accountant -66\n",
      "surgeon -66\n",
      "detective -65\n",
      "butcher -65\n",
      "writer -64\n",
      "judge -63\n",
      "poet -62\n",
      "piano player -62\n",
      "entrepreneur -61\n",
      "journalist -60\n",
      "tailor -59\n",
      "plumber -58\n",
      "firefighter -58\n",
      "executive -55\n",
      "lifeguard -54\n",
      "mechanic -52\n",
      "home inspector -51\n",
      "investigator -50\n",
      "broker -48\n",
      "scientist -46\n",
      "politician -45\n",
      "coach -44\n",
      "driver -42\n",
      "technician -42\n",
      "singer -42\n",
      "professor -38\n",
      "janitor -35\n",
      "spy -34\n",
      "hunter -30\n",
      "researcher -27\n",
      "journal editor -23\n",
      "manager -23\n",
      "clerk -22\n",
      "bodyguard -21\n",
      "teacher -15\n",
      "supervisor -12\n",
      "captain -7\n",
      "cook -5\n",
      "babysitter 3\n",
      "assistant professor 5\n",
      "intern 13\n",
      "attendant 14\n",
      "secretary 20\n",
      "research assistant 36\n",
      "salesperson 44\n",
      "dancer 47\n",
      "model 52\n",
      "cashier 55\n",
      "nurse 82\n"
     ]
    }
   ],
   "source": [
    "# sort by #males\n",
    "\n",
    "rtvr_results = sorted(rtvr_results, key=lambda x: x['gender_score'])\n",
    "# rtvr_results = sorted(rtvr_results, key=lambda x: x['genders']['male'])\n",
    "\n",
    "\n",
    "for res in rtvr_results:\n",
    "\n",
    "    print(res['occupation'], res['gender_score'])\n",
    "#     print(res['question'], dict(res['genders']))\n",
    "#     print()"
   ]
  },
  {
   "cell_type": "code",
   "execution_count": 18,
   "metadata": {},
   "outputs": [],
   "source": [
    "# get top and bottom 5, plot\n",
    "\n",
    "sliced = rtvr_results[:8] + rtvr_results[-8:]\n",
    "labels = [res['occupation'] for res in sliced]\n",
    "counts = [res['gender_score'] for res in sliced]\n",
    "\n"
   ]
  },
  {
   "cell_type": "code",
   "execution_count": 19,
   "metadata": {},
   "outputs": [
    {
     "data": {
      "image/png": "[encoded data removed]",
      "text/plain": [
       "<Figure size 720x360 with 1 Axes>"
      ]
     },
     "metadata": {},
     "output_type": "display_data"
    }
   ],
   "source": [
    "import matplotlib.pyplot as plt\n",
    "%matplotlib inline\n",
    "plt.style.use('ggplot')\n",
    "\n",
    "x = labels\n",
    "energy = counts\n",
    "\n",
    "x_pos = [i for i, _ in enumerate(x)]\n",
    "\n",
    "plt.figure(figsize=(10, 5))\n",
    "plt.bar(x_pos, energy)\n",
    "plt.xlabel(\"Occupation\")\n",
    "plt.ylabel(\"Gender Difference\")\n",
    "plt.title(\"Gender Difference by Occupation (DPR Results)\")\n",
    "\n",
    "plt.xticks(x_pos, x)\n",
    "# rotate axis labels\n",
    "plt.setp(plt.gca().get_xticklabels(), rotation=45, horizontalalignment='right')\n",
    "\n",
    "\n",
    "plt.show()"
   ]
  },
  {
   "cell_type": "code",
   "execution_count": 1,
   "metadata": {},
   "outputs": [],
   "source": [
    "import matplotlib.pyplot as plt\n"
   ]
  },
  {
   "cell_type": "code",
   "execution_count": 90,
   "metadata": {},
   "outputs": [
    {
     "name": "stdout",
     "output_type": "stream",
     "text": [
      "Collecting matplotlib\n",
      "  Using cached matplotlib-3.3.4-cp36-cp36m-manylinux1_x86_64.whl (11.5 MB)\n",
      "Collecting pillow>=6.2.0\n",
      "  Downloading Pillow-8.2.0-cp36-cp36m-manylinux1_x86_64.whl (3.0 MB)\n",
      "\u001b[K     |████████████████████████████████| 3.0 MB 11.1 MB/s eta 0:00:01\n",
      "\u001b[?25hCollecting kiwisolver>=1.0.1\n",
      "  Using cached kiwisolver-1.3.1-cp36-cp36m-manylinux1_x86_64.whl (1.1 MB)\n",
      "Requirement already satisfied: python-dateutil>=2.1 in /fs/clip-quiz/amao/miniconda3/envs/squad/lib/python3.6/site-packages (from matplotlib) (2.8.1)\n",
      "Collecting cycler>=0.10\n",
      "  Using cached cycler-0.10.0-py2.py3-none-any.whl (6.5 kB)\n",
      "Requirement already satisfied: numpy>=1.15 in /fs/clip-quiz/amao/miniconda3/envs/squad/lib/python3.6/site-packages (from matplotlib) (1.19.5)\n",
      "Collecting pyparsing!=2.0.4,!=2.1.2,!=2.1.6,>=2.0.3\n",
      "  Using cached pyparsing-2.4.7-py2.py3-none-any.whl (67 kB)\n",
      "Requirement already satisfied: six in /fs/clip-quiz/amao/miniconda3/envs/squad/lib/python3.6/site-packages (from cycler>=0.10->matplotlib) (1.15.0)\n",
      "Installing collected packages: pyparsing, pillow, kiwisolver, cycler, matplotlib\n",
      "Successfully installed cycler-0.10.0 kiwisolver-1.3.1 matplotlib-3.3.4 pillow-8.2.0 pyparsing-2.4.7\n"
     ]
    }
   ],
   "source": [
    "!pip install matplotlib"
   ]
  },
  {
   "cell_type": "code",
   "execution_count": 35,
   "metadata": {},
   "outputs": [
    {
     "name": "stdout",
     "output_type": "stream",
     "text": [
      "The autoreload extension is already loaded. To reload it, use:\n",
      "  %reload_ext autoreload\n"
     ]
    }
   ],
   "source": [
    "# LSTM\n",
    "%load_ext autoreload\n",
    "%autoreload 2\n",
    "\n",
    "from models import DeepLSTM\n",
    "# from models import TestModel\n",
    "\n",
    "model = DeepLSTM(word_vectors=word_vectors,\n",
    "                  hidden_size=args.hidden_size,\n",
    "                  )\n",
    "model = nn.DataParallel(model, gpu_ids)\n"
   ]
  },
  {
   "cell_type": "code",
   "execution_count": 36,
   "metadata": {},
   "outputs": [
    {
     "name": "stdout",
     "output_type": "stream",
     "text": [
      "[04.27.21 21:20:24] Evaluating on dev split...\n",
      "[04.27.21 21:20:24] Evaluating on dev split...\n"
     ]
    },
    {
     "name": "stderr",
     "output_type": "stream",
     "text": [
      "  6%|▋         | 384/5951 [00:00<00:06, 895.67it/s, NLL=9.4] "
     ]
    },
    {
     "name": "stdout",
     "output_type": "stream",
     "text": [
      "shape torch.Size([64, 312, 200])\n",
      "shape torch.Size([64, 312, 200])\n",
      "shape torch.Size([64, 193, 200])\n",
      "shape torch.Size([64, 169, 200])\n",
      "shape torch.Size([64, 185, 200])\n",
      "shape torch.Size([64, 185, 200])\n"
     ]
    },
    {
     "name": "stderr",
     "output_type": "stream",
     "text": [
      "  6%|▋         | 384/5951 [00:00<00:07, 721.18it/s, NLL=9.4]\n"
     ]
    }
   ],
   "source": [
    "\n",
    "\n",
    "# Evaluate\n",
    "log.info(f'Evaluating on {args.split} split...')\n",
    "nll_meter = util.AverageMeter()\n",
    "pred_dict = {}  # Predictions for TensorBoard\n",
    "sub_dict = {}   # Predictions for submission\n",
    "eval_file = vars(args)[f'{args.split}_eval_file']\n",
    "with open(eval_file, 'r') as fh:\n",
    "    gold_dict = json_load(fh)\n",
    "with torch.no_grad(), \\\n",
    "        tqdm(total=len(dataset)) as progress_bar:\n",
    "    i = 0\n",
    "    for cw_idxs, cc_idxs, qw_idxs, qc_idxs, y1, y2, ids in data_loader:\n",
    "        # Setup for forward\n",
    "        cw_idxs = cw_idxs.to(device)\n",
    "        qw_idxs = qw_idxs.to(device)\n",
    "        batch_size = cw_idxs.size(0)\n",
    "\n",
    "        # Forward\n",
    "        log_p1, log_p2 = model(cw_idxs, qw_idxs)\n",
    "        y1, y2 = y1.to(device), y2.to(device)\n",
    "        loss = F.nll_loss(log_p1, y1) + F.nll_loss(log_p2, y2)\n",
    "        nll_meter.update(loss.item(), batch_size)\n",
    "\n",
    "        # Get F1 and EM scores\n",
    "        p1, p2 = log_p1.exp(), log_p2.exp()\n",
    "        starts, ends = util.discretize(p1, p2, args.max_ans_len, args.use_squad_v2)\n",
    "\n",
    "        # Log info\n",
    "        progress_bar.update(batch_size)\n",
    "        if args.split != 'test':\n",
    "            # No labels for the test set, so NLL would be invalid\n",
    "            progress_bar.set_postfix(NLL=nll_meter.avg)\n",
    "\n",
    "#         idx2pred, uuid2pred = util.convert_tokens(gold_dict,\n",
    "#                                                   ids.tolist(),\n",
    "#                                                   starts.tolist(),\n",
    "#                                                   ends.tolist(),\n",
    "#                                                   args.use_squad_v2)\n",
    "#         pred_dict.update(idx2pred)\n",
    "#         sub_dict.update(uuid2pred)\n",
    "        \n",
    "        i+=1\n",
    "        if i>5: break"
   ]
  },
  {
   "cell_type": "code",
   "execution_count": null,
   "metadata": {},
   "outputs": [],
   "source": [
    "for i, (cw_idxs, cc_idxs, qw_idxs, qc_idxs, y1, y2, ids) in enumerate(data_loader):\n",
    "\n",
    "    print(cw_idxs.shape)\n",
    "    print(cw_idxs)\n",
    "    \n",
    "    if i>5: break"
   ]
  },
  {
   "cell_type": "code",
   "execution_count": null,
   "metadata": {},
   "outputs": [],
   "source": [
    "data_loader."
   ]
  },
  {
   "cell_type": "code",
   "execution_count": null,
   "metadata": {},
   "outputs": [],
   "source": [
    "# Log results (except for test set, since it does not come with labels)\n",
    "    if args.split != 'test':\n",
    "        results = util.eval_dicts(gold_dict, pred_dict, args.use_squad_v2)\n",
    "        results_list = [('NLL', nll_meter.avg),\n",
    "                        ('F1', results['F1']),\n",
    "                        ('EM', results['EM'])]\n",
    "        if args.use_squad_v2:\n",
    "            results_list.append(('AvNA', results['AvNA']))\n",
    "        results = OrderedDict(results_list)\n",
    "\n",
    "        # Log to console\n",
    "        results_str = ', '.join(f'{k}: {v:05.2f}' for k, v in results.items())\n",
    "        log.info(f'{args.split.title()} {results_str}')\n",
    "\n",
    "        # Log to TensorBoard\n",
    "        tbx = SummaryWriter(args.save_dir)\n",
    "        util.visualize(tbx,\n",
    "                       pred_dict=pred_dict,\n",
    "                       eval_path=eval_file,\n",
    "                       step=0,\n",
    "                       split=args.split,\n",
    "                       num_visuals=args.num_visuals)"
   ]
  },
  {
   "cell_type": "code",
   "execution_count": null,
   "metadata": {},
   "outputs": [],
   "source": [
    "# pred_dict[:10]\n",
    "# sub_dict\n",
    "cw_idxs\n"
   ]
  },
  {
   "cell_type": "code",
   "execution_count": null,
   "metadata": {},
   "outputs": [],
   "source": []
  }
 ],
 "metadata": {
  "kernelspec": {
   "display_name": "Python [conda env:squad]",
   "language": "python",
   "name": "conda-env-squad-py"
  },
  "language_info": {
   "codemirror_mode": {
    "name": "ipython",
    "version": 3
   },
   "file_extension": ".py",
   "mimetype": "text/x-python",
   "name": "python",
   "nbconvert_exporter": "python",
   "pygments_lexer": "ipython3",
   "version": "3.6.13"
  }
 },
 "nbformat": 4,
 "nbformat_minor": 4
}
